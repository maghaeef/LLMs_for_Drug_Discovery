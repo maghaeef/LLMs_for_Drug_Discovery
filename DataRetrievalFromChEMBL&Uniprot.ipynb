{
 "cells": [
  {
   "cell_type": "code",
   "execution_count": null,
   "metadata": {},
   "outputs": [],
   "source": [
    "!pip install psycopg2-binary pandas tqdm"
   ]
  },
  {
   "cell_type": "code",
   "execution_count": 1,
   "metadata": {},
   "outputs": [],
   "source": [
    "from AlzheimerTargets import targets\n",
    "from database_connection_info import user, password, host, port"
   ]
  },
  {
   "cell_type": "code",
   "execution_count": 3,
   "metadata": {},
   "outputs": [
    {
     "name": "stdout",
     "output_type": "stream",
     "text": [
      "Fetching data for target CHEMBL1978 (Cytochrome P450 19A1)...\n"
     ]
    },
    {
     "name": "stderr",
     "output_type": "stream",
     "text": [
      "Processing CHEMBL1978: 6630it [00:02, 2502.76it/s]\n"
     ]
    },
    {
     "name": "stdout",
     "output_type": "stream",
     "text": [
      "Fetching data for target CHEMBL3859 (Cytochrome P450 19A1)...\n"
     ]
    },
    {
     "name": "stderr",
     "output_type": "stream",
     "text": [
      "Processing CHEMBL3859: 263it [00:00, 273.15it/s]\n"
     ]
    },
    {
     "name": "stdout",
     "output_type": "stream",
     "text": [
      "Fetching data for target CHEMBL211 (Muscarinic acetylcholine receptor M2)...\n"
     ]
    },
    {
     "name": "stderr",
     "output_type": "stream",
     "text": [
      "Processing CHEMBL211: 8829it [00:03, 2810.12it/s]\n"
     ]
    },
    {
     "name": "stdout",
     "output_type": "stream",
     "text": [
      "Fetching data for target CHEMBL4781 (Muscarinic acetylcholine receptor M2)...\n"
     ]
    },
    {
     "name": "stderr",
     "output_type": "stream",
     "text": [
      "Processing CHEMBL4781: 447it [00:00, 482.40it/s]\n"
     ]
    },
    {
     "name": "stdout",
     "output_type": "stream",
     "text": [
      "Fetching data for target CHEMBL3197 (Muscarinic acetylcholine receptor M2)...\n"
     ]
    },
    {
     "name": "stderr",
     "output_type": "stream",
     "text": [
      "Processing CHEMBL3197: 85it [00:00, 89.29it/s]\n"
     ]
    },
    {
     "name": "stdout",
     "output_type": "stream",
     "text": [
      "Fetching data for target CHEMBL309 (Muscarinic acetylcholine receptor M2)...\n"
     ]
    },
    {
     "name": "stderr",
     "output_type": "stream",
     "text": [
      "Processing CHEMBL309: 969it [00:01, 935.11it/s]\n"
     ]
    },
    {
     "name": "stdout",
     "output_type": "stream",
     "text": [
      "Fetching data for target CHEMBL2095187 (Muscarinic acetylcholine receptors; M2 & M3)...\n"
     ]
    },
    {
     "name": "stderr",
     "output_type": "stream",
     "text": [
      "Processing CHEMBL2095187: 652it [00:00, 743.16it/s]\n"
     ]
    },
    {
     "name": "stdout",
     "output_type": "stream",
     "text": [
      "Fetching data for target CHEMBL234 (Dopamine D3 receptor)...\n"
     ]
    },
    {
     "name": "stderr",
     "output_type": "stream",
     "text": [
      "Processing CHEMBL234: 12791it [00:03, 4208.67it/s]\n"
     ]
    },
    {
     "name": "stdout",
     "output_type": "stream",
     "text": [
      "Fetching data for target CHEMBL3441 (Dopamine D3 receptor)...\n"
     ]
    },
    {
     "name": "stderr",
     "output_type": "stream",
     "text": [
      "Processing CHEMBL3441: 6it [00:00,  6.91it/s]\n"
     ]
    },
    {
     "name": "stdout",
     "output_type": "stream",
     "text": [
      "Fetching data for target CHEMBL3138 (Dopamine D3 receptor)...\n"
     ]
    },
    {
     "name": "stderr",
     "output_type": "stream",
     "text": [
      "Processing CHEMBL3138: 1005it [00:01, 855.57it/s] \n"
     ]
    },
    {
     "name": "stdout",
     "output_type": "stream",
     "text": [
      "Fetching data for target CHEMBL2304406 (Dopamine D3 receptor)...\n"
     ]
    },
    {
     "name": "stderr",
     "output_type": "stream",
     "text": [
      "Processing CHEMBL2304406: 16it [00:00, 18.46it/s]\n"
     ]
    },
    {
     "name": "stdout",
     "output_type": "stream",
     "text": [
      "Fetching data for target CHEMBL219 (Dopamine D4 receptor)...\n"
     ]
    },
    {
     "name": "stderr",
     "output_type": "stream",
     "text": [
      "Processing CHEMBL219: 6126it [00:01, 4421.48it/s]\n"
     ]
    },
    {
     "name": "stdout",
     "output_type": "stream",
     "text": [
      "Fetching data for target CHEMBL2574 (Dopamine D4 receptor)...\n"
     ]
    },
    {
     "name": "stderr",
     "output_type": "stream",
     "text": [
      "Processing CHEMBL2574: 19it [00:00, 21.32it/s]\n"
     ]
    },
    {
     "name": "stdout",
     "output_type": "stream",
     "text": [
      "Fetching data for target CHEMBL3361 (Dopamine D4 receptor)...\n"
     ]
    },
    {
     "name": "stderr",
     "output_type": "stream",
     "text": [
      "Processing CHEMBL3361: 266it [00:00, 277.84it/s]\n"
     ]
    },
    {
     "name": "stdout",
     "output_type": "stream",
     "text": [
      "Fetching data for target CHEMBL1944 (Neprilysin)...\n"
     ]
    },
    {
     "name": "stderr",
     "output_type": "stream",
     "text": [
      "Processing CHEMBL1944: 782it [00:01, 761.54it/s]\n"
     ]
    },
    {
     "name": "stdout",
     "output_type": "stream",
     "text": [
      "Fetching data for target CHEMBL3768 (Neprilysin)...\n"
     ]
    },
    {
     "name": "stderr",
     "output_type": "stream",
     "text": [
      "Processing CHEMBL3768: 341it [00:00, 344.10it/s]\n"
     ]
    },
    {
     "name": "stdout",
     "output_type": "stream",
     "text": [
      "Fetching data for target CHEMBL2642 (Neprilysin)...\n"
     ]
    },
    {
     "name": "stderr",
     "output_type": "stream",
     "text": [
      "Processing CHEMBL2642: 36it [00:00, 41.59it/s]\n"
     ]
    },
    {
     "name": "stdout",
     "output_type": "stream",
     "text": [
      "Fetching data for target CHEMBL3369 (Neprilysin)...\n"
     ]
    },
    {
     "name": "stderr",
     "output_type": "stream",
     "text": [
      "Processing CHEMBL3369: 521it [00:00, 554.87it/s]\n"
     ]
    },
    {
     "name": "stdout",
     "output_type": "stream",
     "text": [
      "Fetching data for target CHEMBL6107 (Neprilysin)...\n"
     ]
    },
    {
     "name": "stderr",
     "output_type": "stream",
     "text": [
      "Processing CHEMBL6107: 9it [00:00, 10.68it/s]\n"
     ]
    },
    {
     "name": "stdout",
     "output_type": "stream",
     "text": [
      "Fetching data for target CHEMBL1801 (Plasminogen)...\n"
     ]
    },
    {
     "name": "stderr",
     "output_type": "stream",
     "text": [
      "Processing CHEMBL1801: 2147it [00:01, 1588.83it/s]\n"
     ]
    },
    {
     "name": "stdout",
     "output_type": "stream",
     "text": [
      "Fetching data for target CHEMBL2957 (Plasminogen)...\n"
     ]
    },
    {
     "name": "stderr",
     "output_type": "stream",
     "text": [
      "Processing CHEMBL2957: 14it [00:00, 15.97it/s]\n"
     ]
    },
    {
     "name": "stdout",
     "output_type": "stream",
     "text": [
      "Fetching data for target CHEMBL3204 (Plasminogen)...\n"
     ]
    },
    {
     "name": "stderr",
     "output_type": "stream",
     "text": [
      "Processing CHEMBL3204: 115it [00:00, 123.87it/s]\n"
     ]
    },
    {
     "name": "stdout",
     "output_type": "stream",
     "text": [
      "Fetching data for target CHEMBL1075299 (Plasminogen)...\n"
     ]
    },
    {
     "name": "stderr",
     "output_type": "stream",
     "text": [
      "Processing CHEMBL1075299: 11it [00:00, 12.53it/s]\n"
     ]
    },
    {
     "name": "stdout",
     "output_type": "stream",
     "text": [
      "Fetching data for target CHEMBL216 (Muscarinic acetylcholine receptor M1)...\n"
     ]
    },
    {
     "name": "stderr",
     "output_type": "stream",
     "text": [
      "Processing CHEMBL216: 10658it [00:01, 6363.06it/s]\n"
     ]
    },
    {
     "name": "stdout",
     "output_type": "stream",
     "text": [
      "Fetching data for target CHEMBL276 (Muscarinic acetylcholine receptor M1)...\n"
     ]
    },
    {
     "name": "stderr",
     "output_type": "stream",
     "text": [
      "Processing CHEMBL276: 3357it [00:01, 2522.35it/s]\n"
     ]
    },
    {
     "name": "stdout",
     "output_type": "stream",
     "text": [
      "Fetching data for target CHEMBL3733 (Muscarinic acetylcholine receptor M1)...\n"
     ]
    },
    {
     "name": "stderr",
     "output_type": "stream",
     "text": [
      "Processing CHEMBL3733: 123it [00:00, 138.76it/s]\n"
     ]
    },
    {
     "name": "stdout",
     "output_type": "stream",
     "text": [
      "Fetching data for target CHEMBL2672 (Muscarinic acetylcholine receptor M1)...\n"
     ]
    },
    {
     "name": "stderr",
     "output_type": "stream",
     "text": [
      "Processing CHEMBL2672: 38it [00:00, 44.91it/s]\n"
     ]
    },
    {
     "name": "stdout",
     "output_type": "stream",
     "text": [
      "Fetching data for target CHEMBL1795124 (Muscarinic acetylcholine receptor M1)...\n"
     ]
    },
    {
     "name": "stderr",
     "output_type": "stream",
     "text": [
      "Processing CHEMBL1795124: 2it [00:00,  2.19it/s]\n"
     ]
    },
    {
     "name": "stdout",
     "output_type": "stream",
     "text": [
      "Fetching data for target CHEMBL2094112 (Angiotensin II receptor)...\n"
     ]
    },
    {
     "name": "stderr",
     "output_type": "stream",
     "text": [
      "Processing CHEMBL2094112: 1716it [00:01, 1613.32it/s]\n"
     ]
    },
    {
     "name": "stdout",
     "output_type": "stream",
     "text": [
      "Fetching data for target CHEMBL2094256 (Angiotensin II receptor)...\n"
     ]
    },
    {
     "name": "stderr",
     "output_type": "stream",
     "text": [
      "Processing CHEMBL2094256: 1030it [00:01, 923.06it/s]\n"
     ]
    },
    {
     "name": "stdout",
     "output_type": "stream",
     "text": [
      "Fetching data for target CHEMBL214 (Serotonin 1a (5-HT1a) receptor)...\n"
     ]
    },
    {
     "name": "stderr",
     "output_type": "stream",
     "text": [
      "Processing CHEMBL214: 14413it [00:02, 5984.54it/s]\n"
     ]
    },
    {
     "name": "stdout",
     "output_type": "stream",
     "text": [
      "Fetching data for target CHEMBL273 (Serotonin 1a (5-HT1a) receptor)...\n"
     ]
    },
    {
     "name": "stderr",
     "output_type": "stream",
     "text": [
      "Processing CHEMBL273: 6816it [00:01, 3938.33it/s]\n"
     ]
    },
    {
     "name": "stdout",
     "output_type": "stream",
     "text": [
      "Fetching data for target CHEMBL3737 (Serotonin 1a (5-HT1a) receptor)...\n"
     ]
    },
    {
     "name": "stderr",
     "output_type": "stream",
     "text": [
      "Processing CHEMBL3737: 166it [00:00, 185.09it/s]\n"
     ]
    },
    {
     "name": "stdout",
     "output_type": "stream",
     "text": [
      "Fetching data for target CHEMBL283 (Matrix metalloproteinase 3)...\n"
     ]
    },
    {
     "name": "stderr",
     "output_type": "stream",
     "text": [
      "Processing CHEMBL283: 3334it [00:01, 2402.62it/s]\n"
     ]
    },
    {
     "name": "stdout",
     "output_type": "stream",
     "text": [
      "Fetching data for target CHEMBL332 (Matrix metalloproteinase-1)...\n"
     ]
    },
    {
     "name": "stderr",
     "output_type": "stream",
     "text": [
      "Processing CHEMBL332: 5031it [00:01, 3466.55it/s]\n"
     ]
    },
    {
     "name": "stdout",
     "output_type": "stream",
     "text": [
      "Fetching data for target CHEMBL3870 (Matrix metalloproteinase 9)...\n"
     ]
    },
    {
     "name": "stderr",
     "output_type": "stream",
     "text": [
      "Processing CHEMBL3870: 38it [00:00, 39.96it/s]\n"
     ]
    },
    {
     "name": "stdout",
     "output_type": "stream",
     "text": [
      "Fetching data for target CHEMBL2214 (Matrix metalloproteinase 9)...\n"
     ]
    },
    {
     "name": "stderr",
     "output_type": "stream",
     "text": [
      "Processing CHEMBL2214: 39it [00:00, 42.13it/s]\n"
     ]
    },
    {
     "name": "stdout",
     "output_type": "stream",
     "text": [
      "Fetching data for target CHEMBL321 (Matrix metalloproteinase 9)...\n"
     ]
    },
    {
     "name": "stderr",
     "output_type": "stream",
     "text": [
      "Processing CHEMBL321: 4661it [00:01, 3839.76it/s]\n"
     ]
    },
    {
     "name": "stdout",
     "output_type": "stream",
     "text": [
      "Fetching data for target CHEMBL3095 (Matrix metalloproteinase-2)...\n"
     ]
    },
    {
     "name": "stderr",
     "output_type": "stream",
     "text": [
      "Processing CHEMBL3095: 5it [00:00,  5.43it/s]\n"
     ]
    },
    {
     "name": "stdout",
     "output_type": "stream",
     "text": [
      "Fetching data for target CHEMBL333 (Matrix metalloproteinase-2)...\n"
     ]
    },
    {
     "name": "stderr",
     "output_type": "stream",
     "text": [
      "Processing CHEMBL333: 6349it [00:01, 4420.68it/s]\n"
     ]
    },
    {
     "name": "stdout",
     "output_type": "stream",
     "text": [
      "Fetching data for target CHEMBL2523 (ADAM17)...\n"
     ]
    },
    {
     "name": "stderr",
     "output_type": "stream",
     "text": [
      "Processing CHEMBL2523: 14it [00:00, 15.70it/s]\n"
     ]
    },
    {
     "name": "stdout",
     "output_type": "stream",
     "text": [
      "Fetching data for target CHEMBL3706 (ADAM17)...\n"
     ]
    },
    {
     "name": "stderr",
     "output_type": "stream",
     "text": [
      "Processing CHEMBL3706: 3351it [00:01, 2669.04it/s]\n"
     ]
    },
    {
     "name": "stdout",
     "output_type": "stream",
     "text": [
      "Fetching data for target CHEMBL3332 (ADAM17)...\n"
     ]
    },
    {
     "name": "stderr",
     "output_type": "stream",
     "text": [
      "Processing CHEMBL3332: 434it [00:00, 487.51it/s]\n"
     ]
    },
    {
     "name": "stdout",
     "output_type": "stream",
     "text": [
      "Fetching data for target CHEMBL4379 (ADAM17)...\n"
     ]
    },
    {
     "name": "stderr",
     "output_type": "stream",
     "text": [
      "Processing CHEMBL4379: 101it [00:00, 115.68it/s]\n"
     ]
    },
    {
     "name": "stdout",
     "output_type": "stream",
     "text": [
      "Fetching data for target CHEMBL235 (Peroxisome proliferator-activated receptor gamma)...\n"
     ]
    },
    {
     "name": "stderr",
     "output_type": "stream",
     "text": [
      "Processing CHEMBL235: 13249it [00:02, 5566.51it/s]\n"
     ]
    },
    {
     "name": "stdout",
     "output_type": "stream",
     "text": [
      "Fetching data for target CHEMBL2459 (Peroxisome proliferator-activated receptor gamma)...\n"
     ]
    },
    {
     "name": "stderr",
     "output_type": "stream",
     "text": [
      "Processing CHEMBL2459: 462it [00:00, 469.21it/s]\n"
     ]
    },
    {
     "name": "stdout",
     "output_type": "stream",
     "text": [
      "Fetching data for target CHEMBL4797 (Peroxisome proliferator-activated receptor gamma)...\n"
     ]
    },
    {
     "name": "stderr",
     "output_type": "stream",
     "text": [
      "Processing CHEMBL4797: 29it [00:00, 32.60it/s]\n"
     ]
    },
    {
     "name": "stdout",
     "output_type": "stream",
     "text": [
      "Fetching data for target CHEMBL1932903 (Peroxisome proliferator-activated receptor gamma)...\n"
     ]
    },
    {
     "name": "stderr",
     "output_type": "stream",
     "text": [
      "Processing CHEMBL1932903: 1it [00:00,  1.13it/s]\n"
     ]
    },
    {
     "name": "stdout",
     "output_type": "stream",
     "text": [
      "Fetching data for target CHEMBL1824 (Receptor protein-tyrosine kinase erbB-2)...\n"
     ]
    },
    {
     "name": "stderr",
     "output_type": "stream",
     "text": [
      "Processing CHEMBL1824: 5867it [00:01, 3048.60it/s]\n"
     ]
    },
    {
     "name": "stdout",
     "output_type": "stream",
     "text": [
      "Fetching data for target CHEMBL3848 (Receptor protein-tyrosine kinase erbB-2)...\n"
     ]
    },
    {
     "name": "stderr",
     "output_type": "stream",
     "text": [
      "Processing CHEMBL3848: 14it [00:00, 15.87it/s]\n"
     ]
    },
    {
     "name": "stdout",
     "output_type": "stream",
     "text": [
      "Fetching data for target CHEMBL258 (Tyrosine-protein kinase LCK)...\n"
     ]
    },
    {
     "name": "stderr",
     "output_type": "stream",
     "text": [
      "Processing CHEMBL258: 7289it [00:01, 3675.53it/s]\n"
     ]
    },
    {
     "name": "stdout",
     "output_type": "stream",
     "text": [
      "Fetching data for target CHEMBL2480 (Tyrosine-protein kinase LCK)...\n"
     ]
    },
    {
     "name": "stderr",
     "output_type": "stream",
     "text": [
      "Processing CHEMBL2480: 181it [00:00, 202.40it/s]\n"
     ]
    },
    {
     "name": "stdout",
     "output_type": "stream",
     "text": [
      "Fetching data for target CHEMBL257 (Angiotensin II type 2 (AT-2) receptor)...\n"
     ]
    },
    {
     "name": "stderr",
     "output_type": "stream",
     "text": [
      "Processing CHEMBL257: 802it [00:00, 851.84it/s]\n"
     ]
    },
    {
     "name": "stdout",
     "output_type": "stream",
     "text": [
      "Fetching data for target CHEMBL4607 (Angiotensin II type 2 (AT-2) receptor)...\n"
     ]
    },
    {
     "name": "stderr",
     "output_type": "stream",
     "text": [
      "Processing CHEMBL4607: 769it [00:00, 781.65it/s]\n"
     ]
    },
    {
     "name": "stdout",
     "output_type": "stream",
     "text": [
      "Fetching data for target CHEMBL3253 (Serum albumin)...\n"
     ]
    },
    {
     "name": "stderr",
     "output_type": "stream",
     "text": [
      "Processing CHEMBL3253: 2458it [00:01, 2059.51it/s]\n"
     ]
    },
    {
     "name": "stdout",
     "output_type": "stream",
     "text": [
      "Fetching data for target CHEMBL4817 (Serum albumin)...\n"
     ]
    },
    {
     "name": "stderr",
     "output_type": "stream",
     "text": [
      "Processing CHEMBL4817: 74it [00:00, 83.19it/s]\n"
     ]
    },
    {
     "name": "stdout",
     "output_type": "stream",
     "text": [
      "Fetching data for target CHEMBL3728 (Serum albumin)...\n"
     ]
    },
    {
     "name": "stderr",
     "output_type": "stream",
     "text": [
      "Processing CHEMBL3728: 918it [00:01, 910.56it/s]\n"
     ]
    },
    {
     "name": "stdout",
     "output_type": "stream",
     "text": [
      "Fetching data for target CHEMBL6104 (Serum albumin)...\n"
     ]
    },
    {
     "name": "stderr",
     "output_type": "stream",
     "text": [
      "Processing CHEMBL6104: 4it [00:00,  4.10it/s]\n"
     ]
    },
    {
     "name": "stdout",
     "output_type": "stream",
     "text": [
      "Fetching data for target CHEMBL1075271 (Serum albumin)...\n"
     ]
    },
    {
     "name": "stderr",
     "output_type": "stream",
     "text": [
      "Processing CHEMBL1075271: 5it [00:00,  5.83it/s]\n"
     ]
    },
    {
     "name": "stdout",
     "output_type": "stream",
     "text": [
      "Fetching data for target CHEMBL3751645 (Serum albumin)...\n"
     ]
    },
    {
     "name": "stderr",
     "output_type": "stream",
     "text": [
      "Processing CHEMBL3751645: 4it [00:00,  4.63it/s]\n"
     ]
    },
    {
     "name": "stdout",
     "output_type": "stream",
     "text": [
      "Fetching data for target CHEMBL251 (Adenosine A2a receptor)...\n"
     ]
    },
    {
     "name": "stderr",
     "output_type": "stream",
     "text": [
      "Processing CHEMBL251: 14105it [00:02, 6092.30it/s]\n"
     ]
    },
    {
     "name": "stdout",
     "output_type": "stream",
     "text": [
      "Fetching data for target CHEMBL2115 (Adenosine A2a receptor)...\n"
     ]
    },
    {
     "name": "stderr",
     "output_type": "stream",
     "text": [
      "Processing CHEMBL2115: 84it [00:00, 91.10it/s]\n"
     ]
    },
    {
     "name": "stdout",
     "output_type": "stream",
     "text": [
      "Fetching data for target CHEMBL302 (Adenosine A2a receptor)...\n"
     ]
    },
    {
     "name": "stderr",
     "output_type": "stream",
     "text": [
      "Processing CHEMBL302: 3237it [00:01, 2533.53it/s]\n"
     ]
    },
    {
     "name": "stdout",
     "output_type": "stream",
     "text": [
      "Fetching data for target CHEMBL2605 (Adenosine A2a receptor)...\n"
     ]
    },
    {
     "name": "stderr",
     "output_type": "stream",
     "text": [
      "Processing CHEMBL2605: 89it [00:00, 101.54it/s]\n"
     ]
    },
    {
     "name": "stdout",
     "output_type": "stream",
     "text": [
      "Fetching data for target CHEMBL3070 (Intercellular adhesion molecule-1)...\n"
     ]
    },
    {
     "name": "stderr",
     "output_type": "stream",
     "text": [
      "Processing CHEMBL3070: 249it [00:00, 257.98it/s]\n"
     ]
    },
    {
     "name": "stdout",
     "output_type": "stream",
     "text": [
      "Fetching data for target CHEMBL1871 (Androgen Receptor)...\n"
     ]
    },
    {
     "name": "stderr",
     "output_type": "stream",
     "text": [
      "Processing CHEMBL1871: 10591it [00:01, 5906.60it/s]\n"
     ]
    },
    {
     "name": "stdout",
     "output_type": "stream",
     "text": [
      "Fetching data for target CHEMBL3056 (Androgen Receptor)...\n"
     ]
    },
    {
     "name": "stderr",
     "output_type": "stream",
     "text": [
      "Processing CHEMBL3056: 335it [00:00, 350.01it/s]\n"
     ]
    },
    {
     "name": "stdout",
     "output_type": "stream",
     "text": [
      "Fetching data for target CHEMBL3072 (Androgen Receptor)...\n"
     ]
    },
    {
     "name": "stderr",
     "output_type": "stream",
     "text": [
      "Processing CHEMBL3072: 3620it [00:01, 3239.86it/s]\n"
     ]
    },
    {
     "name": "stdout",
     "output_type": "stream",
     "text": [
      "Fetching data for target CHEMBL3953 (Androgen Receptor)...\n"
     ]
    },
    {
     "name": "stderr",
     "output_type": "stream",
     "text": [
      "Processing CHEMBL3953: 13it [00:00, 14.66it/s]\n"
     ]
    },
    {
     "name": "stdout",
     "output_type": "stream",
     "text": [
      "Fetching data for target CHEMBL5303557 (Androgen Receptor)...\n"
     ]
    },
    {
     "name": "stderr",
     "output_type": "stream",
     "text": [
      "Processing CHEMBL5303557: 0it [00:00, ?it/s]\n"
     ]
    },
    {
     "name": "stdout",
     "output_type": "stream",
     "text": [
      "Fetching data for target CHEMBL2021744 (Estrogen receptor)...\n"
     ]
    },
    {
     "name": "stderr",
     "output_type": "stream",
     "text": [
      "Processing CHEMBL2021744: 4it [00:00,  4.63it/s]\n"
     ]
    },
    {
     "name": "stdout",
     "output_type": "stream",
     "text": [
      "Fetching data for target CHEMBL2093866 (Estrogen receptor)...\n"
     ]
    },
    {
     "name": "stderr",
     "output_type": "stream",
     "text": [
      "Processing CHEMBL2093866: 2855it [00:01, 1601.00it/s]\n"
     ]
    },
    {
     "name": "stdout",
     "output_type": "stream",
     "text": [
      "Fetching data for target CHEMBL2094113 (Estrogen receptor)...\n"
     ]
    },
    {
     "name": "stderr",
     "output_type": "stream",
     "text": [
      "Processing CHEMBL2094113: 1945it [00:00, 1957.53it/s]\n"
     ]
    },
    {
     "name": "stdout",
     "output_type": "stream",
     "text": [
      "Fetching data for target CHEMBL2094114 (Estrogen receptor)...\n"
     ]
    },
    {
     "name": "stderr",
     "output_type": "stream",
     "text": [
      "Processing CHEMBL2094114: 1697it [00:01, 1610.01it/s]\n"
     ]
    },
    {
     "name": "stdout",
     "output_type": "stream",
     "text": [
      "Fetching data for target CHEMBL2095170 (Estrogen receptor)...\n"
     ]
    },
    {
     "name": "stderr",
     "output_type": "stream",
     "text": [
      "Processing CHEMBL2095170: 608it [00:00, 689.28it/s]\n"
     ]
    },
    {
     "name": "stdout",
     "output_type": "stream",
     "text": [
      "Fetching data for target CHEMBL2304421 (Estrogen receptor)...\n"
     ]
    },
    {
     "name": "stderr",
     "output_type": "stream",
     "text": [
      "Processing CHEMBL2304421: 386it [00:00, 427.75it/s]\n"
     ]
    },
    {
     "name": "stdout",
     "output_type": "stream",
     "text": [
      "Fetching data for target CHEMBL4398 (Purinergic receptor P2Y2)...\n"
     ]
    },
    {
     "name": "stderr",
     "output_type": "stream",
     "text": [
      "Processing CHEMBL4398: 845it [00:01, 804.07it/s]\n"
     ]
    },
    {
     "name": "stdout",
     "output_type": "stream",
     "text": [
      "Fetching data for target CHEMBL4419 (Purinergic receptor P2Y2)...\n"
     ]
    },
    {
     "name": "stderr",
     "output_type": "stream",
     "text": [
      "Processing CHEMBL4419: 2it [00:00,  2.38it/s]\n"
     ]
    },
    {
     "name": "stdout",
     "output_type": "stream",
     "text": [
      "Fetching data for target CHEMBL1075298 (Purinergic receptor P2Y2)...\n"
     ]
    },
    {
     "name": "stderr",
     "output_type": "stream",
     "text": [
      "Processing CHEMBL1075298: 47it [00:00, 52.60it/s]\n"
     ]
    },
    {
     "name": "stdout",
     "output_type": "stream",
     "text": [
      "Fetching data for target CHEMBL3085 (Excitatory amino acid transporter 1)...\n"
     ]
    },
    {
     "name": "stderr",
     "output_type": "stream",
     "text": [
      "Processing CHEMBL3085: 533it [00:00, 572.02it/s]\n"
     ]
    },
    {
     "name": "stdout",
     "output_type": "stream",
     "text": [
      "Fetching data for target CHEMBL4190 (Excitatory amino acid transporter 1)...\n"
     ]
    },
    {
     "name": "stderr",
     "output_type": "stream",
     "text": [
      "Processing CHEMBL4190: 2it [00:00,  2.16it/s]\n"
     ]
    },
    {
     "name": "stdout",
     "output_type": "stream",
     "text": [
      "Fetching data for target CHEMBL2900 (Excitatory amino acid transporter 2)...\n"
     ]
    },
    {
     "name": "stderr",
     "output_type": "stream",
     "text": [
      "Processing CHEMBL2900: 26it [00:00, 26.20it/s]\n"
     ]
    },
    {
     "name": "stdout",
     "output_type": "stream",
     "text": [
      "Fetching data for target CHEMBL4973 (Excitatory amino acid transporter 2)...\n"
     ]
    },
    {
     "name": "stderr",
     "output_type": "stream",
     "text": [
      "Processing CHEMBL4973: 482it [00:00, 550.06it/s]\n"
     ]
    },
    {
     "name": "stdout",
     "output_type": "stream",
     "text": [
      "Fetching data for target CHEMBL2721 (Excitatory amino acid transporter 3)...\n"
     ]
    },
    {
     "name": "stderr",
     "output_type": "stream",
     "text": [
      "Processing CHEMBL2721: 445it [00:00, 462.72it/s]\n"
     ]
    },
    {
     "name": "stdout",
     "output_type": "stream",
     "text": [
      "Fetching data for target CHEMBL3113 (Excitatory amino acid transporter 3)...\n"
     ]
    },
    {
     "name": "stderr",
     "output_type": "stream",
     "text": [
      "Processing CHEMBL3113: 10it [00:00, 10.16it/s]\n"
     ]
    },
    {
     "name": "stdout",
     "output_type": "stream",
     "text": [
      "Fetching data for target CHEMBL4801 (Caspase-1)...\n"
     ]
    },
    {
     "name": "stderr",
     "output_type": "stream",
     "text": [
      "Processing CHEMBL4801: 4346it [00:01, 2550.88it/s]\n"
     ]
    },
    {
     "name": "stdout",
     "output_type": "stream",
     "text": [
      "Fetching data for target CHEMBL4800 (Caspase-1)...\n"
     ]
    },
    {
     "name": "stderr",
     "output_type": "stream",
     "text": [
      "Processing CHEMBL4800: 358it [00:00, 363.61it/s]\n"
     ]
    },
    {
     "name": "stdout",
     "output_type": "stream",
     "text": [
      "Fetching data for target CHEMBL2334 (Caspase-3)...\n"
     ]
    },
    {
     "name": "stderr",
     "output_type": "stream",
     "text": [
      "Processing CHEMBL2334: 3404it [00:01, 2589.21it/s]\n"
     ]
    },
    {
     "name": "stdout",
     "output_type": "stream",
     "text": [
      "Fetching data for target CHEMBL5632 (Caspase-3)...\n"
     ]
    },
    {
     "name": "stderr",
     "output_type": "stream",
     "text": [
      "Processing CHEMBL5632: 50it [00:00, 55.46it/s]\n"
     ]
    },
    {
     "name": "stdout",
     "output_type": "stream",
     "text": [
      "Fetching data for target CHEMBL1075185 (Caspase-3)...\n"
     ]
    },
    {
     "name": "stderr",
     "output_type": "stream",
     "text": [
      "Processing CHEMBL1075185: 8it [00:00,  8.42it/s]\n"
     ]
    },
    {
     "name": "stdout",
     "output_type": "stream",
     "text": [
      "Fetching data for target CHEMBL4879497 (Caspase-3)...\n"
     ]
    },
    {
     "name": "stderr",
     "output_type": "stream",
     "text": [
      "Processing CHEMBL4879497: 0it [00:00, ?it/s]\n"
     ]
    },
    {
     "name": "stdout",
     "output_type": "stream",
     "text": [
      "Fetching data for target CHEMBL3308 (Caspase-6)...\n"
     ]
    },
    {
     "name": "stderr",
     "output_type": "stream",
     "text": [
      "Processing CHEMBL3308: 1228it [00:01, 1173.43it/s]\n"
     ]
    },
    {
     "name": "stdout",
     "output_type": "stream",
     "text": [
      "Fetching data for target CHEMBL3776 (Caspase-8)...\n"
     ]
    },
    {
     "name": "stderr",
     "output_type": "stream",
     "text": [
      "Processing CHEMBL3776: 955it [00:00, 1053.68it/s]\n"
     ]
    },
    {
     "name": "stdout",
     "output_type": "stream",
     "text": [
      "Fetching data for target CHEMBL4630806 (Caspase-8)...\n"
     ]
    },
    {
     "name": "stderr",
     "output_type": "stream",
     "text": [
      "Processing CHEMBL4630806: 0it [00:00, ?it/s]\n"
     ]
    },
    {
     "name": "stdout",
     "output_type": "stream",
     "text": [
      "Fetching data for target CHEMBL286 (Renin)...\n"
     ]
    },
    {
     "name": "stderr",
     "output_type": "stream",
     "text": [
      "Processing CHEMBL286: 5053it [00:01, 3741.07it/s]\n"
     ]
    },
    {
     "name": "stdout",
     "output_type": "stream",
     "text": [
      "Fetching data for target CHEMBL2615 (Renin)...\n"
     ]
    },
    {
     "name": "stderr",
     "output_type": "stream",
     "text": [
      "Processing CHEMBL2615: 8it [00:00,  9.26it/s]\n"
     ]
    },
    {
     "name": "stdout",
     "output_type": "stream",
     "text": [
      "Fetching data for target CHEMBL2322 (Renin)...\n"
     ]
    },
    {
     "name": "stderr",
     "output_type": "stream",
     "text": [
      "Processing CHEMBL2322: 163it [00:00, 186.22it/s]\n"
     ]
    },
    {
     "name": "stdout",
     "output_type": "stream",
     "text": [
      "Fetching data for target CHEMBL6056 (Renin)...\n"
     ]
    },
    {
     "name": "stderr",
     "output_type": "stream",
     "text": [
      "Processing CHEMBL6056: 81it [00:00, 87.98it/s]\n"
     ]
    },
    {
     "name": "stdout",
     "output_type": "stream",
     "text": [
      "Fetching data for target CHEMBL1287631 (Renin)...\n"
     ]
    },
    {
     "name": "stderr",
     "output_type": "stream",
     "text": [
      "Processing CHEMBL1287631: 3it [00:00,  3.21it/s]\n"
     ]
    },
    {
     "name": "stdout",
     "output_type": "stream",
     "text": [
      "Fetching data for target CHEMBL1287632 (Renin)...\n"
     ]
    },
    {
     "name": "stderr",
     "output_type": "stream",
     "text": [
      "Processing CHEMBL1287632: 1it [00:00,  1.15it/s]\n"
     ]
    },
    {
     "name": "stdout",
     "output_type": "stream",
     "text": [
      "Fetching data for target CHEMBL2046264 (Renin)...\n"
     ]
    },
    {
     "name": "stderr",
     "output_type": "stream",
     "text": [
      "Processing CHEMBL2046264: 175it [00:00, 201.74it/s]\n"
     ]
    },
    {
     "name": "stdout",
     "output_type": "stream",
     "text": [
      "Fetching data for target CHEMBL3465 (Sigma opioid receptor)...\n"
     ]
    },
    {
     "name": "stderr",
     "output_type": "stream",
     "text": [
      "Processing CHEMBL3465: 158it [00:00, 182.63it/s]\n"
     ]
    },
    {
     "name": "stdout",
     "output_type": "stream",
     "text": [
      "Fetching data for target CHEMBL287 (Sigma opioid receptor)...\n"
     ]
    },
    {
     "name": "stderr",
     "output_type": "stream",
     "text": [
      "Processing CHEMBL287: 4984it [00:01, 3670.38it/s]\n"
     ]
    },
    {
     "name": "stdout",
     "output_type": "stream",
     "text": [
      "Fetching data for target CHEMBL3602 (Sigma opioid receptor)...\n"
     ]
    },
    {
     "name": "stderr",
     "output_type": "stream",
     "text": [
      "Processing CHEMBL3602: 1585it [00:01, 1508.59it/s]\n"
     ]
    },
    {
     "name": "stdout",
     "output_type": "stream",
     "text": [
      "Fetching data for target CHEMBL3464 (Nitric oxide synthase, inducible)...\n"
     ]
    },
    {
     "name": "stderr",
     "output_type": "stream",
     "text": [
      "Processing CHEMBL3464: 1653it [00:01, 1430.60it/s]\n"
     ]
    },
    {
     "name": "stdout",
     "output_type": "stream",
     "text": [
      "Fetching data for target CHEMBL3051 (Nitric oxide synthase, inducible)...\n"
     ]
    },
    {
     "name": "stderr",
     "output_type": "stream",
     "text": [
      "Processing CHEMBL3051: 150it [00:00, 169.89it/s]\n"
     ]
    },
    {
     "name": "stdout",
     "output_type": "stream",
     "text": [
      "Fetching data for target CHEMBL4481 (Nitric oxide synthase, inducible)...\n"
     ]
    },
    {
     "name": "stderr",
     "output_type": "stream",
     "text": [
      "Processing CHEMBL4481: 1625it [00:01, 1589.91it/s]\n"
     ]
    },
    {
     "name": "stdout",
     "output_type": "stream",
     "text": [
      "Fetching data for target CHEMBL4803 (Nitric-oxide synthase, endothelial)...\n"
     ]
    },
    {
     "name": "stderr",
     "output_type": "stream",
     "text": [
      "Processing CHEMBL4803: 1418it [00:01, 1358.70it/s]\n"
     ]
    },
    {
     "name": "stdout",
     "output_type": "stream",
     "text": [
      "Fetching data for target CHEMBL2643 (Nitric-oxide synthase, endothelial)...\n"
     ]
    },
    {
     "name": "stderr",
     "output_type": "stream",
     "text": [
      "Processing CHEMBL2643: 35it [00:00, 39.84it/s]\n"
     ]
    },
    {
     "name": "stdout",
     "output_type": "stream",
     "text": [
      "Fetching data for target CHEMBL3809 (Nitric-oxide synthase, endothelial)...\n"
     ]
    },
    {
     "name": "stderr",
     "output_type": "stream",
     "text": [
      "Processing CHEMBL3809: 72it [00:00, 77.45it/s]\n"
     ]
    },
    {
     "name": "stdout",
     "output_type": "stream",
     "text": [
      "Fetching data for target CHEMBL4802 (Nitric-oxide synthase, endothelial)...\n"
     ]
    },
    {
     "name": "stderr",
     "output_type": "stream",
     "text": [
      "Processing CHEMBL4802: 646it [00:00, 671.77it/s]\n"
     ]
    },
    {
     "name": "stdout",
     "output_type": "stream",
     "text": [
      "Fetching data for target CHEMBL3568 (Nitric-oxide synthase, brain)...\n"
     ]
    },
    {
     "name": "stderr",
     "output_type": "stream",
     "text": [
      "Processing CHEMBL3568: 1759it [00:00, 1891.68it/s]\n"
     ]
    },
    {
     "name": "stdout",
     "output_type": "stream",
     "text": [
      "Fetching data for target CHEMBL4719 (Nitric-oxide synthase, brain)...\n"
     ]
    },
    {
     "name": "stderr",
     "output_type": "stream",
     "text": [
      "Processing CHEMBL4719: 34it [00:00, 39.45it/s]\n"
     ]
    },
    {
     "name": "stdout",
     "output_type": "stream",
     "text": [
      "Fetching data for target CHEMBL3048 (Nitric-oxide synthase, brain)...\n"
     ]
    },
    {
     "name": "stderr",
     "output_type": "stream",
     "text": [
      "Processing CHEMBL3048: 1241it [00:00, 1331.25it/s]\n"
     ]
    },
    {
     "name": "stdout",
     "output_type": "stream",
     "text": [
      "Fetching data for target CHEMBL2111350 (Nitric oxide synthase (inducible and endothelial))...\n"
     ]
    },
    {
     "name": "stderr",
     "output_type": "stream",
     "text": [
      "Processing CHEMBL2111350: 112it [00:00, 128.66it/s]\n"
     ]
    },
    {
     "name": "stdout",
     "output_type": "stream",
     "text": [
      "Fetching data for target CHEMBL2096621 (Nitric oxide sythases; iNOS & nNOS)...\n"
     ]
    },
    {
     "name": "stderr",
     "output_type": "stream",
     "text": [
      "Processing CHEMBL2096621: 659it [00:00, 677.12it/s]\n"
     ]
    },
    {
     "name": "stdout",
     "output_type": "stream",
     "text": [
      "Fetching data for target CHEMBL2455 (P-selectin)...\n"
     ]
    },
    {
     "name": "stderr",
     "output_type": "stream",
     "text": [
      "Processing CHEMBL2455: 7it [00:00,  7.76it/s]\n"
     ]
    },
    {
     "name": "stdout",
     "output_type": "stream",
     "text": [
      "Fetching data for target CHEMBL5378 (P-selectin)...\n"
     ]
    },
    {
     "name": "stderr",
     "output_type": "stream",
     "text": [
      "Processing CHEMBL5378: 472it [00:00, 502.80it/s]\n"
     ]
    },
    {
     "name": "stdout",
     "output_type": "stream",
     "text": [
      "Fetching data for target CHEMBL3879832 (P-selectin)...\n"
     ]
    },
    {
     "name": "stderr",
     "output_type": "stream",
     "text": [
      "Processing CHEMBL3879832: 5it [00:00,  5.40it/s]\n"
     ]
    },
    {
     "name": "stdout",
     "output_type": "stream",
     "text": [
      "Fetching data for target CHEMBL4611 (Complement C1r)...\n"
     ]
    },
    {
     "name": "stderr",
     "output_type": "stream",
     "text": [
      "Processing CHEMBL4611: 229it [00:00, 240.75it/s]\n"
     ]
    },
    {
     "name": "stdout",
     "output_type": "stream",
     "text": [
      "Fetching data for target CHEMBL227 (Type-1 angiotensin II receptor)...\n"
     ]
    },
    {
     "name": "stderr",
     "output_type": "stream",
     "text": [
      "Processing CHEMBL227: 5015it [00:01, 3799.11it/s]\n"
     ]
    },
    {
     "name": "stdout",
     "output_type": "stream",
     "text": [
      "Fetching data for target CHEMBL5743 (Type-1 angiotensin II receptor)...\n"
     ]
    },
    {
     "name": "stderr",
     "output_type": "stream",
     "text": [
      "Processing CHEMBL5743: 25it [00:00, 27.88it/s]\n"
     ]
    },
    {
     "name": "stdout",
     "output_type": "stream",
     "text": [
      "Fetching data for target CHEMBL1671613 (Type-1 angiotensin II receptor)...\n"
     ]
    },
    {
     "name": "stderr",
     "output_type": "stream",
     "text": [
      "Processing CHEMBL1671613: 86it [00:00, 98.06it/s]\n"
     ]
    },
    {
     "name": "stdout",
     "output_type": "stream",
     "text": [
      "Fetching data for target CHEMBL225 (Serotonin 2c (5-HT2c) receptor)...\n"
     ]
    },
    {
     "name": "stderr",
     "output_type": "stream",
     "text": [
      "Processing CHEMBL225: 9505it [00:01, 6194.50it/s]\n"
     ]
    },
    {
     "name": "stdout",
     "output_type": "stream",
     "text": [
      "Fetching data for target CHEMBL3006 (Serotonin 2c (5-HT2c) receptor)...\n"
     ]
    },
    {
     "name": "stderr",
     "output_type": "stream",
     "text": [
      "Processing CHEMBL3006: 18it [00:00, 20.37it/s]\n"
     ]
    },
    {
     "name": "stdout",
     "output_type": "stream",
     "text": [
      "Fetching data for target CHEMBL324 (Serotonin 2c (5-HT2c) receptor)...\n"
     ]
    },
    {
     "name": "stderr",
     "output_type": "stream",
     "text": [
      "Processing CHEMBL324: 1035it [00:01, 1019.40it/s]\n"
     ]
    },
    {
     "name": "stdout",
     "output_type": "stream",
     "text": [
      "Fetching data for target CHEMBL224 (Serotonin 2a (5-HT2a) receptor)...\n"
     ]
    },
    {
     "name": "stderr",
     "output_type": "stream",
     "text": [
      "Processing CHEMBL224: 12976it [00:01, 8290.57it/s] \n"
     ]
    },
    {
     "name": "stdout",
     "output_type": "stream",
     "text": [
      "Fetching data for target CHEMBL5377 (Serotonin 2a (5-HT2a) receptor)...\n"
     ]
    },
    {
     "name": "stderr",
     "output_type": "stream",
     "text": [
      "Processing CHEMBL5377: 268it [00:00, 275.10it/s]\n"
     ]
    },
    {
     "name": "stdout",
     "output_type": "stream",
     "text": [
      "Fetching data for target CHEMBL2490 (Serotonin 2a (5-HT2a) receptor)...\n"
     ]
    },
    {
     "name": "stderr",
     "output_type": "stream",
     "text": [
      "Processing CHEMBL2490: 126it [00:00, 140.62it/s]\n"
     ]
    },
    {
     "name": "stdout",
     "output_type": "stream",
     "text": [
      "Fetching data for target CHEMBL322 (Serotonin 2a (5-HT2a) receptor)...\n"
     ]
    },
    {
     "name": "stderr",
     "output_type": "stream",
     "text": [
      "Processing CHEMBL322: 3327it [00:01, 3055.91it/s]\n"
     ]
    },
    {
     "name": "stdout",
     "output_type": "stream",
     "text": [
      "Fetching data for target CHEMBL3446 (Serotonin 2a (5-HT2a) receptor)...\n"
     ]
    },
    {
     "name": "stderr",
     "output_type": "stream",
     "text": [
      "Processing CHEMBL3446: 162it [00:00, 189.24it/s]\n"
     ]
    },
    {
     "name": "stdout",
     "output_type": "stream",
     "text": [
      "Fetching data for target CHEMBL1951 (Monoamine oxidase A)...\n"
     ]
    },
    {
     "name": "stderr",
     "output_type": "stream",
     "text": [
      "Processing CHEMBL1951: 8909it [00:01, 4921.97it/s]\n"
     ]
    },
    {
     "name": "stdout",
     "output_type": "stream",
     "text": [
      "Fetching data for target CHEMBL3254 (Monoamine oxidase A)...\n"
     ]
    },
    {
     "name": "stderr",
     "output_type": "stream",
     "text": [
      "Processing CHEMBL3254: 342it [00:01, 327.10it/s]\n"
     ]
    },
    {
     "name": "stdout",
     "output_type": "stream",
     "text": [
      "Fetching data for target CHEMBL3358 (Monoamine oxidase A)...\n"
     ]
    },
    {
     "name": "stderr",
     "output_type": "stream",
     "text": [
      "Processing CHEMBL3358: 1939it [00:01, 1818.97it/s]\n"
     ]
    },
    {
     "name": "stdout",
     "output_type": "stream",
     "text": [
      "Fetching data for target CHEMBL3681 (Monoamine oxidase A)...\n"
     ]
    },
    {
     "name": "stderr",
     "output_type": "stream",
     "text": [
      "Processing CHEMBL3681: 71it [00:00, 81.09it/s]\n"
     ]
    },
    {
     "name": "stdout",
     "output_type": "stream",
     "text": [
      "Fetching data for target CHEMBL1914 (Butyrylcholinesterase)...\n"
     ]
    },
    {
     "name": "stderr",
     "output_type": "stream",
     "text": [
      "Processing CHEMBL1914: 6862it [00:01, 4163.09it/s]\n"
     ]
    },
    {
     "name": "stdout",
     "output_type": "stream",
     "text": [
      "Fetching data for target CHEMBL2528 (Butyrylcholinesterase)...\n"
     ]
    },
    {
     "name": "stderr",
     "output_type": "stream",
     "text": [
      "Processing CHEMBL2528: 201it [00:01, 200.10it/s]\n"
     ]
    },
    {
     "name": "stdout",
     "output_type": "stream",
     "text": [
      "Fetching data for target CHEMBL3403 (Butyrylcholinesterase)...\n"
     ]
    },
    {
     "name": "stderr",
     "output_type": "stream",
     "text": [
      "Processing CHEMBL3403: 692it [00:00, 732.43it/s]\n"
     ]
    },
    {
     "name": "stdout",
     "output_type": "stream",
     "text": [
      "Fetching data for target CHEMBL5077 (Butyrylcholinesterase)...\n"
     ]
    },
    {
     "name": "stderr",
     "output_type": "stream",
     "text": [
      "Processing CHEMBL5077: 694it [00:00, 735.47it/s]\n"
     ]
    },
    {
     "name": "stdout",
     "output_type": "stream",
     "text": [
      "Fetching data for target CHEMBL220 (Acetylcholinesterase)...\n"
     ]
    },
    {
     "name": "stderr",
     "output_type": "stream",
     "text": [
      "Processing CHEMBL220: 15396it [00:01, 8246.14it/s] \n"
     ]
    },
    {
     "name": "stdout",
     "output_type": "stream",
     "text": [
      "Fetching data for target CHEMBL4780 (Acetylcholinesterase)...\n"
     ]
    },
    {
     "name": "stderr",
     "output_type": "stream",
     "text": [
      "Processing CHEMBL4780: 641it [00:00, 657.22it/s]\n"
     ]
    },
    {
     "name": "stdout",
     "output_type": "stream",
     "text": [
      "Fetching data for target CHEMBL3198 (Acetylcholinesterase)...\n"
     ]
    },
    {
     "name": "stderr",
     "output_type": "stream",
     "text": [
      "Processing CHEMBL3198: 1243it [00:00, 1247.42it/s]\n"
     ]
    },
    {
     "name": "stdout",
     "output_type": "stream",
     "text": [
      "Fetching data for target CHEMBL3199 (Acetylcholinesterase)...\n"
     ]
    },
    {
     "name": "stderr",
     "output_type": "stream",
     "text": [
      "Processing CHEMBL3199: 2427it [00:01, 2369.33it/s]\n"
     ]
    },
    {
     "name": "stdout",
     "output_type": "stream",
     "text": [
      "Fetching data for target CHEMBL4078 (Acetylcholinesterase)...\n"
     ]
    },
    {
     "name": "stderr",
     "output_type": "stream",
     "text": [
      "Processing CHEMBL4078: 11388it [00:01, 6086.27it/s]\n"
     ]
    },
    {
     "name": "stdout",
     "output_type": "stream",
     "text": [
      "Fetching data for target CHEMBL4768 (Acetylcholinesterase)...\n"
     ]
    },
    {
     "name": "stderr",
     "output_type": "stream",
     "text": [
      "Processing CHEMBL4768: 922it [00:01, 878.16it/s]\n"
     ]
    },
    {
     "name": "stdout",
     "output_type": "stream",
     "text": [
      "Fetching data for target CHEMBL5752 (Acetylcholinesterase)...\n"
     ]
    },
    {
     "name": "stderr",
     "output_type": "stream",
     "text": [
      "Processing CHEMBL5752: 8it [00:00,  9.18it/s]\n"
     ]
    },
    {
     "name": "stdout",
     "output_type": "stream",
     "text": [
      "Fetching data for target CHEMBL2046266 (Acetylcholinesterase)...\n"
     ]
    },
    {
     "name": "stderr",
     "output_type": "stream",
     "text": [
      "Processing CHEMBL2046266: 226it [00:00, 261.66it/s]\n"
     ]
    },
    {
     "name": "stdout",
     "output_type": "stream",
     "text": [
      "Fetching data for target CHEMBL2242729 (Acetylcholinesterase)...\n"
     ]
    },
    {
     "name": "stderr",
     "output_type": "stream",
     "text": [
      "Processing CHEMBL2242729: 4it [00:01,  3.94it/s]\n"
     ]
    },
    {
     "name": "stdout",
     "output_type": "stream",
     "text": [
      "Fetching data for target CHEMBL2242743 (Acetylcholinesterase)...\n"
     ]
    },
    {
     "name": "stderr",
     "output_type": "stream",
     "text": [
      "Processing CHEMBL2242743: 135it [00:00, 152.07it/s]\n"
     ]
    },
    {
     "name": "stdout",
     "output_type": "stream",
     "text": [
      "Fetching data for target CHEMBL2242744 (Acetylcholinesterase)...\n"
     ]
    },
    {
     "name": "stderr",
     "output_type": "stream",
     "text": [
      "Processing CHEMBL2242744: 18it [00:00, 19.04it/s]\n"
     ]
    },
    {
     "name": "stdout",
     "output_type": "stream",
     "text": [
      "Fetching data for target CHEMBL2362988 (Acetylcholinesterase)...\n"
     ]
    },
    {
     "name": "stderr",
     "output_type": "stream",
     "text": [
      "Processing CHEMBL2362988: 0it [00:00, ?it/s]\n"
     ]
    },
    {
     "name": "stdout",
     "output_type": "stream",
     "text": [
      "Fetching data for target CHEMBL2366422 (Acetylcholinesterase)...\n"
     ]
    },
    {
     "name": "stderr",
     "output_type": "stream",
     "text": [
      "Processing CHEMBL2366422: 1it [00:00,  1.16it/s]\n"
     ]
    },
    {
     "name": "stdout",
     "output_type": "stream",
     "text": [
      "Fetching data for target CHEMBL2366446 (Acetylcholinesterase)...\n"
     ]
    },
    {
     "name": "stderr",
     "output_type": "stream",
     "text": [
      "Processing CHEMBL2366446: 20it [00:00, 21.64it/s]\n"
     ]
    },
    {
     "name": "stdout",
     "output_type": "stream",
     "text": [
      "Fetching data for target CHEMBL2366490 (Acetylcholinesterase)...\n"
     ]
    },
    {
     "name": "stderr",
     "output_type": "stream",
     "text": [
      "Processing CHEMBL2366490: 4it [00:00,  4.25it/s]\n"
     ]
    },
    {
     "name": "stdout",
     "output_type": "stream",
     "text": [
      "Fetching data for target CHEMBL2366511 (Acetylcholinesterase)...\n"
     ]
    },
    {
     "name": "stderr",
     "output_type": "stream",
     "text": [
      "Processing CHEMBL2366511: 30it [00:00, 33.41it/s]\n"
     ]
    },
    {
     "name": "stdout",
     "output_type": "stream",
     "text": [
      "Fetching data for target CHEMBL3227914 (Acetylcholinesterase)...\n"
     ]
    },
    {
     "name": "stderr",
     "output_type": "stream",
     "text": [
      "Processing CHEMBL3227914: 4it [00:00,  4.39it/s]\n"
     ]
    },
    {
     "name": "stdout",
     "output_type": "stream",
     "text": [
      "Fetching data for target CHEMBL3308995 (Acetylcholinesterase)...\n"
     ]
    },
    {
     "name": "stderr",
     "output_type": "stream",
     "text": [
      "Processing CHEMBL3308995: 1it [00:00,  1.16it/s]\n"
     ]
    },
    {
     "name": "stdout",
     "output_type": "stream",
     "text": [
      "Fetching data for target CHEMBL4295607 (Acetylcholinesterase)...\n"
     ]
    },
    {
     "name": "stderr",
     "output_type": "stream",
     "text": [
      "Processing CHEMBL4295607: 19it [00:00, 20.98it/s]\n"
     ]
    },
    {
     "name": "stdout",
     "output_type": "stream",
     "text": [
      "Fetching data for target CHEMBL2060 (Lipoprotein lipase)...\n"
     ]
    },
    {
     "name": "stderr",
     "output_type": "stream",
     "text": [
      "Processing CHEMBL2060: 89it [00:00, 89.63it/s]\n"
     ]
    },
    {
     "name": "stdout",
     "output_type": "stream",
     "text": [
      "Fetching data for target CHEMBL3064 (Lipoprotein lipase)...\n"
     ]
    },
    {
     "name": "stderr",
     "output_type": "stream",
     "text": [
      "Processing CHEMBL3064: 99it [00:00, 113.87it/s]\n"
     ]
    },
    {
     "name": "stdout",
     "output_type": "stream",
     "text": [
      "Fetching data for target CHEMBL5906 (Lipoprotein lipase)...\n"
     ]
    },
    {
     "name": "stderr",
     "output_type": "stream",
     "text": [
      "Processing CHEMBL5906: 23it [00:00, 26.20it/s]\n"
     ]
    },
    {
     "name": "stdout",
     "output_type": "stream",
     "text": [
      "Fetching data for target CHEMBL3309051 (Lipoprotein lipase)...\n"
     ]
    },
    {
     "name": "stderr",
     "output_type": "stream",
     "text": [
      "Processing CHEMBL3309051: 1it [00:00,  1.03it/s]\n"
     ]
    },
    {
     "name": "stdout",
     "output_type": "stream",
     "text": [
      "Fetching data for target CHEMBL2056 (Dopamine D1 receptor)...\n"
     ]
    },
    {
     "name": "stderr",
     "output_type": "stream",
     "text": [
      "Processing CHEMBL2056: 7830it [00:01, 5631.80it/s]\n"
     ]
    },
    {
     "name": "stdout",
     "output_type": "stream",
     "text": [
      "Fetching data for target CHEMBL265 (Dopamine D1 receptor)...\n"
     ]
    },
    {
     "name": "stderr",
     "output_type": "stream",
     "text": [
      "Processing CHEMBL265: 1740it [00:01, 1603.21it/s]\n"
     ]
    },
    {
     "name": "stdout",
     "output_type": "stream",
     "text": [
      "Fetching data for target CHEMBL2368 (Dopamine D1 receptor)...\n"
     ]
    },
    {
     "name": "stderr",
     "output_type": "stream",
     "text": [
      "Processing CHEMBL2368: 87it [00:00, 99.67it/s]\n"
     ]
    },
    {
     "name": "stdout",
     "output_type": "stream",
     "text": [
      "Fetching data for target CHEMBL3071 (Dopamine D1 receptor)...\n"
     ]
    },
    {
     "name": "stderr",
     "output_type": "stream",
     "text": [
      "Processing CHEMBL3071: 58it [00:00, 63.68it/s]\n"
     ]
    },
    {
     "name": "stdout",
     "output_type": "stream",
     "text": [
      "Fetching data for target CHEMBL2967 (Dopamine D1 receptor)...\n"
     ]
    },
    {
     "name": "stderr",
     "output_type": "stream",
     "text": [
      "Processing CHEMBL2967: 368it [00:00, 388.46it/s]\n"
     ]
    },
    {
     "name": "stdout",
     "output_type": "stream",
     "text": [
      "Fetching data for target CHEMBL5067 (Dopamine D1 receptor)...\n"
     ]
    },
    {
     "name": "stderr",
     "output_type": "stream",
     "text": [
      "Processing CHEMBL5067: 346it [00:00, 381.48it/s]\n"
     ]
    },
    {
     "name": "stdout",
     "output_type": "stream",
     "text": [
      "Fetching data for target CHEMBL2581 (Cathepsin D)...\n"
     ]
    },
    {
     "name": "stderr",
     "output_type": "stream",
     "text": [
      "Processing CHEMBL2581: 3038it [00:01, 2648.67it/s]\n"
     ]
    },
    {
     "name": "stdout",
     "output_type": "stream",
     "text": [
      "Fetching data for target CHEMBL4106 (Cathepsin D)...\n"
     ]
    },
    {
     "name": "stderr",
     "output_type": "stream",
     "text": [
      "Processing CHEMBL4106: 412it [00:00, 428.55it/s]\n"
     ]
    },
    {
     "name": "stdout",
     "output_type": "stream",
     "text": [
      "Fetching data for target CHEMBL4071 (Cathepsin G)...\n"
     ]
    },
    {
     "name": "stderr",
     "output_type": "stream",
     "text": [
      "Processing CHEMBL4071: 505it [00:01, 495.03it/s]\n"
     ]
    },
    {
     "name": "stdout",
     "output_type": "stream",
     "text": [
      "Fetching data for target CHEMBL5622 (Cathepsin G)...\n"
     ]
    },
    {
     "name": "stderr",
     "output_type": "stream",
     "text": [
      "Processing CHEMBL5622: 9it [00:00, 10.17it/s]\n"
     ]
    },
    {
     "name": "stdout",
     "output_type": "stream",
     "text": [
      "Fetching data for target CHEMBL230 (Cyclooxygenase-2)...\n"
     ]
    },
    {
     "name": "stderr",
     "output_type": "stream",
     "text": [
      "Processing CHEMBL230: 11726it [00:01, 6267.97it/s]\n"
     ]
    },
    {
     "name": "stdout",
     "output_type": "stream",
     "text": [
      "Fetching data for target CHEMBL3331 (Cyclooxygenase-2)...\n"
     ]
    },
    {
     "name": "stderr",
     "output_type": "stream",
     "text": [
      "Processing CHEMBL3331: 36it [00:00, 40.17it/s]\n"
     ]
    },
    {
     "name": "stdout",
     "output_type": "stream",
     "text": [
      "Fetching data for target CHEMBL4321 (Cyclooxygenase-2)...\n"
     ]
    },
    {
     "name": "stderr",
     "output_type": "stream",
     "text": [
      "Processing CHEMBL4321: 1837it [00:01, 1805.16it/s]\n"
     ]
    },
    {
     "name": "stdout",
     "output_type": "stream",
     "text": [
      "Fetching data for target CHEMBL4033 (Cyclooxygenase-2)...\n"
     ]
    },
    {
     "name": "stderr",
     "output_type": "stream",
     "text": [
      "Processing CHEMBL4033: 160it [00:00, 186.95it/s]\n"
     ]
    },
    {
     "name": "stdout",
     "output_type": "stream",
     "text": [
      "Fetching data for target CHEMBL2977 (Cyclooxygenase-2)...\n"
     ]
    },
    {
     "name": "stderr",
     "output_type": "stream",
     "text": [
      "Processing CHEMBL2977: 164it [00:01, 159.59it/s]\n"
     ]
    },
    {
     "name": "stdout",
     "output_type": "stream",
     "text": [
      "Fetching data for target CHEMBL4102 (Cyclooxygenase-2)...\n"
     ]
    },
    {
     "name": "stderr",
     "output_type": "stream",
     "text": [
      "Processing CHEMBL4102: 1794it [00:00, 1800.06it/s]\n"
     ]
    },
    {
     "name": "stdout",
     "output_type": "stream",
     "text": [
      "Fetching data for target CHEMBL221 (Cyclooxygenase-1)...\n"
     ]
    },
    {
     "name": "stderr",
     "output_type": "stream",
     "text": [
      "Processing CHEMBL221: 7174it [00:01, 5715.79it/s]\n"
     ]
    },
    {
     "name": "stdout",
     "output_type": "stream",
     "text": [
      "Fetching data for target CHEMBL2649 (Cyclooxygenase-1)...\n"
     ]
    },
    {
     "name": "stderr",
     "output_type": "stream",
     "text": [
      "Processing CHEMBL2649: 634it [00:00, 656.00it/s]\n"
     ]
    },
    {
     "name": "stdout",
     "output_type": "stream",
     "text": [
      "Fetching data for target CHEMBL4133 (Cyclooxygenase-1)...\n"
     ]
    },
    {
     "name": "stderr",
     "output_type": "stream",
     "text": [
      "Processing CHEMBL4133: 107it [00:00, 123.45it/s]\n"
     ]
    },
    {
     "name": "stdout",
     "output_type": "stream",
     "text": [
      "Fetching data for target CHEMBL4042 (Cyclooxygenase-1)...\n"
     ]
    },
    {
     "name": "stderr",
     "output_type": "stream",
     "text": [
      "Processing CHEMBL4042: 1342it [00:00, 1404.88it/s]\n"
     ]
    },
    {
     "name": "stdout",
     "output_type": "stream",
     "text": [
      "Fetching data for target CHEMBL2860 (Cyclooxygenase-1)...\n"
     ]
    },
    {
     "name": "stderr",
     "output_type": "stream",
     "text": [
      "Processing CHEMBL2860: 143it [00:00, 158.40it/s]\n"
     ]
    },
    {
     "name": "stdout",
     "output_type": "stream",
     "text": [
      "Fetching data for target CHEMBL3334 (Cyclooxygenase-1)...\n"
     ]
    },
    {
     "name": "stderr",
     "output_type": "stream",
     "text": [
      "Processing CHEMBL3334: 16it [00:00, 17.67it/s]\n"
     ]
    },
    {
     "name": "stdout",
     "output_type": "stream",
     "text": [
      "Fetching data for target CHEMBL2949 (Cyclooxygenase-1)...\n"
     ]
    },
    {
     "name": "stderr",
     "output_type": "stream",
     "text": [
      "Processing CHEMBL2949: 4813it [00:01, 4002.09it/s]\n"
     ]
    },
    {
     "name": "stdout",
     "output_type": "stream",
     "text": [
      "Fetching data for target CHEMBL5303565 (Cyclooxygenase-1)...\n"
     ]
    },
    {
     "name": "stderr",
     "output_type": "stream",
     "text": [
      "Processing CHEMBL5303565: 0it [00:00, ?it/s]\n"
     ]
    },
    {
     "name": "stdout",
     "output_type": "stream",
     "text": [
      "Fetching data for target CHEMBL2094253 (Cyclooxygenase)...\n"
     ]
    },
    {
     "name": "stderr",
     "output_type": "stream",
     "text": [
      "Processing CHEMBL2094253: 1184it [00:01, 1141.83it/s]\n"
     ]
    },
    {
     "name": "stdout",
     "output_type": "stream",
     "text": [
      "Fetching data for target CHEMBL2095157 (Cyclooxygenase)...\n"
     ]
    },
    {
     "name": "stderr",
     "output_type": "stream",
     "text": [
      "Processing CHEMBL2095157: 903it [00:01, 874.61it/s]\n"
     ]
    },
    {
     "name": "stdout",
     "output_type": "stream",
     "text": [
      "Fetching data for target CHEMBL2096674 (Cyclooxygenase)...\n"
     ]
    },
    {
     "name": "stderr",
     "output_type": "stream",
     "text": [
      "Processing CHEMBL2096674: 296it [00:01, 270.61it/s]\n"
     ]
    },
    {
     "name": "stdout",
     "output_type": "stream",
     "text": [
      "Fetching data for target CHEMBL1867 (Alpha-2a adrenergic receptor)...\n"
     ]
    },
    {
     "name": "stderr",
     "output_type": "stream",
     "text": [
      "Processing CHEMBL1867: 7955it [00:01, 5977.89it/s]\n"
     ]
    },
    {
     "name": "stdout",
     "output_type": "stream",
     "text": [
      "Fetching data for target CHEMBL4744 (Alpha-2a adrenergic receptor)...\n"
     ]
    },
    {
     "name": "stderr",
     "output_type": "stream",
     "text": [
      "Processing CHEMBL4744: 160it [00:00, 181.50it/s]\n"
     ]
    },
    {
     "name": "stdout",
     "output_type": "stream",
     "text": [
      "Fetching data for target CHEMBL4075 (Alpha-2a adrenergic receptor)...\n"
     ]
    },
    {
     "name": "stderr",
     "output_type": "stream",
     "text": [
      "Processing CHEMBL4075: 1it [00:00,  1.12it/s]\n"
     ]
    },
    {
     "name": "stdout",
     "output_type": "stream",
     "text": [
      "Fetching data for target CHEMBL2350 (Alpha-2a adrenergic receptor)...\n"
     ]
    },
    {
     "name": "stderr",
     "output_type": "stream",
     "text": [
      "Processing CHEMBL2350: 3it [00:00,  3.45it/s]\n"
     ]
    },
    {
     "name": "stdout",
     "output_type": "stream",
     "text": [
      "Fetching data for target CHEMBL327 (Alpha-2a adrenergic receptor)...\n"
     ]
    },
    {
     "name": "stderr",
     "output_type": "stream",
     "text": [
      "Processing CHEMBL327: 184it [00:00, 200.60it/s]\n"
     ]
    },
    {
     "name": "stdout",
     "output_type": "stream",
     "text": [
      "Fetching data for target CHEMBL5303559 (Alpha-2a adrenergic receptor)...\n"
     ]
    },
    {
     "name": "stderr",
     "output_type": "stream",
     "text": [
      "Processing CHEMBL5303559: 0it [00:00, ?it/s]\n"
     ]
    },
    {
     "name": "stdout",
     "output_type": "stream",
     "text": [
      "Fetching data for target CHEMBL5465183 (Alpha-2a adrenergic receptor)...\n"
     ]
    },
    {
     "name": "stderr",
     "output_type": "stream",
     "text": [
      "Processing CHEMBL5465183: 1it [00:00,  1.12it/s]\n"
     ]
    },
    {
     "name": "stdout",
     "output_type": "stream",
     "text": [
      "Fetching data for target CHEMBL238 (Dopamine transporter)...\n"
     ]
    },
    {
     "name": "stderr",
     "output_type": "stream",
     "text": [
      "Processing CHEMBL238: 8738it [00:01, 5685.17it/s]\n"
     ]
    },
    {
     "name": "stdout",
     "output_type": "stream",
     "text": [
      "Fetching data for target CHEMBL2799 (Dopamine transporter)...\n"
     ]
    },
    {
     "name": "stderr",
     "output_type": "stream",
     "text": [
      "Processing CHEMBL2799: 138it [00:00, 155.43it/s]\n"
     ]
    },
    {
     "name": "stdout",
     "output_type": "stream",
     "text": [
      "Fetching data for target CHEMBL338 (Dopamine transporter)...\n"
     ]
    },
    {
     "name": "stderr",
     "output_type": "stream",
     "text": [
      "Processing CHEMBL338: 5971it [00:01, 4659.81it/s]\n"
     ]
    },
    {
     "name": "stdout",
     "output_type": "stream",
     "text": [
      "Fetching data for target CHEMBL2986 (Dopamine transporter)...\n"
     ]
    },
    {
     "name": "stderr",
     "output_type": "stream",
     "text": [
      "Processing CHEMBL2986: 17it [00:00, 18.05it/s]\n"
     ]
    },
    {
     "name": "stdout",
     "output_type": "stream",
     "text": [
      "Fetching data for target CHEMBL5032 (Dopamine transporter)...\n"
     ]
    },
    {
     "name": "stderr",
     "output_type": "stream",
     "text": [
      "Processing CHEMBL5032: 20it [00:00, 21.70it/s]\n"
     ]
    },
    {
     "name": "stdout",
     "output_type": "stream",
     "text": [
      "Fetching data for target CHEMBL3371 (Serotonin 6 (5-HT6) receptor)...\n"
     ]
    },
    {
     "name": "stderr",
     "output_type": "stream",
     "text": [
      "Processing CHEMBL3371: 8062it [00:01, 5542.42it/s]\n"
     ]
    },
    {
     "name": "stdout",
     "output_type": "stream",
     "text": [
      "Fetching data for target CHEMBL3372 (Serotonin 6 (5-HT6) receptor)...\n"
     ]
    },
    {
     "name": "stderr",
     "output_type": "stream",
     "text": [
      "Processing CHEMBL3372: 83it [00:00, 92.80it/s]\n"
     ]
    },
    {
     "name": "stdout",
     "output_type": "stream",
     "text": [
      "Fetching data for target CHEMBL1075268 (Serotonin 6 (5-HT6) receptor)...\n"
     ]
    },
    {
     "name": "stderr",
     "output_type": "stream",
     "text": [
      "Processing CHEMBL1075268: 6it [00:00,  6.76it/s]\n"
     ]
    },
    {
     "name": "stdout",
     "output_type": "stream",
     "text": [
      "Fetching data for target CHEMBL4062 (Calpain 1)...\n"
     ]
    },
    {
     "name": "stderr",
     "output_type": "stream",
     "text": [
      "Processing CHEMBL4062: 204it [00:00, 205.35it/s]\n"
     ]
    },
    {
     "name": "stdout",
     "output_type": "stream",
     "text": [
      "Fetching data for target CHEMBL3891 (Calpain 1)...\n"
     ]
    },
    {
     "name": "stderr",
     "output_type": "stream",
     "text": [
      "Processing CHEMBL3891: 1056it [00:00, 1079.24it/s]\n"
     ]
    },
    {
     "name": "stdout",
     "output_type": "stream",
     "text": [
      "Fetching data for target CHEMBL3747 (Calpain 1)...\n"
     ]
    },
    {
     "name": "stderr",
     "output_type": "stream",
     "text": [
      "Processing CHEMBL3747: 30it [00:00, 34.29it/s]\n"
     ]
    },
    {
     "name": "stdout",
     "output_type": "stream",
     "text": [
      "Fetching data for target CHEMBL2111357 (Calpain 1)...\n"
     ]
    },
    {
     "name": "stderr",
     "output_type": "stream",
     "text": [
      "Processing CHEMBL2111357: 137it [00:00, 141.24it/s]\n"
     ]
    },
    {
     "name": "stdout",
     "output_type": "stream",
     "text": [
      "Fetching data for target CHEMBL2009 (Glutamate receptor ionotropic, AMPA 1)...\n"
     ]
    },
    {
     "name": "stderr",
     "output_type": "stream",
     "text": [
      "Processing CHEMBL2009: 235it [00:00, 255.01it/s]\n"
     ]
    },
    {
     "name": "stdout",
     "output_type": "stream",
     "text": [
      "Fetching data for target CHEMBL3502 (Glutamate receptor ionotropic, AMPA 1)...\n"
     ]
    },
    {
     "name": "stderr",
     "output_type": "stream",
     "text": [
      "Processing CHEMBL3502: 5it [00:00,  5.38it/s]\n"
     ]
    },
    {
     "name": "stdout",
     "output_type": "stream",
     "text": [
      "Fetching data for target CHEMBL3753 (Glutamate receptor ionotropic, AMPA 1)...\n"
     ]
    },
    {
     "name": "stderr",
     "output_type": "stream",
     "text": [
      "Processing CHEMBL3753: 361it [00:00, 375.21it/s]\n"
     ]
    },
    {
     "name": "stdout",
     "output_type": "stream",
     "text": [
      "Fetching data for target CHEMBL4016 (Glutamate receptor ionotropic, AMPA 2)...\n"
     ]
    },
    {
     "name": "stderr",
     "output_type": "stream",
     "text": [
      "Processing CHEMBL4016: 812it [00:00, 831.90it/s]\n"
     ]
    },
    {
     "name": "stdout",
     "output_type": "stream",
     "text": [
      "Fetching data for target CHEMBL3503 (Glutamate receptor ionotropic, AMPA 2)...\n"
     ]
    },
    {
     "name": "stderr",
     "output_type": "stream",
     "text": [
      "Processing CHEMBL3503: 190it [00:00, 204.91it/s]\n"
     ]
    },
    {
     "name": "stdout",
     "output_type": "stream",
     "text": [
      "Fetching data for target CHEMBL3595 (Glutamate receptor ionotropic, AMPA 3)...\n"
     ]
    },
    {
     "name": "stderr",
     "output_type": "stream",
     "text": [
      "Processing CHEMBL3595: 89it [00:00, 94.22it/s]\n"
     ]
    },
    {
     "name": "stdout",
     "output_type": "stream",
     "text": [
      "Fetching data for target CHEMBL3504 (Glutamate receptor ionotropic, AMPA 3)...\n"
     ]
    },
    {
     "name": "stderr",
     "output_type": "stream",
     "text": [
      "Processing CHEMBL3504: 128it [00:00, 142.72it/s]\n"
     ]
    },
    {
     "name": "stdout",
     "output_type": "stream",
     "text": [
      "Fetching data for target CHEMBL253 (Cannabinoid CB2 receptor)...\n"
     ]
    },
    {
     "name": "stderr",
     "output_type": "stream",
     "text": [
      "Processing CHEMBL253: 15955it [00:02, 7695.76it/s]\n"
     ]
    },
    {
     "name": "stdout",
     "output_type": "stream",
     "text": [
      "Fetching data for target CHEMBL2470 (Cannabinoid CB2 receptor)...\n"
     ]
    },
    {
     "name": "stderr",
     "output_type": "stream",
     "text": [
      "Processing CHEMBL2470: 629it [00:00, 680.30it/s]\n"
     ]
    },
    {
     "name": "stdout",
     "output_type": "stream",
     "text": [
      "Fetching data for target CHEMBL5373 (Cannabinoid CB2 receptor)...\n"
     ]
    },
    {
     "name": "stderr",
     "output_type": "stream",
     "text": [
      "Processing CHEMBL5373: 735it [00:00, 765.83it/s]\n"
     ]
    },
    {
     "name": "stdout",
     "output_type": "stream",
     "text": [
      "Fetching data for target CHEMBL4072 (Cathepsin B)...\n"
     ]
    },
    {
     "name": "stderr",
     "output_type": "stream",
     "text": [
      "Processing CHEMBL4072: 3108it [00:01, 2617.86it/s]\n"
     ]
    },
    {
     "name": "stdout",
     "output_type": "stream",
     "text": [
      "Fetching data for target CHEMBL2323 (Cathepsin B)...\n"
     ]
    },
    {
     "name": "stderr",
     "output_type": "stream",
     "text": [
      "Processing CHEMBL2323: 264it [00:00, 277.75it/s]\n"
     ]
    },
    {
     "name": "stdout",
     "output_type": "stream",
     "text": [
      "Fetching data for target CHEMBL2602 (Cathepsin B)...\n"
     ]
    },
    {
     "name": "stderr",
     "output_type": "stream",
     "text": [
      "Processing CHEMBL2602: 48it [00:00, 53.37it/s]\n"
     ]
    },
    {
     "name": "stdout",
     "output_type": "stream",
     "text": [
      "Fetching data for target CHEMBL5187 (Cathepsin B)...\n"
     ]
    },
    {
     "name": "stderr",
     "output_type": "stream",
     "text": [
      "Processing CHEMBL5187: 12it [00:00, 13.01it/s]\n"
     ]
    },
    {
     "name": "stdout",
     "output_type": "stream",
     "text": [
      "Fetching data for target CHEMBL3232689 (Cathepsin B)...\n"
     ]
    },
    {
     "name": "stderr",
     "output_type": "stream",
     "text": [
      "Processing CHEMBL3232689: 109it [00:00, 123.29it/s]\n"
     ]
    },
    {
     "name": "stdout",
     "output_type": "stream",
     "text": [
      "Fetching data for target CHEMBL4822 (Beta-secretase 1)...\n"
     ]
    },
    {
     "name": "stderr",
     "output_type": "stream",
     "text": [
      "Processing CHEMBL4822: 15164it [00:01, 8293.59it/s] \n"
     ]
    },
    {
     "name": "stdout",
     "output_type": "stream",
     "text": [
      "Fetching data for target CHEMBL4593 (Beta-secretase 1)...\n"
     ]
    },
    {
     "name": "stderr",
     "output_type": "stream",
     "text": [
      "Processing CHEMBL4593: 71it [00:00, 79.46it/s]\n"
     ]
    },
    {
     "name": "stdout",
     "output_type": "stream",
     "text": [
      "Fetching data for target CHEMBL3259473 (Beta-secretase 1)...\n"
     ]
    },
    {
     "name": "stderr",
     "output_type": "stream",
     "text": [
      "Processing CHEMBL3259473: 5it [00:00,  5.25it/s]\n"
     ]
    },
    {
     "name": "stdout",
     "output_type": "stream",
     "text": [
      "Fetching data for target CHEMBL3297642 (Beta-secretase 1)...\n"
     ]
    },
    {
     "name": "stderr",
     "output_type": "stream",
     "text": [
      "Processing CHEMBL3297642: 3it [00:00,  3.41it/s]\n"
     ]
    },
    {
     "name": "stdout",
     "output_type": "stream",
     "text": [
      "Fetching data for target CHEMBL2094118 (Adrenergic receptor beta)...\n"
     ]
    },
    {
     "name": "stderr",
     "output_type": "stream",
     "text": [
      "Processing CHEMBL2094118: 1062it [00:00, 1120.57it/s]\n"
     ]
    },
    {
     "name": "stdout",
     "output_type": "stream",
     "text": [
      "Fetching data for target CHEMBL2095166 (Adrenergic receptor beta)...\n"
     ]
    },
    {
     "name": "stderr",
     "output_type": "stream",
     "text": [
      "Processing CHEMBL2095166: 649it [00:00, 713.44it/s]\n"
     ]
    },
    {
     "name": "stdout",
     "output_type": "stream",
     "text": [
      "Fetching data for target CHEMBL2097165 (Dopamine receptors; D3 & D4)...\n"
     ]
    },
    {
     "name": "stderr",
     "output_type": "stream",
     "text": [
      "Processing CHEMBL2097165: 301it [00:00, 328.42it/s]\n"
     ]
    },
    {
     "name": "stdout",
     "output_type": "stream",
     "text": [
      "Fetching data for target CHEMBL2391 (11-beta-hydroxysteroid dehydrogenase 1)...\n"
     ]
    },
    {
     "name": "stderr",
     "output_type": "stream",
     "text": [
      "Processing CHEMBL2391: 193it [00:00, 206.78it/s]\n"
     ]
    },
    {
     "name": "stdout",
     "output_type": "stream",
     "text": [
      "Fetching data for target CHEMBL4235 (11-beta-hydroxysteroid dehydrogenase 1)...\n"
     ]
    },
    {
     "name": "stderr",
     "output_type": "stream",
     "text": [
      "Processing CHEMBL4235: 5676it [00:01, 4386.78it/s]\n"
     ]
    },
    {
     "name": "stdout",
     "output_type": "stream",
     "text": [
      "Fetching data for target CHEMBL3910 (11-beta-hydroxysteroid dehydrogenase 1)...\n"
     ]
    },
    {
     "name": "stderr",
     "output_type": "stream",
     "text": [
      "Processing CHEMBL3910: 1482it [00:01, 1446.41it/s]\n"
     ]
    },
    {
     "name": "stdout",
     "output_type": "stream",
     "text": [
      "Fetching data for target CHEMBL2039 (Monoamine oxidase B)...\n"
     ]
    },
    {
     "name": "stderr",
     "output_type": "stream",
     "text": [
      "Processing CHEMBL2039: 8068it [00:01, 5791.63it/s]\n"
     ]
    },
    {
     "name": "stdout",
     "output_type": "stream",
     "text": [
      "Fetching data for target CHEMBL3050 (Monoamine oxidase B)...\n"
     ]
    },
    {
     "name": "stderr",
     "output_type": "stream",
     "text": [
      "Processing CHEMBL3050: 71it [00:00, 81.15it/s]\n"
     ]
    },
    {
     "name": "stdout",
     "output_type": "stream",
     "text": [
      "Fetching data for target CHEMBL2756 (Monoamine oxidase B)...\n"
     ]
    },
    {
     "name": "stderr",
     "output_type": "stream",
     "text": [
      "Processing CHEMBL2756: 776it [00:00, 793.42it/s]\n"
     ]
    },
    {
     "name": "stdout",
     "output_type": "stream",
     "text": [
      "Fetching data for target CHEMBL2993 (Monoamine oxidase B)...\n"
     ]
    },
    {
     "name": "stderr",
     "output_type": "stream",
     "text": [
      "Processing CHEMBL2993: 2087it [00:01, 2007.98it/s]\n"
     ]
    },
    {
     "name": "stdout",
     "output_type": "stream",
     "text": [
      "Fetching data for target CHEMBL1873 (Tissue-type plasminogen activator)...\n"
     ]
    },
    {
     "name": "stderr",
     "output_type": "stream",
     "text": [
      "Processing CHEMBL1873: 937it [00:00, 963.01it/s]\n"
     ]
    },
    {
     "name": "stdout",
     "output_type": "stream",
     "text": [
      "Fetching data for target CHEMBL3259492 (Tissue-type plasminogen activator)...\n"
     ]
    },
    {
     "name": "stderr",
     "output_type": "stream",
     "text": [
      "Processing CHEMBL3259492: 12it [00:00, 13.30it/s]\n"
     ]
    },
    {
     "name": "stdout",
     "output_type": "stream",
     "text": [
      "Fetching data for target CHEMBL289 (Cytochrome P450 2D6)...\n"
     ]
    },
    {
     "name": "stderr",
     "output_type": "stream",
     "text": [
      "Processing CHEMBL289: 19424it [00:03, 6100.86it/s] \n"
     ]
    },
    {
     "name": "stdout",
     "output_type": "stream",
     "text": [
      "Fetching data for target CHEMBL402 (HMG-CoA reductase)...\n"
     ]
    },
    {
     "name": "stderr",
     "output_type": "stream",
     "text": [
      "Processing CHEMBL402: 650it [00:01, 500.87it/s]\n"
     ]
    },
    {
     "name": "stdout",
     "output_type": "stream",
     "text": [
      "Fetching data for target CHEMBL3247 (HMG-CoA reductase)...\n"
     ]
    },
    {
     "name": "stderr",
     "output_type": "stream",
     "text": [
      "Processing CHEMBL3247: 1646it [00:01, 1589.50it/s]\n"
     ]
    },
    {
     "name": "stdout",
     "output_type": "stream",
     "text": [
      "Fetching data for target CHEMBL2764 (HMG-CoA reductase)...\n"
     ]
    },
    {
     "name": "stderr",
     "output_type": "stream",
     "text": [
      "Processing CHEMBL2764: 21it [00:00, 22.61it/s]\n"
     ]
    },
    {
     "name": "stdout",
     "output_type": "stream",
     "text": [
      "Fetching data for target CHEMBL4804261 (HMG-CoA reductase)...\n"
     ]
    },
    {
     "name": "stderr",
     "output_type": "stream",
     "text": [
      "Processing CHEMBL4804261: 0it [00:00, ?it/s]\n"
     ]
    },
    {
     "name": "stdout",
     "output_type": "stream",
     "text": [
      "Fetching data for target CHEMBL2059 (TNF-beta)...\n"
     ]
    },
    {
     "name": "stderr",
     "output_type": "stream",
     "text": [
      "Processing CHEMBL2059: 10it [00:00, 10.99it/s]\n"
     ]
    },
    {
     "name": "stdout",
     "output_type": "stream",
     "text": [
      "Fetching data for target CHEMBL210 (Beta-2 adrenergic receptor)...\n"
     ]
    },
    {
     "name": "stderr",
     "output_type": "stream",
     "text": [
      "Processing CHEMBL210: 10053it [00:01, 5827.13it/s]\n"
     ]
    },
    {
     "name": "stdout",
     "output_type": "stream",
     "text": [
      "Fetching data for target CHEMBL3373 (Beta-2 adrenergic receptor)...\n"
     ]
    },
    {
     "name": "stderr",
     "output_type": "stream",
     "text": [
      "Processing CHEMBL3373: 178it [00:00, 192.02it/s]\n"
     ]
    },
    {
     "name": "stdout",
     "output_type": "stream",
     "text": [
      "Fetching data for target CHEMBL3707 (Beta-2 adrenergic receptor)...\n"
     ]
    },
    {
     "name": "stderr",
     "output_type": "stream",
     "text": [
      "Processing CHEMBL3707: 42it [00:00, 49.22it/s]\n"
     ]
    },
    {
     "name": "stdout",
     "output_type": "stream",
     "text": [
      "Fetching data for target CHEMBL2289 (Beta-2 adrenergic receptor)...\n"
     ]
    },
    {
     "name": "stderr",
     "output_type": "stream",
     "text": [
      "Processing CHEMBL2289: 248it [00:00, 262.39it/s]\n"
     ]
    },
    {
     "name": "stdout",
     "output_type": "stream",
     "text": [
      "Fetching data for target CHEMBL3754 (Beta-2 adrenergic receptor)...\n"
     ]
    },
    {
     "name": "stderr",
     "output_type": "stream",
     "text": [
      "Processing CHEMBL3754: 134it [00:00, 145.65it/s]\n"
     ]
    },
    {
     "name": "stdout",
     "output_type": "stream",
     "text": [
      "Fetching data for target CHEMBL3801 (Beta-2 adrenergic receptor)...\n"
     ]
    },
    {
     "name": "stderr",
     "output_type": "stream",
     "text": [
      "Processing CHEMBL3801: 19it [00:00, 21.75it/s]\n"
     ]
    },
    {
     "name": "stdout",
     "output_type": "stream",
     "text": [
      "Fetching data for target CHEMBL5414 (Beta-2 adrenergic receptor)...\n"
     ]
    },
    {
     "name": "stderr",
     "output_type": "stream",
     "text": [
      "Processing CHEMBL5414: 1286it [00:00, 1400.21it/s]\n"
     ]
    },
    {
     "name": "stdout",
     "output_type": "stream",
     "text": [
      "Fetching data for target CHEMBL5943 (Beta-2 adrenergic receptor)...\n"
     ]
    },
    {
     "name": "stderr",
     "output_type": "stream",
     "text": [
      "Processing CHEMBL5943: 24it [00:00, 28.25it/s]\n"
     ]
    },
    {
     "name": "stdout",
     "output_type": "stream",
     "text": [
      "Fetching data for target CHEMBL3474 (Phospholipase A2 group IIA)...\n"
     ]
    },
    {
     "name": "stderr",
     "output_type": "stream",
     "text": [
      "Processing CHEMBL3474: 998it [00:00, 1114.77it/s]\n"
     ]
    },
    {
     "name": "stdout",
     "output_type": "stream",
     "text": [
      "Fetching data for target CHEMBL3686 (Phospholipase A2 group IIA)...\n"
     ]
    },
    {
     "name": "stderr",
     "output_type": "stream",
     "text": [
      "Processing CHEMBL3686: 44it [00:00, 52.56it/s]\n"
     ]
    },
    {
     "name": "stdout",
     "output_type": "stream",
     "text": [
      "Fetching data for target CHEMBL1906 (Serine/threonine-protein kinase RAF)...\n"
     ]
    },
    {
     "name": "stderr",
     "output_type": "stream",
     "text": [
      "Processing CHEMBL1906: 4095it [00:01, 3059.87it/s]\n"
     ]
    },
    {
     "name": "stdout",
     "output_type": "stream",
     "text": [
      "Fetching data for target CHEMBL2094135 (Gamma-secretase)...\n"
     ]
    },
    {
     "name": "stderr",
     "output_type": "stream",
     "text": [
      "Processing CHEMBL2094135: 4401it [00:01, 3932.50it/s]\n"
     ]
    },
    {
     "name": "stdout",
     "output_type": "stream",
     "text": [
      "Fetching data for target CHEMBL206 (Estrogen receptor alpha)...\n"
     ]
    },
    {
     "name": "stderr",
     "output_type": "stream",
     "text": [
      "Processing CHEMBL206: 14571it [00:01, 8321.88it/s] \n"
     ]
    },
    {
     "name": "stdout",
     "output_type": "stream",
     "text": [
      "Fetching data for target CHEMBL3065 (Estrogen receptor alpha)...\n"
     ]
    },
    {
     "name": "stderr",
     "output_type": "stream",
     "text": [
      "Processing CHEMBL3065: 36it [00:00, 42.66it/s]\n"
     ]
    },
    {
     "name": "stdout",
     "output_type": "stream",
     "text": [
      "Fetching data for target CHEMBL2724 (Estrogen receptor alpha)...\n"
     ]
    },
    {
     "name": "stderr",
     "output_type": "stream",
     "text": [
      "Processing CHEMBL2724: 145it [00:00, 180.02it/s]\n"
     ]
    },
    {
     "name": "stdout",
     "output_type": "stream",
     "text": [
      "Fetching data for target CHEMBL2930 (Estrogen receptor alpha)...\n"
     ]
    },
    {
     "name": "stderr",
     "output_type": "stream",
     "text": [
      "Processing CHEMBL2930: 19it [00:00, 21.81it/s]\n"
     ]
    },
    {
     "name": "stdout",
     "output_type": "stream",
     "text": [
      "Fetching data for target CHEMBL242 (Estrogen receptor beta)...\n"
     ]
    },
    {
     "name": "stderr",
     "output_type": "stream",
     "text": [
      "Processing CHEMBL242: 7232it [00:01, 5453.60it/s]\n"
     ]
    },
    {
     "name": "stdout",
     "output_type": "stream",
     "text": [
      "Fetching data for target CHEMBL3021 (Estrogen receptor beta)...\n"
     ]
    },
    {
     "name": "stderr",
     "output_type": "stream",
     "text": [
      "Processing CHEMBL3021: 72it [00:00, 82.11it/s]\n"
     ]
    },
    {
     "name": "stdout",
     "output_type": "stream",
     "text": [
      "Fetching data for target CHEMBL2404 (Estrogen receptor beta)...\n"
     ]
    },
    {
     "name": "stderr",
     "output_type": "stream",
     "text": [
      "Processing CHEMBL2404: 11it [00:00, 11.64it/s]\n"
     ]
    },
    {
     "name": "stdout",
     "output_type": "stream",
     "text": [
      "Fetching data for target CHEMBL2995 (Estrogen receptor beta)...\n"
     ]
    },
    {
     "name": "stderr",
     "output_type": "stream",
     "text": [
      "Processing CHEMBL2995: 35it [00:00, 41.78it/s]\n"
     ]
    },
    {
     "name": "stdout",
     "output_type": "stream",
     "text": [
      "Fetching data for target CHEMBL1945 (Melatonin receptor 1A)...\n"
     ]
    },
    {
     "name": "stderr",
     "output_type": "stream",
     "text": [
      "Processing CHEMBL1945: 2400it [00:01, 2317.69it/s]\n"
     ]
    },
    {
     "name": "stdout",
     "output_type": "stream",
     "text": [
      "Fetching data for target CHEMBL2094268 (Melatonin receptor)...\n"
     ]
    },
    {
     "name": "stderr",
     "output_type": "stream",
     "text": [
      "Processing CHEMBL2094268: 896it [00:00, 1060.16it/s]\n"
     ]
    },
    {
     "name": "stdout",
     "output_type": "stream",
     "text": [
      "Fetching data for target CHEMBL2095154 (Melatonin receptor)...\n"
     ]
    },
    {
     "name": "stderr",
     "output_type": "stream",
     "text": [
      "Processing CHEMBL2095154: 565it [00:00, 655.02it/s]\n"
     ]
    },
    {
     "name": "stdout",
     "output_type": "stream",
     "text": [
      "Fetching data for target CHEMBL215 (Arachidonate 5-lipoxygenase)...\n"
     ]
    },
    {
     "name": "stderr",
     "output_type": "stream",
     "text": [
      "Processing CHEMBL215: 6234it [00:01, 5260.50it/s]\n"
     ]
    },
    {
     "name": "stdout",
     "output_type": "stream",
     "text": [
      "Fetching data for target CHEMBL312 (Arachidonate 5-lipoxygenase)...\n"
     ]
    },
    {
     "name": "stderr",
     "output_type": "stream",
     "text": [
      "Processing CHEMBL312: 2790it [00:01, 2709.23it/s]\n"
     ]
    },
    {
     "name": "stdout",
     "output_type": "stream",
     "text": [
      "Fetching data for target CHEMBL5211 (Arachidonate 5-lipoxygenase)...\n"
     ]
    },
    {
     "name": "stderr",
     "output_type": "stream",
     "text": [
      "Processing CHEMBL5211: 116it [00:00, 146.01it/s]\n"
     ]
    },
    {
     "name": "stdout",
     "output_type": "stream",
     "text": [
      "Fetching data for target CHEMBL2980 (Arachidonate 5-lipoxygenase)...\n"
     ]
    },
    {
     "name": "stderr",
     "output_type": "stream",
     "text": [
      "Processing CHEMBL2980: 257it [00:00, 312.79it/s]\n"
     ]
    },
    {
     "name": "stdout",
     "output_type": "stream",
     "text": [
      "Fetching data for target CHEMBL3879862 (Arachidonate 5-lipoxygenase)...\n"
     ]
    },
    {
     "name": "stderr",
     "output_type": "stream",
     "text": [
      "Processing CHEMBL3879862: 2it [00:00,  2.29it/s]\n"
     ]
    },
    {
     "name": "stdout",
     "output_type": "stream",
     "text": [
      "Fetching data for target CHEMBL5303560 (Arachidonate 5-lipoxygenase)...\n"
     ]
    },
    {
     "name": "stderr",
     "output_type": "stream",
     "text": [
      "Processing CHEMBL5303560: 0it [00:00, ?it/s]\n"
     ]
    },
    {
     "name": "stdout",
     "output_type": "stream",
     "text": [
      "Fetching data for target CHEMBL2111445 (Muscarinic acetylcholine receptor M2 and M4)...\n"
     ]
    },
    {
     "name": "stderr",
     "output_type": "stream",
     "text": [
      "Processing CHEMBL2111445: 176it [00:00, 212.30it/s]\n"
     ]
    },
    {
     "name": "stdout",
     "output_type": "stream",
     "text": [
      "Fetching data for target CHEMBL2111352 (Muscarinic acetylcholine receptor M2 and M5)...\n"
     ]
    },
    {
     "name": "stderr",
     "output_type": "stream",
     "text": [
      "Processing CHEMBL2111352: 114it [00:00, 130.53it/s]\n"
     ]
    },
    {
     "name": "stdout",
     "output_type": "stream",
     "text": [
      "Fetching data for target CHEMBL2179 (Beta-glucocerebrosidase)...\n"
     ]
    },
    {
     "name": "stderr",
     "output_type": "stream",
     "text": [
      "Processing CHEMBL2179: 14305it [00:02, 5844.35it/s]\n"
     ]
    },
    {
     "name": "stdout",
     "output_type": "stream",
     "text": [
      "Fetching data for target CHEMBL2278 (Beta-glucocerebrosidase)...\n"
     ]
    },
    {
     "name": "stderr",
     "output_type": "stream",
     "text": [
      "Processing CHEMBL2278: 19it [00:00, 23.78it/s]\n"
     ]
    },
    {
     "name": "stdout",
     "output_type": "stream",
     "text": [
      "Fetching data for target CHEMBL3167 (Serum paraoxonase/arylesterase 1)...\n"
     ]
    },
    {
     "name": "stderr",
     "output_type": "stream",
     "text": [
      "Processing CHEMBL3167: 84it [00:00, 91.53it/s]\n"
     ]
    },
    {
     "name": "stdout",
     "output_type": "stream",
     "text": [
      "Fetching data for target CHEMBL1808 (Angiotensin-converting enzyme)...\n"
     ]
    },
    {
     "name": "stderr",
     "output_type": "stream",
     "text": [
      "Processing CHEMBL1808: 1417it [00:01, 1378.04it/s]\n"
     ]
    },
    {
     "name": "stdout",
     "output_type": "stream",
     "text": [
      "Fetching data for target CHEMBL4074 (Angiotensin-converting enzyme)...\n"
     ]
    },
    {
     "name": "stderr",
     "output_type": "stream",
     "text": [
      "Processing CHEMBL4074: 1060it [00:00, 1143.60it/s]\n"
     ]
    },
    {
     "name": "stdout",
     "output_type": "stream",
     "text": [
      "Fetching data for target CHEMBL2994 (Angiotensin-converting enzyme)...\n"
     ]
    },
    {
     "name": "stderr",
     "output_type": "stream",
     "text": [
      "Processing CHEMBL2994: 89it [00:00, 102.03it/s]\n"
     ]
    },
    {
     "name": "stdout",
     "output_type": "stream",
     "text": [
      "Fetching data for target CHEMBL2625 (Angiotensin-converting enzyme)...\n"
     ]
    },
    {
     "name": "stderr",
     "output_type": "stream",
     "text": [
      "Processing CHEMBL2625: 1056it [00:00, 1194.91it/s]\n"
     ]
    },
    {
     "name": "stdout",
     "output_type": "stream",
     "text": [
      "Fetching data for target CHEMBL3432 (Angiotensin-converting enzyme)...\n"
     ]
    },
    {
     "name": "stderr",
     "output_type": "stream",
     "text": [
      "Processing CHEMBL3432: 1it [00:00,  1.29it/s]\n"
     ]
    },
    {
     "name": "stdout",
     "output_type": "stream",
     "text": [
      "Fetching data for target CHEMBL2096989 (Angiotensin-converting enzyme)...\n"
     ]
    },
    {
     "name": "stderr",
     "output_type": "stream",
     "text": [
      "Processing CHEMBL2096989: 67it [00:00, 79.05it/s]\n"
     ]
    },
    {
     "name": "stdout",
     "output_type": "stream",
     "text": [
      "Fetching data for target CHEMBL4523113 (Angiotensin-converting enzyme)...\n"
     ]
    },
    {
     "name": "stderr",
     "output_type": "stream",
     "text": [
      "Processing CHEMBL4523113: 2it [00:00,  2.15it/s]\n"
     ]
    },
    {
     "name": "stdout",
     "output_type": "stream",
     "text": [
      "Fetching data for target CHEMBL2093868 (Dopamine receptor)...\n"
     ]
    },
    {
     "name": "stderr",
     "output_type": "stream",
     "text": [
      "Processing CHEMBL2093868: 1114it [00:00, 1203.57it/s]\n"
     ]
    },
    {
     "name": "stdout",
     "output_type": "stream",
     "text": [
      "Fetching data for target CHEMBL2096905 (Dopamine receptor)...\n"
     ]
    },
    {
     "name": "stderr",
     "output_type": "stream",
     "text": [
      "Processing CHEMBL2096905: 86it [00:00, 101.98it/s]\n"
     ]
    },
    {
     "name": "stdout",
     "output_type": "stream",
     "text": [
      "Fetching data for target CHEMBL2096970 (Dopamine receptor)...\n"
     ]
    },
    {
     "name": "stderr",
     "output_type": "stream",
     "text": [
      "Processing CHEMBL2096970: 254it [00:00, 314.56it/s]\n"
     ]
    },
    {
     "name": "stdout",
     "output_type": "stream",
     "text": [
      "Fetching data for target CHEMBL2111359 (Dopamine receptor)...\n"
     ]
    },
    {
     "name": "stderr",
     "output_type": "stream",
     "text": [
      "Processing CHEMBL2111359: 59it [00:00, 66.48it/s]\n"
     ]
    },
    {
     "name": "stdout",
     "output_type": "stream",
     "text": [
      "Fetching data for target CHEMBL2111463 (GABA-B receptor)...\n"
     ]
    },
    {
     "name": "stderr",
     "output_type": "stream",
     "text": [
      "Processing CHEMBL2111463: 241it [00:00, 278.54it/s]\n"
     ]
    },
    {
     "name": "stdout",
     "output_type": "stream",
     "text": [
      "Fetching data for target CHEMBL1907609 (Muscarinic acetylcholine receptor)...\n"
     ]
    },
    {
     "name": "stderr",
     "output_type": "stream",
     "text": [
      "Processing CHEMBL1907609: 3689it [00:01, 3320.87it/s]\n"
     ]
    },
    {
     "name": "stdout",
     "output_type": "stream",
     "text": [
      "Fetching data for target CHEMBL2094109 (Muscarinic acetylcholine receptor)...\n"
     ]
    },
    {
     "name": "stderr",
     "output_type": "stream",
     "text": [
      "Processing CHEMBL2094109: 1077it [00:00, 1146.36it/s]\n"
     ]
    },
    {
     "name": "stdout",
     "output_type": "stream",
     "text": [
      "Fetching data for target CHEMBL2097162 (Muscarinic acetylcholine receptor)...\n"
     ]
    },
    {
     "name": "stderr",
     "output_type": "stream",
     "text": [
      "Processing CHEMBL2097162: 85it [00:00, 92.74it/s]\n"
     ]
    },
    {
     "name": "stdout",
     "output_type": "stream",
     "text": [
      "Fetching data for target CHEMBL4295543 (Muscarinic acetylcholine receptor)...\n"
     ]
    },
    {
     "name": "stderr",
     "output_type": "stream",
     "text": [
      "Processing CHEMBL4295543: 1it [00:00,  1.18it/s]\n"
     ]
    },
    {
     "name": "stdout",
     "output_type": "stream",
     "text": [
      "Fetching data for target CHEMBL5465186 (Muscarinic acetylcholine receptor)...\n"
     ]
    },
    {
     "name": "stderr",
     "output_type": "stream",
     "text": [
      "Processing CHEMBL5465186: 1it [00:00,  1.20it/s]\n"
     ]
    },
    {
     "name": "stdout",
     "output_type": "stream",
     "text": [
      "Fetching data for target CHEMBL3522 (Cytochrome P450 17A1)...\n"
     ]
    },
    {
     "name": "stderr",
     "output_type": "stream",
     "text": [
      "Processing CHEMBL3522: 2208it [00:01, 2033.18it/s]\n"
     ]
    },
    {
     "name": "stdout",
     "output_type": "stream",
     "text": [
      "Fetching data for target CHEMBL4430 (Cytochrome P450 17A1)...\n"
     ]
    },
    {
     "name": "stderr",
     "output_type": "stream",
     "text": [
      "Processing CHEMBL4430: 503it [00:00, 576.11it/s]\n"
     ]
    },
    {
     "name": "stdout",
     "output_type": "stream",
     "text": [
      "Fetching data for target CHEMBL2301 (FK506 binding protein 12)...\n"
     ]
    },
    {
     "name": "stderr",
     "output_type": "stream",
     "text": [
      "Processing CHEMBL2301: 14it [00:00, 16.73it/s]\n"
     ]
    },
    {
     "name": "stdout",
     "output_type": "stream",
     "text": [
      "Fetching data for target CHEMBL308 (Cyclin-dependent kinase 1)...\n"
     ]
    },
    {
     "name": "stderr",
     "output_type": "stream",
     "text": [
      "Processing CHEMBL308: 3833it [00:01, 2345.57it/s]\n"
     ]
    },
    {
     "name": "stdout",
     "output_type": "stream",
     "text": [
      "Fetching data for target CHEMBL4084 (Cyclin-dependent kinase 1)...\n"
     ]
    },
    {
     "name": "stderr",
     "output_type": "stream",
     "text": [
      "Processing CHEMBL4084: 7it [00:00,  8.61it/s]\n"
     ]
    },
    {
     "name": "stdout",
     "output_type": "stream",
     "text": [
      "Fetching data for target CHEMBL2487 (Amyloid-beta A4 protein)...\n"
     ]
    },
    {
     "name": "stderr",
     "output_type": "stream",
     "text": [
      "Processing CHEMBL2487: 6983it [00:01, 5267.94it/s]\n"
     ]
    },
    {
     "name": "stdout",
     "output_type": "stream",
     "text": [
      "Fetching data for target CHEMBL3638365 (Amyloid-beta A4 protein)...\n"
     ]
    },
    {
     "name": "stderr",
     "output_type": "stream",
     "text": [
      "Processing CHEMBL3638365: 43it [00:00, 47.08it/s]\n"
     ]
    },
    {
     "name": "stdout",
     "output_type": "stream",
     "text": [
      "Fetching data for target CHEMBL4523942 (Amyloid-beta A4 protein)...\n"
     ]
    },
    {
     "name": "stderr",
     "output_type": "stream",
     "text": [
      "Processing CHEMBL4523942: 0it [00:00, ?it/s]\n"
     ]
    },
    {
     "name": "stdout",
     "output_type": "stream",
     "text": [
      "Fetching data for target CHEMBL1782 (Farnesyl diphosphate synthase)...\n"
     ]
    },
    {
     "name": "stderr",
     "output_type": "stream",
     "text": [
      "Processing CHEMBL1782: 1107it [00:00, 1209.08it/s]\n"
     ]
    },
    {
     "name": "stdout",
     "output_type": "stream",
     "text": [
      "Fetching data for target CHEMBL4752 (Farnesyl diphosphate synthase)...\n"
     ]
    },
    {
     "name": "stderr",
     "output_type": "stream",
     "text": [
      "Processing CHEMBL4752: 64it [00:00, 74.29it/s]\n"
     ]
    },
    {
     "name": "stdout",
     "output_type": "stream",
     "text": [
      "Fetching data for target CHEMBL5831 (Farnesyl diphosphate synthase)...\n"
     ]
    },
    {
     "name": "stderr",
     "output_type": "stream",
     "text": [
      "Processing CHEMBL5831: 69it [00:00, 82.70it/s]\n"
     ]
    },
    {
     "name": "stdout",
     "output_type": "stream",
     "text": [
      "Fetching data for target CHEMBL1800 (Corticotropin releasing factor receptor 1)...\n"
     ]
    },
    {
     "name": "stderr",
     "output_type": "stream",
     "text": [
      "Processing CHEMBL1800: 2859it [00:01, 2697.79it/s]\n"
     ]
    },
    {
     "name": "stdout",
     "output_type": "stream",
     "text": [
      "Fetching data for target CHEMBL2446 (Corticotropin releasing factor receptor 1)...\n"
     ]
    },
    {
     "name": "stderr",
     "output_type": "stream",
     "text": [
      "Processing CHEMBL2446: 121it [00:00, 148.65it/s]\n"
     ]
    },
    {
     "name": "stdout",
     "output_type": "stream",
     "text": [
      "Fetching data for target CHEMBL4649 (Corticotropin releasing factor receptor 1)...\n"
     ]
    },
    {
     "name": "stderr",
     "output_type": "stream",
     "text": [
      "Processing CHEMBL4649: 723it [00:00, 812.86it/s]\n"
     ]
    },
    {
     "name": "stdout",
     "output_type": "stream",
     "text": [
      "Fetching data for target CHEMBL1907600 (Cyclin-dependent kinase 5/CDK5 activator 1)...\n"
     ]
    },
    {
     "name": "stderr",
     "output_type": "stream",
     "text": [
      "Processing CHEMBL1907600: 3883it [00:01, 3329.53it/s]\n"
     ]
    },
    {
     "name": "stdout",
     "output_type": "stream",
     "text": [
      "Fetching data for target CHEMBL2095188 (Glycogen synthase kinase-3)...\n"
     ]
    },
    {
     "name": "stderr",
     "output_type": "stream",
     "text": [
      "Processing CHEMBL2095188: 757it [00:00, 830.72it/s]\n"
     ]
    },
    {
     "name": "stdout",
     "output_type": "stream",
     "text": [
      "Fetching data for target CHEMBL2311226 (Glycogen synthase kinase-3)...\n"
     ]
    },
    {
     "name": "stderr",
     "output_type": "stream",
     "text": [
      "Processing CHEMBL2311226: 6it [00:00,  6.80it/s]\n"
     ]
    },
    {
     "name": "stdout",
     "output_type": "stream",
     "text": [
      "Fetching data for target CHEMBL2366565 (Glycogen synthase kinase-3)...\n"
     ]
    },
    {
     "name": "stderr",
     "output_type": "stream",
     "text": [
      "Processing CHEMBL2366565: 860it [00:00, 991.79it/s]\n"
     ]
    },
    {
     "name": "stdout",
     "output_type": "stream",
     "text": [
      "Fetching data for target CHEMBL1907589 (Neuronal acetylcholine receptor; alpha4/beta2)...\n"
     ]
    },
    {
     "name": "stderr",
     "output_type": "stream",
     "text": [
      "Processing CHEMBL1907589: 3503it [00:01, 3419.52it/s]\n"
     ]
    },
    {
     "name": "stdout",
     "output_type": "stream",
     "text": [
      "Fetching data for target CHEMBL1907596 (Neuronal acetylcholine receptor; alpha4/beta2)...\n"
     ]
    },
    {
     "name": "stderr",
     "output_type": "stream",
     "text": [
      "Processing CHEMBL1907596: 3404it [00:01, 3270.73it/s]\n"
     ]
    },
    {
     "name": "stdout",
     "output_type": "stream",
     "text": [
      "Fetching data for target CHEMBL2492 (Neuronal acetylcholine receptor protein alpha-7 subunit)...\n"
     ]
    },
    {
     "name": "stderr",
     "output_type": "stream",
     "text": [
      "Processing CHEMBL2492: 2925it [00:00, 2955.69it/s]\n"
     ]
    },
    {
     "name": "stdout",
     "output_type": "stream",
     "text": [
      "Fetching data for target CHEMBL3365 (Neuronal acetylcholine receptor protein alpha-7 subunit)...\n"
     ]
    },
    {
     "name": "stderr",
     "output_type": "stream",
     "text": [
      "Processing CHEMBL3365: 27it [00:00, 31.23it/s]\n"
     ]
    },
    {
     "name": "stdout",
     "output_type": "stream",
     "text": [
      "Fetching data for target CHEMBL4980 (Neuronal acetylcholine receptor protein alpha-7 subunit)...\n"
     ]
    },
    {
     "name": "stderr",
     "output_type": "stream",
     "text": [
      "Processing CHEMBL4980: 2925it [00:00, 3132.00it/s]\n"
     ]
    },
    {
     "name": "stdout",
     "output_type": "stream",
     "text": [
      "Fetching data for target CHEMBL2374 (Gamma-secretase subunit PEN-2)...\n"
     ]
    },
    {
     "name": "stderr",
     "output_type": "stream",
     "text": [
      "Processing CHEMBL2374: 30it [00:00, 35.21it/s]\n"
     ]
    },
    {
     "name": "stdout",
     "output_type": "stream",
     "text": [
      "Fetching data for target CHEMBL1817 (Erythropoietin receptor)...\n"
     ]
    },
    {
     "name": "stderr",
     "output_type": "stream",
     "text": [
      "Processing CHEMBL1817: 83it [00:00, 96.12it/s]\n"
     ]
    },
    {
     "name": "stdout",
     "output_type": "stream",
     "text": [
      "Fetching data for target CHEMBL2215 (Purine nucleoside phosphorylase)...\n"
     ]
    },
    {
     "name": "stderr",
     "output_type": "stream",
     "text": [
      "Processing CHEMBL2215: 4it [00:00,  4.82it/s]\n"
     ]
    },
    {
     "name": "stdout",
     "output_type": "stream",
     "text": [
      "Fetching data for target CHEMBL4338 (Purine nucleoside phosphorylase)...\n"
     ]
    },
    {
     "name": "stderr",
     "output_type": "stream",
     "text": [
      "Processing CHEMBL4338: 769it [00:00, 845.00it/s]\n"
     ]
    },
    {
     "name": "stdout",
     "output_type": "stream",
     "text": [
      "Fetching data for target CHEMBL2935 (Purine nucleoside phosphorylase)...\n"
     ]
    },
    {
     "name": "stderr",
     "output_type": "stream",
     "text": [
      "Processing CHEMBL2935: 321it [00:00, 377.92it/s]\n"
     ]
    },
    {
     "name": "stdout",
     "output_type": "stream",
     "text": [
      "Fetching data for target CHEMBL4668 (Purine nucleoside phosphorylase)...\n"
     ]
    },
    {
     "name": "stderr",
     "output_type": "stream",
     "text": [
      "Processing CHEMBL4668: 1it [00:00,  1.17it/s]\n"
     ]
    },
    {
     "name": "stdout",
     "output_type": "stream",
     "text": [
      "Fetching data for target CHEMBL5648 (Purine nucleoside phosphorylase)...\n"
     ]
    },
    {
     "name": "stderr",
     "output_type": "stream",
     "text": [
      "Processing CHEMBL5648: 81it [00:00, 95.39it/s]\n"
     ]
    },
    {
     "name": "stdout",
     "output_type": "stream",
     "text": [
      "Fetching data for target CHEMBL1169594 (Purine nucleoside phosphorylase)...\n"
     ]
    },
    {
     "name": "stderr",
     "output_type": "stream",
     "text": [
      "Processing CHEMBL1169594: 42it [00:00, 53.24it/s]\n"
     ]
    },
    {
     "name": "stdout",
     "output_type": "stream",
     "text": [
      "Fetching data for target CHEMBL3751658 (Purine nucleoside phosphorylase)...\n"
     ]
    },
    {
     "name": "stderr",
     "output_type": "stream",
     "text": [
      "Processing CHEMBL3751658: 6it [00:00,  7.33it/s]\n"
     ]
    },
    {
     "name": "stdout",
     "output_type": "stream",
     "text": [
      "Fetching data for target CHEMBL4523389 (Purine nucleoside phosphorylase)...\n"
     ]
    },
    {
     "name": "stderr",
     "output_type": "stream",
     "text": [
      "Processing CHEMBL4523389: 3it [00:00,  3.74it/s]\n"
     ]
    },
    {
     "name": "stdout",
     "output_type": "stream",
     "text": [
      "Fetching data for target CHEMBL274 (C-C chemokine receptor type 5)...\n"
     ]
    },
    {
     "name": "stderr",
     "output_type": "stream",
     "text": [
      "Processing CHEMBL274: 3645it [00:01, 2382.83it/s]\n"
     ]
    },
    {
     "name": "stdout",
     "output_type": "stream",
     "text": [
      "Fetching data for target CHEMBL3676 (C-C chemokine receptor type 5)...\n"
     ]
    },
    {
     "name": "stderr",
     "output_type": "stream",
     "text": [
      "Processing CHEMBL3676: 69it [00:00, 77.89it/s]\n"
     ]
    },
    {
     "name": "stdout",
     "output_type": "stream",
     "text": [
      "Fetching data for target CHEMBL1075263 (C-C chemokine receptor type 5)...\n"
     ]
    },
    {
     "name": "stderr",
     "output_type": "stream",
     "text": [
      "Processing CHEMBL1075263: 19it [00:00, 22.52it/s]\n"
     ]
    },
    {
     "name": "stdout",
     "output_type": "stream",
     "text": [
      "Fetching data for target CHEMBL1795146 (C-C chemokine receptor type 5)...\n"
     ]
    },
    {
     "name": "stderr",
     "output_type": "stream",
     "text": [
      "Processing CHEMBL1795146: 1it [00:00,  1.26it/s]\n"
     ]
    },
    {
     "name": "stdout",
     "output_type": "stream",
     "text": [
      "Fetching data for target CHEMBL1795147 (C-C chemokine receptor type 5)...\n"
     ]
    },
    {
     "name": "stderr",
     "output_type": "stream",
     "text": [
      "Processing CHEMBL1795147: 1it [00:00,  1.23it/s]\n"
     ]
    },
    {
     "name": "stdout",
     "output_type": "stream",
     "text": [
      "Fetching data for target CHEMBL3217397 (C-C chemokine receptor type 5)...\n"
     ]
    },
    {
     "name": "stderr",
     "output_type": "stream",
     "text": [
      "Processing CHEMBL3217397: 11it [00:00, 13.49it/s]\n"
     ]
    },
    {
     "name": "stdout",
     "output_type": "stream",
     "text": [
      "Fetching data for target CHEMBL3473 (C-C chemokine receptor type 3)...\n"
     ]
    },
    {
     "name": "stderr",
     "output_type": "stream",
     "text": [
      "Processing CHEMBL3473: 1557it [00:00, 1748.42it/s]\n"
     ]
    },
    {
     "name": "stdout",
     "output_type": "stream",
     "text": [
      "Fetching data for target CHEMBL3406 (C-C chemokine receptor type 3)...\n"
     ]
    },
    {
     "name": "stderr",
     "output_type": "stream",
     "text": [
      "Processing CHEMBL3406: 44it [00:00, 53.65it/s]\n"
     ]
    },
    {
     "name": "stdout",
     "output_type": "stream",
     "text": [
      "Fetching data for target CHEMBL3928 (C-C chemokine receptor type 3)...\n"
     ]
    },
    {
     "name": "stderr",
     "output_type": "stream",
     "text": [
      "Processing CHEMBL3928: 34it [00:00, 43.43it/s]\n"
     ]
    },
    {
     "name": "stdout",
     "output_type": "stream",
     "text": [
      "Fetching data for target CHEMBL5176 (C-C chemokine receptor type 3)...\n"
     ]
    },
    {
     "name": "stderr",
     "output_type": "stream",
     "text": [
      "Processing CHEMBL5176: 1it [00:00,  1.26it/s]\n"
     ]
    },
    {
     "name": "stdout",
     "output_type": "stream",
     "text": [
      "Fetching data for target CHEMBL1075262 (C-C chemokine receptor type 3)...\n"
     ]
    },
    {
     "name": "stderr",
     "output_type": "stream",
     "text": [
      "Processing CHEMBL1075262: 1it [00:00,  1.25it/s]\n"
     ]
    },
    {
     "name": "stdout",
     "output_type": "stream",
     "text": [
      "Fetching data for target CHEMBL3286 (Urokinase-type plasminogen activator)...\n"
     ]
    },
    {
     "name": "stderr",
     "output_type": "stream",
     "text": [
      "Processing CHEMBL3286: 1910it [00:01, 1586.85it/s]\n"
     ]
    },
    {
     "name": "stdout",
     "output_type": "stream",
     "text": [
      "Fetching data for target CHEMBL1075311 (Urokinase-type plasminogen activator)...\n"
     ]
    },
    {
     "name": "stderr",
     "output_type": "stream",
     "text": [
      "Processing CHEMBL1075311: 53it [00:00, 61.92it/s]\n"
     ]
    },
    {
     "name": "stdout",
     "output_type": "stream",
     "text": [
      "Fetching data for target CHEMBL1075245 (Urokinase-type plasminogen activator)...\n"
     ]
    },
    {
     "name": "stderr",
     "output_type": "stream",
     "text": [
      "Processing CHEMBL1075245: 2it [00:00,  2.49it/s]\n"
     ]
    },
    {
     "name": "stdout",
     "output_type": "stream",
     "text": [
      "Fetching data for target CHEMBL1075030 (Urokinase-type plasminogen activator)...\n"
     ]
    },
    {
     "name": "stderr",
     "output_type": "stream",
     "text": [
      "Processing CHEMBL1075030: 3it [00:00,  3.53it/s]\n"
     ]
    },
    {
     "name": "stdout",
     "output_type": "stream",
     "text": [
      "Fetching data for target CHEMBL2373 (C5a anaphylatoxin chemotactic receptor)...\n"
     ]
    },
    {
     "name": "stderr",
     "output_type": "stream",
     "text": [
      "Processing CHEMBL2373: 2490it [00:00, 2709.50it/s]\n"
     ]
    },
    {
     "name": "stdout",
     "output_type": "stream",
     "text": [
      "Fetching data for target CHEMBL2861 (C5a anaphylatoxin chemotactic receptor)...\n"
     ]
    },
    {
     "name": "stderr",
     "output_type": "stream",
     "text": [
      "Processing CHEMBL2861: 6it [00:00,  6.63it/s]\n"
     ]
    },
    {
     "name": "stdout",
     "output_type": "stream",
     "text": [
      "Fetching data for target CHEMBL5745 (C5a anaphylatoxin chemotactic receptor)...\n"
     ]
    },
    {
     "name": "stderr",
     "output_type": "stream",
     "text": [
      "Processing CHEMBL5745: 0it [00:00, ?it/s]\n"
     ]
    },
    {
     "name": "stdout",
     "output_type": "stream",
     "text": [
      "Fetching data for target CHEMBL5746 (C5a anaphylatoxin chemotactic receptor)...\n"
     ]
    },
    {
     "name": "stderr",
     "output_type": "stream",
     "text": [
      "Processing CHEMBL5746: 2it [00:00,  2.43it/s]\n"
     ]
    },
    {
     "name": "stdout",
     "output_type": "stream",
     "text": [
      "Fetching data for target CHEMBL5770 (C5a anaphylatoxin chemotactic receptor)...\n"
     ]
    },
    {
     "name": "stderr",
     "output_type": "stream",
     "text": [
      "Processing CHEMBL5770: 3it [00:00,  3.85it/s]\n"
     ]
    },
    {
     "name": "stdout",
     "output_type": "stream",
     "text": [
      "Fetching data for target CHEMBL2085 (Macrophage migration inhibitory factor)...\n"
     ]
    },
    {
     "name": "stderr",
     "output_type": "stream",
     "text": [
      "Processing CHEMBL2085: 973it [00:00, 1045.96it/s]\n"
     ]
    },
    {
     "name": "stdout",
     "output_type": "stream",
     "text": [
      "Fetching data for target CHEMBL1926491 (Macrophage migration inhibitory factor)...\n"
     ]
    },
    {
     "name": "stderr",
     "output_type": "stream",
     "text": [
      "Processing CHEMBL1926491: 18it [00:00, 19.63it/s]\n"
     ]
    },
    {
     "name": "stdout",
     "output_type": "stream",
     "text": [
      "Fetching data for target CHEMBL4524037 (Macrophage migration inhibitory factor)...\n"
     ]
    },
    {
     "name": "stderr",
     "output_type": "stream",
     "text": [
      "Processing CHEMBL4524037: 1it [00:00,  1.17it/s]\n"
     ]
    },
    {
     "name": "stdout",
     "output_type": "stream",
     "text": [
      "Fetching data for target CHEMBL3587 (Dual specificity mitogen-activated protein kinase kinase 1)...\n"
     ]
    },
    {
     "name": "stderr",
     "output_type": "stream",
     "text": [
      "Processing CHEMBL3587: 4096it [00:01, 3296.18it/s]\n"
     ]
    },
    {
     "name": "stdout",
     "output_type": "stream",
     "text": [
      "Fetching data for target CHEMBL5740 (Dual specificity mitogen-activated protein kinase kinase 1)...\n"
     ]
    },
    {
     "name": "stderr",
     "output_type": "stream",
     "text": [
      "Processing CHEMBL5740: 17it [00:00, 21.14it/s]\n"
     ]
    },
    {
     "name": "stdout",
     "output_type": "stream",
     "text": [
      "Fetching data for target CHEMBL5860 (Dual specificity mitogen-activated protein kinase kinase 1)...\n"
     ]
    },
    {
     "name": "stderr",
     "output_type": "stream",
     "text": [
      "Processing CHEMBL5860: 3it [00:00,  3.60it/s]\n"
     ]
    },
    {
     "name": "stdout",
     "output_type": "stream",
     "text": [
      "Fetching data for target CHEMBL1841 (Tyrosine-protein kinase FYN)...\n"
     ]
    },
    {
     "name": "stderr",
     "output_type": "stream",
     "text": [
      "Processing CHEMBL1841: 3526it [00:01, 3035.32it/s]\n"
     ]
    },
    {
     "name": "stdout",
     "output_type": "stream",
     "text": [
      "Fetching data for target CHEMBL4517 (Tyrosine-protein kinase FYN)...\n"
     ]
    },
    {
     "name": "stderr",
     "output_type": "stream",
     "text": [
      "Processing CHEMBL4517: 1it [00:00,  1.20it/s]\n"
     ]
    },
    {
     "name": "stdout",
     "output_type": "stream",
     "text": [
      "Fetching data for target CHEMBL228 (Serotonin transporter)...\n"
     ]
    },
    {
     "name": "stderr",
     "output_type": "stream",
     "text": [
      "Processing CHEMBL228: 10794it [00:01, 7008.99it/s]\n"
     ]
    },
    {
     "name": "stdout",
     "output_type": "stream",
     "text": [
      "Fetching data for target CHEMBL313 (Serotonin transporter)...\n"
     ]
    },
    {
     "name": "stderr",
     "output_type": "stream",
     "text": [
      "Processing CHEMBL313: 5916it [00:01, 4995.52it/s] \n"
     ]
    },
    {
     "name": "stdout",
     "output_type": "stream",
     "text": [
      "Fetching data for target CHEMBL4642 (Serotonin transporter)...\n"
     ]
    },
    {
     "name": "stderr",
     "output_type": "stream",
     "text": [
      "Processing CHEMBL4642: 148it [00:00, 166.12it/s]\n"
     ]
    },
    {
     "name": "stdout",
     "output_type": "stream",
     "text": [
      "Fetching data for target CHEMBL5453 (Serotonin transporter)...\n"
     ]
    },
    {
     "name": "stderr",
     "output_type": "stream",
     "text": [
      "Processing CHEMBL5453: 67it [00:00, 74.22it/s]\n"
     ]
    },
    {
     "name": "stdout",
     "output_type": "stream",
     "text": [
      "Fetching data for target CHEMBL4464 (Acyl coenzyme A:cholesterol acyltransferase 1)...\n"
     ]
    },
    {
     "name": "stderr",
     "output_type": "stream",
     "text": [
      "Processing CHEMBL4464: 269it [00:00, 284.19it/s]\n"
     ]
    },
    {
     "name": "stdout",
     "output_type": "stream",
     "text": [
      "Fetching data for target CHEMBL285 (Acyl coenzyme A:cholesterol acyltransferase 1)...\n"
     ]
    },
    {
     "name": "stderr",
     "output_type": "stream",
     "text": [
      "Processing CHEMBL285: 2284it [00:01, 2206.53it/s]\n"
     ]
    },
    {
     "name": "stdout",
     "output_type": "stream",
     "text": [
      "Fetching data for target CHEMBL2782 (Acyl coenzyme A:cholesterol acyltransferase 1)...\n"
     ]
    },
    {
     "name": "stderr",
     "output_type": "stream",
     "text": [
      "Processing CHEMBL2782: 784it [00:00, 863.76it/s]\n"
     ]
    },
    {
     "name": "stdout",
     "output_type": "stream",
     "text": [
      "Fetching data for target CHEMBL239 (Peroxisome proliferator-activated receptor alpha)...\n"
     ]
    },
    {
     "name": "stderr",
     "output_type": "stream",
     "text": [
      "Processing CHEMBL239: 7930it [00:01, 5474.16it/s]\n"
     ]
    },
    {
     "name": "stdout",
     "output_type": "stream",
     "text": [
      "Fetching data for target CHEMBL2847 (Peroxisome proliferator-activated receptor alpha)...\n"
     ]
    },
    {
     "name": "stderr",
     "output_type": "stream",
     "text": [
      "Processing CHEMBL2847: 24it [00:00, 27.57it/s]\n"
     ]
    },
    {
     "name": "stdout",
     "output_type": "stream",
     "text": [
      "Fetching data for target CHEMBL2128 (Peroxisome proliferator-activated receptor alpha)...\n"
     ]
    },
    {
     "name": "stderr",
     "output_type": "stream",
     "text": [
      "Processing CHEMBL2128: 332it [00:00, 384.39it/s]\n"
     ]
    },
    {
     "name": "stdout",
     "output_type": "stream",
     "text": [
      "Fetching data for target CHEMBL2129 (Peroxisome proliferator-activated receptor alpha)...\n"
     ]
    },
    {
     "name": "stderr",
     "output_type": "stream",
     "text": [
      "Processing CHEMBL2129: 123it [00:00, 146.56it/s]\n"
     ]
    },
    {
     "name": "stdout",
     "output_type": "stream",
     "text": [
      "Fetching data for target CHEMBL2458 (Peroxisome proliferator-activated receptor delta)...\n"
     ]
    },
    {
     "name": "stderr",
     "output_type": "stream",
     "text": [
      "Processing CHEMBL2458: 281it [00:00, 339.02it/s]\n"
     ]
    },
    {
     "name": "stdout",
     "output_type": "stream",
     "text": [
      "Fetching data for target CHEMBL3979 (Peroxisome proliferator-activated receptor delta)...\n"
     ]
    },
    {
     "name": "stderr",
     "output_type": "stream",
     "text": [
      "Processing CHEMBL3979: 5215it [00:01, 4990.94it/s]\n"
     ]
    },
    {
     "name": "stdout",
     "output_type": "stream",
     "text": [
      "Fetching data for target CHEMBL4152 (Peroxisome proliferator-activated receptor delta)...\n"
     ]
    },
    {
     "name": "stderr",
     "output_type": "stream",
     "text": [
      "Processing CHEMBL4152: 0it [00:00, ?it/s]\n"
     ]
    },
    {
     "name": "stdout",
     "output_type": "stream",
     "text": [
      "Fetching data for target CHEMBL1932904 (Peroxisome proliferator-activated receptor delta)...\n"
     ]
    },
    {
     "name": "stderr",
     "output_type": "stream",
     "text": [
      "Processing CHEMBL1932904: 1it [00:00,  1.21it/s]\n"
     ]
    },
    {
     "name": "stdout",
     "output_type": "stream",
     "text": [
      "Fetching data for target CHEMBL3467 (P-glycoprotein 1)...\n"
     ]
    },
    {
     "name": "stderr",
     "output_type": "stream",
     "text": [
      "Processing CHEMBL3467: 160it [00:00, 182.82it/s]\n"
     ]
    },
    {
     "name": "stdout",
     "output_type": "stream",
     "text": [
      "Fetching data for target CHEMBL4302 (P-glycoprotein 1)...\n"
     ]
    },
    {
     "name": "stderr",
     "output_type": "stream",
     "text": [
      "Processing CHEMBL4302: 12795it [00:01, 7248.65it/s]\n"
     ]
    },
    {
     "name": "stdout",
     "output_type": "stream",
     "text": [
      "Fetching data for target CHEMBL1862 (Tyrosine-protein kinase ABL)...\n"
     ]
    },
    {
     "name": "stderr",
     "output_type": "stream",
     "text": [
      "Processing CHEMBL1862: 18237it [00:01, 9611.78it/s] \n"
     ]
    },
    {
     "name": "stdout",
     "output_type": "stream",
     "text": [
      "Fetching data for target CHEMBL3099 (Tyrosine-protein kinase ABL)...\n"
     ]
    },
    {
     "name": "stderr",
     "output_type": "stream",
     "text": [
      "Processing CHEMBL3099: 172it [00:00, 198.70it/s]\n"
     ]
    },
    {
     "name": "stdout",
     "output_type": "stream",
     "text": [
      "Fetching data for target CHEMBL2111414 (Tyrosine-protein kinase ABL)...\n"
     ]
    },
    {
     "name": "stderr",
     "output_type": "stream",
     "text": [
      "Processing CHEMBL2111414: 153it [00:00, 187.30it/s]\n"
     ]
    },
    {
     "name": "stdout",
     "output_type": "stream",
     "text": [
      "Fetching data for target CHEMBL1907593 (Neuronal acetylcholine receptor; alpha3/beta4)...\n"
     ]
    },
    {
     "name": "stderr",
     "output_type": "stream",
     "text": [
      "Processing CHEMBL1907593: 1287it [00:00, 1452.50it/s]\n"
     ]
    },
    {
     "name": "stdout",
     "output_type": "stream",
     "text": [
      "Fetching data for target CHEMBL1907594 (Neuronal acetylcholine receptor; alpha3/beta4)...\n"
     ]
    },
    {
     "name": "stderr",
     "output_type": "stream",
     "text": [
      "Processing CHEMBL1907594: 1961it [00:00, 2217.89it/s]\n"
     ]
    },
    {
     "name": "stdout",
     "output_type": "stream",
     "text": [
      "Fetching data for target CHEMBL262 (Glycogen synthase kinase-3 beta)...\n"
     ]
    },
    {
     "name": "stderr",
     "output_type": "stream",
     "text": [
      "Processing CHEMBL262: 11658it [00:01, 7247.42it/s]\n"
     ]
    },
    {
     "name": "stdout",
     "output_type": "stream",
     "text": [
      "Fetching data for target CHEMBL3669 (Glycogen synthase kinase-3 beta)...\n"
     ]
    },
    {
     "name": "stderr",
     "output_type": "stream",
     "text": [
      "Processing CHEMBL3669: 45it [00:00, 51.52it/s]\n"
     ]
    },
    {
     "name": "stdout",
     "output_type": "stream",
     "text": [
      "Fetching data for target CHEMBL1075321 (Glycogen synthase kinase-3 beta)...\n"
     ]
    },
    {
     "name": "stderr",
     "output_type": "stream",
     "text": [
      "Processing CHEMBL1075321: 37it [00:00, 44.40it/s]\n"
     ]
    },
    {
     "name": "stdout",
     "output_type": "stream",
     "text": [
      "Fetching data for target CHEMBL1940 (Voltage-gated L-type calcium channel alpha-1C subunit)...\n"
     ]
    },
    {
     "name": "stderr",
     "output_type": "stream",
     "text": [
      "Processing CHEMBL1940: 716it [00:00, 824.30it/s]\n"
     ]
    },
    {
     "name": "stdout",
     "output_type": "stream",
     "text": [
      "Fetching data for target CHEMBL2529 (Voltage-gated L-type calcium channel alpha-1C subunit)...\n"
     ]
    },
    {
     "name": "stderr",
     "output_type": "stream",
     "text": [
      "Processing CHEMBL2529: 8it [00:00,  9.90it/s]\n"
     ]
    },
    {
     "name": "stdout",
     "output_type": "stream",
     "text": [
      "Fetching data for target CHEMBL3762 (Voltage-gated L-type calcium channel alpha-1C subunit)...\n"
     ]
    },
    {
     "name": "stderr",
     "output_type": "stream",
     "text": [
      "Processing CHEMBL3762: 1270it [00:00, 1316.66it/s]\n"
     ]
    },
    {
     "name": "stdout",
     "output_type": "stream",
     "text": [
      "Fetching data for target CHEMBL2830 (Voltage-gated L-type calcium channel alpha-1C subunit)...\n"
     ]
    },
    {
     "name": "stderr",
     "output_type": "stream",
     "text": [
      "Processing CHEMBL2830: 333it [00:00, 392.52it/s]\n"
     ]
    },
    {
     "name": "stdout",
     "output_type": "stream",
     "text": [
      "Fetching data for target CHEMBL2850 (Glycogen synthase kinase-3 alpha)...\n"
     ]
    },
    {
     "name": "stderr",
     "output_type": "stream",
     "text": [
      "Processing CHEMBL2850: 3721it [00:01, 3530.91it/s]\n"
     ]
    },
    {
     "name": "stdout",
     "output_type": "stream",
     "text": [
      "Fetching data for target CHEMBL1075224 (Glycogen synthase kinase-3 alpha)...\n"
     ]
    },
    {
     "name": "stderr",
     "output_type": "stream",
     "text": [
      "Processing CHEMBL1075224: 0it [00:00, ?it/s]\n"
     ]
    },
    {
     "name": "stdout",
     "output_type": "stream",
     "text": [
      "Fetching data for target CHEMBL2176843 (Glycogen synthase kinase-3 alpha)...\n"
     ]
    },
    {
     "name": "stderr",
     "output_type": "stream",
     "text": [
      "Processing CHEMBL2176843: 1it [00:00,  1.21it/s]\n"
     ]
    },
    {
     "name": "stdout",
     "output_type": "stream",
     "text": [
      "Fetching data for target CHEMBL2095196 (Monoamine oxidase)...\n"
     ]
    },
    {
     "name": "stderr",
     "output_type": "stream",
     "text": [
      "Processing CHEMBL2095196: 426it [00:00, 477.89it/s]\n"
     ]
    },
    {
     "name": "stdout",
     "output_type": "stream",
     "text": [
      "Fetching data for target CHEMBL2095205 (Monoamine oxidase)...\n"
     ]
    },
    {
     "name": "stderr",
     "output_type": "stream",
     "text": [
      "Processing CHEMBL2095205: 353it [00:00, 418.67it/s]\n"
     ]
    },
    {
     "name": "stdout",
     "output_type": "stream",
     "text": [
      "Fetching data for target CHEMBL2111442 (Monoamine oxidase)...\n"
     ]
    },
    {
     "name": "stderr",
     "output_type": "stream",
     "text": [
      "Processing CHEMBL2111442: 75it [00:00, 87.87it/s]\n"
     ]
    },
    {
     "name": "stdout",
     "output_type": "stream",
     "text": [
      "Fetching data for target CHEMBL2111399 (Monoamine oxidase)...\n"
     ]
    },
    {
     "name": "stderr",
     "output_type": "stream",
     "text": [
      "Processing CHEMBL2111399: 68it [00:00, 74.48it/s]\n"
     ]
    },
    {
     "name": "stdout",
     "output_type": "stream",
     "text": [
      "Fetching data for target CHEMBL2111390 (Beta-secretase (BACE))...\n"
     ]
    },
    {
     "name": "stderr",
     "output_type": "stream",
     "text": [
      "Processing CHEMBL2111390: 58it [00:00, 72.65it/s]\n"
     ]
    },
    {
     "name": "stdout",
     "output_type": "stream",
     "text": [
      "Fetching data for target CHEMBL3475 (Plasminogen activator inhibitor-1)...\n"
     ]
    },
    {
     "name": "stderr",
     "output_type": "stream",
     "text": [
      "Processing CHEMBL3475: 485it [00:00, 539.53it/s]\n"
     ]
    },
    {
     "name": "stdout",
     "output_type": "stream",
     "text": [
      "Fetching data for target CHEMBL2155 (Plasminogen activator inhibitor-1)...\n"
     ]
    },
    {
     "name": "stderr",
     "output_type": "stream",
     "text": [
      "Processing CHEMBL2155: 2it [00:00,  2.51it/s]\n"
     ]
    },
    {
     "name": "stdout",
     "output_type": "stream",
     "text": [
      "Fetching data for target CHEMBL2111321 (Matrix metalloproteinase (2 and 3))...\n"
     ]
    },
    {
     "name": "stderr",
     "output_type": "stream",
     "text": [
      "Processing CHEMBL2111321: 31it [00:00, 37.63it/s]\n"
     ]
    },
    {
     "name": "stdout",
     "output_type": "stream",
     "text": [
      "Fetching data for target CHEMBL2151 (Transthyretin)...\n"
     ]
    },
    {
     "name": "stderr",
     "output_type": "stream",
     "text": [
      "Processing CHEMBL2151: 12it [00:00, 14.40it/s]\n"
     ]
    },
    {
     "name": "stdout",
     "output_type": "stream",
     "text": [
      "Fetching data for target CHEMBL3194 (Transthyretin)...\n"
     ]
    },
    {
     "name": "stderr",
     "output_type": "stream",
     "text": [
      "Processing CHEMBL3194: 2703it [00:01, 2663.04it/s]\n"
     ]
    },
    {
     "name": "stdout",
     "output_type": "stream",
     "text": [
      "Fetching data for target CHEMBL4295539 (Transthyretin)...\n"
     ]
    },
    {
     "name": "stderr",
     "output_type": "stream",
     "text": [
      "Processing CHEMBL4295539: 0it [00:00, ?it/s]\n"
     ]
    },
    {
     "name": "stdout",
     "output_type": "stream",
     "text": [
      "Fetching data for target CHEMBL5169111 (Transthyretin)...\n"
     ]
    },
    {
     "name": "stderr",
     "output_type": "stream",
     "text": [
      "Processing CHEMBL5169111: 0it [00:00, ?it/s]\n"
     ]
    },
    {
     "name": "stdout",
     "output_type": "stream",
     "text": [
      "Fetching data for target CHEMBL2094252 (Monoamine transporters; serotonin & dopamine)...\n"
     ]
    },
    {
     "name": "stderr",
     "output_type": "stream",
     "text": [
      "Processing CHEMBL2094252: 1141it [00:00, 1233.65it/s]\n"
     ]
    },
    {
     "name": "stdout",
     "output_type": "stream",
     "text": [
      "Fetching data for target CHEMBL2095201 (Monoamine transporters; serotonin & dopamine)...\n"
     ]
    },
    {
     "name": "stderr",
     "output_type": "stream",
     "text": [
      "Processing CHEMBL2095201: 386it [00:00, 481.85it/s]\n"
     ]
    },
    {
     "name": "stdout",
     "output_type": "stream",
     "text": [
      "Fetching data for target CHEMBL4393 (Matrix metalloproteinase 12)...\n"
     ]
    },
    {
     "name": "stderr",
     "output_type": "stream",
     "text": [
      "Processing CHEMBL4393: 1060it [00:00, 1193.04it/s]\n"
     ]
    },
    {
     "name": "stdout",
     "output_type": "stream",
     "text": [
      "Fetching data for target CHEMBL2594 (Matrix metalloproteinase 12)...\n"
     ]
    },
    {
     "name": "stderr",
     "output_type": "stream",
     "text": [
      "Processing CHEMBL2594: 46it [00:00, 49.73it/s]\n"
     ]
    },
    {
     "name": "stdout",
     "output_type": "stream",
     "text": [
      "Fetching data for target CHEMBL1907606 (Mitogen-activated protein kinase; ERK1/ERK2)...\n"
     ]
    },
    {
     "name": "stderr",
     "output_type": "stream",
     "text": [
      "Processing CHEMBL1907606: 329it [00:00, 379.69it/s]\n"
     ]
    },
    {
     "name": "stdout",
     "output_type": "stream",
     "text": [
      "Fetching data for target CHEMBL2111330 (Ribosomal protein S6 kinase (P70S6K))...\n"
     ]
    },
    {
     "name": "stderr",
     "output_type": "stream",
     "text": [
      "Processing CHEMBL2111330: 67it [00:00, 76.80it/s]\n"
     ]
    },
    {
     "name": "stdout",
     "output_type": "stream",
     "text": [
      "Fetching data for target CHEMBL4282 (Serine/threonine-protein kinase AKT)...\n"
     ]
    },
    {
     "name": "stderr",
     "output_type": "stream",
     "text": [
      "Processing CHEMBL4282: 8475it [00:01, 5630.53it/s]\n"
     ]
    },
    {
     "name": "stdout",
     "output_type": "stream",
     "text": [
      "Fetching data for target CHEMBL2111353 (Serine/threonine-protein kinase AKT)...\n"
     ]
    },
    {
     "name": "stderr",
     "output_type": "stream",
     "text": [
      "Processing CHEMBL2111353: 183it [00:00, 187.61it/s]\n"
     ]
    },
    {
     "name": "stdout",
     "output_type": "stream",
     "text": [
      "Fetching data for target CHEMBL2292 (Dual-specificity tyrosine-phosphorylation regulated kinase 1A)...\n"
     ]
    },
    {
     "name": "stderr",
     "output_type": "stream",
     "text": [
      "Processing CHEMBL2292: 6650it [00:01, 4889.81it/s]\n"
     ]
    },
    {
     "name": "stdout",
     "output_type": "stream",
     "text": [
      "Fetching data for target CHEMBL4750 (Dual-specificity tyrosine-phosphorylation regulated kinase 1A)...\n"
     ]
    },
    {
     "name": "stderr",
     "output_type": "stream",
     "text": [
      "Processing CHEMBL4750: 27it [00:00, 29.82it/s]\n"
     ]
    },
    {
     "name": "stdout",
     "output_type": "stream",
     "text": [
      "Fetching data for target CHEMBL3385 (MAP kinase ERK1)...\n"
     ]
    },
    {
     "name": "stderr",
     "output_type": "stream",
     "text": [
      "Processing CHEMBL3385: 2940it [00:01, 2838.14it/s]\n"
     ]
    },
    {
     "name": "stdout",
     "output_type": "stream",
     "text": [
      "Fetching data for target CHEMBL2207 (MAP kinase ERK2)...\n"
     ]
    },
    {
     "name": "stderr",
     "output_type": "stream",
     "text": [
      "Processing CHEMBL2207: 640it [00:00, 705.70it/s]\n"
     ]
    },
    {
     "name": "stdout",
     "output_type": "stream",
     "text": [
      "Fetching data for target CHEMBL4040 (MAP kinase ERK2)...\n"
     ]
    },
    {
     "name": "stderr",
     "output_type": "stream",
     "text": [
      "Processing CHEMBL4040: 23202it [00:02, 8466.42it/s] \n"
     ]
    },
    {
     "name": "stdout",
     "output_type": "stream",
     "text": [
      "Fetching data for target CHEMBL2111325 (PPAR alpha/gamma)...\n"
     ]
    },
    {
     "name": "stderr",
     "output_type": "stream",
     "text": [
      "Processing CHEMBL2111325: 98it [00:00, 113.95it/s]\n"
     ]
    },
    {
     "name": "stdout",
     "output_type": "stream",
     "text": [
      "Fetching data for target CHEMBL3997 (Insulin-like growth factor binding protein 3)...\n"
     ]
    },
    {
     "name": "stderr",
     "output_type": "stream",
     "text": [
      "Processing CHEMBL3997: 46it [00:00, 56.78it/s]\n"
     ]
    },
    {
     "name": "stdout",
     "output_type": "stream",
     "text": [
      "Fetching data for target CHEMBL1825 (TNF-alpha)...\n"
     ]
    },
    {
     "name": "stderr",
     "output_type": "stream",
     "text": [
      "Processing CHEMBL1825: 1723it [00:00, 1825.19it/s]\n"
     ]
    },
    {
     "name": "stdout",
     "output_type": "stream",
     "text": [
      "Fetching data for target CHEMBL4984 (TNF-alpha)...\n"
     ]
    },
    {
     "name": "stderr",
     "output_type": "stream",
     "text": [
      "Processing CHEMBL4984: 70it [00:00, 87.02it/s]\n"
     ]
    },
    {
     "name": "stdout",
     "output_type": "stream",
     "text": [
      "Fetching data for target CHEMBL3918 (Receptor-type tyrosine-protein phosphatase alpha)...\n"
     ]
    },
    {
     "name": "stderr",
     "output_type": "stream",
     "text": [
      "Processing CHEMBL3918: 250it [00:00, 279.67it/s]\n"
     ]
    },
    {
     "name": "stdout",
     "output_type": "stream",
     "text": [
      "Fetching data for target CHEMBL2096670 (Glutamate receptor ionotropic AMPA)...\n"
     ]
    },
    {
     "name": "stderr",
     "output_type": "stream",
     "text": [
      "Processing CHEMBL2096670: 281it [00:00, 309.17it/s]\n"
     ]
    },
    {
     "name": "stdout",
     "output_type": "stream",
     "text": [
      "Fetching data for target CHEMBL2460 (Prolyl endopeptidase)...\n"
     ]
    },
    {
     "name": "stderr",
     "output_type": "stream",
     "text": [
      "Processing CHEMBL2460: 14it [00:00, 16.07it/s]\n"
     ]
    },
    {
     "name": "stdout",
     "output_type": "stream",
     "text": [
      "Fetching data for target CHEMBL4935 (Prolyl endopeptidase)...\n"
     ]
    },
    {
     "name": "stderr",
     "output_type": "stream",
     "text": [
      "Processing CHEMBL4935: 48it [00:00, 56.35it/s]\n"
     ]
    },
    {
     "name": "stdout",
     "output_type": "stream",
     "text": [
      "Fetching data for target CHEMBL2461 (Prolyl endopeptidase)...\n"
     ]
    },
    {
     "name": "stderr",
     "output_type": "stream",
     "text": [
      "Processing CHEMBL2461: 246it [00:00, 296.67it/s]\n"
     ]
    },
    {
     "name": "stdout",
     "output_type": "stream",
     "text": [
      "Fetching data for target CHEMBL4035 (Prolyl endopeptidase)...\n"
     ]
    },
    {
     "name": "stderr",
     "output_type": "stream",
     "text": [
      "Processing CHEMBL4035: 112it [00:00, 130.91it/s]\n"
     ]
    },
    {
     "name": "stdout",
     "output_type": "stream",
     "text": [
      "Fetching data for target CHEMBL3202 (Prolyl endopeptidase)...\n"
     ]
    },
    {
     "name": "stderr",
     "output_type": "stream",
     "text": [
      "Processing CHEMBL3202: 1127it [00:00, 1215.77it/s]\n"
     ]
    },
    {
     "name": "stdout",
     "output_type": "stream",
     "text": [
      "Fetching data for target CHEMBL6043 (Prolyl endopeptidase)...\n"
     ]
    },
    {
     "name": "stderr",
     "output_type": "stream",
     "text": [
      "Processing CHEMBL6043: 3it [00:00,  3.79it/s]\n"
     ]
    },
    {
     "name": "stdout",
     "output_type": "stream",
     "text": [
      "Fetching data for target CHEMBL3088 (Insulin-like growth factor binding protein 2)...\n"
     ]
    },
    {
     "name": "stderr",
     "output_type": "stream",
     "text": [
      "Processing CHEMBL3088: 2it [00:00,  2.48it/s]\n"
     ]
    },
    {
     "name": "stdout",
     "output_type": "stream",
     "text": [
      "Fetching data for target CHEMBL2139 (Insulin-like growth factor binding protein 6)...\n"
     ]
    },
    {
     "name": "stderr",
     "output_type": "stream",
     "text": [
      "Processing CHEMBL2139: 2it [00:00,  2.48it/s]\n"
     ]
    },
    {
     "name": "stdout",
     "output_type": "stream",
     "text": [
      "Fetching data for target CHEMBL2063 (Ceramide glucosyltransferase)...\n"
     ]
    },
    {
     "name": "stderr",
     "output_type": "stream",
     "text": [
      "Processing CHEMBL2063: 321it [00:00, 367.85it/s]\n"
     ]
    },
    {
     "name": "stdout",
     "output_type": "stream",
     "text": [
      "Fetching data for target CHEMBL6013 (Ceramide glucosyltransferase)...\n"
     ]
    },
    {
     "name": "stderr",
     "output_type": "stream",
     "text": [
      "Processing CHEMBL6013: 97it [00:00, 105.47it/s]\n"
     ]
    },
    {
     "name": "stdout",
     "output_type": "stream",
     "text": [
      "Fetching data for target CHEMBL1957 (Insulin-like growth factor I receptor)...\n"
     ]
    },
    {
     "name": "stderr",
     "output_type": "stream",
     "text": [
      "Processing CHEMBL1957: 8468it [00:01, 6297.23it/s]\n"
     ]
    },
    {
     "name": "stdout",
     "output_type": "stream",
     "text": [
      "Fetching data for target CHEMBL1981 (Insulin receptor)...\n"
     ]
    },
    {
     "name": "stderr",
     "output_type": "stream",
     "text": [
      "Processing CHEMBL1981: 5411it [00:01, 4820.71it/s]\n"
     ]
    },
    {
     "name": "stdout",
     "output_type": "stream",
     "text": [
      "Fetching data for target CHEMBL3187 (Insulin receptor)...\n"
     ]
    },
    {
     "name": "stderr",
     "output_type": "stream",
     "text": [
      "Processing CHEMBL3187: 62it [00:00, 75.31it/s]\n"
     ]
    },
    {
     "name": "stdout",
     "output_type": "stream",
     "text": [
      "Fetching data for target CHEMBL5486 (Insulin receptor)...\n"
     ]
    },
    {
     "name": "stderr",
     "output_type": "stream",
     "text": [
      "Processing CHEMBL5486: 5it [00:00,  5.71it/s]\n"
     ]
    },
    {
     "name": "stdout",
     "output_type": "stream",
     "text": [
      "Fetching data for target CHEMBL2111289 (Dual specificity mitogen-activated protein kinase kinase; MEK1/2)...\n"
     ]
    },
    {
     "name": "stderr",
     "output_type": "stream",
     "text": [
      "Processing CHEMBL2111289: 226it [00:00, 268.80it/s]\n"
     ]
    },
    {
     "name": "stdout",
     "output_type": "stream",
     "text": [
      "Fetching data for target CHEMBL2284 (Glyceraldehyde-3-phosphate dehydrogenase liver)...\n"
     ]
    },
    {
     "name": "stderr",
     "output_type": "stream",
     "text": [
      "Processing CHEMBL2284: 1310it [00:00, 1345.41it/s]\n"
     ]
    },
    {
     "name": "stdout",
     "output_type": "stream",
     "text": [
      "Fetching data for target CHEMBL2095213 (Adenosine receptors; A2a & A3)...\n"
     ]
    },
    {
     "name": "stderr",
     "output_type": "stream",
     "text": [
      "Processing CHEMBL2095213: 371it [00:00, 405.48it/s]\n"
     ]
    },
    {
     "name": "stdout",
     "output_type": "stream",
     "text": [
      "Fetching data for target CHEMBL2273 (Caspase-9)...\n"
     ]
    },
    {
     "name": "stderr",
     "output_type": "stream",
     "text": [
      "Processing CHEMBL2273: 122it [00:00, 147.17it/s]\n"
     ]
    },
    {
     "name": "stdout",
     "output_type": "stream",
     "text": [
      "Fetching data for target CHEMBL1977 (Vitamin D receptor)...\n"
     ]
    },
    {
     "name": "stderr",
     "output_type": "stream",
     "text": [
      "Processing CHEMBL1977: 25673it [00:02, 9139.36it/s] \n"
     ]
    },
    {
     "name": "stdout",
     "output_type": "stream",
     "text": [
      "Fetching data for target CHEMBL2353 (Vitamin D receptor)...\n"
     ]
    },
    {
     "name": "stderr",
     "output_type": "stream",
     "text": [
      "Processing CHEMBL2353: 172it [00:00, 207.39it/s]\n"
     ]
    },
    {
     "name": "stdout",
     "output_type": "stream",
     "text": [
      "Fetching data for target CHEMBL3150 (Vitamin D receptor)...\n"
     ]
    },
    {
     "name": "stderr",
     "output_type": "stream",
     "text": [
      "Processing CHEMBL3150: 349it [00:00, 390.29it/s]\n"
     ]
    },
    {
     "name": "stdout",
     "output_type": "stream",
     "text": [
      "Fetching data for target CHEMBL3452 (Vitamin D receptor)...\n"
     ]
    },
    {
     "name": "stderr",
     "output_type": "stream",
     "text": [
      "Processing CHEMBL3452: 140it [00:00, 168.57it/s]\n"
     ]
    },
    {
     "name": "stdout",
     "output_type": "stream",
     "text": [
      "Fetching data for target CHEMBL5601 (Vitamin D receptor)...\n"
     ]
    },
    {
     "name": "stderr",
     "output_type": "stream",
     "text": [
      "Processing CHEMBL5601: 239it [00:00, 274.08it/s]\n"
     ]
    },
    {
     "name": "stdout",
     "output_type": "stream",
     "text": [
      "Fetching data for target CHEMBL3313 (Vesicular acetylcholine transporter)...\n"
     ]
    },
    {
     "name": "stderr",
     "output_type": "stream",
     "text": [
      "Processing CHEMBL3313: 104it [00:00, 118.66it/s]\n"
     ]
    },
    {
     "name": "stdout",
     "output_type": "stream",
     "text": [
      "Fetching data for target CHEMBL2125 (Vesicular acetylcholine transporter)...\n"
     ]
    },
    {
     "name": "stderr",
     "output_type": "stream",
     "text": [
      "Processing CHEMBL2125: 99it [00:00, 112.71it/s]\n"
     ]
    },
    {
     "name": "stdout",
     "output_type": "stream",
     "text": [
      "Fetching data for target CHEMBL4767 (Vesicular acetylcholine transporter)...\n"
     ]
    },
    {
     "name": "stderr",
     "output_type": "stream",
     "text": [
      "Processing CHEMBL4767: 269it [00:00, 316.70it/s]\n"
     ]
    },
    {
     "name": "stdout",
     "output_type": "stream",
     "text": [
      "Fetching data for target CHEMBL2815 (Nerve growth factor receptor Trk-A)...\n"
     ]
    },
    {
     "name": "stderr",
     "output_type": "stream",
     "text": [
      "Processing CHEMBL2815: 8122it [00:01, 5725.54it/s]\n"
     ]
    },
    {
     "name": "stdout",
     "output_type": "stream",
     "text": [
      "Fetching data for target CHEMBL4220 (Nerve growth factor receptor Trk-A)...\n"
     ]
    },
    {
     "name": "stderr",
     "output_type": "stream",
     "text": [
      "Processing CHEMBL4220: 10it [00:00, 11.45it/s]\n"
     ]
    },
    {
     "name": "stdout",
     "output_type": "stream",
     "text": [
      "Fetching data for target CHEMBL2964 (Dual specificity mitogen-activated protein kinase kinase 2)...\n"
     ]
    },
    {
     "name": "stderr",
     "output_type": "stream",
     "text": [
      "Processing CHEMBL2964: 1292it [00:00, 1465.91it/s]\n"
     ]
    },
    {
     "name": "stdout",
     "output_type": "stream",
     "text": [
      "Fetching data for target CHEMBL2929 (Subtilisin/kexin type 9)...\n"
     ]
    },
    {
     "name": "stderr",
     "output_type": "stream",
     "text": [
      "Processing CHEMBL2929: 445it [00:00, 515.28it/s]\n"
     ]
    },
    {
     "name": "stdout",
     "output_type": "stream",
     "text": [
      "Fetching data for target CHEMBL3972 (GAR transformylase)...\n"
     ]
    },
    {
     "name": "stderr",
     "output_type": "stream",
     "text": [
      "Processing CHEMBL3972: 452it [00:00, 491.61it/s]\n"
     ]
    },
    {
     "name": "stdout",
     "output_type": "stream",
     "text": [
      "Fetching data for target CHEMBL3690 (GAR transformylase)...\n"
     ]
    },
    {
     "name": "stderr",
     "output_type": "stream",
     "text": [
      "Processing CHEMBL3690: 71it [00:00, 83.28it/s]\n"
     ]
    },
    {
     "name": "stdout",
     "output_type": "stream",
     "text": [
      "Fetching data for target CHEMBL3229 (Anandamide amidohydrolase)...\n"
     ]
    },
    {
     "name": "stderr",
     "output_type": "stream",
     "text": [
      "Processing CHEMBL3229: 3675it [00:01, 3292.58it/s]\n"
     ]
    },
    {
     "name": "stdout",
     "output_type": "stream",
     "text": [
      "Fetching data for target CHEMBL2243 (Anandamide amidohydrolase)...\n"
     ]
    },
    {
     "name": "stderr",
     "output_type": "stream",
     "text": [
      "Processing CHEMBL2243: 3259it [00:01, 3032.37it/s]\n"
     ]
    },
    {
     "name": "stdout",
     "output_type": "stream",
     "text": [
      "Fetching data for target CHEMBL3455 (Anandamide amidohydrolase)...\n"
     ]
    },
    {
     "name": "stderr",
     "output_type": "stream",
     "text": [
      "Processing CHEMBL3455: 412it [00:00, 456.36it/s]\n"
     ]
    },
    {
     "name": "stdout",
     "output_type": "stream",
     "text": [
      "Fetching data for target CHEMBL3623 (Quinone reductase 1)...\n"
     ]
    },
    {
     "name": "stderr",
     "output_type": "stream",
     "text": [
      "Processing CHEMBL3623: 1436it [00:00, 1444.67it/s]\n"
     ]
    },
    {
     "name": "stdout",
     "output_type": "stream",
     "text": [
      "Fetching data for target CHEMBL2111418 (Muscarinic acetylcholine receptor M1 and M3)...\n"
     ]
    },
    {
     "name": "stderr",
     "output_type": "stream",
     "text": [
      "Processing CHEMBL2111418: 256it [00:00, 283.95it/s]\n"
     ]
    },
    {
     "name": "stdout",
     "output_type": "stream",
     "text": [
      "Fetching data for target CHEMBL4547 (Thioredoxin reductase)...\n"
     ]
    },
    {
     "name": "stderr",
     "output_type": "stream",
     "text": [
      "Processing CHEMBL4547: 18it [00:00, 20.54it/s]\n"
     ]
    },
    {
     "name": "stdout",
     "output_type": "stream",
     "text": [
      "Fetching data for target CHEMBL2096978 (Thioredoxin reductase)...\n"
     ]
    },
    {
     "name": "stderr",
     "output_type": "stream",
     "text": [
      "Processing CHEMBL2096978: 161it [00:00, 176.37it/s]\n"
     ]
    },
    {
     "name": "stdout",
     "output_type": "stream",
     "text": [
      "Fetching data for target CHEMBL2364151 (Thioredoxin reductase)...\n"
     ]
    },
    {
     "name": "stderr",
     "output_type": "stream",
     "text": [
      "Processing CHEMBL2364151: 0it [00:00, ?it/s]\n"
     ]
    },
    {
     "name": "stdout",
     "output_type": "stream",
     "text": [
      "Fetching data for target CHEMBL2364152 (Thioredoxin reductase)...\n"
     ]
    },
    {
     "name": "stderr",
     "output_type": "stream",
     "text": [
      "Processing CHEMBL2364152: 0it [00:00, ?it/s]\n"
     ]
    },
    {
     "name": "stdout",
     "output_type": "stream",
     "text": [
      "Fetching data for target CHEMBL2390811 (Thioredoxin reductase)...\n"
     ]
    },
    {
     "name": "stderr",
     "output_type": "stream",
     "text": [
      "Processing CHEMBL2390811: 64it [00:00, 75.17it/s]\n"
     ]
    },
    {
     "name": "stdout",
     "output_type": "stream",
     "text": [
      "Fetching data for target CHEMBL3638339 (Thioredoxin reductase)...\n"
     ]
    },
    {
     "name": "stderr",
     "output_type": "stream",
     "text": [
      "Processing CHEMBL3638339: 44it [00:00, 53.15it/s]\n"
     ]
    },
    {
     "name": "stdout",
     "output_type": "stream",
     "text": [
      "Fetching data for target CHEMBL3879846 (Thioredoxin reductase)...\n"
     ]
    },
    {
     "name": "stderr",
     "output_type": "stream",
     "text": [
      "Processing CHEMBL3879846: 18it [00:00, 20.72it/s]\n"
     ]
    },
    {
     "name": "stdout",
     "output_type": "stream",
     "text": [
      "Fetching data for target CHEMBL3468 (Caspase-7)...\n"
     ]
    },
    {
     "name": "stderr",
     "output_type": "stream",
     "text": [
      "Processing CHEMBL3468: 3064it [00:01, 2909.22it/s]\n"
     ]
    },
    {
     "name": "stdout",
     "output_type": "stream",
     "text": [
      "Fetching data for target CHEMBL4617 (Phenylethanolamine N-methyltransferase)...\n"
     ]
    },
    {
     "name": "stderr",
     "output_type": "stream",
     "text": [
      "Processing CHEMBL4617: 530it [00:00, 588.90it/s]\n"
     ]
    },
    {
     "name": "stdout",
     "output_type": "stream",
     "text": [
      "Fetching data for target CHEMBL4874 (Phenylethanolamine N-methyltransferase)...\n"
     ]
    },
    {
     "name": "stderr",
     "output_type": "stream",
     "text": [
      "Processing CHEMBL4874: 5it [00:00,  5.95it/s]\n"
     ]
    },
    {
     "name": "stdout",
     "output_type": "stream",
     "text": [
      "Fetching data for target CHEMBL2331 (Phenylethanolamine N-methyltransferase)...\n"
     ]
    },
    {
     "name": "stderr",
     "output_type": "stream",
     "text": [
      "Processing CHEMBL2331: 742it [00:00, 835.51it/s]\n"
     ]
    },
    {
     "name": "stdout",
     "output_type": "stream",
     "text": [
      "Fetching data for target CHEMBL4865 (Serotransferrin)...\n"
     ]
    },
    {
     "name": "stderr",
     "output_type": "stream",
     "text": [
      "Processing CHEMBL4865: 81it [00:00, 97.63it/s]\n"
     ]
    },
    {
     "name": "stdout",
     "output_type": "stream",
     "text": [
      "Fetching data for target CHEMBL2097164 (CaM kinase II)...\n"
     ]
    },
    {
     "name": "stderr",
     "output_type": "stream",
     "text": [
      "Processing CHEMBL2097164: 145it [00:00, 178.53it/s]\n"
     ]
    },
    {
     "name": "stdout",
     "output_type": "stream",
     "text": [
      "Fetching data for target CHEMBL1783 (Vascular endothelial growth factor A)...\n"
     ]
    },
    {
     "name": "stderr",
     "output_type": "stream",
     "text": [
      "Processing CHEMBL1783: 230it [00:00, 267.10it/s]\n"
     ]
    },
    {
     "name": "stdout",
     "output_type": "stream",
     "text": [
      "Fetching data for target CHEMBL4612 (Glutamine synthetase)...\n"
     ]
    },
    {
     "name": "stderr",
     "output_type": "stream",
     "text": [
      "Processing CHEMBL4612: 102it [00:00, 121.72it/s]\n"
     ]
    },
    {
     "name": "stdout",
     "output_type": "stream",
     "text": [
      "Fetching data for target CHEMBL3789 (Glutamine synthetase)...\n"
     ]
    },
    {
     "name": "stderr",
     "output_type": "stream",
     "text": [
      "Processing CHEMBL3789: 21it [00:00, 25.48it/s]\n"
     ]
    },
    {
     "name": "stdout",
     "output_type": "stream",
     "text": [
      "Fetching data for target CHEMBL5089 (Glutamine synthetase)...\n"
     ]
    },
    {
     "name": "stderr",
     "output_type": "stream",
     "text": [
      "Processing CHEMBL5089: 1it [00:00,  1.21it/s]\n"
     ]
    },
    {
     "name": "stdout",
     "output_type": "stream",
     "text": [
      "Fetching data for target CHEMBL5218 (Glutamine synthetase)...\n"
     ]
    },
    {
     "name": "stderr",
     "output_type": "stream",
     "text": [
      "Processing CHEMBL5218: 2it [00:00,  2.43it/s]\n"
     ]
    },
    {
     "name": "stdout",
     "output_type": "stream",
     "text": [
      "Fetching data for target CHEMBL2366402 (Glutamine synthetase)...\n"
     ]
    },
    {
     "name": "stderr",
     "output_type": "stream",
     "text": [
      "Processing CHEMBL2366402: 2it [00:00,  2.18it/s]\n"
     ]
    },
    {
     "name": "stdout",
     "output_type": "stream",
     "text": [
      "Fetching data for target CHEMBL2366423 (Glutamine synthetase)...\n"
     ]
    },
    {
     "name": "stderr",
     "output_type": "stream",
     "text": [
      "Processing CHEMBL2366423: 3it [00:00,  3.63it/s]\n"
     ]
    },
    {
     "name": "stdout",
     "output_type": "stream",
     "text": [
      "Fetching data for target CHEMBL2366486 (Glutamine synthetase)...\n"
     ]
    },
    {
     "name": "stderr",
     "output_type": "stream",
     "text": [
      "Processing CHEMBL2366486: 84it [00:00, 93.09it/s]\n"
     ]
    },
    {
     "name": "stdout",
     "output_type": "stream",
     "text": [
      "Fetching data for target CHEMBL2366496 (Glutamine synthetase)...\n"
     ]
    },
    {
     "name": "stderr",
     "output_type": "stream",
     "text": [
      "Processing CHEMBL2366496: 2it [00:00,  2.51it/s]\n"
     ]
    },
    {
     "name": "stdout",
     "output_type": "stream",
     "text": [
      "Fetching data for target CHEMBL2903 (Arachidonate 15-lipoxygenase)...\n"
     ]
    },
    {
     "name": "stderr",
     "output_type": "stream",
     "text": [
      "Processing CHEMBL2903: 6819it [00:01, 5179.50it/s]\n"
     ]
    },
    {
     "name": "stdout",
     "output_type": "stream",
     "text": [
      "Fetching data for target CHEMBL4358 (Arachidonate 15-lipoxygenase)...\n"
     ]
    },
    {
     "name": "stderr",
     "output_type": "stream",
     "text": [
      "Processing CHEMBL4358: 324it [00:00, 363.49it/s]\n"
     ]
    },
    {
     "name": "stdout",
     "output_type": "stream",
     "text": [
      "Fetching data for target CHEMBL3259476 (Arachidonate 15-lipoxygenase)...\n"
     ]
    },
    {
     "name": "stderr",
     "output_type": "stream",
     "text": [
      "Processing CHEMBL3259476: 25it [00:00, 29.71it/s]\n"
     ]
    },
    {
     "name": "stdout",
     "output_type": "stream",
     "text": [
      "Fetching data for target CHEMBL4629 (Complement factor H)...\n"
     ]
    },
    {
     "name": "stderr",
     "output_type": "stream",
     "text": [
      "Processing CHEMBL4629: 1it [00:00,  1.18it/s]\n"
     ]
    },
    {
     "name": "stdout",
     "output_type": "stream",
     "text": [
      "Fetching data for target CHEMBL3378 (Tumor necrosis factor receptor R1)...\n"
     ]
    },
    {
     "name": "stderr",
     "output_type": "stream",
     "text": [
      "Processing CHEMBL3378: 158it [00:00, 177.14it/s]\n"
     ]
    },
    {
     "name": "stdout",
     "output_type": "stream",
     "text": [
      "Fetching data for target CHEMBL4079 (G-protein coupled receptor kinase 2)...\n"
     ]
    },
    {
     "name": "stderr",
     "output_type": "stream",
     "text": [
      "Processing CHEMBL4079: 1036it [00:00, 1120.92it/s]\n"
     ]
    },
    {
     "name": "stdout",
     "output_type": "stream",
     "text": [
      "Fetching data for target CHEMBL3687 (Arachidonate 12-lipoxygenase)...\n"
     ]
    },
    {
     "name": "stderr",
     "output_type": "stream",
     "text": [
      "Processing CHEMBL3687: 3212it [00:01, 3117.07it/s]\n"
     ]
    },
    {
     "name": "stdout",
     "output_type": "stream",
     "text": [
      "Fetching data for target CHEMBL2381 (Arachidonate 12-lipoxygenase)...\n"
     ]
    },
    {
     "name": "stderr",
     "output_type": "stream",
     "text": [
      "Processing CHEMBL2381: 25it [00:00, 30.08it/s]\n"
     ]
    },
    {
     "name": "stdout",
     "output_type": "stream",
     "text": [
      "Fetching data for target CHEMBL3225 (Arachidonate 12-lipoxygenase)...\n"
     ]
    },
    {
     "name": "stderr",
     "output_type": "stream",
     "text": [
      "Processing CHEMBL3225: 29it [00:00, 33.44it/s]\n"
     ]
    },
    {
     "name": "stdout",
     "output_type": "stream",
     "text": [
      "Fetching data for target CHEMBL2741 (Arachidonate 12-lipoxygenase)...\n"
     ]
    },
    {
     "name": "stderr",
     "output_type": "stream",
     "text": [
      "Processing CHEMBL2741: 51it [00:00, 57.93it/s]\n"
     ]
    },
    {
     "name": "stdout",
     "output_type": "stream",
     "text": [
      "Fetching data for target CHEMBL275 (Phosphodiesterase 4B)...\n"
     ]
    },
    {
     "name": "stderr",
     "output_type": "stream",
     "text": [
      "Processing CHEMBL275: 2608it [00:01, 2399.22it/s]\n"
     ]
    },
    {
     "name": "stdout",
     "output_type": "stream",
     "text": [
      "Fetching data for target CHEMBL3382 (Phosphodiesterase 4B)...\n"
     ]
    },
    {
     "name": "stderr",
     "output_type": "stream",
     "text": [
      "Processing CHEMBL3382: 42it [00:00, 49.51it/s]\n"
     ]
    },
    {
     "name": "stdout",
     "output_type": "stream",
     "text": [
      "Fetching data for target CHEMBL2272 (Phosphodiesterase 4B)...\n"
     ]
    },
    {
     "name": "stderr",
     "output_type": "stream",
     "text": [
      "Processing CHEMBL2272: 167it [00:00, 197.10it/s]\n"
     ]
    },
    {
     "name": "stdout",
     "output_type": "stream",
     "text": [
      "Fetching data for target CHEMBL2111388 (Beta-2 adrenergic receptor and beta-3 adrenergic receptor)...\n"
     ]
    },
    {
     "name": "stderr",
     "output_type": "stream",
     "text": [
      "Processing CHEMBL2111388: 173it [00:00, 211.93it/s]\n"
     ]
    },
    {
     "name": "stdout",
     "output_type": "stream",
     "text": [
      "Fetching data for target CHEMBL2111394 (RXR alpha/PPAR gamma)...\n"
     ]
    },
    {
     "name": "stderr",
     "output_type": "stream",
     "text": [
      "Processing CHEMBL2111394: 87it [00:00, 100.32it/s]\n"
     ]
    },
    {
     "name": "stdout",
     "output_type": "stream",
     "text": [
      "Fetching data for target CHEMBL2111351 (Serine/threonine-protein kinase RAF and Dual specificity mitogen-activated protein kinase kinase 1 (Raf/MEK))...\n"
     ]
    },
    {
     "name": "stderr",
     "output_type": "stream",
     "text": [
      "Processing CHEMBL2111351: 158it [00:00, 188.61it/s]\n"
     ]
    },
    {
     "name": "stdout",
     "output_type": "stream",
     "text": [
      "Fetching data for target CHEMBL3902 (Glutathione S-transferase Pi)...\n"
     ]
    },
    {
     "name": "stderr",
     "output_type": "stream",
     "text": [
      "Processing CHEMBL3902: 332it [00:00, 372.26it/s]\n"
     ]
    },
    {
     "name": "stdout",
     "output_type": "stream",
     "text": [
      "Fetching data for target CHEMBL4036 (Cyclin-dependent kinase 5)...\n"
     ]
    },
    {
     "name": "stderr",
     "output_type": "stream",
     "text": [
      "Processing CHEMBL4036: 2997it [00:01, 2962.42it/s]\n"
     ]
    },
    {
     "name": "stdout",
     "output_type": "stream",
     "text": [
      "Fetching data for target CHEMBL5169144 (Cyclin-dependent kinase 5)...\n"
     ]
    },
    {
     "name": "stderr",
     "output_type": "stream",
     "text": [
      "Processing CHEMBL5169144: 1it [00:00,  1.16it/s]\n"
     ]
    },
    {
     "name": "stdout",
     "output_type": "stream",
     "text": [
      "Fetching data for target CHEMBL2096618 (Bcr/Abl fusion protein)...\n"
     ]
    },
    {
     "name": "stderr",
     "output_type": "stream",
     "text": [
      "Processing CHEMBL2096618: 1476it [00:00, 1584.62it/s]\n"
     ]
    },
    {
     "name": "stdout",
     "output_type": "stream",
     "text": [
      "Fetching data for target CHEMBL4884 (Caspase-2)...\n"
     ]
    },
    {
     "name": "stderr",
     "output_type": "stream",
     "text": [
      "Processing CHEMBL4884: 151it [00:00, 175.60it/s]\n"
     ]
    },
    {
     "name": "stdout",
     "output_type": "stream",
     "text": [
      "Fetching data for target CHEMBL2226 (Caspase-4)...\n"
     ]
    },
    {
     "name": "stderr",
     "output_type": "stream",
     "text": [
      "Processing CHEMBL2226: 68it [00:00, 73.49it/s]\n"
     ]
    },
    {
     "name": "stdout",
     "output_type": "stream",
     "text": [
      "Fetching data for target CHEMBL1075276 (Caspase-4)...\n"
     ]
    },
    {
     "name": "stderr",
     "output_type": "stream",
     "text": [
      "Processing CHEMBL1075276: 4it [00:00,  4.83it/s]\n"
     ]
    },
    {
     "name": "stdout",
     "output_type": "stream",
     "text": [
      "Fetching data for target CHEMBL2434 (Interleukin-8 receptor B)...\n"
     ]
    },
    {
     "name": "stderr",
     "output_type": "stream",
     "text": [
      "Processing CHEMBL2434: 1762it [00:00, 1782.04it/s]\n"
     ]
    },
    {
     "name": "stdout",
     "output_type": "stream",
     "text": [
      "Fetching data for target CHEMBL1907590 (Neuronal acetylcholine receptor; alpha2/beta4)...\n"
     ]
    },
    {
     "name": "stderr",
     "output_type": "stream",
     "text": [
      "Processing CHEMBL1907590: 210it [00:00, 241.33it/s]\n"
     ]
    },
    {
     "name": "stdout",
     "output_type": "stream",
     "text": [
      "Fetching data for target CHEMBL2109230 (Neuronal acetylcholine receptor; alpha2/beta4)...\n"
     ]
    },
    {
     "name": "stderr",
     "output_type": "stream",
     "text": [
      "Processing CHEMBL2109230: 47it [00:00, 55.98it/s]\n"
     ]
    },
    {
     "name": "stdout",
     "output_type": "stream",
     "text": [
      "Fetching data for target CHEMBL2354 (Superoxide dismutase)...\n"
     ]
    },
    {
     "name": "stderr",
     "output_type": "stream",
     "text": [
      "Processing CHEMBL2354: 121it [00:00, 136.96it/s]\n"
     ]
    },
    {
     "name": "stdout",
     "output_type": "stream",
     "text": [
      "Fetching data for target CHEMBL4295602 (Superoxide dismutase)...\n"
     ]
    },
    {
     "name": "stderr",
     "output_type": "stream",
     "text": [
      "Processing CHEMBL4295602: 6it [00:00,  7.00it/s]\n"
     ]
    },
    {
     "name": "stdout",
     "output_type": "stream",
     "text": [
      "Fetching data for target CHEMBL4184 (Lysosomal acid lipase/cholesteryl ester hydrolase)...\n"
     ]
    },
    {
     "name": "stderr",
     "output_type": "stream",
     "text": [
      "Processing CHEMBL4184: 20it [00:00, 21.18it/s]\n"
     ]
    },
    {
     "name": "stdout",
     "output_type": "stream",
     "text": [
      "Fetching data for target CHEMBL2352 (Lysosomal acid lipase/cholesteryl ester hydrolase)...\n"
     ]
    },
    {
     "name": "stderr",
     "output_type": "stream",
     "text": [
      "Processing CHEMBL2352: 2it [00:00,  2.21it/s]\n"
     ]
    },
    {
     "name": "stdout",
     "output_type": "stream",
     "text": [
      "Fetching data for target CHEMBL3068 (Neuronal acetylcholine receptor subunit alpha-3)...\n"
     ]
    },
    {
     "name": "stderr",
     "output_type": "stream",
     "text": [
      "Processing CHEMBL3068: 51it [00:00, 52.95it/s]\n"
     ]
    },
    {
     "name": "stdout",
     "output_type": "stream",
     "text": [
      "Fetching data for target CHEMBL5317 (Neuronal acetylcholine receptor subunit alpha-3)...\n"
     ]
    },
    {
     "name": "stderr",
     "output_type": "stream",
     "text": [
      "Processing CHEMBL5317: 5it [00:00,  5.90it/s]\n"
     ]
    },
    {
     "name": "stdout",
     "output_type": "stream",
     "text": [
      "Fetching data for target CHEMBL2202 (Phosphatidylcholine-retinol O-acyltransferase)...\n"
     ]
    },
    {
     "name": "stderr",
     "output_type": "stream",
     "text": [
      "Processing CHEMBL2202: 7it [00:00,  8.16it/s]\n"
     ]
    },
    {
     "name": "stdout",
     "output_type": "stream",
     "text": [
      "Fetching data for target CHEMBL2096981 (Cannabinoid receptor)...\n"
     ]
    },
    {
     "name": "stderr",
     "output_type": "stream",
     "text": [
      "Processing CHEMBL2096981: 230it [00:00, 237.96it/s]\n"
     ]
    },
    {
     "name": "stdout",
     "output_type": "stream",
     "text": [
      "Fetching data for target CHEMBL2111415 (Cannabinoid receptor)...\n"
     ]
    },
    {
     "name": "stderr",
     "output_type": "stream",
     "text": [
      "Processing CHEMBL2111415: 442it [00:00, 486.17it/s]\n"
     ]
    },
    {
     "name": "stdout",
     "output_type": "stream",
     "text": [
      "Fetching data for target CHEMBL2111385 (Cannabinoid receptor)...\n"
     ]
    },
    {
     "name": "stderr",
     "output_type": "stream",
     "text": [
      "Processing CHEMBL2111385: 160it [00:00, 179.95it/s]\n"
     ]
    },
    {
     "name": "stdout",
     "output_type": "stream",
     "text": [
      "Fetching data for target CHEMBL2111405 (Nitric-oxide synthase (endothelial and brain))...\n"
     ]
    },
    {
     "name": "stderr",
     "output_type": "stream",
     "text": [
      "Processing CHEMBL2111405: 166it [00:00, 178.40it/s]\n"
     ]
    },
    {
     "name": "stdout",
     "output_type": "stream",
     "text": [
      "Fetching data for target CHEMBL1907587 (Neuronal acetylcholine receptor; alpha3/beta2)...\n"
     ]
    },
    {
     "name": "stderr",
     "output_type": "stream",
     "text": [
      "Processing CHEMBL1907587: 412it [00:00, 479.50it/s]\n"
     ]
    },
    {
     "name": "stdout",
     "output_type": "stream",
     "text": [
      "Fetching data for target CHEMBL2109234 (Neuronal acetylcholine receptor; alpha3/beta2)...\n"
     ]
    },
    {
     "name": "stderr",
     "output_type": "stream",
     "text": [
      "Processing CHEMBL2109234: 131it [00:00, 146.66it/s]\n"
     ]
    },
    {
     "name": "stdout",
     "output_type": "stream",
     "text": [
      "Fetching data for target CHEMBL2525 (Beta secretase 2)...\n"
     ]
    },
    {
     "name": "stderr",
     "output_type": "stream",
     "text": [
      "Processing CHEMBL2525: 1703it [00:00, 1731.81it/s]\n"
     ]
    },
    {
     "name": "stdout",
     "output_type": "stream",
     "text": [
      "Fetching data for target CHEMBL2015 (Glutamate (NMDA) receptor subunit zeta 1)...\n"
     ]
    },
    {
     "name": "stderr",
     "output_type": "stream",
     "text": [
      "Processing CHEMBL2015: 126it [00:00, 146.72it/s]\n"
     ]
    },
    {
     "name": "stdout",
     "output_type": "stream",
     "text": [
      "Fetching data for target CHEMBL330 (Glutamate (NMDA) receptor subunit zeta 1)...\n"
     ]
    },
    {
     "name": "stderr",
     "output_type": "stream",
     "text": [
      "Processing CHEMBL330: 2148it [00:01, 1726.66it/s]\n"
     ]
    },
    {
     "name": "stdout",
     "output_type": "stream",
     "text": [
      "Fetching data for target CHEMBL3451 (Glutamate (NMDA) receptor subunit zeta 1)...\n"
     ]
    },
    {
     "name": "stderr",
     "output_type": "stream",
     "text": [
      "Processing CHEMBL3451: 9it [00:00, 11.08it/s]\n"
     ]
    },
    {
     "name": "stdout",
     "output_type": "stream",
     "text": [
      "Fetching data for target CHEMBL4051 (Cystic fibrosis transmembrane conductance regulator)...\n"
     ]
    },
    {
     "name": "stderr",
     "output_type": "stream",
     "text": [
      "Processing CHEMBL4051: 1810it [00:00, 1865.58it/s]\n"
     ]
    },
    {
     "name": "stdout",
     "output_type": "stream",
     "text": [
      "Fetching data for target CHEMBL3992 (Cystic fibrosis transmembrane conductance regulator)...\n"
     ]
    },
    {
     "name": "stderr",
     "output_type": "stream",
     "text": [
      "Processing CHEMBL3992: 71it [00:00, 79.78it/s]\n"
     ]
    },
    {
     "name": "stdout",
     "output_type": "stream",
     "text": [
      "Fetching data for target CHEMBL3988611 (Cystic fibrosis transmembrane conductance regulator)...\n"
     ]
    },
    {
     "name": "stderr",
     "output_type": "stream",
     "text": [
      "Processing CHEMBL3988611: 36it [00:00, 42.97it/s]\n"
     ]
    },
    {
     "name": "stdout",
     "output_type": "stream",
     "text": [
      "Fetching data for target CHEMBL4046 (Inositol 1,4,5-trisphosphate receptor type 1)...\n"
     ]
    },
    {
     "name": "stderr",
     "output_type": "stream",
     "text": [
      "Processing CHEMBL4046: 23it [00:00, 26.46it/s]\n"
     ]
    },
    {
     "name": "stdout",
     "output_type": "stream",
     "text": [
      "Fetching data for target CHEMBL2804 (Inositol 1,4,5-trisphosphate receptor type 1)...\n"
     ]
    },
    {
     "name": "stderr",
     "output_type": "stream",
     "text": [
      "Processing CHEMBL2804: 238it [00:00, 273.25it/s]\n"
     ]
    },
    {
     "name": "stdout",
     "output_type": "stream",
     "text": [
      "Fetching data for target CHEMBL1972 (Glutamate [NMDA] receptor subunit epsilon 1)...\n"
     ]
    },
    {
     "name": "stderr",
     "output_type": "stream",
     "text": [
      "Processing CHEMBL1972: 107it [00:00, 115.29it/s]\n"
     ]
    },
    {
     "name": "stdout",
     "output_type": "stream",
     "text": [
      "Fetching data for target CHEMBL310 (Glutamate [NMDA] receptor subunit epsilon 1)...\n"
     ]
    },
    {
     "name": "stderr",
     "output_type": "stream",
     "text": [
      "Processing CHEMBL310: 140it [00:00, 167.02it/s]\n"
     ]
    },
    {
     "name": "stdout",
     "output_type": "stream",
     "text": [
      "Fetching data for target CHEMBL1904 (Glutamate [NMDA] receptor subunit epsilon 2)...\n"
     ]
    },
    {
     "name": "stderr",
     "output_type": "stream",
     "text": [
      "Processing CHEMBL1904: 481it [00:00, 555.72it/s]\n"
     ]
    },
    {
     "name": "stdout",
     "output_type": "stream",
     "text": [
      "Fetching data for target CHEMBL311 (Glutamate [NMDA] receptor subunit epsilon 2)...\n"
     ]
    },
    {
     "name": "stderr",
     "output_type": "stream",
     "text": [
      "Processing CHEMBL311: 861it [00:00, 936.37it/s]\n"
     ]
    },
    {
     "name": "stdout",
     "output_type": "stream",
     "text": [
      "Fetching data for target CHEMBL3442 (Glutamate [NMDA] receptor subunit epsilon 2)...\n"
     ]
    },
    {
     "name": "stderr",
     "output_type": "stream",
     "text": [
      "Processing CHEMBL3442: 88it [00:00, 99.62it/s]\n"
     ]
    },
    {
     "name": "stdout",
     "output_type": "stream",
     "text": [
      "Fetching data for target CHEMBL3105 (Poly [ADP-ribose] polymerase-1)...\n"
     ]
    },
    {
     "name": "stderr",
     "output_type": "stream",
     "text": [
      "Processing CHEMBL3105: 6150it [00:01, 4546.22it/s]\n"
     ]
    },
    {
     "name": "stdout",
     "output_type": "stream",
     "text": [
      "Fetching data for target CHEMBL3740 (Poly [ADP-ribose] polymerase-1)...\n"
     ]
    },
    {
     "name": "stderr",
     "output_type": "stream",
     "text": [
      "Processing CHEMBL3740: 159it [00:00, 190.34it/s]\n"
     ]
    },
    {
     "name": "stdout",
     "output_type": "stream",
     "text": [
      "Fetching data for target CHEMBL2392 (DNA polymerase beta)...\n"
     ]
    },
    {
     "name": "stderr",
     "output_type": "stream",
     "text": [
      "Processing CHEMBL2392: 23577it [00:01, 11827.64it/s]\n"
     ]
    },
    {
     "name": "stdout",
     "output_type": "stream",
     "text": [
      "Fetching data for target CHEMBL4565 (DNA polymerase beta)...\n"
     ]
    },
    {
     "name": "stderr",
     "output_type": "stream",
     "text": [
      "Processing CHEMBL4565: 44it [00:00, 49.62it/s]\n"
     ]
    },
    {
     "name": "stdout",
     "output_type": "stream",
     "text": [
      "Fetching data for target CHEMBL4343 (DNA polymerase beta)...\n"
     ]
    },
    {
     "name": "stderr",
     "output_type": "stream",
     "text": [
      "Processing CHEMBL4343: 173it [00:00, 208.54it/s]\n"
     ]
    },
    {
     "name": "stdout",
     "output_type": "stream",
     "text": [
      "Fetching data for target CHEMBL4039 (Choline acetylase)...\n"
     ]
    },
    {
     "name": "stderr",
     "output_type": "stream",
     "text": [
      "Processing CHEMBL4039: 58it [00:00, 67.21it/s]\n"
     ]
    },
    {
     "name": "stdout",
     "output_type": "stream",
     "text": [
      "Fetching data for target CHEMBL2944 (Choline acetylase)...\n"
     ]
    },
    {
     "name": "stderr",
     "output_type": "stream",
     "text": [
      "Processing CHEMBL2944: 17it [00:00, 19.15it/s]\n"
     ]
    },
    {
     "name": "stdout",
     "output_type": "stream",
     "text": [
      "Fetching data for target CHEMBL3945 (Choline acetylase)...\n"
     ]
    },
    {
     "name": "stderr",
     "output_type": "stream",
     "text": [
      "Processing CHEMBL3945: 173it [00:00, 211.24it/s]\n"
     ]
    },
    {
     "name": "stdout",
     "output_type": "stream",
     "text": [
      "Fetching data for target CHEMBL2023 (Catechol O-methyltransferase)...\n"
     ]
    },
    {
     "name": "stderr",
     "output_type": "stream",
     "text": [
      "Processing CHEMBL2023: 362it [00:00, 400.19it/s]\n"
     ]
    },
    {
     "name": "stdout",
     "output_type": "stream",
     "text": [
      "Fetching data for target CHEMBL2372 (Catechol O-methyltransferase)...\n"
     ]
    },
    {
     "name": "stderr",
     "output_type": "stream",
     "text": [
      "Processing CHEMBL2372: 635it [00:00, 725.63it/s]\n"
     ]
    },
    {
     "name": "stdout",
     "output_type": "stream",
     "text": [
      "Fetching data for target CHEMBL2176837 (Catechol O-methyltransferase)...\n"
     ]
    },
    {
     "name": "stderr",
     "output_type": "stream",
     "text": [
      "Processing CHEMBL2176837: 39it [00:00, 46.55it/s]\n"
     ]
    },
    {
     "name": "stdout",
     "output_type": "stream",
     "text": [
      "Fetching data for target CHEMBL3286068 (Catechol O-methyltransferase)...\n"
     ]
    },
    {
     "name": "stderr",
     "output_type": "stream",
     "text": [
      "Processing CHEMBL3286068: 91it [00:00, 112.97it/s]\n"
     ]
    },
    {
     "name": "stdout",
     "output_type": "stream",
     "text": [
      "Fetching data for target CHEMBL2111396 (Cathepsin (B and K))...\n"
     ]
    },
    {
     "name": "stderr",
     "output_type": "stream",
     "text": [
      "Processing CHEMBL2111396: 71it [00:00, 84.23it/s]\n"
     ]
    },
    {
     "name": "stdout",
     "output_type": "stream",
     "text": [
      "Fetching data for target CHEMBL4441 (C-X-C chemokine receptor type 3)...\n"
     ]
    },
    {
     "name": "stderr",
     "output_type": "stream",
     "text": [
      "Processing CHEMBL4441: 2515it [00:00, 2544.20it/s]\n"
     ]
    },
    {
     "name": "stdout",
     "output_type": "stream",
     "text": [
      "Fetching data for target CHEMBL5200 (C-X-C chemokine receptor type 3)...\n"
     ]
    },
    {
     "name": "stderr",
     "output_type": "stream",
     "text": [
      "Processing CHEMBL5200: 95it [00:00, 113.18it/s]\n"
     ]
    },
    {
     "name": "stdout",
     "output_type": "stream",
     "text": [
      "Fetching data for target CHEMBL1075172 (C-X-C chemokine receptor type 3)...\n"
     ]
    },
    {
     "name": "stderr",
     "output_type": "stream",
     "text": [
      "Processing CHEMBL1075172: 20it [00:00, 23.16it/s]\n"
     ]
    },
    {
     "name": "stdout",
     "output_type": "stream",
     "text": [
      "Fetching data for target CHEMBL1075194 (C-X-C chemokine receptor type 3)...\n"
     ]
    },
    {
     "name": "stderr",
     "output_type": "stream",
     "text": [
      "Processing CHEMBL1075194: 3it [00:00,  3.73it/s]\n"
     ]
    },
    {
     "name": "stdout",
     "output_type": "stream",
     "text": [
      "Fetching data for target CHEMBL1907604 (Glutamate NMDA receptor; GRIN1/GRIN2A)...\n"
     ]
    },
    {
     "name": "stderr",
     "output_type": "stream",
     "text": [
      "Processing CHEMBL1907604: 647it [00:00, 725.48it/s]\n"
     ]
    },
    {
     "name": "stdout",
     "output_type": "stream",
     "text": [
      "Fetching data for target CHEMBL2096680 (Glutamate NMDA receptor; GRIN1/GRIN2A)...\n"
     ]
    },
    {
     "name": "stderr",
     "output_type": "stream",
     "text": [
      "Processing CHEMBL2096680: 612it [00:00, 691.21it/s]\n"
     ]
    },
    {
     "name": "stdout",
     "output_type": "stream",
     "text": [
      "Fetching data for target CHEMBL1907603 (Glutamate NMDA receptor; GRIN1/GRIN2B)...\n"
     ]
    },
    {
     "name": "stderr",
     "output_type": "stream",
     "text": [
      "Processing CHEMBL1907603: 674it [00:00, 795.99it/s]\n"
     ]
    },
    {
     "name": "stdout",
     "output_type": "stream",
     "text": [
      "Fetching data for target CHEMBL2096666 (Glutamate NMDA receptor; GRIN1/GRIN2B)...\n"
     ]
    },
    {
     "name": "stderr",
     "output_type": "stream",
     "text": [
      "Processing CHEMBL2096666: 846it [00:00, 988.81it/s]\n"
     ]
    },
    {
     "name": "stdout",
     "output_type": "stream",
     "text": [
      "Fetching data for target CHEMBL5491 (Serine/threonine-protein kinase WEE1)...\n"
     ]
    },
    {
     "name": "stderr",
     "output_type": "stream",
     "text": [
      "Processing CHEMBL5491: 1766it [00:00, 1852.72it/s]\n"
     ]
    },
    {
     "name": "stdout",
     "output_type": "stream",
     "text": [
      "Fetching data for target CHEMBL3201 (Aryl hydrocarbon receptor)...\n"
     ]
    },
    {
     "name": "stderr",
     "output_type": "stream",
     "text": [
      "Processing CHEMBL3201: 899it [00:00, 1044.48it/s]\n"
     ]
    },
    {
     "name": "stdout",
     "output_type": "stream",
     "text": [
      "Fetching data for target CHEMBL4725 (Aryl hydrocarbon receptor)...\n"
     ]
    },
    {
     "name": "stderr",
     "output_type": "stream",
     "text": [
      "Processing CHEMBL4725: 25it [00:00, 29.33it/s]\n"
     ]
    },
    {
     "name": "stdout",
     "output_type": "stream",
     "text": [
      "Fetching data for target CHEMBL5400 (Aryl hydrocarbon receptor)...\n"
     ]
    },
    {
     "name": "stderr",
     "output_type": "stream",
     "text": [
      "Processing CHEMBL5400: 4it [00:00,  4.77it/s]\n"
     ]
    },
    {
     "name": "stdout",
     "output_type": "stream",
     "text": [
      "Fetching data for target CHEMBL6099 (Aryl hydrocarbon receptor)...\n"
     ]
    },
    {
     "name": "stderr",
     "output_type": "stream",
     "text": [
      "Processing CHEMBL6099: 93it [00:00, 111.81it/s]\n"
     ]
    },
    {
     "name": "stdout",
     "output_type": "stream",
     "text": [
      "Fetching data for target CHEMBL4523513 (Aryl hydrocarbon receptor)...\n"
     ]
    },
    {
     "name": "stderr",
     "output_type": "stream",
     "text": [
      "Processing CHEMBL4523513: 5it [00:00,  5.96it/s]\n"
     ]
    },
    {
     "name": "stdout",
     "output_type": "stream",
     "text": [
      "Fetching data for target CHEMBL1909489 (Collagenase)...\n"
     ]
    },
    {
     "name": "stderr",
     "output_type": "stream",
     "text": [
      "Processing CHEMBL1909489: 8it [00:00,  9.71it/s]\n"
     ]
    },
    {
     "name": "stdout",
     "output_type": "stream",
     "text": [
      "Fetching data for target CHEMBL2095216 (Collagenase)...\n"
     ]
    },
    {
     "name": "stderr",
     "output_type": "stream",
     "text": [
      "Processing CHEMBL2095216: 148it [00:00, 164.31it/s]\n"
     ]
    },
    {
     "name": "stdout",
     "output_type": "stream",
     "text": [
      "Fetching data for target CHEMBL2268009 (Collagenase)...\n"
     ]
    },
    {
     "name": "stderr",
     "output_type": "stream",
     "text": [
      "Processing CHEMBL2268009: 13it [00:00, 16.13it/s]\n"
     ]
    },
    {
     "name": "stdout",
     "output_type": "stream",
     "text": [
      "Fetching data for target CHEMBL1935 (Aldehyde dehydrogenase)...\n"
     ]
    },
    {
     "name": "stderr",
     "output_type": "stream",
     "text": [
      "Processing CHEMBL1935: 428it [00:00, 469.75it/s]\n"
     ]
    },
    {
     "name": "stdout",
     "output_type": "stream",
     "text": [
      "Fetching data for target CHEMBL2812 (Aldehyde dehydrogenase)...\n"
     ]
    },
    {
     "name": "stderr",
     "output_type": "stream",
     "text": [
      "Processing CHEMBL2812: 15it [00:00, 16.90it/s]\n"
     ]
    },
    {
     "name": "stdout",
     "output_type": "stream",
     "text": [
      "Fetching data for target CHEMBL3542434 (Aldehyde dehydrogenase)...\n"
     ]
    },
    {
     "name": "stderr",
     "output_type": "stream",
     "text": [
      "Processing CHEMBL3542434: 0it [00:00, ?it/s]\n"
     ]
    },
    {
     "name": "stdout",
     "output_type": "stream",
     "text": [
      "Fetching data for target CHEMBL3009 (Receptor protein-tyrosine kinase erbB-4)...\n"
     ]
    },
    {
     "name": "stderr",
     "output_type": "stream",
     "text": [
      "Processing CHEMBL3009: 2747it [00:01, 2708.11it/s]\n"
     ]
    },
    {
     "name": "stdout",
     "output_type": "stream",
     "text": [
      "Fetching data for target CHEMBL2111367 (PI3-kinase p110-alpha/p85-alpha)...\n"
     ]
    },
    {
     "name": "stderr",
     "output_type": "stream",
     "text": [
      "Processing CHEMBL2111367: 2569it [00:01, 2335.10it/s]\n"
     ]
    },
    {
     "name": "stdout",
     "output_type": "stream",
     "text": [
      "Fetching data for target CHEMBL2231 (Cytochrome P450 1A1)...\n"
     ]
    },
    {
     "name": "stderr",
     "output_type": "stream",
     "text": [
      "Processing CHEMBL2231: 1094it [00:00, 1187.66it/s]\n"
     ]
    },
    {
     "name": "stdout",
     "output_type": "stream",
     "text": [
      "Fetching data for target CHEMBL2922 (Cytochrome P450 1A1)...\n"
     ]
    },
    {
     "name": "stderr",
     "output_type": "stream",
     "text": [
      "Processing CHEMBL2922: 88it [00:00, 102.63it/s]\n"
     ]
    },
    {
     "name": "stdout",
     "output_type": "stream",
     "text": [
      "Fetching data for target CHEMBL6171 (Cytochrome P450 1A1)...\n"
     ]
    },
    {
     "name": "stderr",
     "output_type": "stream",
     "text": [
      "Processing CHEMBL6171: 56it [00:00, 67.72it/s]\n"
     ]
    },
    {
     "name": "stdout",
     "output_type": "stream",
     "text": [
      "Fetching data for target CHEMBL2227 (Proenkephalin B)...\n"
     ]
    },
    {
     "name": "stderr",
     "output_type": "stream",
     "text": [
      "Processing CHEMBL2227: 1it [00:00,  1.19it/s]\n"
     ]
    },
    {
     "name": "stdout",
     "output_type": "stream",
     "text": [
      "Fetching data for target CHEMBL2111402 (5-lipoxygenase/FLAP)...\n"
     ]
    },
    {
     "name": "stderr",
     "output_type": "stream",
     "text": [
      "Processing CHEMBL2111402: 82it [00:00, 96.85it/s]\n"
     ]
    },
    {
     "name": "stdout",
     "output_type": "stream",
     "text": [
      "Fetching data for target CHEMBL3311 (LDL receptor)...\n"
     ]
    },
    {
     "name": "stderr",
     "output_type": "stream",
     "text": [
      "Processing CHEMBL3311: 153it [00:00, 169.49it/s]\n"
     ]
    },
    {
     "name": "stdout",
     "output_type": "stream",
     "text": [
      "Fetching data for target CHEMBL2157 (Interleukin-8)...\n"
     ]
    },
    {
     "name": "stderr",
     "output_type": "stream",
     "text": [
      "Processing CHEMBL2157: 629it [00:00, 688.83it/s]\n"
     ]
    },
    {
     "name": "stdout",
     "output_type": "stream",
     "text": [
      "Fetching data for target CHEMBL2439 (Myeloperoxidase)...\n"
     ]
    },
    {
     "name": "stderr",
     "output_type": "stream",
     "text": [
      "Processing CHEMBL2439: 912it [00:00, 1005.18it/s]\n"
     ]
    },
    {
     "name": "stdout",
     "output_type": "stream",
     "text": [
      "Fetching data for target CHEMBL2440 (Myeloperoxidase)...\n"
     ]
    },
    {
     "name": "stderr",
     "output_type": "stream",
     "text": [
      "Processing CHEMBL2440: 10it [00:00, 11.58it/s]\n"
     ]
    },
    {
     "name": "stdout",
     "output_type": "stream",
     "text": [
      "Fetching data for target CHEMBL4101 (cAMP-dependent protein kinase alpha-catalytic subunit)...\n"
     ]
    },
    {
     "name": "stderr",
     "output_type": "stream",
     "text": [
      "Processing CHEMBL4101: 3486it [00:01, 3397.12it/s]\n"
     ]
    },
    {
     "name": "stdout",
     "output_type": "stream",
     "text": [
      "Fetching data for target CHEMBL2654 (cAMP-dependent protein kinase alpha-catalytic subunit)...\n"
     ]
    },
    {
     "name": "stderr",
     "output_type": "stream",
     "text": [
      "Processing CHEMBL2654: 43it [00:00, 51.45it/s]\n"
     ]
    },
    {
     "name": "stdout",
     "output_type": "stream",
     "text": [
      "Fetching data for target CHEMBL3390 (cAMP-dependent protein kinase alpha-catalytic subunit)...\n"
     ]
    },
    {
     "name": "stderr",
     "output_type": "stream",
     "text": [
      "Processing CHEMBL3390: 36it [00:00, 40.59it/s]\n"
     ]
    },
    {
     "name": "stdout",
     "output_type": "stream",
     "text": [
      "Fetching data for target CHEMBL4885 (cAMP-dependent protein kinase alpha-catalytic subunit)...\n"
     ]
    },
    {
     "name": "stderr",
     "output_type": "stream",
     "text": [
      "Processing CHEMBL4885: 26it [00:00, 31.32it/s]\n"
     ]
    },
    {
     "name": "stdout",
     "output_type": "stream",
     "text": [
      "Fetching data for target CHEMBL4869 (Prion protein)...\n"
     ]
    },
    {
     "name": "stderr",
     "output_type": "stream",
     "text": [
      "Processing CHEMBL4869: 391it [00:00, 456.72it/s]\n"
     ]
    },
    {
     "name": "stdout",
     "output_type": "stream",
     "text": [
      "Fetching data for target CHEMBL3698 (Prion protein)...\n"
     ]
    },
    {
     "name": "stderr",
     "output_type": "stream",
     "text": [
      "Processing CHEMBL3698: 244it [00:00, 288.39it/s]\n"
     ]
    },
    {
     "name": "stdout",
     "output_type": "stream",
     "text": [
      "Fetching data for target CHEMBL4762 (Low affinity neurotrophin receptor p75NTR)...\n"
     ]
    },
    {
     "name": "stderr",
     "output_type": "stream",
     "text": [
      "Processing CHEMBL4762: 19it [00:00, 23.60it/s]\n"
     ]
    },
    {
     "name": "stdout",
     "output_type": "stream",
     "text": [
      "Fetching data for target CHEMBL2193 (Cerebroside-sulfatase)...\n"
     ]
    },
    {
     "name": "stderr",
     "output_type": "stream",
     "text": [
      "Processing CHEMBL2193: 650it [00:00, 726.58it/s]\n"
     ]
    },
    {
     "name": "stdout",
     "output_type": "stream",
     "text": [
      "Fetching data for target CHEMBL3959 (Quinone reductase 2)...\n"
     ]
    },
    {
     "name": "stderr",
     "output_type": "stream",
     "text": [
      "Processing CHEMBL3959: 763it [00:00, 811.37it/s]\n"
     ]
    },
    {
     "name": "stdout",
     "output_type": "stream",
     "text": [
      "Fetching data for target CHEMBL3642 (Suv3 helicase)...\n"
     ]
    },
    {
     "name": "stderr",
     "output_type": "stream",
     "text": [
      "Processing CHEMBL3642: 20it [00:00, 24.87it/s]\n"
     ]
    },
    {
     "name": "stdout",
     "output_type": "stream",
     "text": [
      "Fetching data for target CHEMBL4501 (Ribosomal protein S6 kinase 1)...\n"
     ]
    },
    {
     "name": "stderr",
     "output_type": "stream",
     "text": [
      "Processing CHEMBL4501: 4526it [00:01, 3946.04it/s]\n"
     ]
    },
    {
     "name": "stdout",
     "output_type": "stream",
     "text": [
      "Fetching data for target CHEMBL4929 (Serum amyloid P-component)...\n"
     ]
    },
    {
     "name": "stderr",
     "output_type": "stream",
     "text": [
      "Processing CHEMBL4929: 227it [00:00, 264.72it/s]\n"
     ]
    },
    {
     "name": "stdout",
     "output_type": "stream",
     "text": [
      "Fetching data for target CHEMBL2632 (HLA class I histocompatibility antigen A-3)...\n"
     ]
    },
    {
     "name": "stderr",
     "output_type": "stream",
     "text": [
      "Processing CHEMBL2632: 159it [00:00, 191.95it/s]\n"
     ]
    },
    {
     "name": "stdout",
     "output_type": "stream",
     "text": [
      "Fetching data for target CHEMBL2120 (Acidic fibroblast growth factor)...\n"
     ]
    },
    {
     "name": "stderr",
     "output_type": "stream",
     "text": [
      "Processing CHEMBL2120: 130it [00:00, 153.61it/s]\n"
     ]
    },
    {
     "name": "stdout",
     "output_type": "stream",
     "text": [
      "Fetching data for target CHEMBL3831291 (HLA class II histocompatibility antigen, DRB1-15 beta chain)...\n"
     ]
    },
    {
     "name": "stderr",
     "output_type": "stream",
     "text": [
      "Processing CHEMBL3831291: 116it [00:00, 140.18it/s]\n"
     ]
    },
    {
     "name": "stdout",
     "output_type": "stream",
     "text": [
      "Fetching data for target CHEMBL2288 (Peptidyl-prolyl cis-trans isomerase NIMA-interacting 1)...\n"
     ]
    },
    {
     "name": "stderr",
     "output_type": "stream",
     "text": [
      "Processing CHEMBL2288: 36571it [00:02, 12637.97it/s]\n"
     ]
    },
    {
     "name": "stdout",
     "output_type": "stream",
     "text": [
      "Fetching data for target CHEMBL3240 (Insulin-like growth factor II receptor)...\n"
     ]
    },
    {
     "name": "stderr",
     "output_type": "stream",
     "text": [
      "Processing CHEMBL3240: 19it [00:00, 21.96it/s]\n"
     ]
    },
    {
     "name": "stdout",
     "output_type": "stream",
     "text": [
      "Fetching data for target CHEMBL2111371 (PPAR delta/gamma)...\n"
     ]
    },
    {
     "name": "stderr",
     "output_type": "stream",
     "text": [
      "Processing CHEMBL2111371: 116it [00:00, 138.40it/s]\n"
     ]
    },
    {
     "name": "stdout",
     "output_type": "stream",
     "text": [
      "Fetching data for target CHEMBL1907592 (Neuronal acetylcholine receptor; alpha2/beta2)...\n"
     ]
    },
    {
     "name": "stderr",
     "output_type": "stream",
     "text": [
      "Processing CHEMBL1907592: 201it [00:00, 217.94it/s]\n"
     ]
    },
    {
     "name": "stdout",
     "output_type": "stream",
     "text": [
      "Fetching data for target CHEMBL2109236 (Neuronal acetylcholine receptor; alpha2/beta2)...\n"
     ]
    },
    {
     "name": "stderr",
     "output_type": "stream",
     "text": [
      "Processing CHEMBL2109236: 25it [00:00, 27.65it/s]\n"
     ]
    },
    {
     "name": "stdout",
     "output_type": "stream",
     "text": [
      "Fetching data for target CHEMBL1907611 (Tumour suppressor p53/oncoprotein Mdm2)...\n"
     ]
    },
    {
     "name": "stderr",
     "output_type": "stream",
     "text": [
      "Processing CHEMBL1907611: 1918it [00:01, 1847.87it/s]\n"
     ]
    },
    {
     "name": "stdout",
     "output_type": "stream",
     "text": [
      "Fetching data for target CHEMBL4411 (Prostaglandin E synthase 2)...\n"
     ]
    },
    {
     "name": "stderr",
     "output_type": "stream",
     "text": [
      "Processing CHEMBL4411: 323it [00:00, 356.09it/s]\n"
     ]
    },
    {
     "name": "stdout",
     "output_type": "stream",
     "text": [
      "Fetching data for target CHEMBL4879487 (Prostaglandin E synthase 2)...\n"
     ]
    },
    {
     "name": "stderr",
     "output_type": "stream",
     "text": [
      "Processing CHEMBL4879487: 2it [00:00,  2.18it/s]\n"
     ]
    },
    {
     "name": "stdout",
     "output_type": "stream",
     "text": [
      "Fetching data for target CHEMBL2828 (Casein kinase I delta)...\n"
     ]
    },
    {
     "name": "stderr",
     "output_type": "stream",
     "text": [
      "Processing CHEMBL2828: 4585it [00:01, 4129.24it/s]\n"
     ]
    },
    {
     "name": "stdout",
     "output_type": "stream",
     "text": [
      "Fetching data for target CHEMBL4484 (Casein kinase I delta)...\n"
     ]
    },
    {
     "name": "stderr",
     "output_type": "stream",
     "text": [
      "Processing CHEMBL4484: 88it [00:00, 108.74it/s]\n"
     ]
    },
    {
     "name": "stdout",
     "output_type": "stream",
     "text": [
      "Fetching data for target CHEMBL5175 (Casein kinase I delta)...\n"
     ]
    },
    {
     "name": "stderr",
     "output_type": "stream",
     "text": [
      "Processing CHEMBL5175: 4it [00:00,  4.53it/s]\n"
     ]
    },
    {
     "name": "stdout",
     "output_type": "stream",
     "text": [
      "Fetching data for target CHEMBL3344 (Fatty acid binding protein muscle)...\n"
     ]
    },
    {
     "name": "stderr",
     "output_type": "stream",
     "text": [
      "Processing CHEMBL3344: 260it [00:00, 280.72it/s]\n"
     ]
    },
    {
     "name": "stdout",
     "output_type": "stream",
     "text": [
      "Fetching data for target CHEMBL2318 (ADAMTS4)...\n"
     ]
    },
    {
     "name": "stderr",
     "output_type": "stream",
     "text": [
      "Processing CHEMBL2318: 410it [00:00, 415.02it/s]\n"
     ]
    },
    {
     "name": "stdout",
     "output_type": "stream",
     "text": [
      "Fetching data for target CHEMBL3874 (ADAMTS4)...\n"
     ]
    },
    {
     "name": "stderr",
     "output_type": "stream",
     "text": [
      "Processing CHEMBL3874: 8it [00:00,  8.63it/s]\n"
     ]
    },
    {
     "name": "stdout",
     "output_type": "stream",
     "text": [
      "Fetching data for target CHEMBL5030 (ADAM12)...\n"
     ]
    },
    {
     "name": "stderr",
     "output_type": "stream",
     "text": [
      "Processing CHEMBL5030: 5it [00:00,  5.72it/s]\n"
     ]
    },
    {
     "name": "stdout",
     "output_type": "stream",
     "text": [
      "Fetching data for target CHEMBL5028 (ADAM10)...\n"
     ]
    },
    {
     "name": "stderr",
     "output_type": "stream",
     "text": [
      "Processing CHEMBL5028: 359it [00:00, 401.89it/s]\n"
     ]
    },
    {
     "name": "stdout",
     "output_type": "stream",
     "text": [
      "Fetching data for target CHEMBL5146 (Breakpoint cluster region protein)...\n"
     ]
    },
    {
     "name": "stderr",
     "output_type": "stream",
     "text": [
      "Processing CHEMBL5146: 251it [00:00, 279.47it/s]\n"
     ]
    },
    {
     "name": "stdout",
     "output_type": "stream",
     "text": [
      "Fetching data for target CHEMBL4300 (S-100 protein beta chain)...\n"
     ]
    },
    {
     "name": "stderr",
     "output_type": "stream",
     "text": [
      "Processing CHEMBL4300: 29it [00:00, 34.01it/s]\n"
     ]
    },
    {
     "name": "stdout",
     "output_type": "stream",
     "text": [
      "Fetching data for target CHEMBL5026 (Serine/threonine-protein kinase EEF2K)...\n"
     ]
    },
    {
     "name": "stderr",
     "output_type": "stream",
     "text": [
      "Processing CHEMBL5026: 1234it [00:00, 1359.71it/s]\n"
     ]
    },
    {
     "name": "stdout",
     "output_type": "stream",
     "text": [
      "Fetching data for target CHEMBL4093 (LXR-beta)...\n"
     ]
    },
    {
     "name": "stderr",
     "output_type": "stream",
     "text": [
      "Processing CHEMBL4093: 3399it [00:01, 3238.55it/s]\n"
     ]
    },
    {
     "name": "stdout",
     "output_type": "stream",
     "text": [
      "Fetching data for target CHEMBL4530 (Coagulation factor XIII)...\n"
     ]
    },
    {
     "name": "stderr",
     "output_type": "stream",
     "text": [
      "Processing CHEMBL4530: 197it [00:00, 243.64it/s]\n"
     ]
    },
    {
     "name": "stdout",
     "output_type": "stream",
     "text": [
      "Fetching data for target CHEMBL4581 (Kinesin-like protein 1)...\n"
     ]
    },
    {
     "name": "stderr",
     "output_type": "stream",
     "text": [
      "Processing CHEMBL4581: 1568it [00:00, 1674.51it/s]\n"
     ]
    },
    {
     "name": "stdout",
     "output_type": "stream",
     "text": [
      "Fetching data for target CHEMBL4848 (Eukaryotic translation initation factor)...\n"
     ]
    },
    {
     "name": "stderr",
     "output_type": "stream",
     "text": [
      "Processing CHEMBL4848: 459it [00:00, 499.34it/s]\n"
     ]
    },
    {
     "name": "stdout",
     "output_type": "stream",
     "text": [
      "Fetching data for target CHEMBL4742 (Guanine nucleotide-binding protein G(o), alpha subunit 1)...\n"
     ]
    },
    {
     "name": "stderr",
     "output_type": "stream",
     "text": [
      "Processing CHEMBL4742: 69it [00:00, 84.04it/s]\n"
     ]
    },
    {
     "name": "stdout",
     "output_type": "stream",
     "text": [
      "Fetching data for target CHEMBL4147 (CaM kinase II alpha)...\n"
     ]
    },
    {
     "name": "stderr",
     "output_type": "stream",
     "text": [
      "Processing CHEMBL4147: 1921it [00:00, 2036.06it/s]\n"
     ]
    },
    {
     "name": "stdout",
     "output_type": "stream",
     "text": [
      "Fetching data for target CHEMBL2359 (CaM kinase II alpha)...\n"
     ]
    },
    {
     "name": "stderr",
     "output_type": "stream",
     "text": [
      "Processing CHEMBL2359: 106it [00:00, 126.16it/s]\n"
     ]
    },
    {
     "name": "stdout",
     "output_type": "stream",
     "text": [
      "Fetching data for target CHEMBL3987 (Ephrin type-A receptor 5)...\n"
     ]
    },
    {
     "name": "stderr",
     "output_type": "stream",
     "text": [
      "Processing CHEMBL3987: 1068it [00:00, 1212.20it/s]\n"
     ]
    },
    {
     "name": "stdout",
     "output_type": "stream",
     "text": [
      "Fetching data for target CHEMBL4739679 (Ephrin type-A receptor 5)...\n"
     ]
    },
    {
     "name": "stderr",
     "output_type": "stream",
     "text": [
      "Processing CHEMBL4739679: 1it [00:00,  1.28it/s]\n"
     ]
    },
    {
     "name": "stdout",
     "output_type": "stream",
     "text": [
      "Fetching data for target CHEMBL5109 (CaM kinase II gamma)...\n"
     ]
    },
    {
     "name": "stderr",
     "output_type": "stream",
     "text": [
      "Processing CHEMBL5109: 1it [00:00,  1.19it/s]\n"
     ]
    },
    {
     "name": "stdout",
     "output_type": "stream",
     "text": [
      "Fetching data for target CHEMBL3829 (CaM kinase II gamma)...\n"
     ]
    },
    {
     "name": "stderr",
     "output_type": "stream",
     "text": [
      "Processing CHEMBL3829: 1747it [00:00, 1859.78it/s]\n"
     ]
    },
    {
     "name": "stdout",
     "output_type": "stream",
     "text": [
      "Fetching data for target CHEMBL2493 (CaM kinase I alpha)...\n"
     ]
    },
    {
     "name": "stderr",
     "output_type": "stream",
     "text": [
      "Processing CHEMBL2493: 1684it [00:00, 1860.91it/s]\n"
     ]
    },
    {
     "name": "stdout",
     "output_type": "stream",
     "text": [
      "Fetching data for target CHEMBL5560 (CaM kinase I alpha)...\n"
     ]
    },
    {
     "name": "stderr",
     "output_type": "stream",
     "text": [
      "Processing CHEMBL5560: 14it [00:00, 16.63it/s]\n"
     ]
    },
    {
     "name": "stdout",
     "output_type": "stream",
     "text": [
      "Fetching data for target CHEMBL4600 (Serine/threonine-protein kinase PAK 1)...\n"
     ]
    },
    {
     "name": "stderr",
     "output_type": "stream",
     "text": [
      "Processing CHEMBL4600: 2578it [00:01, 2552.12it/s]\n"
     ]
    },
    {
     "name": "stdout",
     "output_type": "stream",
     "text": [
      "Fetching data for target CHEMBL3580528 (Serine/threonine-protein kinase PAK 1)...\n"
     ]
    },
    {
     "name": "stderr",
     "output_type": "stream",
     "text": [
      "Processing CHEMBL3580528: 0it [00:00, ?it/s]\n"
     ]
    },
    {
     "name": "stdout",
     "output_type": "stream",
     "text": [
      "Fetching data for target CHEMBL4295682 (Serine/threonine-protein kinase PAK 1)...\n"
     ]
    },
    {
     "name": "stderr",
     "output_type": "stream",
     "text": [
      "Processing CHEMBL4295682: 3it [00:00,  3.53it/s]\n"
     ]
    },
    {
     "name": "stdout",
     "output_type": "stream",
     "text": [
      "Fetching data for target CHEMBL4506 (NAD-dependent deacetylase sirtuin 1)...\n"
     ]
    },
    {
     "name": "stderr",
     "output_type": "stream",
     "text": [
      "Processing CHEMBL4506: 2724it [00:01, 2364.37it/s]\n"
     ]
    },
    {
     "name": "stdout",
     "output_type": "stream",
     "text": [
      "Fetching data for target CHEMBL5255 (Toll-like receptor 4)...\n"
     ]
    },
    {
     "name": "stderr",
     "output_type": "stream",
     "text": [
      "Processing CHEMBL5255: 556it [00:00, 651.39it/s]\n"
     ]
    },
    {
     "name": "stdout",
     "output_type": "stream",
     "text": [
      "Fetching data for target CHEMBL1795167 (Toll-like receptor 4)...\n"
     ]
    },
    {
     "name": "stderr",
     "output_type": "stream",
     "text": [
      "Processing CHEMBL1795167: 381it [00:00, 470.38it/s]\n"
     ]
    },
    {
     "name": "stdout",
     "output_type": "stream",
     "text": [
      "Fetching data for target CHEMBL4523480 (Toll-like receptor 4)...\n"
     ]
    },
    {
     "name": "stderr",
     "output_type": "stream",
     "text": [
      "Processing CHEMBL4523480: 9it [00:00,  9.51it/s]\n"
     ]
    },
    {
     "name": "stdout",
     "output_type": "stream",
     "text": [
      "Fetching data for target CHEMBL4408 (Phosphodiesterase 8B)...\n"
     ]
    },
    {
     "name": "stderr",
     "output_type": "stream",
     "text": [
      "Processing CHEMBL4408: 191it [00:00, 216.43it/s]\n"
     ]
    },
    {
     "name": "stdout",
     "output_type": "stream",
     "text": [
      "Fetching data for target CHEMBL1893 (Synaptic vesicular amine transporter)...\n"
     ]
    },
    {
     "name": "stderr",
     "output_type": "stream",
     "text": [
      "Processing CHEMBL1893: 117it [00:00, 137.21it/s]\n"
     ]
    },
    {
     "name": "stdout",
     "output_type": "stream",
     "text": [
      "Fetching data for target CHEMBL4828 (Synaptic vesicular amine transporter)...\n"
     ]
    },
    {
     "name": "stderr",
     "output_type": "stream",
     "text": [
      "Processing CHEMBL4828: 626it [00:00, 740.11it/s]\n"
     ]
    },
    {
     "name": "stdout",
     "output_type": "stream",
     "text": [
      "Fetching data for target CHEMBL4271 (Synaptic vesicular amine transporter)...\n"
     ]
    },
    {
     "name": "stderr",
     "output_type": "stream",
     "text": [
      "Processing CHEMBL4271: 109it [00:00, 134.44it/s]\n"
     ]
    },
    {
     "name": "stdout",
     "output_type": "stream",
     "text": [
      "Fetching data for target CHEMBL4295886 (Synaptic vesicular amine transporter)...\n"
     ]
    },
    {
     "name": "stderr",
     "output_type": "stream",
     "text": [
      "Processing CHEMBL4295886: 14it [00:00, 17.68it/s]\n"
     ]
    },
    {
     "name": "stdout",
     "output_type": "stream",
     "text": [
      "Fetching data for target CHEMBL4677 (Apoptosis regulator Bcl-W)...\n"
     ]
    },
    {
     "name": "stderr",
     "output_type": "stream",
     "text": [
      "Processing CHEMBL4677: 112it [00:00, 132.07it/s]\n"
     ]
    },
    {
     "name": "stdout",
     "output_type": "stream",
     "text": [
      "Fetching data for target CHEMBL3618 (Coagulation factor V)...\n"
     ]
    },
    {
     "name": "stderr",
     "output_type": "stream",
     "text": [
      "Processing CHEMBL3618: 42it [00:00, 50.07it/s]\n"
     ]
    },
    {
     "name": "stdout",
     "output_type": "stream",
     "text": [
      "Fetching data for target CHEMBL5133 (ADAMTS1)...\n"
     ]
    },
    {
     "name": "stderr",
     "output_type": "stream",
     "text": [
      "Processing CHEMBL5133: 30it [00:00, 34.75it/s]\n"
     ]
    },
    {
     "name": "stdout",
     "output_type": "stream",
     "text": [
      "Fetching data for target CHEMBL4898 (Neurotrophic tyrosine kinase receptor type 2)...\n"
     ]
    },
    {
     "name": "stderr",
     "output_type": "stream",
     "text": [
      "Processing CHEMBL4898: 3216it [00:00, 3236.81it/s]\n"
     ]
    },
    {
     "name": "stdout",
     "output_type": "stream",
     "text": [
      "Fetching data for target CHEMBL1854 (Luteinizing hormone/Choriogonadotropin receptor)...\n"
     ]
    },
    {
     "name": "stderr",
     "output_type": "stream",
     "text": [
      "Processing CHEMBL1854: 333it [00:00, 352.65it/s]\n"
     ]
    },
    {
     "name": "stdout",
     "output_type": "stream",
     "text": [
      "Fetching data for target CHEMBL2456 (Luteinizing hormone/Choriogonadotropin receptor)...\n"
     ]
    },
    {
     "name": "stderr",
     "output_type": "stream",
     "text": [
      "Processing CHEMBL2456: 159it [00:00, 190.01it/s]\n"
     ]
    },
    {
     "name": "stdout",
     "output_type": "stream",
     "text": [
      "Fetching data for target CHEMBL2823 (Heme oxygenase 1)...\n"
     ]
    },
    {
     "name": "stderr",
     "output_type": "stream",
     "text": [
      "Processing CHEMBL2823: 13it [00:00, 15.01it/s]\n"
     ]
    },
    {
     "name": "stdout",
     "output_type": "stream",
     "text": [
      "Fetching data for target CHEMBL4434 (Heme oxygenase 1)...\n"
     ]
    },
    {
     "name": "stderr",
     "output_type": "stream",
     "text": [
      "Processing CHEMBL4434: 1it [00:00,  1.23it/s]\n"
     ]
    },
    {
     "name": "stdout",
     "output_type": "stream",
     "text": [
      "Fetching data for target CHEMBL5035 (Heme oxygenase 1)...\n"
     ]
    },
    {
     "name": "stderr",
     "output_type": "stream",
     "text": [
      "Processing CHEMBL5035: 289it [00:00, 334.69it/s]\n"
     ]
    },
    {
     "name": "stdout",
     "output_type": "stream",
     "text": [
      "Fetching data for target CHEMBL1255146 (Heme oxygenase 1)...\n"
     ]
    },
    {
     "name": "stderr",
     "output_type": "stream",
     "text": [
      "Processing CHEMBL1255146: 0it [00:00, ?it/s]\n"
     ]
    },
    {
     "name": "stdout",
     "output_type": "stream",
     "text": [
      "Fetching data for target CHEMBL5881 (Insulin)...\n"
     ]
    },
    {
     "name": "stderr",
     "output_type": "stream",
     "text": [
      "Processing CHEMBL5881: 63it [00:00, 72.75it/s]\n"
     ]
    },
    {
     "name": "stdout",
     "output_type": "stream",
     "text": [
      "Fetching data for target CHEMBL2111417 (Muscarinic acetylcholine receptor M1/M5 chimeric protein)...\n"
     ]
    },
    {
     "name": "stderr",
     "output_type": "stream",
     "text": [
      "Processing CHEMBL2111417: 31it [00:00, 37.43it/s]\n"
     ]
    },
    {
     "name": "stdout",
     "output_type": "stream",
     "text": [
      "Fetching data for target CHEMBL5866 (Catenin beta-1)...\n"
     ]
    },
    {
     "name": "stderr",
     "output_type": "stream",
     "text": [
      "Processing CHEMBL5866: 448it [00:00, 526.16it/s]\n"
     ]
    },
    {
     "name": "stdout",
     "output_type": "stream",
     "text": [
      "Fetching data for target CHEMBL4105846 (Catenin beta-1)...\n"
     ]
    },
    {
     "name": "stderr",
     "output_type": "stream",
     "text": [
      "Processing CHEMBL4105846: 2it [00:00,  2.45it/s]\n"
     ]
    },
    {
     "name": "stdout",
     "output_type": "stream",
     "text": [
      "Fetching data for target CHEMBL2911 (Phosphoenolpyruvate carboxykinase cytosolic)...\n"
     ]
    },
    {
     "name": "stderr",
     "output_type": "stream",
     "text": [
      "Processing CHEMBL2911: 25it [00:00, 31.44it/s]\n"
     ]
    },
    {
     "name": "stdout",
     "output_type": "stream",
     "text": [
      "Fetching data for target CHEMBL5785 (Interferon-induced, double-stranded RNA-activated protein kinase)...\n"
     ]
    },
    {
     "name": "stderr",
     "output_type": "stream",
     "text": [
      "Processing CHEMBL5785: 583it [00:00, 676.47it/s]\n"
     ]
    },
    {
     "name": "stdout",
     "output_type": "stream",
     "text": [
      "Fetching data for target CHEMBL1795121 (Interferon-induced, double-stranded RNA-activated protein kinase)...\n"
     ]
    },
    {
     "name": "stderr",
     "output_type": "stream",
     "text": [
      "Processing CHEMBL1795121: 0it [00:00, ?it/s]\n"
     ]
    },
    {
     "name": "stdout",
     "output_type": "stream",
     "text": [
      "Fetching data for target CHEMBL5960 (Alpha-1-antichymotrypsin)...\n"
     ]
    },
    {
     "name": "stderr",
     "output_type": "stream",
     "text": [
      "Processing CHEMBL5960: 1it [00:00,  1.13it/s]\n"
     ]
    },
    {
     "name": "stdout",
     "output_type": "stream",
     "text": [
      "Fetching data for target CHEMBL6159 (Ubiquitin carboxyl-terminal hydrolase isozyme L1)...\n"
     ]
    },
    {
     "name": "stderr",
     "output_type": "stream",
     "text": [
      "Processing CHEMBL6159: 71it [00:00, 82.92it/s]\n"
     ]
    },
    {
     "name": "stdout",
     "output_type": "stream",
     "text": [
      "Fetching data for target CHEMBL5990 (Breast cancer type 1 susceptibility protein)...\n"
     ]
    },
    {
     "name": "stderr",
     "output_type": "stream",
     "text": [
      "Processing CHEMBL5990: 15888it [00:01, 9166.26it/s] \n"
     ]
    },
    {
     "name": "stdout",
     "output_type": "stream",
     "text": [
      "Fetching data for target CHEMBL6152 (Alpha-synuclein)...\n"
     ]
    },
    {
     "name": "stderr",
     "output_type": "stream",
     "text": [
      "Processing CHEMBL6152: 10941it [00:01, 6852.95it/s]\n"
     ]
    },
    {
     "name": "stdout",
     "output_type": "stream",
     "text": [
      "Fetching data for target CHEMBL5169100 (Alpha-synuclein)...\n"
     ]
    },
    {
     "name": "stderr",
     "output_type": "stream",
     "text": [
      "Processing CHEMBL5169100: 0it [00:00, ?it/s]\n"
     ]
    },
    {
     "name": "stdout",
     "output_type": "stream",
     "text": [
      "Fetching data for target CHEMBL6027 (Segment polarity protein dishevelled homolog DVL-1)...\n"
     ]
    },
    {
     "name": "stderr",
     "output_type": "stream",
     "text": [
      "Processing CHEMBL6027: 53it [00:00, 53.19it/s]\n"
     ]
    },
    {
     "name": "stdout",
     "output_type": "stream",
     "text": [
      "Fetching data for target CHEMBL3813590 (Segment polarity protein dishevelled homolog DVL-1)...\n"
     ]
    },
    {
     "name": "stderr",
     "output_type": "stream",
     "text": [
      "Processing CHEMBL3813590: 1it [00:00,  1.25it/s]\n"
     ]
    },
    {
     "name": "stdout",
     "output_type": "stream",
     "text": [
      "Fetching data for target CHEMBL2159 (Nucleoside diphosphate kinase 1)...\n"
     ]
    },
    {
     "name": "stderr",
     "output_type": "stream",
     "text": [
      "Processing CHEMBL2159: 12it [00:00, 14.21it/s]\n"
     ]
    },
    {
     "name": "stdout",
     "output_type": "stream",
     "text": [
      "Fetching data for target CHEMBL2160 (Nucleoside diphosphate kinase 2)...\n"
     ]
    },
    {
     "name": "stderr",
     "output_type": "stream",
     "text": [
      "Processing CHEMBL2160: 124it [00:00, 142.78it/s]\n"
     ]
    },
    {
     "name": "stdout",
     "output_type": "stream",
     "text": [
      "Fetching data for target CHEMBL2783 (Cyclin-dependent kinase 5 regulatory subunit 1)...\n"
     ]
    },
    {
     "name": "stderr",
     "output_type": "stream",
     "text": [
      "Processing CHEMBL2783: 7it [00:00,  7.56it/s]\n"
     ]
    },
    {
     "name": "stdout",
     "output_type": "stream",
     "text": [
      "Fetching data for target CHEMBL2506 (PI3-kinase p85-alpha subunit)...\n"
     ]
    },
    {
     "name": "stderr",
     "output_type": "stream",
     "text": [
      "Processing CHEMBL2506: 273it [00:00, 300.14it/s]\n"
     ]
    },
    {
     "name": "stdout",
     "output_type": "stream",
     "text": [
      "Fetching data for target CHEMBL5954 (Ornithine aminotransferase, mitochondrial)...\n"
     ]
    },
    {
     "name": "stderr",
     "output_type": "stream",
     "text": [
      "Processing CHEMBL5954: 4it [00:00,  4.67it/s]\n"
     ]
    },
    {
     "name": "stdout",
     "output_type": "stream",
     "text": [
      "Fetching data for target CHEMBL1075297 (Ornithine aminotransferase, mitochondrial)...\n"
     ]
    },
    {
     "name": "stderr",
     "output_type": "stream",
     "text": [
      "Processing CHEMBL1075297: 0it [00:00, ?it/s]\n"
     ]
    },
    {
     "name": "stdout",
     "output_type": "stream",
     "text": [
      "Fetching data for target CHEMBL5810 (Ephrin type-A receptor 1)...\n"
     ]
    },
    {
     "name": "stderr",
     "output_type": "stream",
     "text": [
      "Processing CHEMBL5810: 1048it [00:00, 1138.78it/s]\n"
     ]
    },
    {
     "name": "stdout",
     "output_type": "stream",
     "text": [
      "Fetching data for target CHEMBL2558 (Death-associated protein kinase 1)...\n"
     ]
    },
    {
     "name": "stderr",
     "output_type": "stream",
     "text": [
      "Processing CHEMBL2558: 1681it [00:00, 1845.37it/s]\n"
     ]
    },
    {
     "name": "stdout",
     "output_type": "stream",
     "text": [
      "Fetching data for target CHEMBL5606 (Serine/threonine-protein kinase 11)...\n"
     ]
    },
    {
     "name": "stderr",
     "output_type": "stream",
     "text": [
      "Processing CHEMBL5606: 1036it [00:00, 1147.05it/s]\n"
     ]
    },
    {
     "name": "stdout",
     "output_type": "stream",
     "text": [
      "Fetching data for target CHEMBL5940 (Serine/threonine-protein kinase MARK1)...\n"
     ]
    },
    {
     "name": "stderr",
     "output_type": "stream",
     "text": [
      "Processing CHEMBL5940: 1639it [00:00, 1805.89it/s]\n"
     ]
    },
    {
     "name": "stdout",
     "output_type": "stream",
     "text": [
      "Fetching data for target CHEMBL5082 (Serine/threonine-protein kinase 24)...\n"
     ]
    },
    {
     "name": "stderr",
     "output_type": "stream",
     "text": [
      "Processing CHEMBL5082: 1031it [00:00, 1135.32it/s]\n"
     ]
    },
    {
     "name": "stdout",
     "output_type": "stream",
     "text": [
      "Fetching data for target CHEMBL5469 (Protein tyrosine kinase 2 beta)...\n"
     ]
    },
    {
     "name": "stderr",
     "output_type": "stream",
     "text": [
      "Processing CHEMBL5469: 2799it [00:00, 2935.73it/s]\n"
     ]
    },
    {
     "name": "stdout",
     "output_type": "stream",
     "text": [
      "Fetching data for target CHEMBL5984 (Apolipoprotein A-I)...\n"
     ]
    },
    {
     "name": "stderr",
     "output_type": "stream",
     "text": [
      "Processing CHEMBL5984: 0it [00:00, ?it/s]\n"
     ]
    },
    {
     "name": "stdout",
     "output_type": "stream",
     "text": [
      "Fetching data for target CHEMBL2403 (Thioredoxin reductase 2)...\n"
     ]
    },
    {
     "name": "stderr",
     "output_type": "stream",
     "text": [
      "Processing CHEMBL2403: 1it [00:00,  1.17it/s]\n"
     ]
    },
    {
     "name": "stdout",
     "output_type": "stream",
     "text": [
      "Fetching data for target CHEMBL5608 (NT-3 growth factor receptor)...\n"
     ]
    },
    {
     "name": "stderr",
     "output_type": "stream",
     "text": [
      "Processing CHEMBL5608: 2336it [00:00, 2504.66it/s]\n"
     ]
    },
    {
     "name": "stdout",
     "output_type": "stream",
     "text": [
      "Fetching data for target CHEMBL5838 (Receptor tyrosine-protein kinase erbB-3)...\n"
     ]
    },
    {
     "name": "stderr",
     "output_type": "stream",
     "text": [
      "Processing CHEMBL5838: 316it [00:00, 389.48it/s]\n"
     ]
    },
    {
     "name": "stdout",
     "output_type": "stream",
     "text": [
      "Fetching data for target CHEMBL2466 (Interleukin-2)...\n"
     ]
    },
    {
     "name": "stderr",
     "output_type": "stream",
     "text": [
      "Processing CHEMBL2466: 23it [00:00, 27.13it/s]\n"
     ]
    },
    {
     "name": "stdout",
     "output_type": "stream",
     "text": [
      "Fetching data for target CHEMBL5880 (Interleukin-2)...\n"
     ]
    },
    {
     "name": "stderr",
     "output_type": "stream",
     "text": [
      "Processing CHEMBL5880: 129it [00:00, 143.95it/s]\n"
     ]
    },
    {
     "name": "stdout",
     "output_type": "stream",
     "text": [
      "Fetching data for target CHEMBL2473 (Presenilin 1)...\n"
     ]
    },
    {
     "name": "stderr",
     "output_type": "stream",
     "text": [
      "Processing CHEMBL2473: 272it [00:00, 294.15it/s]\n"
     ]
    },
    {
     "name": "stdout",
     "output_type": "stream",
     "text": [
      "Fetching data for target CHEMBL4096 (Cellular tumor antigen p53)...\n"
     ]
    },
    {
     "name": "stderr",
     "output_type": "stream",
     "text": [
      "Processing CHEMBL4096: 47921it [00:02, 16847.15it/s]\n"
     ]
    },
    {
     "name": "stdout",
     "output_type": "stream",
     "text": [
      "Fetching data for target CHEMBL4164 (Cellular tumor antigen p53)...\n"
     ]
    },
    {
     "name": "stderr",
     "output_type": "stream",
     "text": [
      "Processing CHEMBL4164: 3it [00:00,  3.27it/s]\n"
     ]
    },
    {
     "name": "stdout",
     "output_type": "stream",
     "text": [
      "Fetching data for target CHEMBL5619 (DNA-(apurinic or apyrimidinic site) lyase)...\n"
     ]
    },
    {
     "name": "stderr",
     "output_type": "stream",
     "text": [
      "Processing CHEMBL5619: 37871it [00:02, 14460.16it/s]\n"
     ]
    },
    {
     "name": "stdout",
     "output_type": "stream",
     "text": [
      "Fetching data for target CHEMBL1882 (Neuronal acetylcholine receptor protein alpha-4 subunit)...\n"
     ]
    },
    {
     "name": "stderr",
     "output_type": "stream",
     "text": [
      "Processing CHEMBL1882: 1260it [00:00, 1365.50it/s]\n"
     ]
    },
    {
     "name": "stdout",
     "output_type": "stream",
     "text": [
      "Fetching data for target CHEMBL307 (Neuronal acetylcholine receptor protein alpha-4 subunit)...\n"
     ]
    },
    {
     "name": "stderr",
     "output_type": "stream",
     "text": [
      "Processing CHEMBL307: 85it [00:00, 93.12it/s]\n"
     ]
    },
    {
     "name": "stdout",
     "output_type": "stream",
     "text": [
      "Fetching data for target CHEMBL4457 (Neuronal acetylcholine receptor protein alpha-4 subunit)...\n"
     ]
    },
    {
     "name": "stderr",
     "output_type": "stream",
     "text": [
      "Processing CHEMBL4457: 8it [00:00,  9.24it/s]\n"
     ]
    },
    {
     "name": "stdout",
     "output_type": "stream",
     "text": [
      "Fetching data for target CHEMBL3174 (Glutathione transferase omega 1)...\n"
     ]
    },
    {
     "name": "stderr",
     "output_type": "stream",
     "text": [
      "Processing CHEMBL3174: 140it [00:00, 160.76it/s]\n"
     ]
    },
    {
     "name": "stdout",
     "output_type": "stream",
     "text": [
      "Fetching data for target CHEMBL5514 (Huntingtin)...\n"
     ]
    },
    {
     "name": "stderr",
     "output_type": "stream",
     "text": [
      "Processing CHEMBL5514: 19122it [00:01, 11529.93it/s]\n"
     ]
    },
    {
     "name": "stdout",
     "output_type": "stream",
     "text": [
      "Fetching data for target CHEMBL1250362 (Huntingtin)...\n"
     ]
    },
    {
     "name": "stderr",
     "output_type": "stream",
     "text": [
      "Processing CHEMBL1250362: 0it [00:00, ?it/s]\n"
     ]
    },
    {
     "name": "stdout",
     "output_type": "stream",
     "text": [
      "Fetching data for target CHEMBL2439943 (Huntingtin)...\n"
     ]
    },
    {
     "name": "stderr",
     "output_type": "stream",
     "text": [
      "Processing CHEMBL2439943: 0it [00:00, ?it/s]\n"
     ]
    },
    {
     "name": "stdout",
     "output_type": "stream",
     "text": [
      "Fetching data for target CHEMBL5811 (Macrophage scavenger receptor types I and II)...\n"
     ]
    },
    {
     "name": "stderr",
     "output_type": "stream",
     "text": [
      "Processing CHEMBL5811: 2it [00:00,  2.54it/s]\n"
     ]
    },
    {
     "name": "stdout",
     "output_type": "stream",
     "text": [
      "Fetching data for target CHEMBL5587 (Cyclic AMP-responsive element-binding protein 1)...\n"
     ]
    },
    {
     "name": "stderr",
     "output_type": "stream",
     "text": [
      "Processing CHEMBL5587: 20it [00:00, 25.90it/s]\n"
     ]
    },
    {
     "name": "stdout",
     "output_type": "stream",
     "text": [
      "Fetching data for target CHEMBL5666 (Disks large homolog 4)...\n"
     ]
    },
    {
     "name": "stderr",
     "output_type": "stream",
     "text": [
      "Processing CHEMBL5666: 176it [00:00, 207.67it/s]\n"
     ]
    },
    {
     "name": "stdout",
     "output_type": "stream",
     "text": [
      "Fetching data for target CHEMBL1795134 (Disks large homolog 4)...\n"
     ]
    },
    {
     "name": "stderr",
     "output_type": "stream",
     "text": [
      "Processing CHEMBL1795134: 0it [00:00, ?it/s]\n"
     ]
    },
    {
     "name": "stdout",
     "output_type": "stream",
     "text": [
      "Fetching data for target CHEMBL3797015 (Disks large homolog 4)...\n"
     ]
    },
    {
     "name": "stderr",
     "output_type": "stream",
     "text": [
      "Processing CHEMBL3797015: 1it [00:00,  1.22it/s]\n"
     ]
    },
    {
     "name": "stdout",
     "output_type": "stream",
     "text": [
      "Fetching data for target CHEMBL5813 (Tumor necrosis factor ligand superfamily member 10)...\n"
     ]
    },
    {
     "name": "stderr",
     "output_type": "stream",
     "text": [
      "Processing CHEMBL5813: 20it [00:00, 22.41it/s]\n"
     ]
    },
    {
     "name": "stdout",
     "output_type": "stream",
     "text": [
      "Fetching data for target CHEMBL5714 (Tumor necrosis factor ligand superfamily member 6)...\n"
     ]
    },
    {
     "name": "stderr",
     "output_type": "stream",
     "text": [
      "Processing CHEMBL5714: 1it [00:00,  1.25it/s]\n"
     ]
    },
    {
     "name": "stdout",
     "output_type": "stream",
     "text": [
      "Fetching data for target CHEMBL5101 (Arylamine N-acetyltransferase 1)...\n"
     ]
    },
    {
     "name": "stderr",
     "output_type": "stream",
     "text": [
      "Processing CHEMBL5101: 57it [00:00, 64.15it/s]\n"
     ]
    },
    {
     "name": "stdout",
     "output_type": "stream",
     "text": [
      "Fetching data for target CHEMBL5723 (Arylamine N-acetyltransferase 1)...\n"
     ]
    },
    {
     "name": "stderr",
     "output_type": "stream",
     "text": [
      "Processing CHEMBL5723: 0it [00:00, ?it/s]\n"
     ]
    },
    {
     "name": "stdout",
     "output_type": "stream",
     "text": [
      "Fetching data for target CHEMBL2194 (Arylamine N-acetyltransferase 2)...\n"
     ]
    },
    {
     "name": "stderr",
     "output_type": "stream",
     "text": [
      "Processing CHEMBL2194: 3it [00:00,  3.72it/s]\n"
     ]
    },
    {
     "name": "stdout",
     "output_type": "stream",
     "text": [
      "Fetching data for target CHEMBL5724 (Arylamine N-acetyltransferase 2)...\n"
     ]
    },
    {
     "name": "stderr",
     "output_type": "stream",
     "text": [
      "Processing CHEMBL5724: 70it [00:00, 82.30it/s]\n"
     ]
    },
    {
     "name": "stdout",
     "output_type": "stream",
     "text": [
      "Fetching data for target CHEMBL3259464 (Arylamine N-acetyltransferase 2)...\n"
     ]
    },
    {
     "name": "stderr",
     "output_type": "stream",
     "text": [
      "Processing CHEMBL3259464: 1it [00:00,  1.23it/s]\n"
     ]
    },
    {
     "name": "stdout",
     "output_type": "stream",
     "text": [
      "Fetching data for target CHEMBL6128 (Toll-like receptor 9)...\n"
     ]
    },
    {
     "name": "stderr",
     "output_type": "stream",
     "text": [
      "Processing CHEMBL6128: 25it [00:00, 29.44it/s]\n"
     ]
    },
    {
     "name": "stdout",
     "output_type": "stream",
     "text": [
      "Fetching data for target CHEMBL5804 (Toll-like receptor 9)...\n"
     ]
    },
    {
     "name": "stderr",
     "output_type": "stream",
     "text": [
      "Processing CHEMBL5804: 708it [00:00, 810.44it/s]\n"
     ]
    },
    {
     "name": "stdout",
     "output_type": "stream",
     "text": [
      "Fetching data for target CHEMBL2064 (GABA-B receptor 1)...\n"
     ]
    },
    {
     "name": "stderr",
     "output_type": "stream",
     "text": [
      "Processing CHEMBL2064: 191it [00:00, 232.38it/s]\n"
     ]
    },
    {
     "name": "stdout",
     "output_type": "stream",
     "text": [
      "Fetching data for target CHEMBL2753 (GABA-B receptor 1)...\n"
     ]
    },
    {
     "name": "stderr",
     "output_type": "stream",
     "text": [
      "Processing CHEMBL2753: 79it [00:00, 88.93it/s]\n"
     ]
    },
    {
     "name": "stdout",
     "output_type": "stream",
     "text": [
      "Fetching data for target CHEMBL5689 (Tryptophan 5-hydroxylase 1)...\n"
     ]
    },
    {
     "name": "stderr",
     "output_type": "stream",
     "text": [
      "Processing CHEMBL5689: 391it [00:00, 417.00it/s]\n"
     ]
    },
    {
     "name": "stdout",
     "output_type": "stream",
     "text": [
      "Fetching data for target CHEMBL5465551 (Tryptophan 5-hydroxylase 1)...\n"
     ]
    },
    {
     "name": "stderr",
     "output_type": "stream",
     "text": [
      "Processing CHEMBL5465551: 0it [00:00, ?it/s]\n"
     ]
    },
    {
     "name": "stdout",
     "output_type": "stream",
     "text": [
      "Fetching data for target CHEMBL5736 (Glucagon)...\n"
     ]
    },
    {
     "name": "stderr",
     "output_type": "stream",
     "text": [
      "Processing CHEMBL5736: 128it [00:00, 152.72it/s]\n"
     ]
    },
    {
     "name": "stdout",
     "output_type": "stream",
     "text": [
      "Fetching data for target CHEMBL5334 (Non-receptor tyrosine-protein kinase TNK1)...\n"
     ]
    },
    {
     "name": "stderr",
     "output_type": "stream",
     "text": [
      "Processing CHEMBL5334: 1338it [00:00, 1422.26it/s]\n"
     ]
    },
    {
     "name": "stdout",
     "output_type": "stream",
     "text": [
      "Fetching data for target CHEMBL5750 (Histone acetyltransferase KAT5)...\n"
     ]
    },
    {
     "name": "stderr",
     "output_type": "stream",
     "text": [
      "Processing CHEMBL5750: 74it [00:00, 88.13it/s]\n"
     ]
    },
    {
     "name": "stdout",
     "output_type": "stream",
     "text": [
      "Fetching data for target CHEMBL1932911 (Histone acetyltransferase KAT5)...\n"
     ]
    },
    {
     "name": "stderr",
     "output_type": "stream",
     "text": [
      "Processing CHEMBL1932911: 0it [00:00, ?it/s]\n"
     ]
    },
    {
     "name": "stdout",
     "output_type": "stream",
     "text": [
      "Fetching data for target CHEMBL5939 (Endoplasmic reticulum aminopeptidase 1)...\n"
     ]
    },
    {
     "name": "stderr",
     "output_type": "stream",
     "text": [
      "Processing CHEMBL5939: 510it [00:00, 545.12it/s]\n"
     ]
    },
    {
     "name": "stdout",
     "output_type": "stream",
     "text": [
      "Fetching data for target CHEMBL3414412 (Endoplasmic reticulum aminopeptidase 1)...\n"
     ]
    },
    {
     "name": "stderr",
     "output_type": "stream",
     "text": [
      "Processing CHEMBL3414412: 8it [00:00,  9.41it/s]\n"
     ]
    },
    {
     "name": "stdout",
     "output_type": "stream",
     "text": [
      "Fetching data for target CHEMBL2958 (Adenylate cyclase type II)...\n"
     ]
    },
    {
     "name": "stderr",
     "output_type": "stream",
     "text": [
      "Processing CHEMBL2958: 26it [00:00, 32.11it/s]\n"
     ]
    },
    {
     "name": "stdout",
     "output_type": "stream",
     "text": [
      "Fetching data for target CHEMBL3760 (Adenylate cyclase type II)...\n"
     ]
    },
    {
     "name": "stderr",
     "output_type": "stream",
     "text": [
      "Processing CHEMBL3760: 157it [00:00, 187.69it/s]\n"
     ]
    },
    {
     "name": "stdout",
     "output_type": "stream",
     "text": [
      "Fetching data for target CHEMBL5964 (Aquaporin-4)...\n"
     ]
    },
    {
     "name": "stderr",
     "output_type": "stream",
     "text": [
      "Processing CHEMBL5964: 9it [00:00,  9.81it/s]\n"
     ]
    },
    {
     "name": "stdout",
     "output_type": "stream",
     "text": [
      "Fetching data for target CHEMBL5965 (Aquaporin-4)...\n"
     ]
    },
    {
     "name": "stderr",
     "output_type": "stream",
     "text": [
      "Processing CHEMBL5965: 0it [00:00, ?it/s]\n"
     ]
    },
    {
     "name": "stdout",
     "output_type": "stream",
     "text": [
      "Fetching data for target CHEMBL5291512 (Aquaporin-4)...\n"
     ]
    },
    {
     "name": "stderr",
     "output_type": "stream",
     "text": [
      "Processing CHEMBL5291512: 3it [00:00,  3.08it/s]\n"
     ]
    },
    {
     "name": "stdout",
     "output_type": "stream",
     "text": [
      "Fetching data for target CHEMBL5315 (Peroxiredoxin-1)...\n"
     ]
    },
    {
     "name": "stderr",
     "output_type": "stream",
     "text": [
      "Processing CHEMBL5315: 6it [00:00,  6.26it/s]\n"
     ]
    },
    {
     "name": "stdout",
     "output_type": "stream",
     "text": [
      "Fetching data for target CHEMBL5463 (Acid ceramidase)...\n"
     ]
    },
    {
     "name": "stderr",
     "output_type": "stream",
     "text": [
      "Processing CHEMBL5463: 245it [00:00, 250.40it/s]\n"
     ]
    },
    {
     "name": "stdout",
     "output_type": "stream",
     "text": [
      "Fetching data for target CHEMBL2331070 (Acid ceramidase)...\n"
     ]
    },
    {
     "name": "stderr",
     "output_type": "stream",
     "text": [
      "Processing CHEMBL2331070: 63it [00:00, 64.81it/s]\n"
     ]
    },
    {
     "name": "stdout",
     "output_type": "stream",
     "text": [
      "Fetching data for target CHEMBL5460 (Heat shock 70 kDa protein 1)...\n"
     ]
    },
    {
     "name": "stderr",
     "output_type": "stream",
     "text": [
      "Processing CHEMBL5460: 192it [00:01, 190.58it/s]\n"
     ]
    },
    {
     "name": "stdout",
     "output_type": "stream",
     "text": [
      "Fetching data for target CHEMBL5812 (Dynamin-2)...\n"
     ]
    },
    {
     "name": "stderr",
     "output_type": "stream",
     "text": [
      "Processing CHEMBL5812: 38it [00:00, 39.79it/s]\n"
     ]
    },
    {
     "name": "stdout",
     "output_type": "stream",
     "text": [
      "Fetching data for target CHEMBL2311233 (Dynamin-2)...\n"
     ]
    },
    {
     "name": "stderr",
     "output_type": "stream",
     "text": [
      "Processing CHEMBL2311233: 6it [00:01,  5.47it/s]\n"
     ]
    },
    {
     "name": "stdout",
     "output_type": "stream",
     "text": [
      "Fetching data for target CHEMBL6103 (Transcription factor Sp1)...\n"
     ]
    },
    {
     "name": "stderr",
     "output_type": "stream",
     "text": [
      "Processing CHEMBL6103: 3it [00:00,  3.29it/s]\n"
     ]
    },
    {
     "name": "stdout",
     "output_type": "stream",
     "text": [
      "Fetching data for target CHEMBL6049 (Creatine kinase B-type)...\n"
     ]
    },
    {
     "name": "stderr",
     "output_type": "stream",
     "text": [
      "Processing CHEMBL6049: 1it [00:00,  1.07it/s]\n"
     ]
    },
    {
     "name": "stdout",
     "output_type": "stream",
     "text": [
      "Fetching data for target CHEMBL2176812 (Creatine kinase B-type)...\n"
     ]
    },
    {
     "name": "stderr",
     "output_type": "stream",
     "text": [
      "Processing CHEMBL2176812: 0it [00:00, ?it/s]\n"
     ]
    },
    {
     "name": "stdout",
     "output_type": "stream",
     "text": [
      "Fetching data for target CHEMBL6024 (Dickkopf-related protein 1)...\n"
     ]
    },
    {
     "name": "stderr",
     "output_type": "stream",
     "text": [
      "Processing CHEMBL6024: 68it [00:00, 72.35it/s]\n"
     ]
    },
    {
     "name": "stdout",
     "output_type": "stream",
     "text": [
      "Fetching data for target CHEMBL3745589 (Dickkopf-related protein 1)...\n"
     ]
    },
    {
     "name": "stderr",
     "output_type": "stream",
     "text": [
      "Processing CHEMBL3745589: 1it [00:00,  1.24it/s]\n"
     ]
    },
    {
     "name": "stdout",
     "output_type": "stream",
     "text": [
      "Fetching data for target CHEMBL4812 (Kallikrein 8)...\n"
     ]
    },
    {
     "name": "stderr",
     "output_type": "stream",
     "text": [
      "Processing CHEMBL4812: 40it [00:00, 46.26it/s]\n"
     ]
    },
    {
     "name": "stdout",
     "output_type": "stream",
     "text": [
      "Fetching data for target CHEMBL1075104 (Leucine-rich repeat serine/threonine-protein kinase 2)...\n"
     ]
    },
    {
     "name": "stderr",
     "output_type": "stream",
     "text": [
      "Processing CHEMBL1075104: 6534it [00:01, 5418.87it/s]\n"
     ]
    },
    {
     "name": "stdout",
     "output_type": "stream",
     "text": [
      "Fetching data for target CHEMBL2010622 (Leucine-rich repeat serine/threonine-protein kinase 2)...\n"
     ]
    },
    {
     "name": "stderr",
     "output_type": "stream",
     "text": [
      "Processing CHEMBL2010622: 53it [00:00, 61.79it/s]\n"
     ]
    },
    {
     "name": "stdout",
     "output_type": "stream",
     "text": [
      "Fetching data for target CHEMBL3603 (Integrin alpha M)...\n"
     ]
    },
    {
     "name": "stderr",
     "output_type": "stream",
     "text": [
      "Processing CHEMBL3603: 16it [00:00, 20.02it/s]\n"
     ]
    },
    {
     "name": "stdout",
     "output_type": "stream",
     "text": [
      "Fetching data for target CHEMBL3826 (Integrin alpha M)...\n"
     ]
    },
    {
     "name": "stderr",
     "output_type": "stream",
     "text": [
      "Processing CHEMBL3826: 1it [00:00,  1.24it/s]\n"
     ]
    },
    {
     "name": "stdout",
     "output_type": "stream",
     "text": [
      "Fetching data for target CHEMBL1795108 (Elongation factor 2)...\n"
     ]
    },
    {
     "name": "stderr",
     "output_type": "stream",
     "text": [
      "Processing CHEMBL1795108: 3it [00:00,  3.68it/s]\n"
     ]
    },
    {
     "name": "stdout",
     "output_type": "stream",
     "text": [
      "Fetching data for target CHEMBL1250358 (Tumor necrosis factor receptor superfamily member 5)...\n"
     ]
    },
    {
     "name": "stderr",
     "output_type": "stream",
     "text": [
      "Processing CHEMBL1250358: 4it [00:00,  4.34it/s]\n"
     ]
    },
    {
     "name": "stdout",
     "output_type": "stream",
     "text": [
      "Fetching data for target CHEMBL1250356 (Tumor necrosis factor receptor superfamily member 1B)...\n"
     ]
    },
    {
     "name": "stderr",
     "output_type": "stream",
     "text": [
      "Processing CHEMBL1250356: 2it [00:00,  2.53it/s]\n"
     ]
    },
    {
     "name": "stdout",
     "output_type": "stream",
     "text": [
      "Fetching data for target CHEMBL2111471 (Toll-like receptor (TLR7/TLR9))...\n"
     ]
    },
    {
     "name": "stderr",
     "output_type": "stream",
     "text": [
      "Processing CHEMBL2111471: 5it [00:00,  6.38it/s]\n"
     ]
    },
    {
     "name": "stdout",
     "output_type": "stream",
     "text": [
      "Fetching data for target CHEMBL2111430 (MIF/CD74 (Macrophage migration inhibitory factor and HLA-DR antigens-associated invariant chain))...\n"
     ]
    },
    {
     "name": "stderr",
     "output_type": "stream",
     "text": [
      "Processing CHEMBL2111430: 78it [00:00, 95.82it/s]\n"
     ]
    },
    {
     "name": "stdout",
     "output_type": "stream",
     "text": [
      "Fetching data for target CHEMBL1255131 (Eukaryotic translation initiation factor 2 subunit 1)...\n"
     ]
    },
    {
     "name": "stderr",
     "output_type": "stream",
     "text": [
      "Processing CHEMBL1255131: 84it [00:00, 94.64it/s]\n"
     ]
    },
    {
     "name": "stdout",
     "output_type": "stream",
     "text": [
      "Fetching data for target CHEMBL1770036 (Eukaryotic translation initiation factor 2 subunit 1)...\n"
     ]
    },
    {
     "name": "stderr",
     "output_type": "stream",
     "text": [
      "Processing CHEMBL1770036: 0it [00:00, ?it/s]\n"
     ]
    },
    {
     "name": "stdout",
     "output_type": "stream",
     "text": [
      "Fetching data for target CHEMBL2111432 (PI3-kinase p110-delta/p85-alpha)...\n"
     ]
    },
    {
     "name": "stderr",
     "output_type": "stream",
     "text": [
      "Processing CHEMBL2111432: 1499it [00:00, 1544.15it/s]\n"
     ]
    },
    {
     "name": "stdout",
     "output_type": "stream",
     "text": [
      "Fetching data for target CHEMBL1275217 (C-C motif chemokine 5)...\n"
     ]
    },
    {
     "name": "stderr",
     "output_type": "stream",
     "text": [
      "Processing CHEMBL1275217: 52it [00:00, 62.41it/s]\n"
     ]
    },
    {
     "name": "stdout",
     "output_type": "stream",
     "text": [
      "Fetching data for target CHEMBL1293191 (Transcriptional regulator ERG)...\n"
     ]
    },
    {
     "name": "stderr",
     "output_type": "stream",
     "text": [
      "Processing CHEMBL1293191: 5581it [00:01, 5022.74it/s] \n"
     ]
    },
    {
     "name": "stdout",
     "output_type": "stream",
     "text": [
      "Fetching data for target CHEMBL1293235 (Prelamin-A/C)...\n"
     ]
    },
    {
     "name": "stderr",
     "output_type": "stream",
     "text": [
      "Processing CHEMBL1293235: 36711it [00:02, 15524.76it/s]\n"
     ]
    },
    {
     "name": "stdout",
     "output_type": "stream",
     "text": [
      "Fetching data for target CHEMBL1075117 (Microtubule-associated protein tau)...\n"
     ]
    },
    {
     "name": "stderr",
     "output_type": "stream",
     "text": [
      "Processing CHEMBL1075117: 6it [00:00,  6.78it/s]\n"
     ]
    },
    {
     "name": "stdout",
     "output_type": "stream",
     "text": [
      "Fetching data for target CHEMBL1293224 (Microtubule-associated protein tau)...\n"
     ]
    },
    {
     "name": "stderr",
     "output_type": "stream",
     "text": [
      "Processing CHEMBL1293224: 95301it [00:04, 20676.40it/s]\n"
     ]
    },
    {
     "name": "stdout",
     "output_type": "stream",
     "text": [
      "Fetching data for target CHEMBL3638363 (Microtubule-associated protein tau)...\n"
     ]
    },
    {
     "name": "stderr",
     "output_type": "stream",
     "text": [
      "Processing CHEMBL3638363: 11it [00:00, 12.87it/s]\n"
     ]
    },
    {
     "name": "stdout",
     "output_type": "stream",
     "text": [
      "Fetching data for target CHEMBL4296281 (Microtubule-associated protein tau)...\n"
     ]
    },
    {
     "name": "stderr",
     "output_type": "stream",
     "text": [
      "Processing CHEMBL4296281: 3it [00:00,  3.60it/s]\n"
     ]
    },
    {
     "name": "stdout",
     "output_type": "stream",
     "text": [
      "Fetching data for target CHEMBL4159 (Endoplasmic reticulum-associated amyloid beta-peptide-binding protein)...\n"
     ]
    },
    {
     "name": "stderr",
     "output_type": "stream",
     "text": [
      "Processing CHEMBL4159: 20618it [00:01, 11605.05it/s]\n"
     ]
    },
    {
     "name": "stdout",
     "output_type": "stream",
     "text": [
      "Fetching data for target CHEMBL2095162 (Peroxisome proliferator-activated receptor gamma/Nuclear receptor coactivator 1)...\n"
     ]
    },
    {
     "name": "stderr",
     "output_type": "stream",
     "text": [
      "Processing CHEMBL2095162: 749it [00:00, 889.53it/s]\n"
     ]
    },
    {
     "name": "stdout",
     "output_type": "stream",
     "text": [
      "Fetching data for target CHEMBL2096976 (Peroxisome proliferator-activated receptor gamma/Nuclear receptor corepressor 2)...\n"
     ]
    },
    {
     "name": "stderr",
     "output_type": "stream",
     "text": [
      "Processing CHEMBL2096976: 239it [00:00, 293.88it/s]\n"
     ]
    },
    {
     "name": "stdout",
     "output_type": "stream",
     "text": [
      "Fetching data for target CHEMBL1293314 (Ubiquitin carboxyl-terminal hydrolase BAP1)...\n"
     ]
    },
    {
     "name": "stderr",
     "output_type": "stream",
     "text": [
      "Processing CHEMBL1293314: 45it [00:00, 56.40it/s]\n"
     ]
    },
    {
     "name": "stdout",
     "output_type": "stream",
     "text": [
      "Fetching data for target CHEMBL2095163 (Peroxisome proliferator-activated receptor gamma/Nuclear receptor coactivator 2)...\n"
     ]
    },
    {
     "name": "stderr",
     "output_type": "stream",
     "text": [
      "Processing CHEMBL2095163: 749it [00:00, 885.65it/s]\n"
     ]
    },
    {
     "name": "stdout",
     "output_type": "stream",
     "text": [
      "Fetching data for target CHEMBL1293287 (Insulin-degrading enzyme)...\n"
     ]
    },
    {
     "name": "stderr",
     "output_type": "stream",
     "text": [
      "Processing CHEMBL1293287: 769it [00:00, 855.25it/s]\n"
     ]
    },
    {
     "name": "stdout",
     "output_type": "stream",
     "text": [
      "Fetching data for target CHEMBL3232680 (Insulin-degrading enzyme)...\n"
     ]
    },
    {
     "name": "stderr",
     "output_type": "stream",
     "text": [
      "Processing CHEMBL3232680: 19it [00:00, 20.96it/s]\n"
     ]
    },
    {
     "name": "stdout",
     "output_type": "stream",
     "text": [
      "Fetching data for target CHEMBL2095161 (Peroxisome proliferator-activated receptor gamma/Nuclear receptor coactivator 3)...\n"
     ]
    },
    {
     "name": "stderr",
     "output_type": "stream",
     "text": [
      "Processing CHEMBL2095161: 749it [00:00, 889.27it/s]\n"
     ]
    },
    {
     "name": "stdout",
     "output_type": "stream",
     "text": [
      "Fetching data for target CHEMBL1628472 (Relaxin-3 receptor 1)...\n"
     ]
    },
    {
     "name": "stderr",
     "output_type": "stream",
     "text": [
      "Processing CHEMBL1628472: 201it [00:00, 232.54it/s]\n"
     ]
    },
    {
     "name": "stdout",
     "output_type": "stream",
     "text": [
      "Fetching data for target CHEMBL3885611 (Neuronal acetylcholine receptor subunit alpha-6/beta-2)...\n"
     ]
    },
    {
     "name": "stderr",
     "output_type": "stream",
     "text": [
      "Processing CHEMBL3885611: 16it [00:00, 17.34it/s]\n"
     ]
    },
    {
     "name": "stdout",
     "output_type": "stream",
     "text": [
      "Fetching data for target CHEMBL1649052 (C-C motif chemokine 2)...\n"
     ]
    },
    {
     "name": "stderr",
     "output_type": "stream",
     "text": [
      "Processing CHEMBL1649052: 95it [00:00, 110.40it/s]\n"
     ]
    },
    {
     "name": "stdout",
     "output_type": "stream",
     "text": [
      "Fetching data for target CHEMBL1883 (Neuronal acetylcholine receptor protein beta-2 subunit)...\n"
     ]
    },
    {
     "name": "stderr",
     "output_type": "stream",
     "text": [
      "Processing CHEMBL1883: 2it [00:00,  2.43it/s]\n"
     ]
    },
    {
     "name": "stdout",
     "output_type": "stream",
     "text": [
      "Fetching data for target CHEMBL3001 (Neuronal acetylcholine receptor protein beta-2 subunit)...\n"
     ]
    },
    {
     "name": "stderr",
     "output_type": "stream",
     "text": [
      "Processing CHEMBL3001: 1it [00:00,  1.22it/s]\n"
     ]
    },
    {
     "name": "stdout",
     "output_type": "stream",
     "text": [
      "Fetching data for target CHEMBL1697657 (Peptidyl-prolyl cis-trans isomerase D)...\n"
     ]
    },
    {
     "name": "stderr",
     "output_type": "stream",
     "text": [
      "Processing CHEMBL1697657: 80it [00:00, 91.68it/s]\n"
     ]
    },
    {
     "name": "stdout",
     "output_type": "stream",
     "text": [
      "Fetching data for target CHEMBL4933 (Glutathione S-transferase A4)...\n"
     ]
    },
    {
     "name": "stderr",
     "output_type": "stream",
     "text": [
      "Processing CHEMBL4933: 0it [00:00, ?it/s]\n"
     ]
    },
    {
     "name": "stdout",
     "output_type": "stream",
     "text": [
      "Fetching data for target CHEMBL2161 (Glutathione transferase omega 2)...\n"
     ]
    },
    {
     "name": "stderr",
     "output_type": "stream",
     "text": [
      "Processing CHEMBL2161: 0it [00:00, ?it/s]\n"
     ]
    },
    {
     "name": "stdout",
     "output_type": "stream",
     "text": [
      "Fetching data for target CHEMBL1744526 (Platelet glycoprotein 4)...\n"
     ]
    },
    {
     "name": "stderr",
     "output_type": "stream",
     "text": [
      "Processing CHEMBL1744526: 33it [00:00, 38.29it/s]\n"
     ]
    },
    {
     "name": "stdout",
     "output_type": "stream",
     "text": [
      "Fetching data for target CHEMBL2163174 (Platelet glycoprotein 4)...\n"
     ]
    },
    {
     "name": "stderr",
     "output_type": "stream",
     "text": [
      "Processing CHEMBL2163174: 159it [00:00, 189.78it/s]\n"
     ]
    },
    {
     "name": "stdout",
     "output_type": "stream",
     "text": [
      "Fetching data for target CHEMBL2176845 (Platelet glycoprotein 4)...\n"
     ]
    },
    {
     "name": "stderr",
     "output_type": "stream",
     "text": [
      "Processing CHEMBL2176845: 132it [00:00, 144.13it/s]\n"
     ]
    },
    {
     "name": "stdout",
     "output_type": "stream",
     "text": [
      "Fetching data for target CHEMBL3610 (G1/S-specific cyclin D1)...\n"
     ]
    },
    {
     "name": "stderr",
     "output_type": "stream",
     "text": [
      "Processing CHEMBL3610: 0it [00:00, ?it/s]\n"
     ]
    },
    {
     "name": "stdout",
     "output_type": "stream",
     "text": [
      "Fetching data for target CHEMBL1781865 (78 kDa glucose-regulated protein)...\n"
     ]
    },
    {
     "name": "stderr",
     "output_type": "stream",
     "text": [
      "Processing CHEMBL1781865: 3334it [00:01, 3106.64it/s]\n"
     ]
    },
    {
     "name": "stdout",
     "output_type": "stream",
     "text": [
      "Fetching data for target CHEMBL1795129 (Interleukin-6)...\n"
     ]
    },
    {
     "name": "stderr",
     "output_type": "stream",
     "text": [
      "Processing CHEMBL1795129: 43it [00:00, 50.20it/s]\n"
     ]
    },
    {
     "name": "stdout",
     "output_type": "stream",
     "text": [
      "Fetching data for target CHEMBL4242 (Somatostatin receptor 1)...\n"
     ]
    },
    {
     "name": "stderr",
     "output_type": "stream",
     "text": [
      "Processing CHEMBL4242: 1it [00:00,  1.09it/s]\n"
     ]
    },
    {
     "name": "stdout",
     "output_type": "stream",
     "text": [
      "Fetching data for target CHEMBL4652 (Somatostatin receptor 1)...\n"
     ]
    },
    {
     "name": "stderr",
     "output_type": "stream",
     "text": [
      "Processing CHEMBL4652: 154it [00:00, 180.60it/s]\n"
     ]
    },
    {
     "name": "stdout",
     "output_type": "stream",
     "text": [
      "Fetching data for target CHEMBL1917 (Somatostatin receptor 1)...\n"
     ]
    },
    {
     "name": "stderr",
     "output_type": "stream",
     "text": [
      "Processing CHEMBL1917: 821it [00:00, 865.66it/s]\n"
     ]
    },
    {
     "name": "stdout",
     "output_type": "stream",
     "text": [
      "Fetching data for target CHEMBL1804 (Somatostatin receptor 2)...\n"
     ]
    },
    {
     "name": "stderr",
     "output_type": "stream",
     "text": [
      "Processing CHEMBL1804: 1399it [00:00, 1459.08it/s]\n"
     ]
    },
    {
     "name": "stdout",
     "output_type": "stream",
     "text": [
      "Fetching data for target CHEMBL2978 (Somatostatin receptor 2)...\n"
     ]
    },
    {
     "name": "stderr",
     "output_type": "stream",
     "text": [
      "Processing CHEMBL2978: 159it [00:00, 179.74it/s]\n"
     ]
    },
    {
     "name": "stdout",
     "output_type": "stream",
     "text": [
      "Fetching data for target CHEMBL3207 (Somatostatin receptor 2)...\n"
     ]
    },
    {
     "name": "stderr",
     "output_type": "stream",
     "text": [
      "Processing CHEMBL3207: 17it [00:00, 20.07it/s]\n"
     ]
    },
    {
     "name": "stdout",
     "output_type": "stream",
     "text": [
      "Fetching data for target CHEMBL2028 (Somatostatin receptor 3)...\n"
     ]
    },
    {
     "name": "stderr",
     "output_type": "stream",
     "text": [
      "Processing CHEMBL2028: 1498it [00:00, 1677.14it/s]\n"
     ]
    },
    {
     "name": "stdout",
     "output_type": "stream",
     "text": [
      "Fetching data for target CHEMBL2238 (Somatostatin receptor 3)...\n"
     ]
    },
    {
     "name": "stderr",
     "output_type": "stream",
     "text": [
      "Processing CHEMBL2238: 89it [00:00, 103.62it/s]\n"
     ]
    },
    {
     "name": "stdout",
     "output_type": "stream",
     "text": [
      "Fetching data for target CHEMBL3340 (Somatostatin receptor 3)...\n"
     ]
    },
    {
     "name": "stderr",
     "output_type": "stream",
     "text": [
      "Processing CHEMBL3340: 1it [00:00,  1.08it/s]\n"
     ]
    },
    {
     "name": "stdout",
     "output_type": "stream",
     "text": [
      "Fetching data for target CHEMBL1853 (Somatostatin receptor 4)...\n"
     ]
    },
    {
     "name": "stderr",
     "output_type": "stream",
     "text": [
      "Processing CHEMBL1853: 1095it [00:00, 1231.45it/s]\n"
     ]
    },
    {
     "name": "stdout",
     "output_type": "stream",
     "text": [
      "Fetching data for target CHEMBL4397 (Somatostatin receptor 4)...\n"
     ]
    },
    {
     "name": "stderr",
     "output_type": "stream",
     "text": [
      "Processing CHEMBL4397: 2it [00:00,  2.51it/s]\n"
     ]
    },
    {
     "name": "stdout",
     "output_type": "stream",
     "text": [
      "Fetching data for target CHEMBL2733 (Somatostatin receptor 5)...\n"
     ]
    },
    {
     "name": "stderr",
     "output_type": "stream",
     "text": [
      "Processing CHEMBL2733: 110it [00:00, 134.74it/s]\n"
     ]
    },
    {
     "name": "stdout",
     "output_type": "stream",
     "text": [
      "Fetching data for target CHEMBL1792 (Somatostatin receptor 5)...\n"
     ]
    },
    {
     "name": "stderr",
     "output_type": "stream",
     "text": [
      "Processing CHEMBL1792: 1440it [00:00, 1528.50it/s]\n"
     ]
    },
    {
     "name": "stdout",
     "output_type": "stream",
     "text": [
      "Fetching data for target CHEMBL4318 (Somatostatin receptor 5)...\n"
     ]
    },
    {
     "name": "stderr",
     "output_type": "stream",
     "text": [
      "Processing CHEMBL4318: 13it [00:00, 14.89it/s]\n"
     ]
    },
    {
     "name": "stdout",
     "output_type": "stream",
     "text": [
      "Fetching data for target CHEMBL1795151 (Bis(5'-adenosyl)-triphosphatase)...\n"
     ]
    },
    {
     "name": "stderr",
     "output_type": "stream",
     "text": [
      "Processing CHEMBL1795151: 81it [00:00, 97.78it/s]\n"
     ]
    },
    {
     "name": "stdout",
     "output_type": "stream",
     "text": [
      "Fetching data for target CHEMBL1795184 (Protein polybromo-1)...\n"
     ]
    },
    {
     "name": "stderr",
     "output_type": "stream",
     "text": [
      "Processing CHEMBL1795184: 734it [00:00, 833.13it/s]\n"
     ]
    },
    {
     "name": "stdout",
     "output_type": "stream",
     "text": [
      "Fetching data for target CHEMBL1795178 (Transforming growth factor beta-1)...\n"
     ]
    },
    {
     "name": "stderr",
     "output_type": "stream",
     "text": [
      "Processing CHEMBL1795178: 30it [00:00, 35.37it/s]\n"
     ]
    },
    {
     "name": "stdout",
     "output_type": "stream",
     "text": [
      "Fetching data for target CHEMBL2443 (Kallikrein 7)...\n"
     ]
    },
    {
     "name": "stderr",
     "output_type": "stream",
     "text": [
      "Processing CHEMBL2443: 579it [00:00, 676.27it/s]\n"
     ]
    },
    {
     "name": "stdout",
     "output_type": "stream",
     "text": [
      "Fetching data for target CHEMBL1795091 (Regulator of G-protein signaling 4)...\n"
     ]
    },
    {
     "name": "stderr",
     "output_type": "stream",
     "text": [
      "Processing CHEMBL1795091: 13829it [00:01, 9354.20it/s] \n"
     ]
    },
    {
     "name": "stdout",
     "output_type": "stream",
     "text": [
      "Fetching data for target CHEMBL1909487 (Protein-arginine deiminase type-2)...\n"
     ]
    },
    {
     "name": "stderr",
     "output_type": "stream",
     "text": [
      "Processing CHEMBL1909487: 116it [00:00, 126.44it/s]\n"
     ]
    },
    {
     "name": "stdout",
     "output_type": "stream",
     "text": [
      "Fetching data for target CHEMBL2321611 (Protein-arginine deiminase type-2)...\n"
     ]
    },
    {
     "name": "stderr",
     "output_type": "stream",
     "text": [
      "Processing CHEMBL2321611: 17it [00:00, 18.49it/s]\n"
     ]
    },
    {
     "name": "stdout",
     "output_type": "stream",
     "text": [
      "Fetching data for target CHEMBL1909490 (Interleukin-1 beta)...\n"
     ]
    },
    {
     "name": "stderr",
     "output_type": "stream",
     "text": [
      "Processing CHEMBL1909490: 9it [00:00, 10.93it/s]\n"
     ]
    },
    {
     "name": "stdout",
     "output_type": "stream",
     "text": [
      "Fetching data for target CHEMBL5069361 (Interleukin-1 beta)...\n"
     ]
    },
    {
     "name": "stderr",
     "output_type": "stream",
     "text": [
      "Processing CHEMBL5069361: 2it [00:00,  2.33it/s]\n"
     ]
    },
    {
     "name": "stdout",
     "output_type": "stream",
     "text": [
      "Fetching data for target CHEMBL1741203 (Scavenger receptor class B member 1)...\n"
     ]
    },
    {
     "name": "stderr",
     "output_type": "stream",
     "text": [
      "Processing CHEMBL1741203: 342it [00:00, 402.11it/s]\n"
     ]
    },
    {
     "name": "stdout",
     "output_type": "stream",
     "text": [
      "Fetching data for target CHEMBL1914272 (Scavenger receptor class B member 1)...\n"
     ]
    },
    {
     "name": "stderr",
     "output_type": "stream",
     "text": [
      "Processing CHEMBL1914272: 57it [00:00, 65.49it/s]\n"
     ]
    },
    {
     "name": "stdout",
     "output_type": "stream",
     "text": [
      "Fetching data for target CHEMBL1914266 (Islet amyloid polypeptide)...\n"
     ]
    },
    {
     "name": "stderr",
     "output_type": "stream",
     "text": [
      "Processing CHEMBL1914266: 30it [00:00, 35.43it/s]\n"
     ]
    },
    {
     "name": "stdout",
     "output_type": "stream",
     "text": [
      "Fetching data for target CHEMBL1921664 (Appetite-regulating hormone)...\n"
     ]
    },
    {
     "name": "stderr",
     "output_type": "stream",
     "text": [
      "Processing CHEMBL1921664: 67it [00:00, 80.35it/s]\n"
     ]
    },
    {
     "name": "stdout",
     "output_type": "stream",
     "text": [
      "Fetching data for target CHEMBL5169189 (Appetite-regulating hormone)...\n"
     ]
    },
    {
     "name": "stderr",
     "output_type": "stream",
     "text": [
      "Processing CHEMBL5169189: 6it [00:00,  7.52it/s]\n"
     ]
    },
    {
     "name": "stdout",
     "output_type": "stream",
     "text": [
      "Fetching data for target CHEMBL1075048 (Protoporphyrinogen oxidase)...\n"
     ]
    },
    {
     "name": "stderr",
     "output_type": "stream",
     "text": [
      "Processing CHEMBL1075048: 25it [00:00, 29.43it/s]\n"
     ]
    },
    {
     "name": "stdout",
     "output_type": "stream",
     "text": [
      "Fetching data for target CHEMBL1926488 (Protoporphyrinogen oxidase)...\n"
     ]
    },
    {
     "name": "stderr",
     "output_type": "stream",
     "text": [
      "Processing CHEMBL1926488: 208it [00:00, 246.71it/s]\n"
     ]
    },
    {
     "name": "stdout",
     "output_type": "stream",
     "text": [
      "Fetching data for target CHEMBL2366436 (Protoporphyrinogen oxidase)...\n"
     ]
    },
    {
     "name": "stderr",
     "output_type": "stream",
     "text": [
      "Processing CHEMBL2366436: 3it [00:00,  3.62it/s]\n"
     ]
    },
    {
     "name": "stdout",
     "output_type": "stream",
     "text": [
      "Fetching data for target CHEMBL1932895 (Natural resistance-associated macrophage protein 2)...\n"
     ]
    },
    {
     "name": "stderr",
     "output_type": "stream",
     "text": [
      "Processing CHEMBL1932895: 66it [00:00, 75.30it/s]\n"
     ]
    },
    {
     "name": "stdout",
     "output_type": "stream",
     "text": [
      "Fetching data for target CHEMBL1944491 (Proteasome subunit beta type-9)...\n"
     ]
    },
    {
     "name": "stderr",
     "output_type": "stream",
     "text": [
      "Processing CHEMBL1944491: 6it [00:00,  7.10it/s]\n"
     ]
    },
    {
     "name": "stdout",
     "output_type": "stream",
     "text": [
      "Fetching data for target CHEMBL1944495 (Proteasome subunit beta type-9)...\n"
     ]
    },
    {
     "name": "stderr",
     "output_type": "stream",
     "text": [
      "Processing CHEMBL1944495: 255it [00:00, 292.64it/s]\n"
     ]
    },
    {
     "name": "stdout",
     "output_type": "stream",
     "text": [
      "Fetching data for target CHEMBL2010628 (DNA polymerase nu)...\n"
     ]
    },
    {
     "name": "stderr",
     "output_type": "stream",
     "text": [
      "Processing CHEMBL2010628: 4it [00:00,  4.55it/s]\n"
     ]
    },
    {
     "name": "stdout",
     "output_type": "stream",
     "text": [
      "Fetching data for target CHEMBL2016431 (NEDD8-activating enzyme E1 regulatory subunit)...\n"
     ]
    },
    {
     "name": "stderr",
     "output_type": "stream",
     "text": [
      "Processing CHEMBL2016431: 59it [00:00, 61.61it/s]\n"
     ]
    },
    {
     "name": "stdout",
     "output_type": "stream",
     "text": [
      "Fetching data for target CHEMBL2221346 (Neuronal acetylcholine receptors; alpha-3/beta-4, alpha-5, beta-2)...\n"
     ]
    },
    {
     "name": "stderr",
     "output_type": "stream",
     "text": [
      "Processing CHEMBL2221346: 19it [00:00, 22.28it/s]\n"
     ]
    },
    {
     "name": "stdout",
     "output_type": "stream",
     "text": [
      "Fetching data for target CHEMBL4448 (Kallikrein 6)...\n"
     ]
    },
    {
     "name": "stderr",
     "output_type": "stream",
     "text": [
      "Processing CHEMBL4448: 88it [00:00, 100.05it/s]\n"
     ]
    },
    {
     "name": "stdout",
     "output_type": "stream",
     "text": [
      "Fetching data for target CHEMBL2052032 (Phosphatidylinositol 3,4,5-trisphosphate 3-phosphatase and dual-specificity protein phosphatase PTEN)...\n"
     ]
    },
    {
     "name": "stderr",
     "output_type": "stream",
     "text": [
      "Processing CHEMBL2052032: 1it [00:00,  1.14it/s]\n"
     ]
    },
    {
     "name": "stdout",
     "output_type": "stream",
     "text": [
      "Fetching data for target CHEMBL2052040 (Natural resistance-associated macrophage protein 1)...\n"
     ]
    },
    {
     "name": "stderr",
     "output_type": "stream",
     "text": [
      "Processing CHEMBL2052040: 48it [00:00, 55.54it/s]\n"
     ]
    },
    {
     "name": "stdout",
     "output_type": "stream",
     "text": [
      "Fetching data for target CHEMBL2062348 (Heat shock-related 70 kDa protein 2)...\n"
     ]
    },
    {
     "name": "stderr",
     "output_type": "stream",
     "text": [
      "Processing CHEMBL2062348: 77it [00:00, 86.40it/s]\n"
     ]
    },
    {
     "name": "stdout",
     "output_type": "stream",
     "text": [
      "Fetching data for target CHEMBL2062351 (ATP synthase subunit alpha, mitochondrial)...\n"
     ]
    },
    {
     "name": "stderr",
     "output_type": "stream",
     "text": [
      "Processing CHEMBL2062351: 0it [00:00, ?it/s]\n"
     ]
    },
    {
     "name": "stdout",
     "output_type": "stream",
     "text": [
      "Fetching data for target CHEMBL2176795 (ATP synthase subunit alpha, mitochondrial)...\n"
     ]
    },
    {
     "name": "stderr",
     "output_type": "stream",
     "text": [
      "Processing CHEMBL2176795: 0it [00:00, ?it/s]\n"
     ]
    },
    {
     "name": "stdout",
     "output_type": "stream",
     "text": [
      "Fetching data for target CHEMBL4377 (Guanine nucleotide-binding protein G(s), subunit alpha)...\n"
     ]
    },
    {
     "name": "stderr",
     "output_type": "stream",
     "text": [
      "Processing CHEMBL4377: 103389it [00:05, 17880.47it/s]\n"
     ]
    },
    {
     "name": "stdout",
     "output_type": "stream",
     "text": [
      "Fetching data for target CHEMBL2146346 (Neurogenic locus notch homolog protein 1)...\n"
     ]
    },
    {
     "name": "stderr",
     "output_type": "stream",
     "text": [
      "Processing CHEMBL2146346: 129it [00:00, 151.15it/s]\n"
     ]
    },
    {
     "name": "stdout",
     "output_type": "stream",
     "text": [
      "Fetching data for target CHEMBL4295799 (Neurogenic locus notch homolog protein 1)...\n"
     ]
    },
    {
     "name": "stderr",
     "output_type": "stream",
     "text": [
      "Processing CHEMBL4295799: 6it [00:00,  6.98it/s]\n"
     ]
    },
    {
     "name": "stdout",
     "output_type": "stream",
     "text": [
      "Fetching data for target CHEMBL3188 (Methionine synthase)...\n"
     ]
    },
    {
     "name": "stderr",
     "output_type": "stream",
     "text": [
      "Processing CHEMBL3188: 2it [00:00,  2.52it/s]\n"
     ]
    },
    {
     "name": "stdout",
     "output_type": "stream",
     "text": [
      "Fetching data for target CHEMBL2150844 (Methionine synthase)...\n"
     ]
    },
    {
     "name": "stderr",
     "output_type": "stream",
     "text": [
      "Processing CHEMBL2150844: 46it [00:00, 54.68it/s]\n"
     ]
    },
    {
     "name": "stdout",
     "output_type": "stream",
     "text": [
      "Fetching data for target CHEMBL2157852 (Ubiquitin carboxyl-terminal hydrolase 21)...\n"
     ]
    },
    {
     "name": "stderr",
     "output_type": "stream",
     "text": [
      "Processing CHEMBL2157852: 92it [00:00, 108.46it/s]\n"
     ]
    },
    {
     "name": "stdout",
     "output_type": "stream",
     "text": [
      "Fetching data for target CHEMBL3708 (Presenilin 2)...\n"
     ]
    },
    {
     "name": "stderr",
     "output_type": "stream",
     "text": [
      "Processing CHEMBL3708: 8it [00:00,  9.96it/s]\n"
     ]
    },
    {
     "name": "stdout",
     "output_type": "stream",
     "text": [
      "Fetching data for target CHEMBL2176846 (Advanced glycosylation end product-specific receptor)...\n"
     ]
    },
    {
     "name": "stderr",
     "output_type": "stream",
     "text": [
      "Processing CHEMBL2176846: 236it [00:00, 283.57it/s]\n"
     ]
    },
    {
     "name": "stdout",
     "output_type": "stream",
     "text": [
      "Fetching data for target CHEMBL2176847 (Advanced glycosylation end product-specific receptor)...\n"
     ]
    },
    {
     "name": "stderr",
     "output_type": "stream",
     "text": [
      "Processing CHEMBL2176847: 1it [00:00,  1.17it/s]\n"
     ]
    },
    {
     "name": "stdout",
     "output_type": "stream",
     "text": [
      "Fetching data for target CHEMBL2189161 (Advanced glycosylation end product-specific receptor)...\n"
     ]
    },
    {
     "name": "stderr",
     "output_type": "stream",
     "text": [
      "Processing CHEMBL2189161: 12it [00:00, 15.01it/s]\n"
     ]
    },
    {
     "name": "stdout",
     "output_type": "stream",
     "text": [
      "Fetching data for target CHEMBL2221344 (Tumour suppressor protein p53/Mdm4)...\n"
     ]
    },
    {
     "name": "stderr",
     "output_type": "stream",
     "text": [
      "Processing CHEMBL2221344: 80it [00:00, 94.01it/s]\n"
     ]
    },
    {
     "name": "stdout",
     "output_type": "stream",
     "text": [
      "Fetching data for target CHEMBL4296661 (mTORC1)...\n"
     ]
    },
    {
     "name": "stderr",
     "output_type": "stream",
     "text": [
      "Processing CHEMBL4296661: 315it [00:00, 347.09it/s]\n"
     ]
    },
    {
     "name": "stdout",
     "output_type": "stream",
     "text": [
      "Fetching data for target CHEMBL5465384 (mTORC1)...\n"
     ]
    },
    {
     "name": "stderr",
     "output_type": "stream",
     "text": [
      "Processing CHEMBL5465384: 0it [00:00, ?it/s]\n"
     ]
    },
    {
     "name": "stdout",
     "output_type": "stream",
     "text": [
      "Fetching data for target CHEMBL2311236 (High mobility group protein B1)...\n"
     ]
    },
    {
     "name": "stderr",
     "output_type": "stream",
     "text": [
      "Processing CHEMBL2311236: 69it [00:00, 81.34it/s]\n"
     ]
    },
    {
     "name": "stdout",
     "output_type": "stream",
     "text": [
      "Fetching data for target CHEMBL2311237 (High mobility group protein B1)...\n"
     ]
    },
    {
     "name": "stderr",
     "output_type": "stream",
     "text": [
      "Processing CHEMBL2311237: 41it [00:00, 48.09it/s]\n"
     ]
    },
    {
     "name": "stdout",
     "output_type": "stream",
     "text": [
      "Fetching data for target CHEMBL2331065 (Alpha-ketoglutarate-dependent dioxygenase FTO)...\n"
     ]
    },
    {
     "name": "stderr",
     "output_type": "stream",
     "text": [
      "Processing CHEMBL2331065: 506it [00:00, 539.48it/s]\n"
     ]
    },
    {
     "name": "stdout",
     "output_type": "stream",
     "text": [
      "Fetching data for target CHEMBL3611964 (Alpha-ketoglutarate-dependent dioxygenase FTO)...\n"
     ]
    },
    {
     "name": "stderr",
     "output_type": "stream",
     "text": [
      "Processing CHEMBL3611964: 0it [00:00, ?it/s]\n"
     ]
    },
    {
     "name": "stdout",
     "output_type": "stream",
     "text": [
      "Fetching data for target CHEMBL2362981 (TAR DNA-binding protein 43)...\n"
     ]
    },
    {
     "name": "stderr",
     "output_type": "stream",
     "text": [
      "Processing CHEMBL2362981: 40100it [00:02, 15615.62it/s]\n"
     ]
    },
    {
     "name": "stdout",
     "output_type": "stream",
     "text": [
      "Fetching data for target CHEMBL5465339 (TAR DNA-binding protein 43)...\n"
     ]
    },
    {
     "name": "stderr",
     "output_type": "stream",
     "text": [
      "Processing CHEMBL5465339: 1it [00:00,  1.08it/s]\n"
     ]
    },
    {
     "name": "stdout",
     "output_type": "stream",
     "text": [
      "Fetching data for target CHEMBL2095219 (Muscarinic acetylcholine receptors; M1 & M2)...\n"
     ]
    },
    {
     "name": "stderr",
     "output_type": "stream",
     "text": [
      "Processing CHEMBL2095219: 495it [00:00, 540.19it/s]\n"
     ]
    },
    {
     "name": "stdout",
     "output_type": "stream",
     "text": [
      "Fetching data for target CHEMBL1907591 (Neuronal acetylcholine receptor; alpha4/beta4)...\n"
     ]
    },
    {
     "name": "stderr",
     "output_type": "stream",
     "text": [
      "Processing CHEMBL1907591: 202it [00:00, 234.97it/s]\n"
     ]
    },
    {
     "name": "stdout",
     "output_type": "stream",
     "text": [
      "Fetching data for target CHEMBL1907595 (Neuronal acetylcholine receptor; alpha4/beta4)...\n"
     ]
    },
    {
     "name": "stderr",
     "output_type": "stream",
     "text": [
      "Processing CHEMBL1907595: 575it [00:00, 643.93it/s]\n"
     ]
    },
    {
     "name": "stdout",
     "output_type": "stream",
     "text": [
      "Fetching data for target CHEMBL2094131 (Adenosine receptors; A1 & A2)...\n"
     ]
    },
    {
     "name": "stderr",
     "output_type": "stream",
     "text": [
      "Processing CHEMBL2094131: 881it [00:00, 918.84it/s]\n"
     ]
    },
    {
     "name": "stdout",
     "output_type": "stream",
     "text": [
      "Fetching data for target CHEMBL2096679 (Adenosine receptors; A1 & A2)...\n"
     ]
    },
    {
     "name": "stderr",
     "output_type": "stream",
     "text": [
      "Processing CHEMBL2096679: 186it [00:00, 204.67it/s]\n"
     ]
    },
    {
     "name": "stdout",
     "output_type": "stream",
     "text": [
      "Fetching data for target CHEMBL2111460 (Dopamine D2 receptor and serotonin 1a receptor)...\n"
     ]
    },
    {
     "name": "stderr",
     "output_type": "stream",
     "text": [
      "Processing CHEMBL2111460: 9it [00:00, 10.18it/s]\n"
     ]
    },
    {
     "name": "stdout",
     "output_type": "stream",
     "text": [
      "Fetching data for target CHEMBL2095233 (Cholinesterases; ACHE & BCHE)...\n"
     ]
    },
    {
     "name": "stderr",
     "output_type": "stream",
     "text": [
      "Processing CHEMBL2095233: 1182it [00:00, 1194.63it/s]\n"
     ]
    },
    {
     "name": "stdout",
     "output_type": "stream",
     "text": [
      "Fetching data for target CHEMBL2096662 (Serotonin 2 receptors; 5-HT2a & 5-HT2c)...\n"
     ]
    },
    {
     "name": "stderr",
     "output_type": "stream",
     "text": [
      "Processing CHEMBL2096662: 784it [00:00, 846.22it/s]\n"
     ]
    },
    {
     "name": "stdout",
     "output_type": "stream",
     "text": [
      "Fetching data for target CHEMBL2111466 (Serotonin receptor (2b and 2c))...\n"
     ]
    },
    {
     "name": "stderr",
     "output_type": "stream",
     "text": [
      "Processing CHEMBL2111466: 114it [00:00, 138.66it/s]\n"
     ]
    },
    {
     "name": "stdout",
     "output_type": "stream",
     "text": [
      "Fetching data for target CHEMBL2109233 (Neuronal acetylcholine receptor; alpha3/alpha6/beta2/beta3)...\n"
     ]
    },
    {
     "name": "stderr",
     "output_type": "stream",
     "text": [
      "Processing CHEMBL2109233: 91it [00:00, 110.64it/s]\n"
     ]
    }
   ],
   "source": [
    "import requests\n",
    "import time\n",
    "\n",
    "# We maintain a global or external dictionary so if multiple targets\n",
    "# share the same UniProt ID, we only fetch once.\n",
    "uniprot_cache = {}\n",
    "\n",
    "def fetch_uniprot_json(accession, max_retries=5):\n",
    "    \"\"\"\n",
    "    Fetch a UniProt entry in JSON format, with caching and simple rate-limit handling.\n",
    "    \n",
    "    :param accession: UniProt Accession (e.g. \"P05067\")\n",
    "    :param max_retries: how many times to try if we get a rate-limit (429) or server error\n",
    "    :return: Python dict or None\n",
    "    \"\"\"\n",
    "    # 1) Check our cache first\n",
    "    if accession in uniprot_cache:\n",
    "        return uniprot_cache[accession]\n",
    "    \n",
    "    base_url = \"https://rest.uniprot.org/uniprotkb\"\n",
    "    query_url = f\"{base_url}/{accession}.json\"\n",
    "\n",
    "    attempts = 0\n",
    "    while attempts < max_retries:\n",
    "        attempts += 1\n",
    "        try:\n",
    "            # 2) Make the request\n",
    "            response = requests.get(query_url)\n",
    "            \n",
    "            # 3) Handle the response\n",
    "            if response.status_code == 200:\n",
    "                data = response.json()\n",
    "                # Cache the result\n",
    "                uniprot_cache[accession] = data\n",
    "                return data\n",
    "            elif response.status_code == 429:\n",
    "                # Rate limited - \"Too Many Requests\"\n",
    "                print(f\"[WARN] 429 Too Many Requests for {accession}. \"\n",
    "                      f\"Pausing, then retrying (attempt {attempts}/{max_retries})...\")\n",
    "                time.sleep(10)  # wait longer if 429\n",
    "            else:\n",
    "                print(f\"[WARN] Failed to fetch {accession}, status {response.status_code}\")\n",
    "                # Might be 404 (not found) or 500 (server error)\n",
    "                break  # no need to retry 404\n",
    "        except Exception as e:\n",
    "            print(f\"[ERROR] Exception while fetching {accession}: {e}\")\n",
    "            time.sleep(5)\n",
    "    \n",
    "    # If we get here, we never returned successfully\n",
    "    uniprot_cache[accession] = None\n",
    "    return None\n",
    "\n",
    "\n",
    "def parse_uniprot_json(data):\n",
    "    \"\"\"\n",
    "    Given UniProt JSON data, extract:\n",
    "      - UniProt Accession\n",
    "      - UniProt GeneNames\n",
    "      - UniProt Organism\n",
    "      - UniProt Function\n",
    "      - UniProt Disease\n",
    "      - UniProt SubcellularLocation\n",
    "    Returns a dict (or None if data is invalid).\n",
    "    \"\"\"\n",
    "    if not data:\n",
    "        return None\n",
    "    \n",
    "    record = {\n",
    "        \"UniProt Accession\": data.get(\"primaryAccession\"),\n",
    "        \"UniProt GeneNames\": None,\n",
    "        \"UniProt Organism\": None,\n",
    "        \"UniProt Function\": [],\n",
    "        \"UniProt Disease\": [],\n",
    "        \"UniProt SubcellularLocation\": []\n",
    "    }\n",
    "\n",
    "    # Genes\n",
    "    genes_block = data.get(\"genes\", [])\n",
    "    gene_names = []\n",
    "    for g in genes_block:\n",
    "        gene_val = g.get(\"geneName\", {}).get(\"value\")\n",
    "        if gene_val:\n",
    "            gene_names.append(gene_val)\n",
    "    if gene_names:\n",
    "        record[\"UniProt GeneNames\"] = \"; \".join(gene_names)\n",
    "\n",
    "    # Organism\n",
    "    organism_info = data.get(\"organism\", {})\n",
    "    sci_name = organism_info.get(\"scientificName\")\n",
    "    if sci_name:\n",
    "        record[\"UniProt Organism\"] = sci_name\n",
    "\n",
    "    # Comments\n",
    "    for c in data.get(\"comments\", []):\n",
    "        ctype = c.get(\"commentType\")\n",
    "        if ctype == \"FUNCTION\":\n",
    "            for t in c.get(\"texts\", []):\n",
    "                record[\"UniProt Function\"].append(t[\"value\"])\n",
    "        elif ctype == \"DISEASE\":\n",
    "            disease_id = c.get(\"disease\", {}).get(\"diseaseId\")\n",
    "            disease_texts = \" \".join(t[\"value\"] for t in c.get(\"texts\", []))\n",
    "            combined = disease_id + \": \" + disease_texts if disease_id else disease_texts\n",
    "            if combined.strip():\n",
    "                record[\"UniProt Disease\"].append(combined)\n",
    "        elif ctype == \"SUBCELLULAR LOCATION\":\n",
    "            for sloc in c.get(\"subcellularLocations\", []):\n",
    "                loc_val = sloc.get(\"location\", {}).get(\"value\")\n",
    "                if loc_val:\n",
    "                    record[\"UniProt SubcellularLocation\"].append(loc_val)\n",
    "    \n",
    "    # Convert lists to single strings\n",
    "    if record[\"UniProt Function\"]:\n",
    "        record[\"UniProt Function\"] = \" \".join(record[\"UniProt Function\"])\n",
    "    else:\n",
    "        record[\"UniProt Function\"] = None\n",
    "    \n",
    "    if record[\"UniProt Disease\"]:\n",
    "        record[\"UniProt Disease\"] = \" | \".join(record[\"UniProt Disease\"])\n",
    "    else:\n",
    "        record[\"UniProt Disease\"] = None\n",
    "    \n",
    "    if record[\"UniProt SubcellularLocation\"]:\n",
    "        record[\"UniProt SubcellularLocation\"] = \"; \".join(record[\"UniProt SubcellularLocation\"])\n",
    "    else:\n",
    "        record[\"UniProt SubcellularLocation\"] = None\n",
    "\n",
    "    return record\n",
    "\n",
    "\n",
    "import psycopg2\n",
    "import pandas as pd\n",
    "from tqdm import tqdm\n",
    "\n",
    "# Include the two UniProt helper functions here or import them\n",
    "# e.g. from uniprot_helpers import fetch_uniprot_json, parse_uniprot_json\n",
    "\n",
    "def get_chembl_ids_and_fetch_data(target_names, user, password, host, port):\n",
    "    # Connect to PostgreSQL (ChEMBL)\n",
    "    conn = psycopg2.connect(\n",
    "        dbname=\"chembl_35\",\n",
    "        user=user,\n",
    "        password=password,\n",
    "        host=host,\n",
    "        port=port\n",
    "    )\n",
    "    chembl_ids = {}\n",
    "\n",
    "    # Step 1: Get ChEMBL IDs for target names (using SQL in a loop)\n",
    "    with conn.cursor() as cursor:\n",
    "        for target_name in target_names:\n",
    "            cursor.execute(\"\"\"\n",
    "                SELECT chembl_id, target_type, organism\n",
    "                FROM target_dictionary\n",
    "                WHERE pref_name ILIKE %s\n",
    "            \"\"\", (target_name,))\n",
    "            \n",
    "            results = cursor.fetchall()\n",
    "            if results:\n",
    "                chembl_ids[target_name] = [{\n",
    "                    \"target_chembl_id\": row[0],\n",
    "                    \"target_type\": row[1],\n",
    "                    \"organism\": row[2]\n",
    "                } for row in results]\n",
    "            else:\n",
    "                print(f\"No exact match found for target: {target_name}\")\n",
    "\n",
    "    all_data = []\n",
    "\n",
    "    # Step 2: For each target_chembl_id, fetch the UniProt ID(s)\n",
    "    for target_name, target_info_list in chembl_ids.items():\n",
    "        for target_info in target_info_list:\n",
    "            target_id = target_info[\"target_chembl_id\"]\n",
    "            print(f\"Fetching data for target {target_id} ({target_name})...\")\n",
    "\n",
    "            # 2a) Retrieve the UniProt accession(s) for that target\n",
    "            # Some targets have multiple components => multiple accessions\n",
    "            # We'll gather them in a list\n",
    "            uniprot_accessions = []\n",
    "            with conn.cursor() as cur_u:\n",
    "                cur_u.execute(\"\"\"\n",
    "                    SELECT cs.accession\n",
    "                    FROM target_dictionary td\n",
    "                    JOIN target_components tc ON td.tid = tc.tid\n",
    "                    JOIN component_sequences cs ON tc.component_id = cs.component_id\n",
    "                    WHERE td.chembl_id = %s\n",
    "                \"\"\", (target_id,))\n",
    "                up_results = cur_u.fetchall()\n",
    "                for row_up in up_results:\n",
    "                    if row_up[0]:\n",
    "                        uniprot_accessions.append(row_up[0])\n",
    "            \n",
    "            # If there's more than one, you can decide to keep just the first\n",
    "            # or combine them. Here, let's just keep the first for illustration.\n",
    "            uniprot_id = uniprot_accessions[0] if uniprot_accessions else None\n",
    "\n",
    "            # 2b) If we have a UniProt ID, fetch + parse from UniProt\n",
    "            uniprot_data = {}\n",
    "            if uniprot_id:\n",
    "                json_data = fetch_uniprot_json(uniprot_id)\n",
    "                parsed_data = parse_uniprot_json(json_data)\n",
    "                if parsed_data:\n",
    "                    uniprot_data = parsed_data\n",
    "                else:\n",
    "                    uniprot_data = {\n",
    "                        \"UniProt Accession\": uniprot_id,\n",
    "                        \"UniProt GeneNames\": None,\n",
    "                        \"UniProt Organism\": None,\n",
    "                        \"UniProt Function\": None,\n",
    "                        \"UniProt Disease\": None,\n",
    "                        \"UniProt SubcellularLocation\": None\n",
    "                    }\n",
    "            else:\n",
    "                # No UniProt found\n",
    "                uniprot_data = {\n",
    "                    \"UniProt Accession\": None,\n",
    "                    \"UniProt GeneNames\": None,\n",
    "                    \"UniProt Organism\": None,\n",
    "                    \"UniProt Function\": None,\n",
    "                    \"UniProt Disease\": None,\n",
    "                    \"UniProt SubcellularLocation\": None\n",
    "                }\n",
    "            \n",
    "            try:\n",
    "                # 2c) Now do your single query to get the activity/compound data\n",
    "                query = \"\"\"\n",
    "                    SELECT \n",
    "                        a.standard_value,\n",
    "                        a.standard_type AS activity_type,\n",
    "                        m.chembl_id AS molecule_chembl_id,\n",
    "                        m.max_phase,\n",
    "                        m.molecule_type,\n",
    "                        cs.canonical_smiles,\n",
    "                        cs.standard_inchi,\n",
    "                        cs.standard_inchi_key,\n",
    "                        cp.full_molformula,\n",
    "                        cp.full_mwt,\n",
    "                        cp.alogp,\n",
    "                        cp.aromatic_rings,\n",
    "                        cp.hba,\n",
    "                        cp.hbd,\n",
    "                        cp.rtb,\n",
    "                        cp.psa,\n",
    "                        cp.qed_weighted\n",
    "                    FROM activities a\n",
    "                    JOIN assays ass ON a.assay_id = ass.assay_id\n",
    "                    JOIN target_dictionary td ON ass.tid = td.tid\n",
    "                    JOIN molecule_dictionary m ON a.molregno = m.molregno\n",
    "                    JOIN compound_structures cs ON m.molregno = cs.molregno\n",
    "                    JOIN compound_properties cp ON m.molregno = cp.molregno\n",
    "                    WHERE td.chembl_id = %s\n",
    "                    AND a.standard_value IS NOT NULL\n",
    "                \"\"\"\n",
    "                \n",
    "                with conn.cursor(name=\"fetch_activities\") as cursor2:\n",
    "                    cursor2.itersize = 1000\n",
    "                    cursor2.execute(query, (target_id,))\n",
    "                    \n",
    "                    for row in tqdm(cursor2, desc=f\"Processing {target_id}\"):\n",
    "                        info = {\n",
    "                            \"Target Name\": target_name,\n",
    "                            \"Target ChEMBL ID\": target_id,\n",
    "                            \"Target Type\": target_info[\"target_type\"],\n",
    "                            \"Molecule ChEMBL ID\": row[2],\n",
    "                            \"Activity Type\": row[1],\n",
    "                            \"Activity Value\": row[0],\n",
    "                            \"Canonical SMILES\": row[5],\n",
    "                            \"Standard InChI\": row[6],\n",
    "                            \"Standard InChI Key\": row[7],\n",
    "                            \"Max Phase\": row[3],\n",
    "                            \"Molecular Formula\": row[8],\n",
    "                            \"Molecular Weight\": row[9],\n",
    "                            \"AlogP\": row[10],\n",
    "                            \"Aromatic Rings\": row[11],\n",
    "                            \"HBA\": row[12],\n",
    "                            \"HBD\": row[13],\n",
    "                            \"Rotatable Bonds\": row[14],\n",
    "                            \"Polar Surface Area (PSA)\": row[15],\n",
    "                            \"QED Weighted\": row[16]\n",
    "                        }\n",
    "                        # Merge the UniProt data\n",
    "                        info.update(uniprot_data)\n",
    "                        all_data.append(info)\n",
    "\n",
    "            except Exception as e:\n",
    "                print(f\"Error retrieving data for target {target_id}: {e}\")\n",
    "                conn.rollback()\n",
    "            else:\n",
    "                conn.commit()\n",
    "\n",
    "    conn.close()\n",
    "    return pd.DataFrame(all_data)\n",
    "\n",
    "\n",
    "# Example usage\n",
    "if __name__ == \"__main__\":\n",
    "    # Suppose you define 'targets' somewhere above\n",
    "    # e.g. targets = [\"BACE1\", \"Cyclooxygenase-2\", \"Beta-secretase\", ...]\n",
    "    df = get_chembl_ids_and_fetch_data(\n",
    "        target_names=targets,\n",
    "        user=user,\n",
    "        password=password,\n",
    "        host=host,\n",
    "        port=port\n",
    "    )\n",
    "    "
   ]
  },
  {
   "cell_type": "code",
   "execution_count": 6,
   "metadata": {},
   "outputs": [
    {
     "data": {
      "text/html": [
       "<div>\n",
       "<style scoped>\n",
       "    .dataframe tbody tr th:only-of-type {\n",
       "        vertical-align: middle;\n",
       "    }\n",
       "\n",
       "    .dataframe tbody tr th {\n",
       "        vertical-align: top;\n",
       "    }\n",
       "\n",
       "    .dataframe thead th {\n",
       "        text-align: right;\n",
       "    }\n",
       "</style>\n",
       "<table border=\"1\" class=\"dataframe\">\n",
       "  <thead>\n",
       "    <tr style=\"text-align: right;\">\n",
       "      <th></th>\n",
       "      <th>Target Name</th>\n",
       "      <th>Target ChEMBL ID</th>\n",
       "      <th>Target Type</th>\n",
       "      <th>Molecule ChEMBL ID</th>\n",
       "      <th>Activity Type</th>\n",
       "      <th>Activity Value</th>\n",
       "      <th>Canonical SMILES</th>\n",
       "      <th>Standard InChI</th>\n",
       "      <th>Standard InChI Key</th>\n",
       "      <th>Max Phase</th>\n",
       "      <th>...</th>\n",
       "      <th>HBD</th>\n",
       "      <th>Rotatable Bonds</th>\n",
       "      <th>Polar Surface Area (PSA)</th>\n",
       "      <th>QED Weighted</th>\n",
       "      <th>UniProt Accession</th>\n",
       "      <th>UniProt GeneNames</th>\n",
       "      <th>UniProt Organism</th>\n",
       "      <th>UniProt Function</th>\n",
       "      <th>UniProt Disease</th>\n",
       "      <th>UniProt SubcellularLocation</th>\n",
       "    </tr>\n",
       "  </thead>\n",
       "  <tbody>\n",
       "    <tr>\n",
       "      <th>0</th>\n",
       "      <td>Cytochrome P450 19A1</td>\n",
       "      <td>CHEMBL1978</td>\n",
       "      <td>SINGLE PROTEIN</td>\n",
       "      <td>CHEMBL63297</td>\n",
       "      <td>IC50</td>\n",
       "      <td>190.0</td>\n",
       "      <td>Fc1ccc(C(C2Cc3ccccc3O2)n2cncn2)cc1</td>\n",
       "      <td>InChI=1S/C17H14FN3O/c18-14-7-5-12(6-8-14)17(21...</td>\n",
       "      <td>RVFPOHIDBASNMF-UHFFFAOYSA-N</td>\n",
       "      <td>None</td>\n",
       "      <td>...</td>\n",
       "      <td>0.0</td>\n",
       "      <td>3.0</td>\n",
       "      <td>39.94</td>\n",
       "      <td>0.75</td>\n",
       "      <td>P11511</td>\n",
       "      <td>CYP19A1</td>\n",
       "      <td>Homo sapiens</td>\n",
       "      <td>A cytochrome P450 monooxygenase that catalyzes...</td>\n",
       "      <td>Aromatase excess syndrome:  | Aromatase defici...</td>\n",
       "      <td>Endoplasmic reticulum membrane; Microsome memb...</td>\n",
       "    </tr>\n",
       "    <tr>\n",
       "      <th>1</th>\n",
       "      <td>Cytochrome P450 19A1</td>\n",
       "      <td>CHEMBL1978</td>\n",
       "      <td>SINGLE PROTEIN</td>\n",
       "      <td>CHEMBL65328</td>\n",
       "      <td>IC50</td>\n",
       "      <td>590.0</td>\n",
       "      <td>Cc1ccc(C(C2Cc3ccccc3O2)n2cncn2)cc1</td>\n",
       "      <td>InChI=1S/C18H17N3O/c1-13-6-8-14(9-7-13)18(21-1...</td>\n",
       "      <td>OZEGINYEQGNONL-UHFFFAOYSA-N</td>\n",
       "      <td>None</td>\n",
       "      <td>...</td>\n",
       "      <td>0.0</td>\n",
       "      <td>3.0</td>\n",
       "      <td>39.94</td>\n",
       "      <td>0.74</td>\n",
       "      <td>P11511</td>\n",
       "      <td>CYP19A1</td>\n",
       "      <td>Homo sapiens</td>\n",
       "      <td>A cytochrome P450 monooxygenase that catalyzes...</td>\n",
       "      <td>Aromatase excess syndrome:  | Aromatase defici...</td>\n",
       "      <td>Endoplasmic reticulum membrane; Microsome memb...</td>\n",
       "    </tr>\n",
       "    <tr>\n",
       "      <th>2</th>\n",
       "      <td>Cytochrome P450 19A1</td>\n",
       "      <td>CHEMBL1978</td>\n",
       "      <td>SINGLE PROTEIN</td>\n",
       "      <td>CHEMBL488</td>\n",
       "      <td>IC50</td>\n",
       "      <td>18500.0</td>\n",
       "      <td>CCC1(c2ccc(N)cc2)CCC(=O)NC1=O</td>\n",
       "      <td>InChI=1S/C13H16N2O2/c1-2-13(8-7-11(16)15-12(13...</td>\n",
       "      <td>ROBVIMPUHSLWNV-UHFFFAOYSA-N</td>\n",
       "      <td>4.0</td>\n",
       "      <td>...</td>\n",
       "      <td>2.0</td>\n",
       "      <td>2.0</td>\n",
       "      <td>72.19</td>\n",
       "      <td>0.60</td>\n",
       "      <td>P11511</td>\n",
       "      <td>CYP19A1</td>\n",
       "      <td>Homo sapiens</td>\n",
       "      <td>A cytochrome P450 monooxygenase that catalyzes...</td>\n",
       "      <td>Aromatase excess syndrome:  | Aromatase defici...</td>\n",
       "      <td>Endoplasmic reticulum membrane; Microsome memb...</td>\n",
       "    </tr>\n",
       "    <tr>\n",
       "      <th>3</th>\n",
       "      <td>Cytochrome P450 19A1</td>\n",
       "      <td>CHEMBL1978</td>\n",
       "      <td>SINGLE PROTEIN</td>\n",
       "      <td>CHEMBL291646</td>\n",
       "      <td>IC50</td>\n",
       "      <td>200.0</td>\n",
       "      <td>Clc1ccc(C(C2Cc3ccccc3O2)n2cncn2)cc1</td>\n",
       "      <td>InChI=1S/C17H14ClN3O/c18-14-7-5-12(6-8-14)17(2...</td>\n",
       "      <td>UVOSSULRORMWHE-UHFFFAOYSA-N</td>\n",
       "      <td>None</td>\n",
       "      <td>...</td>\n",
       "      <td>0.0</td>\n",
       "      <td>3.0</td>\n",
       "      <td>39.94</td>\n",
       "      <td>0.74</td>\n",
       "      <td>P11511</td>\n",
       "      <td>CYP19A1</td>\n",
       "      <td>Homo sapiens</td>\n",
       "      <td>A cytochrome P450 monooxygenase that catalyzes...</td>\n",
       "      <td>Aromatase excess syndrome:  | Aromatase defici...</td>\n",
       "      <td>Endoplasmic reticulum membrane; Microsome memb...</td>\n",
       "    </tr>\n",
       "    <tr>\n",
       "      <th>4</th>\n",
       "      <td>Cytochrome P450 19A1</td>\n",
       "      <td>CHEMBL1978</td>\n",
       "      <td>SINGLE PROTEIN</td>\n",
       "      <td>CHEMBL304788</td>\n",
       "      <td>IC50</td>\n",
       "      <td>880.0</td>\n",
       "      <td>Clc1ccc(C(C2Cc3ccccc3O2)n2cncn2)c(Cl)c1</td>\n",
       "      <td>InChI=1S/C17H13Cl2N3O/c18-12-5-6-13(14(19)8-12...</td>\n",
       "      <td>ZSINOYZZEZDTLK-UHFFFAOYSA-N</td>\n",
       "      <td>None</td>\n",
       "      <td>...</td>\n",
       "      <td>0.0</td>\n",
       "      <td>3.0</td>\n",
       "      <td>39.94</td>\n",
       "      <td>0.71</td>\n",
       "      <td>P11511</td>\n",
       "      <td>CYP19A1</td>\n",
       "      <td>Homo sapiens</td>\n",
       "      <td>A cytochrome P450 monooxygenase that catalyzes...</td>\n",
       "      <td>Aromatase excess syndrome:  | Aromatase defici...</td>\n",
       "      <td>Endoplasmic reticulum membrane; Microsome memb...</td>\n",
       "    </tr>\n",
       "    <tr>\n",
       "      <th>...</th>\n",
       "      <td>...</td>\n",
       "      <td>...</td>\n",
       "      <td>...</td>\n",
       "      <td>...</td>\n",
       "      <td>...</td>\n",
       "      <td>...</td>\n",
       "      <td>...</td>\n",
       "      <td>...</td>\n",
       "      <td>...</td>\n",
       "      <td>...</td>\n",
       "      <td>...</td>\n",
       "      <td>...</td>\n",
       "      <td>...</td>\n",
       "      <td>...</td>\n",
       "      <td>...</td>\n",
       "      <td>...</td>\n",
       "      <td>...</td>\n",
       "      <td>...</td>\n",
       "      <td>...</td>\n",
       "      <td>...</td>\n",
       "      <td>...</td>\n",
       "    </tr>\n",
       "    <tr>\n",
       "      <th>1463272</th>\n",
       "      <td>Neuronal acetylcholine receptor; alpha3/alpha6...</td>\n",
       "      <td>CHEMBL2109233</td>\n",
       "      <td>PROTEIN COMPLEX</td>\n",
       "      <td>CHEMBL3329544</td>\n",
       "      <td>Emax</td>\n",
       "      <td>64.0</td>\n",
       "      <td>C[C@H]1C[C@@H]1C(=O)N1CC2CC(C1)N2</td>\n",
       "      <td>InChI=1S/C10H16N2O/c1-6-2-9(6)10(13)12-4-7-3-8...</td>\n",
       "      <td>INYNWEUTASDACG-KRTGUUSXSA-N</td>\n",
       "      <td>None</td>\n",
       "      <td>...</td>\n",
       "      <td>1.0</td>\n",
       "      <td>1.0</td>\n",
       "      <td>32.34</td>\n",
       "      <td>0.63</td>\n",
       "      <td>P17787</td>\n",
       "      <td>CHRNB2</td>\n",
       "      <td>Homo sapiens</td>\n",
       "      <td>After binding acetylcholine, the AChR responds...</td>\n",
       "      <td>Epilepsy, nocturnal frontal lobe, 3:</td>\n",
       "      <td>Postsynaptic cell membrane; Cell membrane</td>\n",
       "    </tr>\n",
       "    <tr>\n",
       "      <th>1463273</th>\n",
       "      <td>Neuronal acetylcholine receptor; alpha3/alpha6...</td>\n",
       "      <td>CHEMBL2109233</td>\n",
       "      <td>PROTEIN COMPLEX</td>\n",
       "      <td>CHEMBL3329545</td>\n",
       "      <td>Emax</td>\n",
       "      <td>73.0</td>\n",
       "      <td>CC1(C)CC1C(=O)N1CC2CC(C1)N2</td>\n",
       "      <td>InChI=1S/C11H18N2O/c1-11(2)4-9(11)10(14)13-5-7...</td>\n",
       "      <td>LJEPPQATHWQMBV-UHFFFAOYSA-N</td>\n",
       "      <td>None</td>\n",
       "      <td>...</td>\n",
       "      <td>1.0</td>\n",
       "      <td>1.0</td>\n",
       "      <td>32.34</td>\n",
       "      <td>0.66</td>\n",
       "      <td>P17787</td>\n",
       "      <td>CHRNB2</td>\n",
       "      <td>Homo sapiens</td>\n",
       "      <td>After binding acetylcholine, the AChR responds...</td>\n",
       "      <td>Epilepsy, nocturnal frontal lobe, 3:</td>\n",
       "      <td>Postsynaptic cell membrane; Cell membrane</td>\n",
       "    </tr>\n",
       "    <tr>\n",
       "      <th>1463274</th>\n",
       "      <td>Neuronal acetylcholine receptor; alpha3/alpha6...</td>\n",
       "      <td>CHEMBL2109233</td>\n",
       "      <td>PROTEIN COMPLEX</td>\n",
       "      <td>CHEMBL3329546</td>\n",
       "      <td>Emax</td>\n",
       "      <td>110.0</td>\n",
       "      <td>O=C(C1CC1(F)F)N1CC2CC(C1)N2</td>\n",
       "      <td>InChI=1S/C9H12F2N2O/c10-9(11)2-7(9)8(14)13-3-5...</td>\n",
       "      <td>VXQLPXYMYHKASH-UHFFFAOYSA-N</td>\n",
       "      <td>None</td>\n",
       "      <td>...</td>\n",
       "      <td>1.0</td>\n",
       "      <td>1.0</td>\n",
       "      <td>32.34</td>\n",
       "      <td>0.66</td>\n",
       "      <td>P17787</td>\n",
       "      <td>CHRNB2</td>\n",
       "      <td>Homo sapiens</td>\n",
       "      <td>After binding acetylcholine, the AChR responds...</td>\n",
       "      <td>Epilepsy, nocturnal frontal lobe, 3:</td>\n",
       "      <td>Postsynaptic cell membrane; Cell membrane</td>\n",
       "    </tr>\n",
       "    <tr>\n",
       "      <th>1463275</th>\n",
       "      <td>Neuronal acetylcholine receptor; alpha3/alpha6...</td>\n",
       "      <td>CHEMBL2109233</td>\n",
       "      <td>PROTEIN COMPLEX</td>\n",
       "      <td>CHEMBL4869892</td>\n",
       "      <td>IC50</td>\n",
       "      <td>135.0</td>\n",
       "      <td>CC[C@H](C)[C@@H]1NC(=O)[C@H](CCC(=O)O)NC(=O)[C...</td>\n",
       "      <td>InChI=1S/C68H103N23O21S4/c1-7-32(6)53-66(110)8...</td>\n",
       "      <td>ATDHPNPDBDEQAK-BCTYQQKGSA-N</td>\n",
       "      <td>None</td>\n",
       "      <td>...</td>\n",
       "      <td>NaN</td>\n",
       "      <td>NaN</td>\n",
       "      <td>None</td>\n",
       "      <td>None</td>\n",
       "      <td>P17787</td>\n",
       "      <td>CHRNB2</td>\n",
       "      <td>Homo sapiens</td>\n",
       "      <td>After binding acetylcholine, the AChR responds...</td>\n",
       "      <td>Epilepsy, nocturnal frontal lobe, 3:</td>\n",
       "      <td>Postsynaptic cell membrane; Cell membrane</td>\n",
       "    </tr>\n",
       "    <tr>\n",
       "      <th>1463276</th>\n",
       "      <td>Neuronal acetylcholine receptor; alpha3/alpha6...</td>\n",
       "      <td>CHEMBL2109233</td>\n",
       "      <td>PROTEIN COMPLEX</td>\n",
       "      <td>CHEMBL4872191</td>\n",
       "      <td>IC50</td>\n",
       "      <td>5.55</td>\n",
       "      <td>CC(C)C[C@@H]1NC(=O)[C@H](C)NC(=O)[C@H](CCCNC(=...</td>\n",
       "      <td>InChI=1S/C69H114N30O17S4/c1-32(2)19-41-58(108)...</td>\n",
       "      <td>XFBDKMSGGGCNAI-WVHVKVEVSA-N</td>\n",
       "      <td>None</td>\n",
       "      <td>...</td>\n",
       "      <td>NaN</td>\n",
       "      <td>NaN</td>\n",
       "      <td>None</td>\n",
       "      <td>None</td>\n",
       "      <td>P17787</td>\n",
       "      <td>CHRNB2</td>\n",
       "      <td>Homo sapiens</td>\n",
       "      <td>After binding acetylcholine, the AChR responds...</td>\n",
       "      <td>Epilepsy, nocturnal frontal lobe, 3:</td>\n",
       "      <td>Postsynaptic cell membrane; Cell membrane</td>\n",
       "    </tr>\n",
       "  </tbody>\n",
       "</table>\n",
       "<p>1463277 rows × 25 columns</p>\n",
       "</div>"
      ],
      "text/plain": [
       "                                               Target Name Target ChEMBL ID  \\\n",
       "0                                     Cytochrome P450 19A1       CHEMBL1978   \n",
       "1                                     Cytochrome P450 19A1       CHEMBL1978   \n",
       "2                                     Cytochrome P450 19A1       CHEMBL1978   \n",
       "3                                     Cytochrome P450 19A1       CHEMBL1978   \n",
       "4                                     Cytochrome P450 19A1       CHEMBL1978   \n",
       "...                                                    ...              ...   \n",
       "1463272  Neuronal acetylcholine receptor; alpha3/alpha6...    CHEMBL2109233   \n",
       "1463273  Neuronal acetylcholine receptor; alpha3/alpha6...    CHEMBL2109233   \n",
       "1463274  Neuronal acetylcholine receptor; alpha3/alpha6...    CHEMBL2109233   \n",
       "1463275  Neuronal acetylcholine receptor; alpha3/alpha6...    CHEMBL2109233   \n",
       "1463276  Neuronal acetylcholine receptor; alpha3/alpha6...    CHEMBL2109233   \n",
       "\n",
       "             Target Type Molecule ChEMBL ID Activity Type Activity Value  \\\n",
       "0         SINGLE PROTEIN        CHEMBL63297          IC50          190.0   \n",
       "1         SINGLE PROTEIN        CHEMBL65328          IC50          590.0   \n",
       "2         SINGLE PROTEIN          CHEMBL488          IC50        18500.0   \n",
       "3         SINGLE PROTEIN       CHEMBL291646          IC50          200.0   \n",
       "4         SINGLE PROTEIN       CHEMBL304788          IC50          880.0   \n",
       "...                  ...                ...           ...            ...   \n",
       "1463272  PROTEIN COMPLEX      CHEMBL3329544          Emax           64.0   \n",
       "1463273  PROTEIN COMPLEX      CHEMBL3329545          Emax           73.0   \n",
       "1463274  PROTEIN COMPLEX      CHEMBL3329546          Emax          110.0   \n",
       "1463275  PROTEIN COMPLEX      CHEMBL4869892          IC50          135.0   \n",
       "1463276  PROTEIN COMPLEX      CHEMBL4872191          IC50           5.55   \n",
       "\n",
       "                                          Canonical SMILES  \\\n",
       "0                       Fc1ccc(C(C2Cc3ccccc3O2)n2cncn2)cc1   \n",
       "1                       Cc1ccc(C(C2Cc3ccccc3O2)n2cncn2)cc1   \n",
       "2                            CCC1(c2ccc(N)cc2)CCC(=O)NC1=O   \n",
       "3                      Clc1ccc(C(C2Cc3ccccc3O2)n2cncn2)cc1   \n",
       "4                  Clc1ccc(C(C2Cc3ccccc3O2)n2cncn2)c(Cl)c1   \n",
       "...                                                    ...   \n",
       "1463272                  C[C@H]1C[C@@H]1C(=O)N1CC2CC(C1)N2   \n",
       "1463273                        CC1(C)CC1C(=O)N1CC2CC(C1)N2   \n",
       "1463274                        O=C(C1CC1(F)F)N1CC2CC(C1)N2   \n",
       "1463275  CC[C@H](C)[C@@H]1NC(=O)[C@H](CCC(=O)O)NC(=O)[C...   \n",
       "1463276  CC(C)C[C@@H]1NC(=O)[C@H](C)NC(=O)[C@H](CCCNC(=...   \n",
       "\n",
       "                                            Standard InChI  \\\n",
       "0        InChI=1S/C17H14FN3O/c18-14-7-5-12(6-8-14)17(21...   \n",
       "1        InChI=1S/C18H17N3O/c1-13-6-8-14(9-7-13)18(21-1...   \n",
       "2        InChI=1S/C13H16N2O2/c1-2-13(8-7-11(16)15-12(13...   \n",
       "3        InChI=1S/C17H14ClN3O/c18-14-7-5-12(6-8-14)17(2...   \n",
       "4        InChI=1S/C17H13Cl2N3O/c18-12-5-6-13(14(19)8-12...   \n",
       "...                                                    ...   \n",
       "1463272  InChI=1S/C10H16N2O/c1-6-2-9(6)10(13)12-4-7-3-8...   \n",
       "1463273  InChI=1S/C11H18N2O/c1-11(2)4-9(11)10(14)13-5-7...   \n",
       "1463274  InChI=1S/C9H12F2N2O/c10-9(11)2-7(9)8(14)13-3-5...   \n",
       "1463275  InChI=1S/C68H103N23O21S4/c1-7-32(6)53-66(110)8...   \n",
       "1463276  InChI=1S/C69H114N30O17S4/c1-32(2)19-41-58(108)...   \n",
       "\n",
       "                  Standard InChI Key Max Phase  ...  HBD Rotatable Bonds  \\\n",
       "0        RVFPOHIDBASNMF-UHFFFAOYSA-N      None  ...  0.0             3.0   \n",
       "1        OZEGINYEQGNONL-UHFFFAOYSA-N      None  ...  0.0             3.0   \n",
       "2        ROBVIMPUHSLWNV-UHFFFAOYSA-N       4.0  ...  2.0             2.0   \n",
       "3        UVOSSULRORMWHE-UHFFFAOYSA-N      None  ...  0.0             3.0   \n",
       "4        ZSINOYZZEZDTLK-UHFFFAOYSA-N      None  ...  0.0             3.0   \n",
       "...                              ...       ...  ...  ...             ...   \n",
       "1463272  INYNWEUTASDACG-KRTGUUSXSA-N      None  ...  1.0             1.0   \n",
       "1463273  LJEPPQATHWQMBV-UHFFFAOYSA-N      None  ...  1.0             1.0   \n",
       "1463274  VXQLPXYMYHKASH-UHFFFAOYSA-N      None  ...  1.0             1.0   \n",
       "1463275  ATDHPNPDBDEQAK-BCTYQQKGSA-N      None  ...  NaN             NaN   \n",
       "1463276  XFBDKMSGGGCNAI-WVHVKVEVSA-N      None  ...  NaN             NaN   \n",
       "\n",
       "        Polar Surface Area (PSA)  QED Weighted  UniProt Accession  \\\n",
       "0                          39.94          0.75             P11511   \n",
       "1                          39.94          0.74             P11511   \n",
       "2                          72.19          0.60             P11511   \n",
       "3                          39.94          0.74             P11511   \n",
       "4                          39.94          0.71             P11511   \n",
       "...                          ...           ...                ...   \n",
       "1463272                    32.34          0.63             P17787   \n",
       "1463273                    32.34          0.66             P17787   \n",
       "1463274                    32.34          0.66             P17787   \n",
       "1463275                     None          None             P17787   \n",
       "1463276                     None          None             P17787   \n",
       "\n",
       "         UniProt GeneNames  UniProt Organism  \\\n",
       "0                  CYP19A1      Homo sapiens   \n",
       "1                  CYP19A1      Homo sapiens   \n",
       "2                  CYP19A1      Homo sapiens   \n",
       "3                  CYP19A1      Homo sapiens   \n",
       "4                  CYP19A1      Homo sapiens   \n",
       "...                    ...               ...   \n",
       "1463272             CHRNB2      Homo sapiens   \n",
       "1463273             CHRNB2      Homo sapiens   \n",
       "1463274             CHRNB2      Homo sapiens   \n",
       "1463275             CHRNB2      Homo sapiens   \n",
       "1463276             CHRNB2      Homo sapiens   \n",
       "\n",
       "                                          UniProt Function  \\\n",
       "0        A cytochrome P450 monooxygenase that catalyzes...   \n",
       "1        A cytochrome P450 monooxygenase that catalyzes...   \n",
       "2        A cytochrome P450 monooxygenase that catalyzes...   \n",
       "3        A cytochrome P450 monooxygenase that catalyzes...   \n",
       "4        A cytochrome P450 monooxygenase that catalyzes...   \n",
       "...                                                    ...   \n",
       "1463272  After binding acetylcholine, the AChR responds...   \n",
       "1463273  After binding acetylcholine, the AChR responds...   \n",
       "1463274  After binding acetylcholine, the AChR responds...   \n",
       "1463275  After binding acetylcholine, the AChR responds...   \n",
       "1463276  After binding acetylcholine, the AChR responds...   \n",
       "\n",
       "                                           UniProt Disease  \\\n",
       "0        Aromatase excess syndrome:  | Aromatase defici...   \n",
       "1        Aromatase excess syndrome:  | Aromatase defici...   \n",
       "2        Aromatase excess syndrome:  | Aromatase defici...   \n",
       "3        Aromatase excess syndrome:  | Aromatase defici...   \n",
       "4        Aromatase excess syndrome:  | Aromatase defici...   \n",
       "...                                                    ...   \n",
       "1463272              Epilepsy, nocturnal frontal lobe, 3:    \n",
       "1463273              Epilepsy, nocturnal frontal lobe, 3:    \n",
       "1463274              Epilepsy, nocturnal frontal lobe, 3:    \n",
       "1463275              Epilepsy, nocturnal frontal lobe, 3:    \n",
       "1463276              Epilepsy, nocturnal frontal lobe, 3:    \n",
       "\n",
       "                               UniProt SubcellularLocation  \n",
       "0        Endoplasmic reticulum membrane; Microsome memb...  \n",
       "1        Endoplasmic reticulum membrane; Microsome memb...  \n",
       "2        Endoplasmic reticulum membrane; Microsome memb...  \n",
       "3        Endoplasmic reticulum membrane; Microsome memb...  \n",
       "4        Endoplasmic reticulum membrane; Microsome memb...  \n",
       "...                                                    ...  \n",
       "1463272          Postsynaptic cell membrane; Cell membrane  \n",
       "1463273          Postsynaptic cell membrane; Cell membrane  \n",
       "1463274          Postsynaptic cell membrane; Cell membrane  \n",
       "1463275          Postsynaptic cell membrane; Cell membrane  \n",
       "1463276          Postsynaptic cell membrane; Cell membrane  \n",
       "\n",
       "[1463277 rows x 25 columns]"
      ]
     },
     "execution_count": 6,
     "metadata": {},
     "output_type": "execute_result"
    }
   ],
   "source": [
    "df"
   ]
  },
  {
   "cell_type": "code",
   "execution_count": 7,
   "metadata": {},
   "outputs": [],
   "source": [
    "df.to_csv('Alzheimer_CheMBLv35_Uniprot.csv', index=False) "
   ]
  }
 ],
 "metadata": {
  "kernelspec": {
   "display_name": "Python 3",
   "language": "python",
   "name": "python3"
  },
  "language_info": {
   "codemirror_mode": {
    "name": "ipython",
    "version": 3
   },
   "file_extension": ".py",
   "mimetype": "text/x-python",
   "name": "python",
   "nbconvert_exporter": "python",
   "pygments_lexer": "ipython3",
   "version": "3.8.10"
  },
  "orig_nbformat": 4
 },
 "nbformat": 4,
 "nbformat_minor": 2
}
