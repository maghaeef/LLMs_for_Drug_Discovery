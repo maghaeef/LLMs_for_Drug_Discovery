{
 "cells": [
  {
   "cell_type": "code",
   "execution_count": 2,
   "metadata": {},
   "outputs": [
    {
     "name": "stdout",
     "output_type": "stream",
     "text": [
      "Collecting psycopg2-binary\n",
      "  Downloading psycopg2_binary-2.9.10-cp38-cp38-manylinux_2_17_x86_64.manylinux2014_x86_64.whl (3.0 MB)\n",
      "\u001b[K     |████████████████████████████████| 3.0 MB 1.8 MB/s eta 0:00:01\n",
      "\u001b[?25hRequirement already satisfied: pandas in /home/mohammad/.local/lib/python3.8/site-packages (1.3.4)\n",
      "Requirement already satisfied: tqdm in /home/mohammad/.local/lib/python3.8/site-packages (4.67.1)\n",
      "Requirement already satisfied: pytz>=2017.3 in /usr/lib/python3/dist-packages (from pandas) (2019.3)\n",
      "Requirement already satisfied: python-dateutil>=2.7.3 in /home/mohammad/.local/lib/python3.8/site-packages (from pandas) (2.8.2)\n",
      "Requirement already satisfied: numpy>=1.17.3; platform_machine != \"aarch64\" and platform_machine != \"arm64\" and python_version < \"3.10\" in /home/mohammad/.local/lib/python3.8/site-packages (from pandas) (1.21.4)\n",
      "Requirement already satisfied: six>=1.5 in /home/mohammad/.local/lib/python3.8/site-packages (from python-dateutil>=2.7.3->pandas) (1.17.0)\n",
      "Installing collected packages: psycopg2-binary\n",
      "Successfully installed psycopg2-binary-2.9.10\n"
     ]
    }
   ],
   "source": [
    "!pip install psycopg2-binary pandas tqdm"
   ]
  },
  {
   "cell_type": "code",
   "execution_count": 1,
   "metadata": {},
   "outputs": [],
   "source": [
    "targets = [\n",
    "    \"Cytochrome P450 19A1\",\n",
    "    \"Muscarinic acetylcholine receptor M2\",\n",
    "    \"Muscarinic acetylcholine receptors; M2 & M3\",\n",
    "    \"Dopamine D3 receptor\",\n",
    "    \"Dopamine D4 receptor\",\n",
    "    \"Neprilysin\",\n",
    "    \"Plasminogen\",\n",
    "    \"Muscarinic acetylcholine receptor M1\",\n",
    "    \"Angiotensin II receptor\",\n",
    "    \"Serotonin 1a (5-HT1a) receptor\",\n",
    "    \"Matrix metalloproteinase 3\",\n",
    "    \"Matrix metalloproteinase-1\",\n",
    "    \"Matrix metalloproteinase 9\",\n",
    "    \"Matrix metalloproteinase-2\",\n",
    "    \"ADAM17\",\n",
    "    \"Peroxisome proliferator-activated receptor gamma\",\n",
    "    \"Receptor protein-tyrosine kinase erbB-2\",\n",
    "    \"Tyrosine-protein kinase LCK\",\n",
    "    \"Angiotensin II type 2 (AT-2) receptor\",\n",
    "    \"Serum albumin\",\n",
    "    \"Adenosine A2a receptor\",\n",
    "    \"Intercellular adhesion molecule-1\",\n",
    "    \"Androgen Receptor\",\n",
    "    \"Estrogen receptor\",\n",
    "    \"Purinergic receptor P2Y2\",\n",
    "    \"Excitatory amino acid transporter 1\",\n",
    "    \"Excitatory amino acid transporter 2\",\n",
    "    \"Excitatory amino acid transporter 3\",\n",
    "    \"Caspase-1\",\n",
    "    \"Caspase-3\",\n",
    "    \"Caspase-6\",\n",
    "    \"Caspase-8\",\n",
    "    \"Renin\",\n",
    "    \"Sigma opioid receptor\",\n",
    "    \"Nitric oxide synthase, inducible\",\n",
    "    \"Nitric-oxide synthase, endothelial\",\n",
    "    \"Nitric-oxide synthase, brain\",\n",
    "    \"Nitric oxide synthase (inducible and endothelial)\",\n",
    "    \"Nitric oxide sythases; iNOS & nNOS\",\n",
    "    \"P-selectin\",\n",
    "    \"Complement C1r\",\n",
    "    \"Type-1 angiotensin II receptor\",\n",
    "    \"Serotonin 2c (5-HT2c) receptor\",\n",
    "    \"Serotonin 2a (5-HT2a) receptor\",\n",
    "    \"Monoamine oxidase A\",\n",
    "    \"Butyrylcholinesterase\",\n",
    "    \"Acetylcholinesterase\",\n",
    "    \"Lipoprotein lipase\",\n",
    "    \"Dopamine D1 receptor\",\n",
    "    \"Cathepsin D\",\n",
    "    \"Cathepsin G\",\n",
    "    \"Cyclooxygenase-2\",\n",
    "    \"Cyclooxygenase-1\",\n",
    "    \"Cyclooxygenase\",\n",
    "    \"Alpha-2a adrenergic receptor\",\n",
    "    \"Dopamine transporter\",\n",
    "    \"Serotonin 6 (5-HT6) receptor\",\n",
    "    \"Calpain 1\",\n",
    "    \"Glutamate receptor ionotropic, AMPA 1\",\n",
    "    \"Glutamate receptor ionotropic, AMPA 2\",\n",
    "    \"Glutamate receptor ionotropic, AMPA 3\",\n",
    "    \"Cannabinoid CB2 receptor\",\n",
    "    \"Cathepsin B\",\n",
    "    \"Beta-secretase 1\",\n",
    "    \"Adrenergic receptor beta\",\n",
    "    \"Dopamine receptors; D3 & D4\",\n",
    "    \"11-beta-hydroxysteroid dehydrogenase 1\",\n",
    "    \"Monoamine oxidase B\",\n",
    "    \"Tissue-type plasminogen activator\",\n",
    "    \"Cytochrome P450 2D6\",\n",
    "    \"HMG-CoA reductase\",\n",
    "    \"TNF-beta\",\n",
    "    \"Beta-2 adrenergic receptor\",\n",
    "    \"Phospholipase A2 group IIA\",\n",
    "    \"Serine/threonine-protein kinase RAF\",\n",
    "    \"Gamma-secretase\",\n",
    "    \"Estrogen receptor alpha\",\n",
    "    \"Estrogen receptor beta\",\n",
    "    \"Melatonin receptor 1A\",\n",
    "    \"Melatonin receptor\",\n",
    "    \"Arachidonate 5-lipoxygenase\",\n",
    "    \"Muscarinic acetylcholine receptor M2 and M4\",\n",
    "    \"Muscarinic acetylcholine receptor M2 and M5\",\n",
    "    \"Beta-glucocerebrosidase\",\n",
    "    \"Serum paraoxonase/arylesterase 1\",\n",
    "    \"Angiotensin-converting enzyme\",\n",
    "    \"Dopamine receptor\",\n",
    "    \"GABA-B receptor\",\n",
    "    \"Muscarinic acetylcholine receptor\",\n",
    "    \"Cytochrome P450 17A1\",\n",
    "    \"FK506 binding protein 12\",\n",
    "    \"Cyclin-dependent kinase 1\",\n",
    "    \"Beta amyloid A4 protein\",\n",
    "    \"Farnesyl diphosphate synthase\",\n",
    "    \"Corticotropin releasing factor receptor 1\",\n",
    "    \"Cyclin-dependent kinase 5/CDK5 activator 1\",\n",
    "    \"Glycogen synthase kinase-3\",\n",
    "    \"Neuronal acetylcholine receptor; alpha4/beta2\",\n",
    "    \"Neuronal acetylcholine receptor protein alpha-7 subunit\",\n",
    "    \"Gamma-secretase subunit PEN-2\",\n",
    "    \"Erythropoietin receptor\",\n",
    "    \"Purine nucleoside phosphorylase\",\n",
    "    \"C-C chemokine receptor type 5\",\n",
    "    \"C-C chemokine receptor type 3\",\n",
    "    \"Urokinase-type plasminogen activator\",\n",
    "    \"C5a anaphylatoxin chemotactic receptor\",\n",
    "    \"Macrophage migration inhibitory factor\",\n",
    "    \"Dual specificity mitogen-activated protein kinase kinase 1\",\n",
    "    \"Tyrosine-protein kinase FYN\",\n",
    "    \"Serotonin transporter\",\n",
    "    \"Acyl coenzyme A:cholesterol acyltransferase 1\",\n",
    "    \"Peroxisome proliferator-activated receptor alpha\",\n",
    "    \"Peroxisome proliferator-activated receptor delta\",\n",
    "    \"P-glycoprotein 1\",\n",
    "    \"Tyrosine-protein kinase ABL\",\n",
    "    \"Neuronal acetylcholine receptor; alpha3/beta4\",\n",
    "    \"Glycogen synthase kinase-3 beta\",\n",
    "    \"Angiotensin-converting enzyme\",\n",
    "    \"Voltage-gated L-type calcium channel alpha-1C subunit\",\n",
    "    \"Glycogen synthase kinase-3 alpha\",\n",
    "    \"Monoamine oxidase\",\n",
    "    \"Beta-secretase (BACE)\",\n",
    "    \"Plasminogen activator inhibitor-1\",\n",
    "    \"Matrix metalloproteinase (2 and 3)\",\n",
    "    \"Transthyretin\",\n",
    "    \"Monoamine transporters; serotonin & dopamine\",\n",
    "    \"Matrix metalloproteinase 12\",\n",
    "    \"Mitogen-activated protein kinase; ERK1/ERK2\",\n",
    "    \"Ribosomal protein S6 kinase (P70S6K)\",\n",
    "    \"Serine/threonine-protein kinase AKT\",\n",
    "    \"Dual-specificity tyrosine-phosphorylation regulated kinase 1A\",\n",
    "    \"MAP kinase ERK1\",\n",
    "    \"MAP kinase ERK2\",\n",
    "    \"Tyrosine-protein kinase ABL\",\n",
    "    \"PPAR alpha/gamma\",\n",
    "    \"Insulin-like growth factor binding protein 3\",\n",
    "    \"TNF-alpha\",\n",
    "    \"Receptor-type tyrosine-protein phosphatase alpha\",\n",
    "    \"Glutamate receptor ionotropic AMPA\",\n",
    "    \"Prolyl endopeptidase\",\n",
    "    \"Insulin-like growth factor binding protein 2\",\n",
    "    \"Insulin-like growth factor binding protein 6\",\n",
    "    \"Ceramide glucosyltransferase\",\n",
    "    \"Insulin-like growth factor I receptor\",\n",
    "    \"Insulin receptor\",\n",
    "    \"Dual specificity mitogen-activated protein kinase kinase; MEK1/2\",\n",
    "    \"Glyceraldehyde-3-phosphate dehydrogenase liver\",\n",
    "    \"Adenosine receptors; A2a & A3\",\n",
    "    \"Caspase-9\",\n",
    "    \"Vitamin D receptor\",\n",
    "    \"Vesicular acetylcholine transporter\",\n",
    "    \"Nerve growth factor receptor Trk-A\",\n",
    "    \"Dual specificity mitogen-activated protein kinase kinase 2\",\n",
    "    \"Subtilisin/kexin type 9\",\n",
    "    \"GAR transformylase\",\n",
    "    \"Anandamide amidohydrolase\",\n",
    "    \"Quinone reductase 1\",\n",
    "    \"Muscarinic acetylcholine receptor M1 and M3\",\n",
    "    \"Thioredoxin reductase\",\n",
    "    \"Caspase-7\",\n",
    "    \"Phenylethanolamine N-methyltransferase\",\n",
    "    \"Serotransferrin\",\n",
    "    \"CaM kinase II\",\n",
    "    \"Vascular endothelial growth factor A\",\n",
    "    \"Glutamine synthetase\",\n",
    "    \"Arachidonate 15-lipoxygenase\",\n",
    "    \"Complement factor H\",\n",
    "    \"Tumor necrosis factor receptor R1\",\n",
    "    \"G-protein coupled receptor kinase 2\",\n",
    "    \"Arachidonate 12-lipoxygenase\",\n",
    "    \"Phosphodiesterase 4B\",\n",
    "    \"Beta-2 adrenergic receptor and beta-3 adrenergic receptor\",\n",
    "    \"RXR alpha/PPAR gamma\",\n",
    "    \"Serine/threonine-protein kinase RAF and Dual specificity mitogen-activated protein kinase kinase 1 (Raf/MEK)\",\n",
    "    \"Glutathione S-transferase Pi\",\n",
    "    \"Cyclin-dependent kinase 5\",\n",
    "    \"Bcr/Abl fusion protein\",\n",
    "    \"Caspase-2\",\n",
    "    \"Caspase-4\",\n",
    "    \"Interleukin-8 receptor B\",\n",
    "    \"Neuronal acetylcholine receptor; alpha2/beta4\",\n",
    "    \"Superoxide dismutase\",\n",
    "    \"Lysosomal acid lipase/cholesteryl ester hydrolase\",\n",
    "    \"Neuronal acetylcholine receptor subunit alpha-3\",\n",
    "    \"Phosphatidylcholine-retinol O-acyltransferase\",\n",
    "    \"Cannabinoid receptor\",\n",
    "    \"Nitric-oxide synthase (endothelial and brain)\",\n",
    "    \"Neuronal acetylcholine receptor; alpha3/beta2\",\n",
    "    \"Beta secretase 2\",\n",
    "    \"Glutamate (NMDA) receptor subunit zeta 1\",\n",
    "    \"Cystic fibrosis transmembrane conductance regulator\",\n",
    "    \"Inositol 1,4,5-trisphosphate receptor type 1\",\n",
    "    \"Glutamate [NMDA] receptor subunit epsilon 1\",\n",
    "    \"Glutamate [NMDA] receptor subunit epsilon 2\",\n",
    "    \"Poly [ADP-ribose] polymerase-1\",\n",
    "    \"DNA polymerase beta\",\n",
    "    \"Choline acetylase\",\n",
    "    \"Catechol O-methyltransferase\",\n",
    "    \"Cathepsin (B and K)\",\n",
    "    \"C-X-C chemokine receptor type 3\",\n",
    "    \"Glutamate NMDA receptor; GRIN1/GRIN2A\",\n",
    "    \"Glutamate NMDA receptor; GRIN1/GRIN2B\",\n",
    "    \"Serine/threonine-protein kinase WEE1\",\n",
    "    \"Aryl hydrocarbon receptor\",\n",
    "    \"Collagenase\",\n",
    "    \"Aldehyde dehydrogenase\",\n",
    "    \"Receptor protein-tyrosine kinase erbB-4\",\n",
    "    \"PI3-kinase p110-alpha/p85-alpha\",\n",
    "    \"Cytochrome P450 1A1\",\n",
    "    \"Proenkephalin B\",\n",
    "    \"5-lipoxygenase/FLAP\",\n",
    "    \"LDL receptor\",\n",
    "    \"Interleukin-8\",\n",
    "    \"Myeloperoxidase\",\n",
    "    \"cAMP-dependent protein kinase alpha-catalytic subunit\",\n",
    "    \"Prion protein\",\n",
    "    \"Low affinity neurotrophin receptor p75NTR\",\n",
    "    \"Cerebroside-sulfatase\",\n",
    "    \"Quinone reductase 2\",\n",
    "    \"Suv3 helicase\",\n",
    "    \"Ribosomal protein S6 kinase 1\",\n",
    "    \"Serum amyloid P-component\",\n",
    "    \"HLA class I histocompatibility antigen A-3\",\n",
    "    \"Acidic fibroblast growth factor\",\n",
    "    \"HLA class II histocompatibility antigen DRB1-1\",\n",
    "    \"Peptidyl-prolyl cis-trans isomerase NIMA-interacting 1\",\n",
    "    \"Insulin-like growth factor II receptor\",\n",
    "    \"PPAR delta/gamma\",\n",
    "    \"Neuronal acetylcholine recetpor; alpha2/beta2\",\n",
    "    \"Tumour suppressor p53/oncoprotein Mdm2\",\n",
    "    \"Prostaglandin E synthase 2\",\n",
    "    \"Casein kinase I delta\",\n",
    "    \"Fatty acid binding protein muscle\",\n",
    "    \"ADAMTS4\",\n",
    "    \"ADAM12\",\n",
    "    \"ADAM10\",\n",
    "    \"Breakpoint cluster region protein\",\n",
    "    \"S-100 protein beta chain\",\n",
    "    \"Serine/threonine-protein kinase EEF2K\",\n",
    "    \"LXR-beta\",\n",
    "    \"Coagulation factor XIII\",\n",
    "    \"Kinesin-like protein 1\",\n",
    "    \"Eukaryotic translation initation factor\",\n",
    "    \"Guanine nucleotide-binding protein G(o), alpha subunit 1\",\n",
    "    \"CaM kinase II alpha\",\n",
    "    \"Ephrin type-A receptor 5\",\n",
    "    \"CaM kinase II gamma\",\n",
    "    \"CaM kinase I alpha\",\n",
    "    \"Serine/threonine-protein kinase PAK 1\",\n",
    "    \"NAD-dependent deacetylase sirtuin 1\",\n",
    "    \"Toll-like receptor 4\",\n",
    "    \"Phosphodiesterase 8B\",\n",
    "    \"Synaptic vesicular amine transporter\",\n",
    "    \"Apoptosis regulator Bcl-W\",\n",
    "    \"Coagulation factor V\",\n",
    "    \"ADAMTS1\",\n",
    "    \"Neurotrophic tyrosine kinase receptor type 2\",\n",
    "    \"Luteinizing hormone/Choriogonadotropin receptor\",\n",
    "    \"Heme oxygenase 1\",\n",
    "    \"Insulin\",\n",
    "    \"Muscarinic acetylcholine receptor M1/M5 chimeric protein\",\n",
    "    \"Catenin beta-1\",\n",
    "    \"Phosphoenolpyruvate carboxykinase cytosolic\",\n",
    "    \"Interferon-induced, double-stranded RNA-activated protein kinase\",\n",
    "    \"Alpha-1-antichymotrypsin\",\n",
    "    \"Ubiquitin carboxyl-terminal hydrolase isozyme L1\",\n",
    "    \"Breast cancer type 1 susceptibility protein\",\n",
    "    \"Alpha-synuclein\",\n",
    "    \"Segment polarity protein dishevelled homolog DVL-1\",\n",
    "    \"Nucleoside diphosphate kinase 1\",\n",
    "    \"Nucleoside diphosphate kinase 2\",\n",
    "    \"Cyclin-dependent kinase 5 regulatory subunit 1\",\n",
    "    \"PI3-kinase p85-alpha subunit\",\n",
    "    \"Ornithine aminotransferase, mitochondrial\",\n",
    "    \"Ephrin type-A receptor 1\",\n",
    "    \"Death-associated protein kinase 1\",\n",
    "    \"Serine/threonine-protein kinase 11\",\n",
    "    \"Serine/threonine-protein kinase MARK1\",\n",
    "    \"Serine/threonine-protein kinase 24\",\n",
    "    \"Protein tyrosine kinase 2 beta\",\n",
    "    \"Apolipoprotein A-I\",\n",
    "    \"Thioredoxin reductase 2\",\n",
    "    \"NT-3 growth factor receptor\",\n",
    "    \"Receptor tyrosine-protein kinase erbB-3\",\n",
    "    \"Interleukin-2\",\n",
    "    \"Presenilin 1\",\n",
    "    \"Cellular tumor antigen p53\",\n",
    "    \"DNA-(apurinic or apyrimidinic site) lyase\",\n",
    "    \"Neuronal acetylcholine receptor protein alpha-4 subunit\",\n",
    "    \"Glutathione transferase omega 1\",\n",
    "    \"Huntingtin\",\n",
    "    \"Macrophage scavenger receptor types I and II\",\n",
    "    \"Cyclic AMP-responsive element-binding protein 1\",\n",
    "    \"Disks large homolog 4\",\n",
    "    \"Tumor necrosis factor ligand superfamily member 10\",\n",
    "    \"Tumor necrosis factor ligand superfamily member 6\",\n",
    "    \"Arylamine N-acetyltransferase 1\",\n",
    "    \"Arylamine N-acetyltransferase 2\",\n",
    "    \"Toll-like receptor 9\",\n",
    "    \"GABA-B receptor 1\",\n",
    "    \"Tryptophan 5-hydroxylase 1\",\n",
    "    \"Glucagon\",\n",
    "    \"Non-receptor tyrosine-protein kinase TNK1\",\n",
    "    \"Histone acetyltransferase KAT5\",\n",
    "    \"Endoplasmic reticulum aminopeptidase 1\",\n",
    "    \"Adenylate cyclase type II\",\n",
    "    \"Aquaporin-4\",\n",
    "    \"Peroxiredoxin-1\",\n",
    "    \"Acid ceramidase\",\n",
    "    \"Heat shock 70 kDa protein 1\",\n",
    "    \"Dynamin-2\",\n",
    "    \"Transcription factor Sp1\",\n",
    "    \"Creatine kinase B-type\",\n",
    "    \"Dickkopf-related protein 1\",\n",
    "    \"Kallikrein 8\",\n",
    "    \"Leucine-rich repeat serine/threonine-protein kinase 2\",\n",
    "    \"Integrin alpha M\",\n",
    "    \"Elongation factor 2\",\n",
    "    \"Tumor necrosis factor receptor superfamily member 5\",\n",
    "    \"Tumor necrosis factor receptor superfamily member 1B\",\n",
    "    \"Toll-like receptor (TLR7/TLR9)\",\n",
    "    \"MIF/CD74 (Macrophage migration inhibitory factor and HLA-DR antigens-associated invariant chain)\",\n",
    "    \"Eukaryotic translation initiation factor 2 subunit 1\",\n",
    "    \"PI3-kinase p110-delta/p85-alpha\",\n",
    "    \"C-C motif chemokine 5\",\n",
    "    \"Transcriptional regulator ERG\",\n",
    "    \"Prelamin-A/C\",\n",
    "    \"Microtubule-associated protein tau\",\n",
    "    \"Endoplasmic reticulum-associated amyloid beta-peptide-binding protein\",\n",
    "    \"Peroxisome proliferator-activated receptor gamma/Nuclear receptor coactivator 1\",\n",
    "    \"Peroxisome proliferator-activated receptor gamma/Nuclear receptor corepressor 2\",\n",
    "    \"Ubiquitin carboxyl-terminal hydrolase BAP1\",\n",
    "    \"Peroxisome proliferator-activated receptor gamma/Nuclear receptor coactivator 2\",\n",
    "    \"Insulin-degrading enzyme\",\n",
    "    \"Peroxisome proliferator-activated receptor gamma/Nuclear receptor coactivator 3\",\n",
    "    \"Excitatory amino acid transporter 5\",\n",
    "    \"Relaxin-3 receptor 1\",\n",
    "    \"Neuronal acetylcholine recetpor; alpha6/beta2\",\n",
    "    \"C-C motif chemokine 2\",\n",
    "    \"Neuronal acetylcholine receptor protein beta-2 subunit\",\n",
    "    \"Peptidyl-prolyl cis-trans isomerase D\",\n",
    "    \"Glutathione S-transferase A4\",\n",
    "    \"Glutathione transferase omega 2\",\n",
    "    \"Platelet glycoprotein 4\",\n",
    "    \"G1/S-specific cyclin D1\",\n",
    "    \"78 kDa glucose-regulated protein\",\n",
    "    \"Interleukin-6\",\n",
    "    \"Somatostatin\",\n",
    "    \"Bis(5'-adenosyl)-triphosphatase\",\n",
    "    \"Protein polybromo-1\",\n",
    "    \"Transforming growth factor beta-1\",\n",
    "    \"Kallikrein 7\",\n",
    "    \"Regulator of G-protein signaling 4\",\n",
    "    \"Protein-arginine deiminase type-2\",\n",
    "    \"Interleukin-1 beta\",\n",
    "    \"Scavenger receptor class B member 1\",\n",
    "    \"Islet amyloid polypeptide\",\n",
    "    \"Appetite-regulating hormone\",\n",
    "    \"Protoporphyrinogen oxidase\",\n",
    "    \"Natural resistance-associated macrophage protein 2\",\n",
    "    \"Proteasome subunit beta type-9\",\n",
    "    \"DNA polymerase nu\",\n",
    "    \"NEDD8-activating enzyme E1 regulatory subunit\",\n",
    "    \"Neuronal acetylcholine receptors; alpha-3/beta-4, alpha-5, beta-2\",\n",
    "    \"Kallikrein 6\",\n",
    "    \"Phosphatidylinositol 3,4,5-trisphosphate 3-phosphatase and dual-specificity protein phosphatase PTEN\",\n",
    "    \"Natural resistance-associated macrophage protein 1\",\n",
    "    \"Heat shock-related 70 kDa protein 2\",\n",
    "    \"ATP synthase subunit alpha, mitochondrial\",\n",
    "    \"Guanine nucleotide-binding protein G(s), subunit alpha\",\n",
    "    \"Neurogenic locus notch homolog protein 1\",\n",
    "    \"Methionine synthase\",\n",
    "    \"Ubiquitin carboxyl-terminal hydrolase 21\",\n",
    "    \"Presenilin 2\",\n",
    "    \"Advanced glycosylation end product-specific receptor\",\n",
    "    \"Tumour suppressor protein p53/Mdm4\",\n",
    "    \"Mammalian target of Rapamycin (mTORC1)\",\n",
    "    \"High mobility group protein B1\",\n",
    "    \"Alpha-ketoglutarate-dependent dioxygenase FTO\",\n",
    "    \"TAR DNA-binding protein 43\",\n",
    "    \"Muscarinic acetylcholine receptors; M1 & M2\",\n",
    "    \"Neuronal acetylcholine receptor; alpha4/beta4\",\n",
    "    \"Adenosine receptors; A1 & A2\",\n",
    "    \"Dopamine D2 receptor and serotonin 1a receptor\",\n",
    "    \"Cholinesterases; ACHE & BCHE\",\n",
    "    \"Serotonin 2 receptors; 5-HT2a & 5-HT2c\",\n",
    "    \"Serotonin receptor (2b and 2c)\",\n",
    "    \"Neuronal acetylcholine receptor; alpha3/alpha6/beta2/beta3\"\n",
    "]"
   ]
  },
  {
   "cell_type": "code",
   "execution_count": 2,
   "metadata": {},
   "outputs": [
    {
     "name": "stdout",
     "output_type": "stream",
     "text": [
      "No exact match found for target: Beta amyloid A4 protein\n",
      "No exact match found for target: HLA class II histocompatibility antigen DRB1-1\n",
      "No exact match found for target: Neuronal acetylcholine recetpor; alpha2/beta2\n",
      "No exact match found for target: Excitatory amino acid transporter 5\n",
      "No exact match found for target: Neuronal acetylcholine recetpor; alpha6/beta2\n",
      "No exact match found for target: Somatostatin\n",
      "No exact match found for target: Mammalian target of Rapamycin (mTORC1)\n",
      "Fetching data for target CHEMBL1978 (Cytochrome P450 19A1)...\n"
     ]
    },
    {
     "name": "stderr",
     "output_type": "stream",
     "text": [
      "Processing CHEMBL1978: 6630it [00:03, 2093.89it/s]\n"
     ]
    },
    {
     "name": "stdout",
     "output_type": "stream",
     "text": [
      "Fetching data for target CHEMBL3859 (Cytochrome P450 19A1)...\n"
     ]
    },
    {
     "name": "stderr",
     "output_type": "stream",
     "text": [
      "Processing CHEMBL3859: 263it [00:01, 204.51it/s]\n"
     ]
    },
    {
     "name": "stdout",
     "output_type": "stream",
     "text": [
      "Fetching data for target CHEMBL211 (Muscarinic acetylcholine receptor M2)...\n"
     ]
    },
    {
     "name": "stderr",
     "output_type": "stream",
     "text": [
      "Processing CHEMBL211: 8829it [00:03, 2571.84it/s]\n"
     ]
    },
    {
     "name": "stdout",
     "output_type": "stream",
     "text": [
      "Fetching data for target CHEMBL4781 (Muscarinic acetylcholine receptor M2)...\n"
     ]
    },
    {
     "name": "stderr",
     "output_type": "stream",
     "text": [
      "Processing CHEMBL4781: 447it [00:00, 508.62it/s]\n"
     ]
    },
    {
     "name": "stdout",
     "output_type": "stream",
     "text": [
      "Fetching data for target CHEMBL3197 (Muscarinic acetylcholine receptor M2)...\n"
     ]
    },
    {
     "name": "stderr",
     "output_type": "stream",
     "text": [
      "Processing CHEMBL3197: 85it [00:00, 105.71it/s]\n"
     ]
    },
    {
     "name": "stdout",
     "output_type": "stream",
     "text": [
      "Fetching data for target CHEMBL309 (Muscarinic acetylcholine receptor M2)...\n"
     ]
    },
    {
     "name": "stderr",
     "output_type": "stream",
     "text": [
      "Processing CHEMBL309: 969it [00:00, 1017.44it/s]\n"
     ]
    },
    {
     "name": "stdout",
     "output_type": "stream",
     "text": [
      "Fetching data for target CHEMBL2095187 (Muscarinic acetylcholine receptors; M2 & M3)...\n"
     ]
    },
    {
     "name": "stderr",
     "output_type": "stream",
     "text": [
      "Processing CHEMBL2095187: 652it [00:00, 793.15it/s]\n"
     ]
    },
    {
     "name": "stdout",
     "output_type": "stream",
     "text": [
      "Fetching data for target CHEMBL234 (Dopamine D3 receptor)...\n"
     ]
    },
    {
     "name": "stderr",
     "output_type": "stream",
     "text": [
      "Processing CHEMBL234: 12791it [00:02, 4321.79it/s]\n"
     ]
    },
    {
     "name": "stdout",
     "output_type": "stream",
     "text": [
      "Fetching data for target CHEMBL3441 (Dopamine D3 receptor)...\n"
     ]
    },
    {
     "name": "stderr",
     "output_type": "stream",
     "text": [
      "Processing CHEMBL3441: 6it [00:00,  7.37it/s]\n"
     ]
    },
    {
     "name": "stdout",
     "output_type": "stream",
     "text": [
      "Fetching data for target CHEMBL3138 (Dopamine D3 receptor)...\n"
     ]
    },
    {
     "name": "stderr",
     "output_type": "stream",
     "text": [
      "Processing CHEMBL3138: 1005it [00:00, 1061.88it/s]\n"
     ]
    },
    {
     "name": "stdout",
     "output_type": "stream",
     "text": [
      "Fetching data for target CHEMBL2304406 (Dopamine D3 receptor)...\n"
     ]
    },
    {
     "name": "stderr",
     "output_type": "stream",
     "text": [
      "Processing CHEMBL2304406: 16it [00:00, 17.87it/s]\n"
     ]
    },
    {
     "name": "stdout",
     "output_type": "stream",
     "text": [
      "Fetching data for target CHEMBL219 (Dopamine D4 receptor)...\n"
     ]
    },
    {
     "name": "stderr",
     "output_type": "stream",
     "text": [
      "Processing CHEMBL219: 6126it [00:01, 4946.81it/s]\n"
     ]
    },
    {
     "name": "stdout",
     "output_type": "stream",
     "text": [
      "Fetching data for target CHEMBL2574 (Dopamine D4 receptor)...\n"
     ]
    },
    {
     "name": "stderr",
     "output_type": "stream",
     "text": [
      "Processing CHEMBL2574: 19it [00:00, 23.45it/s]\n"
     ]
    },
    {
     "name": "stdout",
     "output_type": "stream",
     "text": [
      "Fetching data for target CHEMBL3361 (Dopamine D4 receptor)...\n"
     ]
    },
    {
     "name": "stderr",
     "output_type": "stream",
     "text": [
      "Processing CHEMBL3361: 266it [00:00, 312.82it/s]\n"
     ]
    },
    {
     "name": "stdout",
     "output_type": "stream",
     "text": [
      "Fetching data for target CHEMBL1944 (Neprilysin)...\n"
     ]
    },
    {
     "name": "stderr",
     "output_type": "stream",
     "text": [
      "Processing CHEMBL1944: 782it [00:00, 802.48it/s]\n"
     ]
    },
    {
     "name": "stdout",
     "output_type": "stream",
     "text": [
      "Fetching data for target CHEMBL3768 (Neprilysin)...\n"
     ]
    },
    {
     "name": "stderr",
     "output_type": "stream",
     "text": [
      "Processing CHEMBL3768: 341it [00:00, 373.24it/s]\n"
     ]
    },
    {
     "name": "stdout",
     "output_type": "stream",
     "text": [
      "Fetching data for target CHEMBL2642 (Neprilysin)...\n"
     ]
    },
    {
     "name": "stderr",
     "output_type": "stream",
     "text": [
      "Processing CHEMBL2642: 36it [00:00, 44.87it/s]\n"
     ]
    },
    {
     "name": "stdout",
     "output_type": "stream",
     "text": [
      "Fetching data for target CHEMBL3369 (Neprilysin)...\n"
     ]
    },
    {
     "name": "stderr",
     "output_type": "stream",
     "text": [
      "Processing CHEMBL3369: 521it [00:00, 553.08it/s]\n"
     ]
    },
    {
     "name": "stdout",
     "output_type": "stream",
     "text": [
      "Fetching data for target CHEMBL6107 (Neprilysin)...\n"
     ]
    },
    {
     "name": "stderr",
     "output_type": "stream",
     "text": [
      "Processing CHEMBL6107: 9it [00:00, 11.07it/s]\n"
     ]
    },
    {
     "name": "stdout",
     "output_type": "stream",
     "text": [
      "Fetching data for target CHEMBL1801 (Plasminogen)...\n"
     ]
    },
    {
     "name": "stderr",
     "output_type": "stream",
     "text": [
      "Processing CHEMBL1801: 2147it [00:01, 1526.07it/s]\n"
     ]
    },
    {
     "name": "stdout",
     "output_type": "stream",
     "text": [
      "Fetching data for target CHEMBL2957 (Plasminogen)...\n"
     ]
    },
    {
     "name": "stderr",
     "output_type": "stream",
     "text": [
      "Processing CHEMBL2957: 14it [00:00, 16.53it/s]\n"
     ]
    },
    {
     "name": "stdout",
     "output_type": "stream",
     "text": [
      "Fetching data for target CHEMBL3204 (Plasminogen)...\n"
     ]
    },
    {
     "name": "stderr",
     "output_type": "stream",
     "text": [
      "Processing CHEMBL3204: 115it [00:00, 135.77it/s]\n"
     ]
    },
    {
     "name": "stdout",
     "output_type": "stream",
     "text": [
      "Fetching data for target CHEMBL1075299 (Plasminogen)...\n"
     ]
    },
    {
     "name": "stderr",
     "output_type": "stream",
     "text": [
      "Processing CHEMBL1075299: 11it [00:00, 13.50it/s]\n"
     ]
    },
    {
     "name": "stdout",
     "output_type": "stream",
     "text": [
      "Fetching data for target CHEMBL216 (Muscarinic acetylcholine receptor M1)...\n"
     ]
    },
    {
     "name": "stderr",
     "output_type": "stream",
     "text": [
      "Processing CHEMBL216: 10658it [00:01, 6886.34it/s]\n"
     ]
    },
    {
     "name": "stdout",
     "output_type": "stream",
     "text": [
      "Fetching data for target CHEMBL276 (Muscarinic acetylcholine receptor M1)...\n"
     ]
    },
    {
     "name": "stderr",
     "output_type": "stream",
     "text": [
      "Processing CHEMBL276: 3357it [00:01, 2690.70it/s]\n"
     ]
    },
    {
     "name": "stdout",
     "output_type": "stream",
     "text": [
      "Fetching data for target CHEMBL3733 (Muscarinic acetylcholine receptor M1)...\n"
     ]
    },
    {
     "name": "stderr",
     "output_type": "stream",
     "text": [
      "Processing CHEMBL3733: 123it [00:00, 150.13it/s]\n"
     ]
    },
    {
     "name": "stdout",
     "output_type": "stream",
     "text": [
      "Fetching data for target CHEMBL2672 (Muscarinic acetylcholine receptor M1)...\n"
     ]
    },
    {
     "name": "stderr",
     "output_type": "stream",
     "text": [
      "Processing CHEMBL2672: 38it [00:00, 44.61it/s]\n"
     ]
    },
    {
     "name": "stdout",
     "output_type": "stream",
     "text": [
      "Fetching data for target CHEMBL1795124 (Muscarinic acetylcholine receptor M1)...\n"
     ]
    },
    {
     "name": "stderr",
     "output_type": "stream",
     "text": [
      "Processing CHEMBL1795124: 2it [00:00,  2.43it/s]\n"
     ]
    },
    {
     "name": "stdout",
     "output_type": "stream",
     "text": [
      "Fetching data for target CHEMBL2094112 (Angiotensin II receptor)...\n"
     ]
    },
    {
     "name": "stderr",
     "output_type": "stream",
     "text": [
      "Processing CHEMBL2094112: 1716it [00:01, 1669.68it/s]\n"
     ]
    },
    {
     "name": "stdout",
     "output_type": "stream",
     "text": [
      "Fetching data for target CHEMBL2094256 (Angiotensin II receptor)...\n"
     ]
    },
    {
     "name": "stderr",
     "output_type": "stream",
     "text": [
      "Processing CHEMBL2094256: 1030it [00:00, 1070.54it/s]\n"
     ]
    },
    {
     "name": "stdout",
     "output_type": "stream",
     "text": [
      "Fetching data for target CHEMBL214 (Serotonin 1a (5-HT1a) receptor)...\n"
     ]
    },
    {
     "name": "stderr",
     "output_type": "stream",
     "text": [
      "Processing CHEMBL214: 14413it [00:02, 6125.88it/s]\n"
     ]
    },
    {
     "name": "stdout",
     "output_type": "stream",
     "text": [
      "Fetching data for target CHEMBL273 (Serotonin 1a (5-HT1a) receptor)...\n"
     ]
    },
    {
     "name": "stderr",
     "output_type": "stream",
     "text": [
      "Processing CHEMBL273: 6816it [00:01, 3926.45it/s]\n"
     ]
    },
    {
     "name": "stdout",
     "output_type": "stream",
     "text": [
      "Fetching data for target CHEMBL3737 (Serotonin 1a (5-HT1a) receptor)...\n"
     ]
    },
    {
     "name": "stderr",
     "output_type": "stream",
     "text": [
      "Processing CHEMBL3737: 166it [00:00, 206.93it/s]\n"
     ]
    },
    {
     "name": "stdout",
     "output_type": "stream",
     "text": [
      "Fetching data for target CHEMBL283 (Matrix metalloproteinase 3)...\n"
     ]
    },
    {
     "name": "stderr",
     "output_type": "stream",
     "text": [
      "Processing CHEMBL283: 3334it [00:01, 2503.69it/s]\n"
     ]
    },
    {
     "name": "stdout",
     "output_type": "stream",
     "text": [
      "Fetching data for target CHEMBL332 (Matrix metalloproteinase-1)...\n"
     ]
    },
    {
     "name": "stderr",
     "output_type": "stream",
     "text": [
      "Processing CHEMBL332: 5031it [00:01, 3814.34it/s]\n"
     ]
    },
    {
     "name": "stdout",
     "output_type": "stream",
     "text": [
      "Fetching data for target CHEMBL3870 (Matrix metalloproteinase 9)...\n"
     ]
    },
    {
     "name": "stderr",
     "output_type": "stream",
     "text": [
      "Processing CHEMBL3870: 38it [00:00, 42.18it/s]\n"
     ]
    },
    {
     "name": "stdout",
     "output_type": "stream",
     "text": [
      "Fetching data for target CHEMBL2214 (Matrix metalloproteinase 9)...\n"
     ]
    },
    {
     "name": "stderr",
     "output_type": "stream",
     "text": [
      "Processing CHEMBL2214: 39it [00:00, 46.26it/s]\n"
     ]
    },
    {
     "name": "stdout",
     "output_type": "stream",
     "text": [
      "Fetching data for target CHEMBL321 (Matrix metalloproteinase 9)...\n"
     ]
    },
    {
     "name": "stderr",
     "output_type": "stream",
     "text": [
      "Processing CHEMBL321: 4661it [00:01, 4106.94it/s]\n"
     ]
    },
    {
     "name": "stdout",
     "output_type": "stream",
     "text": [
      "Fetching data for target CHEMBL3095 (Matrix metalloproteinase-2)...\n"
     ]
    },
    {
     "name": "stderr",
     "output_type": "stream",
     "text": [
      "Processing CHEMBL3095: 5it [00:00,  5.91it/s]\n"
     ]
    },
    {
     "name": "stdout",
     "output_type": "stream",
     "text": [
      "Fetching data for target CHEMBL333 (Matrix metalloproteinase-2)...\n"
     ]
    },
    {
     "name": "stderr",
     "output_type": "stream",
     "text": [
      "Processing CHEMBL333: 6349it [00:01, 4625.57it/s]\n"
     ]
    },
    {
     "name": "stdout",
     "output_type": "stream",
     "text": [
      "Fetching data for target CHEMBL2523 (ADAM17)...\n"
     ]
    },
    {
     "name": "stderr",
     "output_type": "stream",
     "text": [
      "Processing CHEMBL2523: 14it [00:00, 17.29it/s]\n"
     ]
    },
    {
     "name": "stdout",
     "output_type": "stream",
     "text": [
      "Fetching data for target CHEMBL3706 (ADAM17)...\n"
     ]
    },
    {
     "name": "stderr",
     "output_type": "stream",
     "text": [
      "Processing CHEMBL3706: 3351it [00:01, 2929.29it/s]\n"
     ]
    },
    {
     "name": "stdout",
     "output_type": "stream",
     "text": [
      "Fetching data for target CHEMBL3332 (ADAM17)...\n"
     ]
    },
    {
     "name": "stderr",
     "output_type": "stream",
     "text": [
      "Processing CHEMBL3332: 434it [00:00, 486.88it/s]\n"
     ]
    },
    {
     "name": "stdout",
     "output_type": "stream",
     "text": [
      "Fetching data for target CHEMBL4379 (ADAM17)...\n"
     ]
    },
    {
     "name": "stderr",
     "output_type": "stream",
     "text": [
      "Processing CHEMBL4379: 101it [00:00, 125.31it/s]\n"
     ]
    },
    {
     "name": "stdout",
     "output_type": "stream",
     "text": [
      "Fetching data for target CHEMBL235 (Peroxisome proliferator-activated receptor gamma)...\n"
     ]
    },
    {
     "name": "stderr",
     "output_type": "stream",
     "text": [
      "Processing CHEMBL235: 13249it [00:02, 5740.15it/s]\n"
     ]
    },
    {
     "name": "stdout",
     "output_type": "stream",
     "text": [
      "Fetching data for target CHEMBL2459 (Peroxisome proliferator-activated receptor gamma)...\n"
     ]
    },
    {
     "name": "stderr",
     "output_type": "stream",
     "text": [
      "Processing CHEMBL2459: 462it [00:00, 549.03it/s]\n"
     ]
    },
    {
     "name": "stdout",
     "output_type": "stream",
     "text": [
      "Fetching data for target CHEMBL4797 (Peroxisome proliferator-activated receptor gamma)...\n"
     ]
    },
    {
     "name": "stderr",
     "output_type": "stream",
     "text": [
      "Processing CHEMBL4797: 29it [00:00, 35.83it/s]\n"
     ]
    },
    {
     "name": "stdout",
     "output_type": "stream",
     "text": [
      "Fetching data for target CHEMBL1932903 (Peroxisome proliferator-activated receptor gamma)...\n"
     ]
    },
    {
     "name": "stderr",
     "output_type": "stream",
     "text": [
      "Processing CHEMBL1932903: 1it [00:00,  1.26it/s]\n"
     ]
    },
    {
     "name": "stdout",
     "output_type": "stream",
     "text": [
      "Fetching data for target CHEMBL1824 (Receptor protein-tyrosine kinase erbB-2)...\n"
     ]
    },
    {
     "name": "stderr",
     "output_type": "stream",
     "text": [
      "Processing CHEMBL1824: 5867it [00:01, 3008.24it/s]\n"
     ]
    },
    {
     "name": "stdout",
     "output_type": "stream",
     "text": [
      "Fetching data for target CHEMBL3848 (Receptor protein-tyrosine kinase erbB-2)...\n"
     ]
    },
    {
     "name": "stderr",
     "output_type": "stream",
     "text": [
      "Processing CHEMBL3848: 14it [00:00, 16.93it/s]\n"
     ]
    },
    {
     "name": "stdout",
     "output_type": "stream",
     "text": [
      "Fetching data for target CHEMBL258 (Tyrosine-protein kinase LCK)...\n"
     ]
    },
    {
     "name": "stderr",
     "output_type": "stream",
     "text": [
      "Processing CHEMBL258: 7289it [00:01, 3983.69it/s]\n"
     ]
    },
    {
     "name": "stdout",
     "output_type": "stream",
     "text": [
      "Fetching data for target CHEMBL2480 (Tyrosine-protein kinase LCK)...\n"
     ]
    },
    {
     "name": "stderr",
     "output_type": "stream",
     "text": [
      "Processing CHEMBL2480: 181it [00:00, 220.74it/s]\n"
     ]
    },
    {
     "name": "stdout",
     "output_type": "stream",
     "text": [
      "Fetching data for target CHEMBL257 (Angiotensin II type 2 (AT-2) receptor)...\n"
     ]
    },
    {
     "name": "stderr",
     "output_type": "stream",
     "text": [
      "Processing CHEMBL257: 802it [00:00, 860.36it/s]\n"
     ]
    },
    {
     "name": "stdout",
     "output_type": "stream",
     "text": [
      "Fetching data for target CHEMBL4607 (Angiotensin II type 2 (AT-2) receptor)...\n"
     ]
    },
    {
     "name": "stderr",
     "output_type": "stream",
     "text": [
      "Processing CHEMBL4607: 769it [00:00, 835.64it/s]\n"
     ]
    },
    {
     "name": "stdout",
     "output_type": "stream",
     "text": [
      "Fetching data for target CHEMBL3253 (Serum albumin)...\n"
     ]
    },
    {
     "name": "stderr",
     "output_type": "stream",
     "text": [
      "Processing CHEMBL3253: 2458it [00:01, 1917.41it/s]\n"
     ]
    },
    {
     "name": "stdout",
     "output_type": "stream",
     "text": [
      "Fetching data for target CHEMBL4817 (Serum albumin)...\n"
     ]
    },
    {
     "name": "stderr",
     "output_type": "stream",
     "text": [
      "Processing CHEMBL4817: 74it [00:00, 86.02it/s]\n"
     ]
    },
    {
     "name": "stdout",
     "output_type": "stream",
     "text": [
      "Fetching data for target CHEMBL3728 (Serum albumin)...\n"
     ]
    },
    {
     "name": "stderr",
     "output_type": "stream",
     "text": [
      "Processing CHEMBL3728: 918it [00:00, 936.88it/s]\n"
     ]
    },
    {
     "name": "stdout",
     "output_type": "stream",
     "text": [
      "Fetching data for target CHEMBL6104 (Serum albumin)...\n"
     ]
    },
    {
     "name": "stderr",
     "output_type": "stream",
     "text": [
      "Processing CHEMBL6104: 4it [00:00,  4.93it/s]\n"
     ]
    },
    {
     "name": "stdout",
     "output_type": "stream",
     "text": [
      "Fetching data for target CHEMBL1075271 (Serum albumin)...\n"
     ]
    },
    {
     "name": "stderr",
     "output_type": "stream",
     "text": [
      "Processing CHEMBL1075271: 5it [00:00,  5.61it/s]\n"
     ]
    },
    {
     "name": "stdout",
     "output_type": "stream",
     "text": [
      "Fetching data for target CHEMBL3751645 (Serum albumin)...\n"
     ]
    },
    {
     "name": "stderr",
     "output_type": "stream",
     "text": [
      "Processing CHEMBL3751645: 4it [00:00,  5.21it/s]\n"
     ]
    },
    {
     "name": "stdout",
     "output_type": "stream",
     "text": [
      "Fetching data for target CHEMBL251 (Adenosine A2a receptor)...\n"
     ]
    },
    {
     "name": "stderr",
     "output_type": "stream",
     "text": [
      "Processing CHEMBL251: 14105it [00:02, 6391.08it/s]\n"
     ]
    },
    {
     "name": "stdout",
     "output_type": "stream",
     "text": [
      "Fetching data for target CHEMBL2115 (Adenosine A2a receptor)...\n"
     ]
    },
    {
     "name": "stderr",
     "output_type": "stream",
     "text": [
      "Processing CHEMBL2115: 84it [00:00, 102.09it/s]\n"
     ]
    },
    {
     "name": "stdout",
     "output_type": "stream",
     "text": [
      "Fetching data for target CHEMBL302 (Adenosine A2a receptor)...\n"
     ]
    },
    {
     "name": "stderr",
     "output_type": "stream",
     "text": [
      "Processing CHEMBL302: 3237it [00:01, 2899.65it/s]\n"
     ]
    },
    {
     "name": "stdout",
     "output_type": "stream",
     "text": [
      "Fetching data for target CHEMBL2605 (Adenosine A2a receptor)...\n"
     ]
    },
    {
     "name": "stderr",
     "output_type": "stream",
     "text": [
      "Processing CHEMBL2605: 89it [00:00, 104.03it/s]\n"
     ]
    },
    {
     "name": "stdout",
     "output_type": "stream",
     "text": [
      "Fetching data for target CHEMBL3070 (Intercellular adhesion molecule-1)...\n"
     ]
    },
    {
     "name": "stderr",
     "output_type": "stream",
     "text": [
      "Processing CHEMBL3070: 249it [00:00, 290.32it/s]\n"
     ]
    },
    {
     "name": "stdout",
     "output_type": "stream",
     "text": [
      "Fetching data for target CHEMBL1871 (Androgen Receptor)...\n"
     ]
    },
    {
     "name": "stderr",
     "output_type": "stream",
     "text": [
      "Processing CHEMBL1871: 10591it [00:01, 5722.40it/s]\n"
     ]
    },
    {
     "name": "stdout",
     "output_type": "stream",
     "text": [
      "Fetching data for target CHEMBL3056 (Androgen Receptor)...\n"
     ]
    },
    {
     "name": "stderr",
     "output_type": "stream",
     "text": [
      "Processing CHEMBL3056: 335it [00:00, 409.86it/s]\n"
     ]
    },
    {
     "name": "stdout",
     "output_type": "stream",
     "text": [
      "Fetching data for target CHEMBL3072 (Androgen Receptor)...\n"
     ]
    },
    {
     "name": "stderr",
     "output_type": "stream",
     "text": [
      "Processing CHEMBL3072: 3620it [00:01, 3267.87it/s]\n"
     ]
    },
    {
     "name": "stdout",
     "output_type": "stream",
     "text": [
      "Fetching data for target CHEMBL3953 (Androgen Receptor)...\n"
     ]
    },
    {
     "name": "stderr",
     "output_type": "stream",
     "text": [
      "Processing CHEMBL3953: 13it [00:00, 14.94it/s]\n"
     ]
    },
    {
     "name": "stdout",
     "output_type": "stream",
     "text": [
      "Fetching data for target CHEMBL5303557 (Androgen Receptor)...\n"
     ]
    },
    {
     "name": "stderr",
     "output_type": "stream",
     "text": [
      "Processing CHEMBL5303557: 0it [00:00, ?it/s]\n"
     ]
    },
    {
     "name": "stdout",
     "output_type": "stream",
     "text": [
      "Fetching data for target CHEMBL2021744 (Estrogen receptor)...\n"
     ]
    },
    {
     "name": "stderr",
     "output_type": "stream",
     "text": [
      "Processing CHEMBL2021744: 4it [00:00,  4.60it/s]\n"
     ]
    },
    {
     "name": "stdout",
     "output_type": "stream",
     "text": [
      "Fetching data for target CHEMBL2093866 (Estrogen receptor)...\n"
     ]
    },
    {
     "name": "stderr",
     "output_type": "stream",
     "text": [
      "Processing CHEMBL2093866: 2855it [00:01, 2545.32it/s]\n"
     ]
    },
    {
     "name": "stdout",
     "output_type": "stream",
     "text": [
      "Fetching data for target CHEMBL2094113 (Estrogen receptor)...\n"
     ]
    },
    {
     "name": "stderr",
     "output_type": "stream",
     "text": [
      "Processing CHEMBL2094113: 1945it [00:01, 1933.39it/s]\n"
     ]
    },
    {
     "name": "stdout",
     "output_type": "stream",
     "text": [
      "Fetching data for target CHEMBL2094114 (Estrogen receptor)...\n"
     ]
    },
    {
     "name": "stderr",
     "output_type": "stream",
     "text": [
      "Processing CHEMBL2094114: 1697it [00:00, 1871.92it/s]\n"
     ]
    },
    {
     "name": "stdout",
     "output_type": "stream",
     "text": [
      "Fetching data for target CHEMBL2095170 (Estrogen receptor)...\n"
     ]
    },
    {
     "name": "stderr",
     "output_type": "stream",
     "text": [
      "Processing CHEMBL2095170: 608it [00:00, 745.13it/s]\n"
     ]
    },
    {
     "name": "stdout",
     "output_type": "stream",
     "text": [
      "Fetching data for target CHEMBL2304421 (Estrogen receptor)...\n"
     ]
    },
    {
     "name": "stderr",
     "output_type": "stream",
     "text": [
      "Processing CHEMBL2304421: 386it [00:00, 473.37it/s]\n"
     ]
    },
    {
     "name": "stdout",
     "output_type": "stream",
     "text": [
      "Fetching data for target CHEMBL4398 (Purinergic receptor P2Y2)...\n"
     ]
    },
    {
     "name": "stderr",
     "output_type": "stream",
     "text": [
      "Processing CHEMBL4398: 845it [00:00, 961.95it/s]\n"
     ]
    },
    {
     "name": "stdout",
     "output_type": "stream",
     "text": [
      "Fetching data for target CHEMBL4419 (Purinergic receptor P2Y2)...\n"
     ]
    },
    {
     "name": "stderr",
     "output_type": "stream",
     "text": [
      "Processing CHEMBL4419: 2it [00:00,  2.50it/s]\n"
     ]
    },
    {
     "name": "stdout",
     "output_type": "stream",
     "text": [
      "Fetching data for target CHEMBL1075298 (Purinergic receptor P2Y2)...\n"
     ]
    },
    {
     "name": "stderr",
     "output_type": "stream",
     "text": [
      "Processing CHEMBL1075298: 47it [00:00, 59.37it/s]\n"
     ]
    },
    {
     "name": "stdout",
     "output_type": "stream",
     "text": [
      "Fetching data for target CHEMBL3085 (Excitatory amino acid transporter 1)...\n"
     ]
    },
    {
     "name": "stderr",
     "output_type": "stream",
     "text": [
      "Processing CHEMBL3085: 533it [00:00, 658.34it/s]\n"
     ]
    },
    {
     "name": "stdout",
     "output_type": "stream",
     "text": [
      "Fetching data for target CHEMBL4190 (Excitatory amino acid transporter 1)...\n"
     ]
    },
    {
     "name": "stderr",
     "output_type": "stream",
     "text": [
      "Processing CHEMBL4190: 2it [00:00,  2.50it/s]\n"
     ]
    },
    {
     "name": "stdout",
     "output_type": "stream",
     "text": [
      "Fetching data for target CHEMBL2900 (Excitatory amino acid transporter 2)...\n"
     ]
    },
    {
     "name": "stderr",
     "output_type": "stream",
     "text": [
      "Processing CHEMBL2900: 26it [00:00, 33.22it/s]\n"
     ]
    },
    {
     "name": "stdout",
     "output_type": "stream",
     "text": [
      "Fetching data for target CHEMBL4973 (Excitatory amino acid transporter 2)...\n"
     ]
    },
    {
     "name": "stderr",
     "output_type": "stream",
     "text": [
      "Processing CHEMBL4973: 482it [00:00, 603.32it/s]\n"
     ]
    },
    {
     "name": "stdout",
     "output_type": "stream",
     "text": [
      "Fetching data for target CHEMBL2721 (Excitatory amino acid transporter 3)...\n"
     ]
    },
    {
     "name": "stderr",
     "output_type": "stream",
     "text": [
      "Processing CHEMBL2721: 445it [00:00, 570.75it/s]\n"
     ]
    },
    {
     "name": "stdout",
     "output_type": "stream",
     "text": [
      "Fetching data for target CHEMBL3113 (Excitatory amino acid transporter 3)...\n"
     ]
    },
    {
     "name": "stderr",
     "output_type": "stream",
     "text": [
      "Processing CHEMBL3113: 10it [00:00, 12.75it/s]\n"
     ]
    },
    {
     "name": "stdout",
     "output_type": "stream",
     "text": [
      "Fetching data for target CHEMBL4801 (Caspase-1)...\n"
     ]
    },
    {
     "name": "stderr",
     "output_type": "stream",
     "text": [
      "Processing CHEMBL4801: 4346it [00:01, 2550.85it/s]\n"
     ]
    },
    {
     "name": "stdout",
     "output_type": "stream",
     "text": [
      "Fetching data for target CHEMBL4800 (Caspase-1)...\n"
     ]
    },
    {
     "name": "stderr",
     "output_type": "stream",
     "text": [
      "Processing CHEMBL4800: 358it [00:00, 430.46it/s]\n"
     ]
    },
    {
     "name": "stdout",
     "output_type": "stream",
     "text": [
      "Fetching data for target CHEMBL2334 (Caspase-3)...\n"
     ]
    },
    {
     "name": "stderr",
     "output_type": "stream",
     "text": [
      "Processing CHEMBL2334: 3404it [00:01, 2655.98it/s]\n"
     ]
    },
    {
     "name": "stdout",
     "output_type": "stream",
     "text": [
      "Fetching data for target CHEMBL5632 (Caspase-3)...\n"
     ]
    },
    {
     "name": "stderr",
     "output_type": "stream",
     "text": [
      "Processing CHEMBL5632: 50it [00:00, 57.85it/s]\n"
     ]
    },
    {
     "name": "stdout",
     "output_type": "stream",
     "text": [
      "Fetching data for target CHEMBL1075185 (Caspase-3)...\n"
     ]
    },
    {
     "name": "stderr",
     "output_type": "stream",
     "text": [
      "Processing CHEMBL1075185: 8it [00:00,  9.84it/s]\n"
     ]
    },
    {
     "name": "stdout",
     "output_type": "stream",
     "text": [
      "Fetching data for target CHEMBL4879497 (Caspase-3)...\n"
     ]
    },
    {
     "name": "stderr",
     "output_type": "stream",
     "text": [
      "Processing CHEMBL4879497: 0it [00:00, ?it/s]\n"
     ]
    },
    {
     "name": "stdout",
     "output_type": "stream",
     "text": [
      "Fetching data for target CHEMBL3308 (Caspase-6)...\n"
     ]
    },
    {
     "name": "stderr",
     "output_type": "stream",
     "text": [
      "Processing CHEMBL3308: 1228it [00:00, 1334.40it/s]\n"
     ]
    },
    {
     "name": "stdout",
     "output_type": "stream",
     "text": [
      "Fetching data for target CHEMBL3776 (Caspase-8)...\n"
     ]
    },
    {
     "name": "stderr",
     "output_type": "stream",
     "text": [
      "Processing CHEMBL3776: 955it [00:00, 1133.34it/s]\n"
     ]
    },
    {
     "name": "stdout",
     "output_type": "stream",
     "text": [
      "Fetching data for target CHEMBL4630806 (Caspase-8)...\n"
     ]
    },
    {
     "name": "stderr",
     "output_type": "stream",
     "text": [
      "Processing CHEMBL4630806: 0it [00:00, ?it/s]\n"
     ]
    },
    {
     "name": "stdout",
     "output_type": "stream",
     "text": [
      "Fetching data for target CHEMBL286 (Renin)...\n"
     ]
    },
    {
     "name": "stderr",
     "output_type": "stream",
     "text": [
      "Processing CHEMBL286: 5053it [00:01, 3957.96it/s]\n"
     ]
    },
    {
     "name": "stdout",
     "output_type": "stream",
     "text": [
      "Fetching data for target CHEMBL2615 (Renin)...\n"
     ]
    },
    {
     "name": "stderr",
     "output_type": "stream",
     "text": [
      "Processing CHEMBL2615: 8it [00:00, 10.25it/s]\n"
     ]
    },
    {
     "name": "stdout",
     "output_type": "stream",
     "text": [
      "Fetching data for target CHEMBL2322 (Renin)...\n"
     ]
    },
    {
     "name": "stderr",
     "output_type": "stream",
     "text": [
      "Processing CHEMBL2322: 163it [00:00, 203.24it/s]\n"
     ]
    },
    {
     "name": "stdout",
     "output_type": "stream",
     "text": [
      "Fetching data for target CHEMBL6056 (Renin)...\n"
     ]
    },
    {
     "name": "stderr",
     "output_type": "stream",
     "text": [
      "Processing CHEMBL6056: 81it [00:00, 103.23it/s]\n"
     ]
    },
    {
     "name": "stdout",
     "output_type": "stream",
     "text": [
      "Fetching data for target CHEMBL1287631 (Renin)...\n"
     ]
    },
    {
     "name": "stderr",
     "output_type": "stream",
     "text": [
      "Processing CHEMBL1287631: 3it [00:00,  3.80it/s]\n"
     ]
    },
    {
     "name": "stdout",
     "output_type": "stream",
     "text": [
      "Fetching data for target CHEMBL1287632 (Renin)...\n"
     ]
    },
    {
     "name": "stderr",
     "output_type": "stream",
     "text": [
      "Processing CHEMBL1287632: 1it [00:00,  1.28it/s]\n"
     ]
    },
    {
     "name": "stdout",
     "output_type": "stream",
     "text": [
      "Fetching data for target CHEMBL2046264 (Renin)...\n"
     ]
    },
    {
     "name": "stderr",
     "output_type": "stream",
     "text": [
      "Processing CHEMBL2046264: 175it [00:00, 219.99it/s]\n"
     ]
    },
    {
     "name": "stdout",
     "output_type": "stream",
     "text": [
      "Fetching data for target CHEMBL3465 (Sigma opioid receptor)...\n"
     ]
    },
    {
     "name": "stderr",
     "output_type": "stream",
     "text": [
      "Processing CHEMBL3465: 158it [00:00, 169.52it/s]\n"
     ]
    },
    {
     "name": "stdout",
     "output_type": "stream",
     "text": [
      "Fetching data for target CHEMBL287 (Sigma opioid receptor)...\n"
     ]
    },
    {
     "name": "stderr",
     "output_type": "stream",
     "text": [
      "Processing CHEMBL287: 4984it [00:01, 3834.61it/s]\n"
     ]
    },
    {
     "name": "stdout",
     "output_type": "stream",
     "text": [
      "Fetching data for target CHEMBL3602 (Sigma opioid receptor)...\n"
     ]
    },
    {
     "name": "stderr",
     "output_type": "stream",
     "text": [
      "Processing CHEMBL3602: 1585it [00:00, 1752.25it/s]\n"
     ]
    },
    {
     "name": "stdout",
     "output_type": "stream",
     "text": [
      "Fetching data for target CHEMBL3464 (Nitric oxide synthase, inducible)...\n"
     ]
    },
    {
     "name": "stderr",
     "output_type": "stream",
     "text": [
      "Processing CHEMBL3464: 1653it [00:01, 1646.49it/s]\n"
     ]
    },
    {
     "name": "stdout",
     "output_type": "stream",
     "text": [
      "Fetching data for target CHEMBL3051 (Nitric oxide synthase, inducible)...\n"
     ]
    },
    {
     "name": "stderr",
     "output_type": "stream",
     "text": [
      "Processing CHEMBL3051: 150it [00:00, 179.60it/s]\n"
     ]
    },
    {
     "name": "stdout",
     "output_type": "stream",
     "text": [
      "Fetching data for target CHEMBL4481 (Nitric oxide synthase, inducible)...\n"
     ]
    },
    {
     "name": "stderr",
     "output_type": "stream",
     "text": [
      "Processing CHEMBL4481: 1625it [00:00, 1666.95it/s]\n"
     ]
    },
    {
     "name": "stdout",
     "output_type": "stream",
     "text": [
      "Fetching data for target CHEMBL4803 (Nitric-oxide synthase, endothelial)...\n"
     ]
    },
    {
     "name": "stderr",
     "output_type": "stream",
     "text": [
      "Processing CHEMBL4803: 1418it [00:00, 1703.93it/s]\n"
     ]
    },
    {
     "name": "stdout",
     "output_type": "stream",
     "text": [
      "Fetching data for target CHEMBL2643 (Nitric-oxide synthase, endothelial)...\n"
     ]
    },
    {
     "name": "stderr",
     "output_type": "stream",
     "text": [
      "Processing CHEMBL2643: 35it [00:00, 45.64it/s]\n"
     ]
    },
    {
     "name": "stdout",
     "output_type": "stream",
     "text": [
      "Fetching data for target CHEMBL3809 (Nitric-oxide synthase, endothelial)...\n"
     ]
    },
    {
     "name": "stderr",
     "output_type": "stream",
     "text": [
      "Processing CHEMBL3809: 72it [00:00, 89.73it/s]\n"
     ]
    },
    {
     "name": "stdout",
     "output_type": "stream",
     "text": [
      "Fetching data for target CHEMBL4802 (Nitric-oxide synthase, endothelial)...\n"
     ]
    },
    {
     "name": "stderr",
     "output_type": "stream",
     "text": [
      "Processing CHEMBL4802: 646it [00:00, 781.16it/s]\n"
     ]
    },
    {
     "name": "stdout",
     "output_type": "stream",
     "text": [
      "Fetching data for target CHEMBL3568 (Nitric-oxide synthase, brain)...\n"
     ]
    },
    {
     "name": "stderr",
     "output_type": "stream",
     "text": [
      "Processing CHEMBL3568: 1759it [00:00, 2067.53it/s]\n"
     ]
    },
    {
     "name": "stdout",
     "output_type": "stream",
     "text": [
      "Fetching data for target CHEMBL4719 (Nitric-oxide synthase, brain)...\n"
     ]
    },
    {
     "name": "stderr",
     "output_type": "stream",
     "text": [
      "Processing CHEMBL4719: 34it [00:00, 44.40it/s]\n"
     ]
    },
    {
     "name": "stdout",
     "output_type": "stream",
     "text": [
      "Fetching data for target CHEMBL3048 (Nitric-oxide synthase, brain)...\n"
     ]
    },
    {
     "name": "stderr",
     "output_type": "stream",
     "text": [
      "Processing CHEMBL3048: 1241it [00:00, 1418.74it/s]\n"
     ]
    },
    {
     "name": "stdout",
     "output_type": "stream",
     "text": [
      "Fetching data for target CHEMBL2111350 (Nitric oxide synthase (inducible and endothelial))...\n"
     ]
    },
    {
     "name": "stderr",
     "output_type": "stream",
     "text": [
      "Processing CHEMBL2111350: 112it [00:00, 141.26it/s]\n"
     ]
    },
    {
     "name": "stdout",
     "output_type": "stream",
     "text": [
      "Fetching data for target CHEMBL2096621 (Nitric oxide sythases; iNOS & nNOS)...\n"
     ]
    },
    {
     "name": "stderr",
     "output_type": "stream",
     "text": [
      "Processing CHEMBL2096621: 659it [00:00, 831.07it/s]\n"
     ]
    },
    {
     "name": "stdout",
     "output_type": "stream",
     "text": [
      "Fetching data for target CHEMBL2455 (P-selectin)...\n"
     ]
    },
    {
     "name": "stderr",
     "output_type": "stream",
     "text": [
      "Processing CHEMBL2455: 7it [00:00,  8.86it/s]\n"
     ]
    },
    {
     "name": "stdout",
     "output_type": "stream",
     "text": [
      "Fetching data for target CHEMBL5378 (P-selectin)...\n"
     ]
    },
    {
     "name": "stderr",
     "output_type": "stream",
     "text": [
      "Processing CHEMBL5378: 472it [00:00, 561.83it/s]\n"
     ]
    },
    {
     "name": "stdout",
     "output_type": "stream",
     "text": [
      "Fetching data for target CHEMBL3879832 (P-selectin)...\n"
     ]
    },
    {
     "name": "stderr",
     "output_type": "stream",
     "text": [
      "Processing CHEMBL3879832: 5it [00:00,  6.53it/s]\n"
     ]
    },
    {
     "name": "stdout",
     "output_type": "stream",
     "text": [
      "Fetching data for target CHEMBL4611 (Complement C1r)...\n"
     ]
    },
    {
     "name": "stderr",
     "output_type": "stream",
     "text": [
      "Processing CHEMBL4611: 229it [00:00, 286.27it/s]\n"
     ]
    },
    {
     "name": "stdout",
     "output_type": "stream",
     "text": [
      "Fetching data for target CHEMBL227 (Type-1 angiotensin II receptor)...\n"
     ]
    },
    {
     "name": "stderr",
     "output_type": "stream",
     "text": [
      "Processing CHEMBL227: 5015it [00:01, 4349.24it/s]\n"
     ]
    },
    {
     "name": "stdout",
     "output_type": "stream",
     "text": [
      "Fetching data for target CHEMBL5743 (Type-1 angiotensin II receptor)...\n"
     ]
    },
    {
     "name": "stderr",
     "output_type": "stream",
     "text": [
      "Processing CHEMBL5743: 25it [00:00, 30.30it/s]\n"
     ]
    },
    {
     "name": "stdout",
     "output_type": "stream",
     "text": [
      "Fetching data for target CHEMBL1671613 (Type-1 angiotensin II receptor)...\n"
     ]
    },
    {
     "name": "stderr",
     "output_type": "stream",
     "text": [
      "Processing CHEMBL1671613: 86it [00:00, 108.41it/s]\n"
     ]
    },
    {
     "name": "stdout",
     "output_type": "stream",
     "text": [
      "Fetching data for target CHEMBL225 (Serotonin 2c (5-HT2c) receptor)...\n"
     ]
    },
    {
     "name": "stderr",
     "output_type": "stream",
     "text": [
      "Processing CHEMBL225: 9505it [00:01, 6581.00it/s]\n"
     ]
    },
    {
     "name": "stdout",
     "output_type": "stream",
     "text": [
      "Fetching data for target CHEMBL3006 (Serotonin 2c (5-HT2c) receptor)...\n"
     ]
    },
    {
     "name": "stderr",
     "output_type": "stream",
     "text": [
      "Processing CHEMBL3006: 18it [00:00, 22.37it/s]\n"
     ]
    },
    {
     "name": "stdout",
     "output_type": "stream",
     "text": [
      "Fetching data for target CHEMBL324 (Serotonin 2c (5-HT2c) receptor)...\n"
     ]
    },
    {
     "name": "stderr",
     "output_type": "stream",
     "text": [
      "Processing CHEMBL324: 1035it [00:00, 1177.14it/s]\n"
     ]
    },
    {
     "name": "stdout",
     "output_type": "stream",
     "text": [
      "Fetching data for target CHEMBL224 (Serotonin 2a (5-HT2a) receptor)...\n"
     ]
    },
    {
     "name": "stderr",
     "output_type": "stream",
     "text": [
      "Processing CHEMBL224: 12976it [00:01, 8983.71it/s] \n"
     ]
    },
    {
     "name": "stdout",
     "output_type": "stream",
     "text": [
      "Fetching data for target CHEMBL5377 (Serotonin 2a (5-HT2a) receptor)...\n"
     ]
    },
    {
     "name": "stderr",
     "output_type": "stream",
     "text": [
      "Processing CHEMBL5377: 268it [00:00, 311.02it/s]\n"
     ]
    },
    {
     "name": "stdout",
     "output_type": "stream",
     "text": [
      "Fetching data for target CHEMBL2490 (Serotonin 2a (5-HT2a) receptor)...\n"
     ]
    },
    {
     "name": "stderr",
     "output_type": "stream",
     "text": [
      "Processing CHEMBL2490: 126it [00:00, 159.53it/s]\n"
     ]
    },
    {
     "name": "stdout",
     "output_type": "stream",
     "text": [
      "Fetching data for target CHEMBL322 (Serotonin 2a (5-HT2a) receptor)...\n"
     ]
    },
    {
     "name": "stderr",
     "output_type": "stream",
     "text": [
      "Processing CHEMBL322: 3327it [00:01, 3294.17it/s]\n"
     ]
    },
    {
     "name": "stdout",
     "output_type": "stream",
     "text": [
      "Fetching data for target CHEMBL3446 (Serotonin 2a (5-HT2a) receptor)...\n"
     ]
    },
    {
     "name": "stderr",
     "output_type": "stream",
     "text": [
      "Processing CHEMBL3446: 162it [00:00, 203.38it/s]\n"
     ]
    },
    {
     "name": "stdout",
     "output_type": "stream",
     "text": [
      "Fetching data for target CHEMBL1951 (Monoamine oxidase A)...\n"
     ]
    },
    {
     "name": "stderr",
     "output_type": "stream",
     "text": [
      "Processing CHEMBL1951: 8909it [00:01, 5368.62it/s]\n"
     ]
    },
    {
     "name": "stdout",
     "output_type": "stream",
     "text": [
      "Fetching data for target CHEMBL3254 (Monoamine oxidase A)...\n"
     ]
    },
    {
     "name": "stderr",
     "output_type": "stream",
     "text": [
      "Processing CHEMBL3254: 342it [00:00, 413.53it/s]\n"
     ]
    },
    {
     "name": "stdout",
     "output_type": "stream",
     "text": [
      "Fetching data for target CHEMBL3358 (Monoamine oxidase A)...\n"
     ]
    },
    {
     "name": "stderr",
     "output_type": "stream",
     "text": [
      "Processing CHEMBL3358: 1939it [00:00, 2019.27it/s]\n"
     ]
    },
    {
     "name": "stdout",
     "output_type": "stream",
     "text": [
      "Fetching data for target CHEMBL3681 (Monoamine oxidase A)...\n"
     ]
    },
    {
     "name": "stderr",
     "output_type": "stream",
     "text": [
      "Processing CHEMBL3681: 71it [00:00, 87.97it/s]\n"
     ]
    },
    {
     "name": "stdout",
     "output_type": "stream",
     "text": [
      "Fetching data for target CHEMBL1914 (Butyrylcholinesterase)...\n"
     ]
    },
    {
     "name": "stderr",
     "output_type": "stream",
     "text": [
      "Processing CHEMBL1914: 6862it [00:01, 4550.78it/s]\n"
     ]
    },
    {
     "name": "stdout",
     "output_type": "stream",
     "text": [
      "Fetching data for target CHEMBL2528 (Butyrylcholinesterase)...\n"
     ]
    },
    {
     "name": "stderr",
     "output_type": "stream",
     "text": [
      "Processing CHEMBL2528: 201it [00:00, 232.58it/s]\n"
     ]
    },
    {
     "name": "stdout",
     "output_type": "stream",
     "text": [
      "Fetching data for target CHEMBL3403 (Butyrylcholinesterase)...\n"
     ]
    },
    {
     "name": "stderr",
     "output_type": "stream",
     "text": [
      "Processing CHEMBL3403: 692it [00:00, 811.04it/s]\n"
     ]
    },
    {
     "name": "stdout",
     "output_type": "stream",
     "text": [
      "Fetching data for target CHEMBL5077 (Butyrylcholinesterase)...\n"
     ]
    },
    {
     "name": "stderr",
     "output_type": "stream",
     "text": [
      "Processing CHEMBL5077: 694it [00:00, 802.49it/s]\n"
     ]
    },
    {
     "name": "stdout",
     "output_type": "stream",
     "text": [
      "Fetching data for target CHEMBL220 (Acetylcholinesterase)...\n"
     ]
    },
    {
     "name": "stderr",
     "output_type": "stream",
     "text": [
      "Processing CHEMBL220: 15396it [00:01, 8737.62it/s] \n"
     ]
    },
    {
     "name": "stdout",
     "output_type": "stream",
     "text": [
      "Fetching data for target CHEMBL4780 (Acetylcholinesterase)...\n"
     ]
    },
    {
     "name": "stderr",
     "output_type": "stream",
     "text": [
      "Processing CHEMBL4780: 641it [00:00, 741.88it/s]\n"
     ]
    },
    {
     "name": "stdout",
     "output_type": "stream",
     "text": [
      "Fetching data for target CHEMBL3198 (Acetylcholinesterase)...\n"
     ]
    },
    {
     "name": "stderr",
     "output_type": "stream",
     "text": [
      "Processing CHEMBL3198: 1243it [00:00, 1430.22it/s]\n"
     ]
    },
    {
     "name": "stdout",
     "output_type": "stream",
     "text": [
      "Fetching data for target CHEMBL3199 (Acetylcholinesterase)...\n"
     ]
    },
    {
     "name": "stderr",
     "output_type": "stream",
     "text": [
      "Processing CHEMBL3199: 2427it [00:00, 2546.02it/s]\n"
     ]
    },
    {
     "name": "stdout",
     "output_type": "stream",
     "text": [
      "Fetching data for target CHEMBL4078 (Acetylcholinesterase)...\n"
     ]
    },
    {
     "name": "stderr",
     "output_type": "stream",
     "text": [
      "Processing CHEMBL4078: 11388it [00:01, 6939.42it/s]\n"
     ]
    },
    {
     "name": "stdout",
     "output_type": "stream",
     "text": [
      "Fetching data for target CHEMBL4768 (Acetylcholinesterase)...\n"
     ]
    },
    {
     "name": "stderr",
     "output_type": "stream",
     "text": [
      "Processing CHEMBL4768: 922it [00:00, 1120.61it/s]\n"
     ]
    },
    {
     "name": "stdout",
     "output_type": "stream",
     "text": [
      "Fetching data for target CHEMBL5752 (Acetylcholinesterase)...\n"
     ]
    },
    {
     "name": "stderr",
     "output_type": "stream",
     "text": [
      "Processing CHEMBL5752: 8it [00:00, 10.59it/s]\n"
     ]
    },
    {
     "name": "stdout",
     "output_type": "stream",
     "text": [
      "Fetching data for target CHEMBL2046266 (Acetylcholinesterase)...\n"
     ]
    },
    {
     "name": "stderr",
     "output_type": "stream",
     "text": [
      "Processing CHEMBL2046266: 226it [00:00, 289.19it/s]\n"
     ]
    },
    {
     "name": "stdout",
     "output_type": "stream",
     "text": [
      "Fetching data for target CHEMBL2242729 (Acetylcholinesterase)...\n"
     ]
    },
    {
     "name": "stderr",
     "output_type": "stream",
     "text": [
      "Processing CHEMBL2242729: 4it [00:00,  5.12it/s]\n"
     ]
    },
    {
     "name": "stdout",
     "output_type": "stream",
     "text": [
      "Fetching data for target CHEMBL2242743 (Acetylcholinesterase)...\n"
     ]
    },
    {
     "name": "stderr",
     "output_type": "stream",
     "text": [
      "Processing CHEMBL2242743: 135it [00:00, 171.68it/s]\n"
     ]
    },
    {
     "name": "stdout",
     "output_type": "stream",
     "text": [
      "Fetching data for target CHEMBL2242744 (Acetylcholinesterase)...\n"
     ]
    },
    {
     "name": "stderr",
     "output_type": "stream",
     "text": [
      "Processing CHEMBL2242744: 18it [00:00, 23.29it/s]\n"
     ]
    },
    {
     "name": "stdout",
     "output_type": "stream",
     "text": [
      "Fetching data for target CHEMBL2362988 (Acetylcholinesterase)...\n"
     ]
    },
    {
     "name": "stderr",
     "output_type": "stream",
     "text": [
      "Processing CHEMBL2362988: 0it [00:00, ?it/s]\n"
     ]
    },
    {
     "name": "stdout",
     "output_type": "stream",
     "text": [
      "Fetching data for target CHEMBL2366422 (Acetylcholinesterase)...\n"
     ]
    },
    {
     "name": "stderr",
     "output_type": "stream",
     "text": [
      "Processing CHEMBL2366422: 1it [00:00,  1.23it/s]\n"
     ]
    },
    {
     "name": "stdout",
     "output_type": "stream",
     "text": [
      "Fetching data for target CHEMBL2366446 (Acetylcholinesterase)...\n"
     ]
    },
    {
     "name": "stderr",
     "output_type": "stream",
     "text": [
      "Processing CHEMBL2366446: 20it [00:00, 26.32it/s]\n"
     ]
    },
    {
     "name": "stdout",
     "output_type": "stream",
     "text": [
      "Fetching data for target CHEMBL2366490 (Acetylcholinesterase)...\n"
     ]
    },
    {
     "name": "stderr",
     "output_type": "stream",
     "text": [
      "Processing CHEMBL2366490: 4it [00:00,  5.14it/s]\n"
     ]
    },
    {
     "name": "stdout",
     "output_type": "stream",
     "text": [
      "Fetching data for target CHEMBL2366511 (Acetylcholinesterase)...\n"
     ]
    },
    {
     "name": "stderr",
     "output_type": "stream",
     "text": [
      "Processing CHEMBL2366511: 30it [00:00, 38.49it/s]\n"
     ]
    },
    {
     "name": "stdout",
     "output_type": "stream",
     "text": [
      "Fetching data for target CHEMBL3227914 (Acetylcholinesterase)...\n"
     ]
    },
    {
     "name": "stderr",
     "output_type": "stream",
     "text": [
      "Processing CHEMBL3227914: 4it [00:00,  4.98it/s]\n"
     ]
    },
    {
     "name": "stdout",
     "output_type": "stream",
     "text": [
      "Fetching data for target CHEMBL3308995 (Acetylcholinesterase)...\n"
     ]
    },
    {
     "name": "stderr",
     "output_type": "stream",
     "text": [
      "Processing CHEMBL3308995: 1it [00:00,  1.30it/s]\n"
     ]
    },
    {
     "name": "stdout",
     "output_type": "stream",
     "text": [
      "Fetching data for target CHEMBL4295607 (Acetylcholinesterase)...\n"
     ]
    },
    {
     "name": "stderr",
     "output_type": "stream",
     "text": [
      "Processing CHEMBL4295607: 19it [00:00, 24.72it/s]\n"
     ]
    },
    {
     "name": "stdout",
     "output_type": "stream",
     "text": [
      "Fetching data for target CHEMBL2060 (Lipoprotein lipase)...\n"
     ]
    },
    {
     "name": "stderr",
     "output_type": "stream",
     "text": [
      "Processing CHEMBL2060: 89it [00:00, 110.46it/s]\n"
     ]
    },
    {
     "name": "stdout",
     "output_type": "stream",
     "text": [
      "Fetching data for target CHEMBL3064 (Lipoprotein lipase)...\n"
     ]
    },
    {
     "name": "stderr",
     "output_type": "stream",
     "text": [
      "Processing CHEMBL3064: 99it [00:00, 130.26it/s]\n"
     ]
    },
    {
     "name": "stdout",
     "output_type": "stream",
     "text": [
      "Fetching data for target CHEMBL5906 (Lipoprotein lipase)...\n"
     ]
    },
    {
     "name": "stderr",
     "output_type": "stream",
     "text": [
      "Processing CHEMBL5906: 23it [00:00, 28.18it/s]\n"
     ]
    },
    {
     "name": "stdout",
     "output_type": "stream",
     "text": [
      "Fetching data for target CHEMBL3309051 (Lipoprotein lipase)...\n"
     ]
    },
    {
     "name": "stderr",
     "output_type": "stream",
     "text": [
      "Processing CHEMBL3309051: 1it [00:00,  1.30it/s]\n"
     ]
    },
    {
     "name": "stdout",
     "output_type": "stream",
     "text": [
      "Fetching data for target CHEMBL2056 (Dopamine D1 receptor)...\n"
     ]
    },
    {
     "name": "stderr",
     "output_type": "stream",
     "text": [
      "Processing CHEMBL2056: 7830it [00:01, 6357.60it/s]\n"
     ]
    },
    {
     "name": "stdout",
     "output_type": "stream",
     "text": [
      "Fetching data for target CHEMBL265 (Dopamine D1 receptor)...\n"
     ]
    },
    {
     "name": "stderr",
     "output_type": "stream",
     "text": [
      "Processing CHEMBL265: 1740it [00:00, 1895.15it/s]\n"
     ]
    },
    {
     "name": "stdout",
     "output_type": "stream",
     "text": [
      "Fetching data for target CHEMBL2368 (Dopamine D1 receptor)...\n"
     ]
    },
    {
     "name": "stderr",
     "output_type": "stream",
     "text": [
      "Processing CHEMBL2368: 87it [00:00, 108.74it/s]\n"
     ]
    },
    {
     "name": "stdout",
     "output_type": "stream",
     "text": [
      "Fetching data for target CHEMBL3071 (Dopamine D1 receptor)...\n"
     ]
    },
    {
     "name": "stderr",
     "output_type": "stream",
     "text": [
      "Processing CHEMBL3071: 58it [00:00, 72.92it/s]\n"
     ]
    },
    {
     "name": "stdout",
     "output_type": "stream",
     "text": [
      "Fetching data for target CHEMBL2967 (Dopamine D1 receptor)...\n"
     ]
    },
    {
     "name": "stderr",
     "output_type": "stream",
     "text": [
      "Processing CHEMBL2967: 368it [00:00, 443.46it/s]\n"
     ]
    },
    {
     "name": "stdout",
     "output_type": "stream",
     "text": [
      "Fetching data for target CHEMBL5067 (Dopamine D1 receptor)...\n"
     ]
    },
    {
     "name": "stderr",
     "output_type": "stream",
     "text": [
      "Processing CHEMBL5067: 346it [00:00, 441.70it/s]\n"
     ]
    },
    {
     "name": "stdout",
     "output_type": "stream",
     "text": [
      "Fetching data for target CHEMBL2581 (Cathepsin D)...\n"
     ]
    },
    {
     "name": "stderr",
     "output_type": "stream",
     "text": [
      "Processing CHEMBL2581: 3038it [00:01, 2733.37it/s]\n"
     ]
    },
    {
     "name": "stdout",
     "output_type": "stream",
     "text": [
      "Fetching data for target CHEMBL4106 (Cathepsin D)...\n"
     ]
    },
    {
     "name": "stderr",
     "output_type": "stream",
     "text": [
      "Processing CHEMBL4106: 412it [00:00, 510.15it/s]\n"
     ]
    },
    {
     "name": "stdout",
     "output_type": "stream",
     "text": [
      "Fetching data for target CHEMBL4071 (Cathepsin G)...\n"
     ]
    },
    {
     "name": "stderr",
     "output_type": "stream",
     "text": [
      "Processing CHEMBL4071: 505it [00:00, 583.51it/s]\n"
     ]
    },
    {
     "name": "stdout",
     "output_type": "stream",
     "text": [
      "Fetching data for target CHEMBL5622 (Cathepsin G)...\n"
     ]
    },
    {
     "name": "stderr",
     "output_type": "stream",
     "text": [
      "Processing CHEMBL5622: 9it [00:00, 11.35it/s]\n"
     ]
    },
    {
     "name": "stdout",
     "output_type": "stream",
     "text": [
      "Fetching data for target CHEMBL230 (Cyclooxygenase-2)...\n"
     ]
    },
    {
     "name": "stderr",
     "output_type": "stream",
     "text": [
      "Processing CHEMBL230: 11726it [00:01, 6576.13it/s]\n"
     ]
    },
    {
     "name": "stdout",
     "output_type": "stream",
     "text": [
      "Fetching data for target CHEMBL3331 (Cyclooxygenase-2)...\n"
     ]
    },
    {
     "name": "stderr",
     "output_type": "stream",
     "text": [
      "Processing CHEMBL3331: 36it [00:00, 42.97it/s]\n"
     ]
    },
    {
     "name": "stdout",
     "output_type": "stream",
     "text": [
      "Fetching data for target CHEMBL4321 (Cyclooxygenase-2)...\n"
     ]
    },
    {
     "name": "stderr",
     "output_type": "stream",
     "text": [
      "Processing CHEMBL4321: 1837it [00:00, 2011.68it/s]\n"
     ]
    },
    {
     "name": "stdout",
     "output_type": "stream",
     "text": [
      "Fetching data for target CHEMBL4033 (Cyclooxygenase-2)...\n"
     ]
    },
    {
     "name": "stderr",
     "output_type": "stream",
     "text": [
      "Processing CHEMBL4033: 160it [00:00, 190.75it/s]\n"
     ]
    },
    {
     "name": "stdout",
     "output_type": "stream",
     "text": [
      "Fetching data for target CHEMBL2977 (Cyclooxygenase-2)...\n"
     ]
    },
    {
     "name": "stderr",
     "output_type": "stream",
     "text": [
      "Processing CHEMBL2977: 164it [00:00, 204.04it/s]\n"
     ]
    },
    {
     "name": "stdout",
     "output_type": "stream",
     "text": [
      "Fetching data for target CHEMBL4102 (Cyclooxygenase-2)...\n"
     ]
    },
    {
     "name": "stderr",
     "output_type": "stream",
     "text": [
      "Processing CHEMBL4102: 1794it [00:00, 1864.31it/s]\n"
     ]
    },
    {
     "name": "stdout",
     "output_type": "stream",
     "text": [
      "Fetching data for target CHEMBL221 (Cyclooxygenase-1)...\n"
     ]
    },
    {
     "name": "stderr",
     "output_type": "stream",
     "text": [
      "Processing CHEMBL221: 7174it [00:01, 6491.65it/s]\n"
     ]
    },
    {
     "name": "stdout",
     "output_type": "stream",
     "text": [
      "Fetching data for target CHEMBL2649 (Cyclooxygenase-1)...\n"
     ]
    },
    {
     "name": "stderr",
     "output_type": "stream",
     "text": [
      "Processing CHEMBL2649: 634it [00:00, 764.43it/s]\n"
     ]
    },
    {
     "name": "stdout",
     "output_type": "stream",
     "text": [
      "Fetching data for target CHEMBL4133 (Cyclooxygenase-1)...\n"
     ]
    },
    {
     "name": "stderr",
     "output_type": "stream",
     "text": [
      "Processing CHEMBL4133: 107it [00:00, 132.75it/s]\n"
     ]
    },
    {
     "name": "stdout",
     "output_type": "stream",
     "text": [
      "Fetching data for target CHEMBL4042 (Cyclooxygenase-1)...\n"
     ]
    },
    {
     "name": "stderr",
     "output_type": "stream",
     "text": [
      "Processing CHEMBL4042: 1342it [00:00, 1472.44it/s]\n"
     ]
    },
    {
     "name": "stdout",
     "output_type": "stream",
     "text": [
      "Fetching data for target CHEMBL2860 (Cyclooxygenase-1)...\n"
     ]
    },
    {
     "name": "stderr",
     "output_type": "stream",
     "text": [
      "Processing CHEMBL2860: 143it [00:00, 171.78it/s]\n"
     ]
    },
    {
     "name": "stdout",
     "output_type": "stream",
     "text": [
      "Fetching data for target CHEMBL3334 (Cyclooxygenase-1)...\n"
     ]
    },
    {
     "name": "stderr",
     "output_type": "stream",
     "text": [
      "Processing CHEMBL3334: 16it [00:00, 20.18it/s]\n"
     ]
    },
    {
     "name": "stdout",
     "output_type": "stream",
     "text": [
      "Fetching data for target CHEMBL2949 (Cyclooxygenase-1)...\n"
     ]
    },
    {
     "name": "stderr",
     "output_type": "stream",
     "text": [
      "Processing CHEMBL2949: 4813it [00:01, 4665.62it/s]\n"
     ]
    },
    {
     "name": "stdout",
     "output_type": "stream",
     "text": [
      "Fetching data for target CHEMBL5303565 (Cyclooxygenase-1)...\n"
     ]
    },
    {
     "name": "stderr",
     "output_type": "stream",
     "text": [
      "Processing CHEMBL5303565: 0it [00:00, ?it/s]\n"
     ]
    },
    {
     "name": "stdout",
     "output_type": "stream",
     "text": [
      "Fetching data for target CHEMBL2094253 (Cyclooxygenase)...\n"
     ]
    },
    {
     "name": "stderr",
     "output_type": "stream",
     "text": [
      "Processing CHEMBL2094253: 1184it [00:00, 1369.15it/s]\n"
     ]
    },
    {
     "name": "stdout",
     "output_type": "stream",
     "text": [
      "Fetching data for target CHEMBL2095157 (Cyclooxygenase)...\n"
     ]
    },
    {
     "name": "stderr",
     "output_type": "stream",
     "text": [
      "Processing CHEMBL2095157: 903it [00:00, 1020.74it/s]\n"
     ]
    },
    {
     "name": "stdout",
     "output_type": "stream",
     "text": [
      "Fetching data for target CHEMBL2096674 (Cyclooxygenase)...\n"
     ]
    },
    {
     "name": "stderr",
     "output_type": "stream",
     "text": [
      "Processing CHEMBL2096674: 296it [00:00, 358.81it/s]\n"
     ]
    },
    {
     "name": "stdout",
     "output_type": "stream",
     "text": [
      "Fetching data for target CHEMBL1867 (Alpha-2a adrenergic receptor)...\n"
     ]
    },
    {
     "name": "stderr",
     "output_type": "stream",
     "text": [
      "Processing CHEMBL1867: 7955it [00:01, 6932.95it/s]\n"
     ]
    },
    {
     "name": "stdout",
     "output_type": "stream",
     "text": [
      "Fetching data for target CHEMBL4744 (Alpha-2a adrenergic receptor)...\n"
     ]
    },
    {
     "name": "stderr",
     "output_type": "stream",
     "text": [
      "Processing CHEMBL4744: 160it [00:00, 204.16it/s]\n"
     ]
    },
    {
     "name": "stdout",
     "output_type": "stream",
     "text": [
      "Fetching data for target CHEMBL4075 (Alpha-2a adrenergic receptor)...\n"
     ]
    },
    {
     "name": "stderr",
     "output_type": "stream",
     "text": [
      "Processing CHEMBL4075: 1it [00:00,  1.27it/s]\n"
     ]
    },
    {
     "name": "stdout",
     "output_type": "stream",
     "text": [
      "Fetching data for target CHEMBL2350 (Alpha-2a adrenergic receptor)...\n"
     ]
    },
    {
     "name": "stderr",
     "output_type": "stream",
     "text": [
      "Processing CHEMBL2350: 3it [00:00,  3.72it/s]\n"
     ]
    },
    {
     "name": "stdout",
     "output_type": "stream",
     "text": [
      "Fetching data for target CHEMBL327 (Alpha-2a adrenergic receptor)...\n"
     ]
    },
    {
     "name": "stderr",
     "output_type": "stream",
     "text": [
      "Processing CHEMBL327: 184it [00:00, 228.74it/s]\n"
     ]
    },
    {
     "name": "stdout",
     "output_type": "stream",
     "text": [
      "Fetching data for target CHEMBL5303559 (Alpha-2a adrenergic receptor)...\n"
     ]
    },
    {
     "name": "stderr",
     "output_type": "stream",
     "text": [
      "Processing CHEMBL5303559: 0it [00:00, ?it/s]\n"
     ]
    },
    {
     "name": "stdout",
     "output_type": "stream",
     "text": [
      "Fetching data for target CHEMBL5465183 (Alpha-2a adrenergic receptor)...\n"
     ]
    },
    {
     "name": "stderr",
     "output_type": "stream",
     "text": [
      "Processing CHEMBL5465183: 1it [00:00,  1.29it/s]\n"
     ]
    },
    {
     "name": "stdout",
     "output_type": "stream",
     "text": [
      "Fetching data for target CHEMBL238 (Dopamine transporter)...\n"
     ]
    },
    {
     "name": "stderr",
     "output_type": "stream",
     "text": [
      "Processing CHEMBL238: 8738it [00:01, 6274.08it/s]\n"
     ]
    },
    {
     "name": "stdout",
     "output_type": "stream",
     "text": [
      "Fetching data for target CHEMBL2799 (Dopamine transporter)...\n"
     ]
    },
    {
     "name": "stderr",
     "output_type": "stream",
     "text": [
      "Processing CHEMBL2799: 138it [00:00, 163.33it/s]\n"
     ]
    },
    {
     "name": "stdout",
     "output_type": "stream",
     "text": [
      "Fetching data for target CHEMBL338 (Dopamine transporter)...\n"
     ]
    },
    {
     "name": "stderr",
     "output_type": "stream",
     "text": [
      "Processing CHEMBL338: 5971it [00:01, 4952.94it/s]\n"
     ]
    },
    {
     "name": "stdout",
     "output_type": "stream",
     "text": [
      "Fetching data for target CHEMBL2986 (Dopamine transporter)...\n"
     ]
    },
    {
     "name": "stderr",
     "output_type": "stream",
     "text": [
      "Processing CHEMBL2986: 17it [00:00, 21.83it/s]\n"
     ]
    },
    {
     "name": "stdout",
     "output_type": "stream",
     "text": [
      "Fetching data for target CHEMBL5032 (Dopamine transporter)...\n"
     ]
    },
    {
     "name": "stderr",
     "output_type": "stream",
     "text": [
      "Processing CHEMBL5032: 20it [00:00, 25.32it/s]\n"
     ]
    },
    {
     "name": "stdout",
     "output_type": "stream",
     "text": [
      "Fetching data for target CHEMBL3371 (Serotonin 6 (5-HT6) receptor)...\n"
     ]
    },
    {
     "name": "stderr",
     "output_type": "stream",
     "text": [
      "Processing CHEMBL3371: 8062it [00:01, 6563.87it/s]\n"
     ]
    },
    {
     "name": "stdout",
     "output_type": "stream",
     "text": [
      "Fetching data for target CHEMBL3372 (Serotonin 6 (5-HT6) receptor)...\n"
     ]
    },
    {
     "name": "stderr",
     "output_type": "stream",
     "text": [
      "Processing CHEMBL3372: 83it [00:00, 101.43it/s]\n"
     ]
    },
    {
     "name": "stdout",
     "output_type": "stream",
     "text": [
      "Fetching data for target CHEMBL1075268 (Serotonin 6 (5-HT6) receptor)...\n"
     ]
    },
    {
     "name": "stderr",
     "output_type": "stream",
     "text": [
      "Processing CHEMBL1075268: 6it [00:00,  7.84it/s]\n"
     ]
    },
    {
     "name": "stdout",
     "output_type": "stream",
     "text": [
      "Fetching data for target CHEMBL4062 (Calpain 1)...\n"
     ]
    },
    {
     "name": "stderr",
     "output_type": "stream",
     "text": [
      "Processing CHEMBL4062: 204it [00:00, 250.82it/s]\n"
     ]
    },
    {
     "name": "stdout",
     "output_type": "stream",
     "text": [
      "Fetching data for target CHEMBL3891 (Calpain 1)...\n"
     ]
    },
    {
     "name": "stderr",
     "output_type": "stream",
     "text": [
      "Processing CHEMBL3891: 1056it [00:00, 1186.70it/s]\n"
     ]
    },
    {
     "name": "stdout",
     "output_type": "stream",
     "text": [
      "Fetching data for target CHEMBL3747 (Calpain 1)...\n"
     ]
    },
    {
     "name": "stderr",
     "output_type": "stream",
     "text": [
      "Processing CHEMBL3747: 30it [00:00, 38.17it/s]\n"
     ]
    },
    {
     "name": "stdout",
     "output_type": "stream",
     "text": [
      "Fetching data for target CHEMBL2111357 (Calpain 1)...\n"
     ]
    },
    {
     "name": "stderr",
     "output_type": "stream",
     "text": [
      "Processing CHEMBL2111357: 137it [00:00, 172.43it/s]\n"
     ]
    },
    {
     "name": "stdout",
     "output_type": "stream",
     "text": [
      "Fetching data for target CHEMBL2009 (Glutamate receptor ionotropic, AMPA 1)...\n"
     ]
    },
    {
     "name": "stderr",
     "output_type": "stream",
     "text": [
      "Processing CHEMBL2009: 235it [00:00, 297.63it/s]\n"
     ]
    },
    {
     "name": "stdout",
     "output_type": "stream",
     "text": [
      "Fetching data for target CHEMBL3502 (Glutamate receptor ionotropic, AMPA 1)...\n"
     ]
    },
    {
     "name": "stderr",
     "output_type": "stream",
     "text": [
      "Processing CHEMBL3502: 5it [00:00,  6.47it/s]\n"
     ]
    },
    {
     "name": "stdout",
     "output_type": "stream",
     "text": [
      "Fetching data for target CHEMBL3753 (Glutamate receptor ionotropic, AMPA 1)...\n"
     ]
    },
    {
     "name": "stderr",
     "output_type": "stream",
     "text": [
      "Processing CHEMBL3753: 361it [00:00, 437.76it/s]\n"
     ]
    },
    {
     "name": "stdout",
     "output_type": "stream",
     "text": [
      "Fetching data for target CHEMBL4016 (Glutamate receptor ionotropic, AMPA 2)...\n"
     ]
    },
    {
     "name": "stderr",
     "output_type": "stream",
     "text": [
      "Processing CHEMBL4016: 812it [00:00, 968.34it/s]\n"
     ]
    },
    {
     "name": "stdout",
     "output_type": "stream",
     "text": [
      "Fetching data for target CHEMBL3503 (Glutamate receptor ionotropic, AMPA 2)...\n"
     ]
    },
    {
     "name": "stderr",
     "output_type": "stream",
     "text": [
      "Processing CHEMBL3503: 190it [00:00, 236.18it/s]\n"
     ]
    },
    {
     "name": "stdout",
     "output_type": "stream",
     "text": [
      "Fetching data for target CHEMBL3595 (Glutamate receptor ionotropic, AMPA 3)...\n"
     ]
    },
    {
     "name": "stderr",
     "output_type": "stream",
     "text": [
      "Processing CHEMBL3595: 89it [00:00, 115.73it/s]\n"
     ]
    },
    {
     "name": "stdout",
     "output_type": "stream",
     "text": [
      "Fetching data for target CHEMBL3504 (Glutamate receptor ionotropic, AMPA 3)...\n"
     ]
    },
    {
     "name": "stderr",
     "output_type": "stream",
     "text": [
      "Processing CHEMBL3504: 128it [00:00, 161.81it/s]\n"
     ]
    },
    {
     "name": "stdout",
     "output_type": "stream",
     "text": [
      "Fetching data for target CHEMBL253 (Cannabinoid CB2 receptor)...\n"
     ]
    },
    {
     "name": "stderr",
     "output_type": "stream",
     "text": [
      "Processing CHEMBL253: 15955it [00:01, 8064.87it/s]\n"
     ]
    },
    {
     "name": "stdout",
     "output_type": "stream",
     "text": [
      "Fetching data for target CHEMBL2470 (Cannabinoid CB2 receptor)...\n"
     ]
    },
    {
     "name": "stderr",
     "output_type": "stream",
     "text": [
      "Processing CHEMBL2470: 629it [00:00, 782.71it/s]\n"
     ]
    },
    {
     "name": "stdout",
     "output_type": "stream",
     "text": [
      "Fetching data for target CHEMBL5373 (Cannabinoid CB2 receptor)...\n"
     ]
    },
    {
     "name": "stderr",
     "output_type": "stream",
     "text": [
      "Processing CHEMBL5373: 735it [00:00, 896.50it/s]\n"
     ]
    },
    {
     "name": "stdout",
     "output_type": "stream",
     "text": [
      "Fetching data for target CHEMBL4072 (Cathepsin B)...\n"
     ]
    },
    {
     "name": "stderr",
     "output_type": "stream",
     "text": [
      "Processing CHEMBL4072: 3108it [00:01, 2980.74it/s]\n"
     ]
    },
    {
     "name": "stdout",
     "output_type": "stream",
     "text": [
      "Fetching data for target CHEMBL2323 (Cathepsin B)...\n"
     ]
    },
    {
     "name": "stderr",
     "output_type": "stream",
     "text": [
      "Processing CHEMBL2323: 264it [00:00, 321.17it/s]\n"
     ]
    },
    {
     "name": "stdout",
     "output_type": "stream",
     "text": [
      "Fetching data for target CHEMBL2602 (Cathepsin B)...\n"
     ]
    },
    {
     "name": "stderr",
     "output_type": "stream",
     "text": [
      "Processing CHEMBL2602: 48it [00:00, 58.67it/s]\n"
     ]
    },
    {
     "name": "stdout",
     "output_type": "stream",
     "text": [
      "Fetching data for target CHEMBL5187 (Cathepsin B)...\n"
     ]
    },
    {
     "name": "stderr",
     "output_type": "stream",
     "text": [
      "Processing CHEMBL5187: 12it [00:00, 15.05it/s]\n"
     ]
    },
    {
     "name": "stdout",
     "output_type": "stream",
     "text": [
      "Fetching data for target CHEMBL3232689 (Cathepsin B)...\n"
     ]
    },
    {
     "name": "stderr",
     "output_type": "stream",
     "text": [
      "Processing CHEMBL3232689: 109it [00:00, 135.45it/s]\n"
     ]
    },
    {
     "name": "stdout",
     "output_type": "stream",
     "text": [
      "Fetching data for target CHEMBL4822 (Beta-secretase 1)...\n"
     ]
    },
    {
     "name": "stderr",
     "output_type": "stream",
     "text": [
      "Processing CHEMBL4822: 15164it [00:01, 8742.25it/s] \n"
     ]
    },
    {
     "name": "stdout",
     "output_type": "stream",
     "text": [
      "Fetching data for target CHEMBL4593 (Beta-secretase 1)...\n"
     ]
    },
    {
     "name": "stderr",
     "output_type": "stream",
     "text": [
      "Processing CHEMBL4593: 71it [00:00, 86.44it/s]\n"
     ]
    },
    {
     "name": "stdout",
     "output_type": "stream",
     "text": [
      "Fetching data for target CHEMBL3259473 (Beta-secretase 1)...\n"
     ]
    },
    {
     "name": "stderr",
     "output_type": "stream",
     "text": [
      "Processing CHEMBL3259473: 5it [00:00,  5.99it/s]\n"
     ]
    },
    {
     "name": "stdout",
     "output_type": "stream",
     "text": [
      "Fetching data for target CHEMBL3297642 (Beta-secretase 1)...\n"
     ]
    },
    {
     "name": "stderr",
     "output_type": "stream",
     "text": [
      "Processing CHEMBL3297642: 3it [00:00,  3.88it/s]\n"
     ]
    },
    {
     "name": "stdout",
     "output_type": "stream",
     "text": [
      "Fetching data for target CHEMBL2094118 (Adrenergic receptor beta)...\n"
     ]
    },
    {
     "name": "stderr",
     "output_type": "stream",
     "text": [
      "Processing CHEMBL2094118: 1062it [00:00, 1220.40it/s]\n"
     ]
    },
    {
     "name": "stdout",
     "output_type": "stream",
     "text": [
      "Fetching data for target CHEMBL2095166 (Adrenergic receptor beta)...\n"
     ]
    },
    {
     "name": "stderr",
     "output_type": "stream",
     "text": [
      "Processing CHEMBL2095166: 649it [00:00, 746.60it/s]\n"
     ]
    },
    {
     "name": "stdout",
     "output_type": "stream",
     "text": [
      "Fetching data for target CHEMBL2097165 (Dopamine receptors; D3 & D4)...\n"
     ]
    },
    {
     "name": "stderr",
     "output_type": "stream",
     "text": [
      "Processing CHEMBL2097165: 301it [00:00, 368.94it/s]\n"
     ]
    },
    {
     "name": "stdout",
     "output_type": "stream",
     "text": [
      "Fetching data for target CHEMBL2391 (11-beta-hydroxysteroid dehydrogenase 1)...\n"
     ]
    },
    {
     "name": "stderr",
     "output_type": "stream",
     "text": [
      "Processing CHEMBL2391: 193it [00:00, 225.68it/s]\n"
     ]
    },
    {
     "name": "stdout",
     "output_type": "stream",
     "text": [
      "Fetching data for target CHEMBL4235 (11-beta-hydroxysteroid dehydrogenase 1)...\n"
     ]
    },
    {
     "name": "stderr",
     "output_type": "stream",
     "text": [
      "Processing CHEMBL4235: 5676it [00:01, 5014.27it/s]\n"
     ]
    },
    {
     "name": "stdout",
     "output_type": "stream",
     "text": [
      "Fetching data for target CHEMBL3910 (11-beta-hydroxysteroid dehydrogenase 1)...\n"
     ]
    },
    {
     "name": "stderr",
     "output_type": "stream",
     "text": [
      "Processing CHEMBL3910: 1482it [00:00, 1772.10it/s]\n"
     ]
    },
    {
     "name": "stdout",
     "output_type": "stream",
     "text": [
      "Fetching data for target CHEMBL2039 (Monoamine oxidase B)...\n"
     ]
    },
    {
     "name": "stderr",
     "output_type": "stream",
     "text": [
      "Processing CHEMBL2039: 8068it [00:01, 6506.23it/s]\n"
     ]
    },
    {
     "name": "stdout",
     "output_type": "stream",
     "text": [
      "Fetching data for target CHEMBL3050 (Monoamine oxidase B)...\n"
     ]
    },
    {
     "name": "stderr",
     "output_type": "stream",
     "text": [
      "Processing CHEMBL3050: 71it [00:00, 90.12it/s]\n"
     ]
    },
    {
     "name": "stdout",
     "output_type": "stream",
     "text": [
      "Fetching data for target CHEMBL2756 (Monoamine oxidase B)...\n"
     ]
    },
    {
     "name": "stderr",
     "output_type": "stream",
     "text": [
      "Processing CHEMBL2756: 776it [00:00, 924.11it/s]\n"
     ]
    },
    {
     "name": "stdout",
     "output_type": "stream",
     "text": [
      "Fetching data for target CHEMBL2993 (Monoamine oxidase B)...\n"
     ]
    },
    {
     "name": "stderr",
     "output_type": "stream",
     "text": [
      "Processing CHEMBL2993: 2087it [00:00, 2420.63it/s]\n"
     ]
    },
    {
     "name": "stdout",
     "output_type": "stream",
     "text": [
      "Fetching data for target CHEMBL1873 (Tissue-type plasminogen activator)...\n"
     ]
    },
    {
     "name": "stderr",
     "output_type": "stream",
     "text": [
      "Processing CHEMBL1873: 937it [00:00, 1092.04it/s]\n"
     ]
    },
    {
     "name": "stdout",
     "output_type": "stream",
     "text": [
      "Fetching data for target CHEMBL3259492 (Tissue-type plasminogen activator)...\n"
     ]
    },
    {
     "name": "stderr",
     "output_type": "stream",
     "text": [
      "Processing CHEMBL3259492: 12it [00:00, 15.38it/s]\n"
     ]
    },
    {
     "name": "stdout",
     "output_type": "stream",
     "text": [
      "Fetching data for target CHEMBL289 (Cytochrome P450 2D6)...\n"
     ]
    },
    {
     "name": "stderr",
     "output_type": "stream",
     "text": [
      "Processing CHEMBL289: 19424it [00:03, 5996.60it/s]\n"
     ]
    },
    {
     "name": "stdout",
     "output_type": "stream",
     "text": [
      "Fetching data for target CHEMBL402 (HMG-CoA reductase)...\n"
     ]
    },
    {
     "name": "stderr",
     "output_type": "stream",
     "text": [
      "Processing CHEMBL402: 650it [00:00, 725.30it/s]\n"
     ]
    },
    {
     "name": "stdout",
     "output_type": "stream",
     "text": [
      "Fetching data for target CHEMBL3247 (HMG-CoA reductase)...\n"
     ]
    },
    {
     "name": "stderr",
     "output_type": "stream",
     "text": [
      "Processing CHEMBL3247: 1646it [00:00, 1816.15it/s]\n"
     ]
    },
    {
     "name": "stdout",
     "output_type": "stream",
     "text": [
      "Fetching data for target CHEMBL2764 (HMG-CoA reductase)...\n"
     ]
    },
    {
     "name": "stderr",
     "output_type": "stream",
     "text": [
      "Processing CHEMBL2764: 21it [00:00, 26.08it/s]\n"
     ]
    },
    {
     "name": "stdout",
     "output_type": "stream",
     "text": [
      "Fetching data for target CHEMBL4804261 (HMG-CoA reductase)...\n"
     ]
    },
    {
     "name": "stderr",
     "output_type": "stream",
     "text": [
      "Processing CHEMBL4804261: 0it [00:00, ?it/s]\n"
     ]
    },
    {
     "name": "stdout",
     "output_type": "stream",
     "text": [
      "Fetching data for target CHEMBL2059 (TNF-beta)...\n"
     ]
    },
    {
     "name": "stderr",
     "output_type": "stream",
     "text": [
      "Processing CHEMBL2059: 10it [00:00, 12.70it/s]\n"
     ]
    },
    {
     "name": "stdout",
     "output_type": "stream",
     "text": [
      "Fetching data for target CHEMBL210 (Beta-2 adrenergic receptor)...\n"
     ]
    },
    {
     "name": "stderr",
     "output_type": "stream",
     "text": [
      "Processing CHEMBL210: 10053it [00:01, 6576.17it/s]\n"
     ]
    },
    {
     "name": "stdout",
     "output_type": "stream",
     "text": [
      "Fetching data for target CHEMBL3373 (Beta-2 adrenergic receptor)...\n"
     ]
    },
    {
     "name": "stderr",
     "output_type": "stream",
     "text": [
      "Processing CHEMBL3373: 178it [00:00, 226.77it/s]\n"
     ]
    },
    {
     "name": "stdout",
     "output_type": "stream",
     "text": [
      "Fetching data for target CHEMBL3707 (Beta-2 adrenergic receptor)...\n"
     ]
    },
    {
     "name": "stderr",
     "output_type": "stream",
     "text": [
      "Processing CHEMBL3707: 42it [00:00, 53.94it/s]\n"
     ]
    },
    {
     "name": "stdout",
     "output_type": "stream",
     "text": [
      "Fetching data for target CHEMBL2289 (Beta-2 adrenergic receptor)...\n"
     ]
    },
    {
     "name": "stderr",
     "output_type": "stream",
     "text": [
      "Processing CHEMBL2289: 248it [00:00, 316.10it/s]\n"
     ]
    },
    {
     "name": "stdout",
     "output_type": "stream",
     "text": [
      "Fetching data for target CHEMBL3754 (Beta-2 adrenergic receptor)...\n"
     ]
    },
    {
     "name": "stderr",
     "output_type": "stream",
     "text": [
      "Processing CHEMBL3754: 134it [00:00, 166.48it/s]\n"
     ]
    },
    {
     "name": "stdout",
     "output_type": "stream",
     "text": [
      "Fetching data for target CHEMBL3801 (Beta-2 adrenergic receptor)...\n"
     ]
    },
    {
     "name": "stderr",
     "output_type": "stream",
     "text": [
      "Processing CHEMBL3801: 19it [00:00, 23.40it/s]\n"
     ]
    },
    {
     "name": "stdout",
     "output_type": "stream",
     "text": [
      "Fetching data for target CHEMBL5414 (Beta-2 adrenergic receptor)...\n"
     ]
    },
    {
     "name": "stderr",
     "output_type": "stream",
     "text": [
      "Processing CHEMBL5414: 1286it [00:00, 1485.84it/s]\n"
     ]
    },
    {
     "name": "stdout",
     "output_type": "stream",
     "text": [
      "Fetching data for target CHEMBL5943 (Beta-2 adrenergic receptor)...\n"
     ]
    },
    {
     "name": "stderr",
     "output_type": "stream",
     "text": [
      "Processing CHEMBL5943: 24it [00:00, 30.79it/s]\n"
     ]
    },
    {
     "name": "stdout",
     "output_type": "stream",
     "text": [
      "Fetching data for target CHEMBL3474 (Phospholipase A2 group IIA)...\n"
     ]
    },
    {
     "name": "stderr",
     "output_type": "stream",
     "text": [
      "Processing CHEMBL3474: 998it [00:00, 1169.88it/s]\n"
     ]
    },
    {
     "name": "stdout",
     "output_type": "stream",
     "text": [
      "Fetching data for target CHEMBL3686 (Phospholipase A2 group IIA)...\n"
     ]
    },
    {
     "name": "stderr",
     "output_type": "stream",
     "text": [
      "Processing CHEMBL3686: 44it [00:00, 56.46it/s]\n"
     ]
    },
    {
     "name": "stdout",
     "output_type": "stream",
     "text": [
      "Fetching data for target CHEMBL1906 (Serine/threonine-protein kinase RAF)...\n"
     ]
    },
    {
     "name": "stderr",
     "output_type": "stream",
     "text": [
      "Processing CHEMBL1906: 4095it [00:01, 3166.98it/s]\n"
     ]
    },
    {
     "name": "stdout",
     "output_type": "stream",
     "text": [
      "Fetching data for target CHEMBL2094135 (Gamma-secretase)...\n"
     ]
    },
    {
     "name": "stderr",
     "output_type": "stream",
     "text": [
      "Processing CHEMBL2094135: 4401it [00:01, 3925.03it/s]\n"
     ]
    },
    {
     "name": "stdout",
     "output_type": "stream",
     "text": [
      "Fetching data for target CHEMBL206 (Estrogen receptor alpha)...\n"
     ]
    },
    {
     "name": "stderr",
     "output_type": "stream",
     "text": [
      "Processing CHEMBL206: 14571it [00:01, 7897.58it/s] \n"
     ]
    },
    {
     "name": "stdout",
     "output_type": "stream",
     "text": [
      "Fetching data for target CHEMBL3065 (Estrogen receptor alpha)...\n"
     ]
    },
    {
     "name": "stderr",
     "output_type": "stream",
     "text": [
      "Processing CHEMBL3065: 36it [00:00, 44.02it/s]\n"
     ]
    },
    {
     "name": "stdout",
     "output_type": "stream",
     "text": [
      "Fetching data for target CHEMBL2724 (Estrogen receptor alpha)...\n"
     ]
    },
    {
     "name": "stderr",
     "output_type": "stream",
     "text": [
      "Processing CHEMBL2724: 145it [00:00, 182.02it/s]\n"
     ]
    },
    {
     "name": "stdout",
     "output_type": "stream",
     "text": [
      "Fetching data for target CHEMBL2930 (Estrogen receptor alpha)...\n"
     ]
    },
    {
     "name": "stderr",
     "output_type": "stream",
     "text": [
      "Processing CHEMBL2930: 19it [00:00, 23.93it/s]\n"
     ]
    },
    {
     "name": "stdout",
     "output_type": "stream",
     "text": [
      "Fetching data for target CHEMBL242 (Estrogen receptor beta)...\n"
     ]
    },
    {
     "name": "stderr",
     "output_type": "stream",
     "text": [
      "Processing CHEMBL242: 7232it [00:01, 6519.27it/s]\n"
     ]
    },
    {
     "name": "stdout",
     "output_type": "stream",
     "text": [
      "Fetching data for target CHEMBL3021 (Estrogen receptor beta)...\n"
     ]
    },
    {
     "name": "stderr",
     "output_type": "stream",
     "text": [
      "Processing CHEMBL3021: 72it [00:00, 92.80it/s]\n"
     ]
    },
    {
     "name": "stdout",
     "output_type": "stream",
     "text": [
      "Fetching data for target CHEMBL2404 (Estrogen receptor beta)...\n"
     ]
    },
    {
     "name": "stderr",
     "output_type": "stream",
     "text": [
      "Processing CHEMBL2404: 11it [00:00, 13.76it/s]\n"
     ]
    },
    {
     "name": "stdout",
     "output_type": "stream",
     "text": [
      "Fetching data for target CHEMBL2995 (Estrogen receptor beta)...\n"
     ]
    },
    {
     "name": "stderr",
     "output_type": "stream",
     "text": [
      "Processing CHEMBL2995: 35it [00:00, 43.49it/s]\n"
     ]
    },
    {
     "name": "stdout",
     "output_type": "stream",
     "text": [
      "Fetching data for target CHEMBL1945 (Melatonin receptor 1A)...\n"
     ]
    },
    {
     "name": "stderr",
     "output_type": "stream",
     "text": [
      "Processing CHEMBL1945: 2400it [00:00, 2476.89it/s]\n"
     ]
    },
    {
     "name": "stdout",
     "output_type": "stream",
     "text": [
      "Fetching data for target CHEMBL2094268 (Melatonin receptor)...\n"
     ]
    },
    {
     "name": "stderr",
     "output_type": "stream",
     "text": [
      "Processing CHEMBL2094268: 896it [00:00, 1058.28it/s]\n"
     ]
    },
    {
     "name": "stdout",
     "output_type": "stream",
     "text": [
      "Fetching data for target CHEMBL2095154 (Melatonin receptor)...\n"
     ]
    },
    {
     "name": "stderr",
     "output_type": "stream",
     "text": [
      "Processing CHEMBL2095154: 565it [00:00, 666.55it/s]\n"
     ]
    },
    {
     "name": "stdout",
     "output_type": "stream",
     "text": [
      "Fetching data for target CHEMBL215 (Arachidonate 5-lipoxygenase)...\n"
     ]
    },
    {
     "name": "stderr",
     "output_type": "stream",
     "text": [
      "Processing CHEMBL215: 6234it [00:01, 5181.89it/s]\n"
     ]
    },
    {
     "name": "stdout",
     "output_type": "stream",
     "text": [
      "Fetching data for target CHEMBL312 (Arachidonate 5-lipoxygenase)...\n"
     ]
    },
    {
     "name": "stderr",
     "output_type": "stream",
     "text": [
      "Processing CHEMBL312: 2790it [00:00, 2908.51it/s]\n"
     ]
    },
    {
     "name": "stdout",
     "output_type": "stream",
     "text": [
      "Fetching data for target CHEMBL5211 (Arachidonate 5-lipoxygenase)...\n"
     ]
    },
    {
     "name": "stderr",
     "output_type": "stream",
     "text": [
      "Processing CHEMBL5211: 116it [00:00, 137.45it/s]\n"
     ]
    },
    {
     "name": "stdout",
     "output_type": "stream",
     "text": [
      "Fetching data for target CHEMBL2980 (Arachidonate 5-lipoxygenase)...\n"
     ]
    },
    {
     "name": "stderr",
     "output_type": "stream",
     "text": [
      "Processing CHEMBL2980: 257it [00:00, 316.54it/s]\n"
     ]
    },
    {
     "name": "stdout",
     "output_type": "stream",
     "text": [
      "Fetching data for target CHEMBL3879862 (Arachidonate 5-lipoxygenase)...\n"
     ]
    },
    {
     "name": "stderr",
     "output_type": "stream",
     "text": [
      "Processing CHEMBL3879862: 2it [00:00,  2.51it/s]\n"
     ]
    },
    {
     "name": "stdout",
     "output_type": "stream",
     "text": [
      "Fetching data for target CHEMBL5303560 (Arachidonate 5-lipoxygenase)...\n"
     ]
    },
    {
     "name": "stderr",
     "output_type": "stream",
     "text": [
      "Processing CHEMBL5303560: 0it [00:00, ?it/s]\n"
     ]
    },
    {
     "name": "stdout",
     "output_type": "stream",
     "text": [
      "Fetching data for target CHEMBL2111445 (Muscarinic acetylcholine receptor M2 and M4)...\n"
     ]
    },
    {
     "name": "stderr",
     "output_type": "stream",
     "text": [
      "Processing CHEMBL2111445: 176it [00:00, 216.33it/s]\n"
     ]
    },
    {
     "name": "stdout",
     "output_type": "stream",
     "text": [
      "Fetching data for target CHEMBL2111352 (Muscarinic acetylcholine receptor M2 and M5)...\n"
     ]
    },
    {
     "name": "stderr",
     "output_type": "stream",
     "text": [
      "Processing CHEMBL2111352: 114it [00:00, 142.66it/s]\n"
     ]
    },
    {
     "name": "stdout",
     "output_type": "stream",
     "text": [
      "Fetching data for target CHEMBL2179 (Beta-glucocerebrosidase)...\n"
     ]
    },
    {
     "name": "stderr",
     "output_type": "stream",
     "text": [
      "Processing CHEMBL2179: 14305it [00:02, 5543.12it/s]\n"
     ]
    },
    {
     "name": "stdout",
     "output_type": "stream",
     "text": [
      "Fetching data for target CHEMBL2278 (Beta-glucocerebrosidase)...\n"
     ]
    },
    {
     "name": "stderr",
     "output_type": "stream",
     "text": [
      "Processing CHEMBL2278: 19it [00:00, 22.48it/s]\n"
     ]
    },
    {
     "name": "stdout",
     "output_type": "stream",
     "text": [
      "Fetching data for target CHEMBL3167 (Serum paraoxonase/arylesterase 1)...\n"
     ]
    },
    {
     "name": "stderr",
     "output_type": "stream",
     "text": [
      "Processing CHEMBL3167: 84it [00:00, 101.85it/s]\n"
     ]
    },
    {
     "name": "stdout",
     "output_type": "stream",
     "text": [
      "Fetching data for target CHEMBL1808 (Angiotensin-converting enzyme)...\n"
     ]
    },
    {
     "name": "stderr",
     "output_type": "stream",
     "text": [
      "Processing CHEMBL1808: 1417it [00:00, 1487.31it/s]\n"
     ]
    },
    {
     "name": "stdout",
     "output_type": "stream",
     "text": [
      "Fetching data for target CHEMBL4074 (Angiotensin-converting enzyme)...\n"
     ]
    },
    {
     "name": "stderr",
     "output_type": "stream",
     "text": [
      "Processing CHEMBL4074: 1060it [00:00, 1176.87it/s]\n"
     ]
    },
    {
     "name": "stdout",
     "output_type": "stream",
     "text": [
      "Fetching data for target CHEMBL2994 (Angiotensin-converting enzyme)...\n"
     ]
    },
    {
     "name": "stderr",
     "output_type": "stream",
     "text": [
      "Processing CHEMBL2994: 89it [00:00, 111.45it/s]\n"
     ]
    },
    {
     "name": "stdout",
     "output_type": "stream",
     "text": [
      "Fetching data for target CHEMBL2625 (Angiotensin-converting enzyme)...\n"
     ]
    },
    {
     "name": "stderr",
     "output_type": "stream",
     "text": [
      "Processing CHEMBL2625: 1056it [00:00, 1231.37it/s]\n"
     ]
    },
    {
     "name": "stdout",
     "output_type": "stream",
     "text": [
      "Fetching data for target CHEMBL3432 (Angiotensin-converting enzyme)...\n"
     ]
    },
    {
     "name": "stderr",
     "output_type": "stream",
     "text": [
      "Processing CHEMBL3432: 1it [00:00,  1.21it/s]\n"
     ]
    },
    {
     "name": "stdout",
     "output_type": "stream",
     "text": [
      "Fetching data for target CHEMBL2096989 (Angiotensin-converting enzyme)...\n"
     ]
    },
    {
     "name": "stderr",
     "output_type": "stream",
     "text": [
      "Processing CHEMBL2096989: 67it [00:00, 84.10it/s]\n"
     ]
    },
    {
     "name": "stdout",
     "output_type": "stream",
     "text": [
      "Fetching data for target CHEMBL4523113 (Angiotensin-converting enzyme)...\n"
     ]
    },
    {
     "name": "stderr",
     "output_type": "stream",
     "text": [
      "Processing CHEMBL4523113: 2it [00:00,  2.43it/s]\n"
     ]
    },
    {
     "name": "stdout",
     "output_type": "stream",
     "text": [
      "Fetching data for target CHEMBL2093868 (Dopamine receptor)...\n"
     ]
    },
    {
     "name": "stderr",
     "output_type": "stream",
     "text": [
      "Processing CHEMBL2093868: 1114it [00:01, 807.97it/s]\n"
     ]
    },
    {
     "name": "stdout",
     "output_type": "stream",
     "text": [
      "Fetching data for target CHEMBL2096905 (Dopamine receptor)...\n"
     ]
    },
    {
     "name": "stderr",
     "output_type": "stream",
     "text": [
      "Processing CHEMBL2096905: 86it [00:00, 105.47it/s]\n"
     ]
    },
    {
     "name": "stdout",
     "output_type": "stream",
     "text": [
      "Fetching data for target CHEMBL2096970 (Dopamine receptor)...\n"
     ]
    },
    {
     "name": "stderr",
     "output_type": "stream",
     "text": [
      "Processing CHEMBL2096970: 254it [00:00, 306.64it/s]\n"
     ]
    },
    {
     "name": "stdout",
     "output_type": "stream",
     "text": [
      "Fetching data for target CHEMBL2111359 (Dopamine receptor)...\n"
     ]
    },
    {
     "name": "stderr",
     "output_type": "stream",
     "text": [
      "Processing CHEMBL2111359: 59it [00:00, 74.61it/s]\n"
     ]
    },
    {
     "name": "stdout",
     "output_type": "stream",
     "text": [
      "Fetching data for target CHEMBL2111463 (GABA-B receptor)...\n"
     ]
    },
    {
     "name": "stderr",
     "output_type": "stream",
     "text": [
      "Processing CHEMBL2111463: 241it [00:00, 297.55it/s]\n"
     ]
    },
    {
     "name": "stdout",
     "output_type": "stream",
     "text": [
      "Fetching data for target CHEMBL1907609 (Muscarinic acetylcholine receptor)...\n"
     ]
    },
    {
     "name": "stderr",
     "output_type": "stream",
     "text": [
      "Processing CHEMBL1907609: 3689it [00:01, 3591.44it/s]\n"
     ]
    },
    {
     "name": "stdout",
     "output_type": "stream",
     "text": [
      "Fetching data for target CHEMBL2094109 (Muscarinic acetylcholine receptor)...\n"
     ]
    },
    {
     "name": "stderr",
     "output_type": "stream",
     "text": [
      "Processing CHEMBL2094109: 1077it [00:00, 1252.95it/s]\n"
     ]
    },
    {
     "name": "stdout",
     "output_type": "stream",
     "text": [
      "Fetching data for target CHEMBL2097162 (Muscarinic acetylcholine receptor)...\n"
     ]
    },
    {
     "name": "stderr",
     "output_type": "stream",
     "text": [
      "Processing CHEMBL2097162: 85it [00:00, 100.79it/s]\n"
     ]
    },
    {
     "name": "stdout",
     "output_type": "stream",
     "text": [
      "Fetching data for target CHEMBL4295543 (Muscarinic acetylcholine receptor)...\n"
     ]
    },
    {
     "name": "stderr",
     "output_type": "stream",
     "text": [
      "Processing CHEMBL4295543: 1it [00:00,  1.27it/s]\n"
     ]
    },
    {
     "name": "stdout",
     "output_type": "stream",
     "text": [
      "Fetching data for target CHEMBL5465186 (Muscarinic acetylcholine receptor)...\n"
     ]
    },
    {
     "name": "stderr",
     "output_type": "stream",
     "text": [
      "Processing CHEMBL5465186: 1it [00:00,  1.25it/s]\n"
     ]
    },
    {
     "name": "stdout",
     "output_type": "stream",
     "text": [
      "Fetching data for target CHEMBL3522 (Cytochrome P450 17A1)...\n"
     ]
    },
    {
     "name": "stderr",
     "output_type": "stream",
     "text": [
      "Processing CHEMBL3522: 2208it [00:00, 2261.20it/s]\n"
     ]
    },
    {
     "name": "stdout",
     "output_type": "stream",
     "text": [
      "Fetching data for target CHEMBL4430 (Cytochrome P450 17A1)...\n"
     ]
    },
    {
     "name": "stderr",
     "output_type": "stream",
     "text": [
      "Processing CHEMBL4430: 503it [00:00, 620.02it/s]\n"
     ]
    },
    {
     "name": "stdout",
     "output_type": "stream",
     "text": [
      "Fetching data for target CHEMBL2301 (FK506 binding protein 12)...\n"
     ]
    },
    {
     "name": "stderr",
     "output_type": "stream",
     "text": [
      "Processing CHEMBL2301: 14it [00:00, 17.99it/s]\n"
     ]
    },
    {
     "name": "stdout",
     "output_type": "stream",
     "text": [
      "Fetching data for target CHEMBL308 (Cyclin-dependent kinase 1)...\n"
     ]
    },
    {
     "name": "stderr",
     "output_type": "stream",
     "text": [
      "Processing CHEMBL308: 3833it [00:01, 3223.88it/s]\n"
     ]
    },
    {
     "name": "stdout",
     "output_type": "stream",
     "text": [
      "Fetching data for target CHEMBL4084 (Cyclin-dependent kinase 1)...\n"
     ]
    },
    {
     "name": "stderr",
     "output_type": "stream",
     "text": [
      "Processing CHEMBL4084: 7it [00:00,  8.93it/s]\n"
     ]
    },
    {
     "name": "stdout",
     "output_type": "stream",
     "text": [
      "Fetching data for target CHEMBL1782 (Farnesyl diphosphate synthase)...\n"
     ]
    },
    {
     "name": "stderr",
     "output_type": "stream",
     "text": [
      "Processing CHEMBL1782: 1107it [00:00, 1284.30it/s]\n"
     ]
    },
    {
     "name": "stdout",
     "output_type": "stream",
     "text": [
      "Fetching data for target CHEMBL4752 (Farnesyl diphosphate synthase)...\n"
     ]
    },
    {
     "name": "stderr",
     "output_type": "stream",
     "text": [
      "Processing CHEMBL4752: 64it [00:00, 79.67it/s]\n"
     ]
    },
    {
     "name": "stdout",
     "output_type": "stream",
     "text": [
      "Fetching data for target CHEMBL5831 (Farnesyl diphosphate synthase)...\n"
     ]
    },
    {
     "name": "stderr",
     "output_type": "stream",
     "text": [
      "Processing CHEMBL5831: 69it [00:00, 87.88it/s]\n"
     ]
    },
    {
     "name": "stdout",
     "output_type": "stream",
     "text": [
      "Fetching data for target CHEMBL1800 (Corticotropin releasing factor receptor 1)...\n"
     ]
    },
    {
     "name": "stderr",
     "output_type": "stream",
     "text": [
      "Processing CHEMBL1800: 2859it [00:00, 2862.33it/s]\n"
     ]
    },
    {
     "name": "stdout",
     "output_type": "stream",
     "text": [
      "Fetching data for target CHEMBL2446 (Corticotropin releasing factor receptor 1)...\n"
     ]
    },
    {
     "name": "stderr",
     "output_type": "stream",
     "text": [
      "Processing CHEMBL2446: 121it [00:00, 152.41it/s]\n"
     ]
    },
    {
     "name": "stdout",
     "output_type": "stream",
     "text": [
      "Fetching data for target CHEMBL4649 (Corticotropin releasing factor receptor 1)...\n"
     ]
    },
    {
     "name": "stderr",
     "output_type": "stream",
     "text": [
      "Processing CHEMBL4649: 723it [00:00, 854.06it/s]\n"
     ]
    },
    {
     "name": "stdout",
     "output_type": "stream",
     "text": [
      "Fetching data for target CHEMBL1907600 (Cyclin-dependent kinase 5/CDK5 activator 1)...\n"
     ]
    },
    {
     "name": "stderr",
     "output_type": "stream",
     "text": [
      "Processing CHEMBL1907600: 3883it [00:01, 3386.30it/s]\n"
     ]
    },
    {
     "name": "stdout",
     "output_type": "stream",
     "text": [
      "Fetching data for target CHEMBL2095188 (Glycogen synthase kinase-3)...\n"
     ]
    },
    {
     "name": "stderr",
     "output_type": "stream",
     "text": [
      "Processing CHEMBL2095188: 757it [00:00, 889.59it/s]\n"
     ]
    },
    {
     "name": "stdout",
     "output_type": "stream",
     "text": [
      "Fetching data for target CHEMBL2311226 (Glycogen synthase kinase-3)...\n"
     ]
    },
    {
     "name": "stderr",
     "output_type": "stream",
     "text": [
      "Processing CHEMBL2311226: 6it [00:00,  7.43it/s]\n"
     ]
    },
    {
     "name": "stdout",
     "output_type": "stream",
     "text": [
      "Fetching data for target CHEMBL2366565 (Glycogen synthase kinase-3)...\n"
     ]
    },
    {
     "name": "stderr",
     "output_type": "stream",
     "text": [
      "Processing CHEMBL2366565: 860it [00:00, 1039.69it/s]\n"
     ]
    },
    {
     "name": "stdout",
     "output_type": "stream",
     "text": [
      "Fetching data for target CHEMBL1907589 (Neuronal acetylcholine receptor; alpha4/beta2)...\n"
     ]
    },
    {
     "name": "stderr",
     "output_type": "stream",
     "text": [
      "Processing CHEMBL1907589: 3503it [00:01, 3413.44it/s]\n"
     ]
    },
    {
     "name": "stdout",
     "output_type": "stream",
     "text": [
      "Fetching data for target CHEMBL1907596 (Neuronal acetylcholine receptor; alpha4/beta2)...\n"
     ]
    },
    {
     "name": "stderr",
     "output_type": "stream",
     "text": [
      "Processing CHEMBL1907596: 3404it [00:01, 3281.86it/s]\n"
     ]
    },
    {
     "name": "stdout",
     "output_type": "stream",
     "text": [
      "Fetching data for target CHEMBL2492 (Neuronal acetylcholine receptor protein alpha-7 subunit)...\n"
     ]
    },
    {
     "name": "stderr",
     "output_type": "stream",
     "text": [
      "Processing CHEMBL2492: 2925it [00:00, 2990.51it/s]\n"
     ]
    },
    {
     "name": "stdout",
     "output_type": "stream",
     "text": [
      "Fetching data for target CHEMBL3365 (Neuronal acetylcholine receptor protein alpha-7 subunit)...\n"
     ]
    },
    {
     "name": "stderr",
     "output_type": "stream",
     "text": [
      "Processing CHEMBL3365: 27it [00:00, 31.65it/s]\n"
     ]
    },
    {
     "name": "stdout",
     "output_type": "stream",
     "text": [
      "Fetching data for target CHEMBL4980 (Neuronal acetylcholine receptor protein alpha-7 subunit)...\n"
     ]
    },
    {
     "name": "stderr",
     "output_type": "stream",
     "text": [
      "Processing CHEMBL4980: 2925it [00:00, 3124.76it/s]\n"
     ]
    },
    {
     "name": "stdout",
     "output_type": "stream",
     "text": [
      "Fetching data for target CHEMBL2374 (Gamma-secretase subunit PEN-2)...\n"
     ]
    },
    {
     "name": "stderr",
     "output_type": "stream",
     "text": [
      "Processing CHEMBL2374: 30it [00:00, 37.77it/s]\n"
     ]
    },
    {
     "name": "stdout",
     "output_type": "stream",
     "text": [
      "Fetching data for target CHEMBL1817 (Erythropoietin receptor)...\n"
     ]
    },
    {
     "name": "stderr",
     "output_type": "stream",
     "text": [
      "Processing CHEMBL1817: 83it [00:00, 103.74it/s]\n"
     ]
    },
    {
     "name": "stdout",
     "output_type": "stream",
     "text": [
      "Fetching data for target CHEMBL2215 (Purine nucleoside phosphorylase)...\n"
     ]
    },
    {
     "name": "stderr",
     "output_type": "stream",
     "text": [
      "Processing CHEMBL2215: 4it [00:00,  5.12it/s]\n"
     ]
    },
    {
     "name": "stdout",
     "output_type": "stream",
     "text": [
      "Fetching data for target CHEMBL4338 (Purine nucleoside phosphorylase)...\n"
     ]
    },
    {
     "name": "stderr",
     "output_type": "stream",
     "text": [
      "Processing CHEMBL4338: 769it [00:00, 898.69it/s]\n"
     ]
    },
    {
     "name": "stdout",
     "output_type": "stream",
     "text": [
      "Fetching data for target CHEMBL2935 (Purine nucleoside phosphorylase)...\n"
     ]
    },
    {
     "name": "stderr",
     "output_type": "stream",
     "text": [
      "Processing CHEMBL2935: 321it [00:00, 372.48it/s]\n"
     ]
    },
    {
     "name": "stdout",
     "output_type": "stream",
     "text": [
      "Fetching data for target CHEMBL4668 (Purine nucleoside phosphorylase)...\n"
     ]
    },
    {
     "name": "stderr",
     "output_type": "stream",
     "text": [
      "Processing CHEMBL4668: 1it [00:00,  1.29it/s]\n"
     ]
    },
    {
     "name": "stdout",
     "output_type": "stream",
     "text": [
      "Fetching data for target CHEMBL5648 (Purine nucleoside phosphorylase)...\n"
     ]
    },
    {
     "name": "stderr",
     "output_type": "stream",
     "text": [
      "Processing CHEMBL5648: 81it [00:00, 100.61it/s]\n"
     ]
    },
    {
     "name": "stdout",
     "output_type": "stream",
     "text": [
      "Fetching data for target CHEMBL1169594 (Purine nucleoside phosphorylase)...\n"
     ]
    },
    {
     "name": "stderr",
     "output_type": "stream",
     "text": [
      "Processing CHEMBL1169594: 42it [00:00, 52.60it/s]\n"
     ]
    },
    {
     "name": "stdout",
     "output_type": "stream",
     "text": [
      "Fetching data for target CHEMBL3751658 (Purine nucleoside phosphorylase)...\n"
     ]
    },
    {
     "name": "stderr",
     "output_type": "stream",
     "text": [
      "Processing CHEMBL3751658: 6it [00:00,  7.51it/s]\n"
     ]
    },
    {
     "name": "stdout",
     "output_type": "stream",
     "text": [
      "Fetching data for target CHEMBL4523389 (Purine nucleoside phosphorylase)...\n"
     ]
    },
    {
     "name": "stderr",
     "output_type": "stream",
     "text": [
      "Processing CHEMBL4523389: 3it [00:00,  3.85it/s]\n"
     ]
    },
    {
     "name": "stdout",
     "output_type": "stream",
     "text": [
      "Fetching data for target CHEMBL274 (C-C chemokine receptor type 5)...\n"
     ]
    },
    {
     "name": "stderr",
     "output_type": "stream",
     "text": [
      "Processing CHEMBL274: 3645it [00:01, 3343.81it/s]\n"
     ]
    },
    {
     "name": "stdout",
     "output_type": "stream",
     "text": [
      "Fetching data for target CHEMBL3676 (C-C chemokine receptor type 5)...\n"
     ]
    },
    {
     "name": "stderr",
     "output_type": "stream",
     "text": [
      "Processing CHEMBL3676: 69it [00:00, 85.33it/s]\n"
     ]
    },
    {
     "name": "stdout",
     "output_type": "stream",
     "text": [
      "Fetching data for target CHEMBL1075263 (C-C chemokine receptor type 5)...\n"
     ]
    },
    {
     "name": "stderr",
     "output_type": "stream",
     "text": [
      "Processing CHEMBL1075263: 19it [00:00, 24.20it/s]\n"
     ]
    },
    {
     "name": "stdout",
     "output_type": "stream",
     "text": [
      "Fetching data for target CHEMBL1795146 (C-C chemokine receptor type 5)...\n"
     ]
    },
    {
     "name": "stderr",
     "output_type": "stream",
     "text": [
      "Processing CHEMBL1795146: 1it [00:00,  1.28it/s]\n"
     ]
    },
    {
     "name": "stdout",
     "output_type": "stream",
     "text": [
      "Fetching data for target CHEMBL1795147 (C-C chemokine receptor type 5)...\n"
     ]
    },
    {
     "name": "stderr",
     "output_type": "stream",
     "text": [
      "Processing CHEMBL1795147: 1it [00:00,  1.30it/s]\n"
     ]
    },
    {
     "name": "stdout",
     "output_type": "stream",
     "text": [
      "Fetching data for target CHEMBL3217397 (C-C chemokine receptor type 5)...\n"
     ]
    },
    {
     "name": "stderr",
     "output_type": "stream",
     "text": [
      "Processing CHEMBL3217397: 11it [00:00, 13.66it/s]\n"
     ]
    },
    {
     "name": "stdout",
     "output_type": "stream",
     "text": [
      "Fetching data for target CHEMBL3473 (C-C chemokine receptor type 3)...\n"
     ]
    },
    {
     "name": "stderr",
     "output_type": "stream",
     "text": [
      "Processing CHEMBL3473: 1557it [00:00, 1777.05it/s]\n"
     ]
    },
    {
     "name": "stdout",
     "output_type": "stream",
     "text": [
      "Fetching data for target CHEMBL3406 (C-C chemokine receptor type 3)...\n"
     ]
    },
    {
     "name": "stderr",
     "output_type": "stream",
     "text": [
      "Processing CHEMBL3406: 44it [00:00, 56.49it/s]\n"
     ]
    },
    {
     "name": "stdout",
     "output_type": "stream",
     "text": [
      "Fetching data for target CHEMBL3928 (C-C chemokine receptor type 3)...\n"
     ]
    },
    {
     "name": "stderr",
     "output_type": "stream",
     "text": [
      "Processing CHEMBL3928: 34it [00:00, 43.68it/s]\n"
     ]
    },
    {
     "name": "stdout",
     "output_type": "stream",
     "text": [
      "Fetching data for target CHEMBL5176 (C-C chemokine receptor type 3)...\n"
     ]
    },
    {
     "name": "stderr",
     "output_type": "stream",
     "text": [
      "Processing CHEMBL5176: 1it [00:00,  1.17it/s]\n"
     ]
    },
    {
     "name": "stdout",
     "output_type": "stream",
     "text": [
      "Fetching data for target CHEMBL1075262 (C-C chemokine receptor type 3)...\n"
     ]
    },
    {
     "name": "stderr",
     "output_type": "stream",
     "text": [
      "Processing CHEMBL1075262: 1it [00:00,  1.29it/s]\n"
     ]
    },
    {
     "name": "stdout",
     "output_type": "stream",
     "text": [
      "Fetching data for target CHEMBL3286 (Urokinase-type plasminogen activator)...\n"
     ]
    },
    {
     "name": "stderr",
     "output_type": "stream",
     "text": [
      "Processing CHEMBL3286: 1910it [00:00, 2045.89it/s]\n"
     ]
    },
    {
     "name": "stdout",
     "output_type": "stream",
     "text": [
      "Fetching data for target CHEMBL1075311 (Urokinase-type plasminogen activator)...\n"
     ]
    },
    {
     "name": "stderr",
     "output_type": "stream",
     "text": [
      "Processing CHEMBL1075311: 53it [00:00, 66.95it/s]\n"
     ]
    },
    {
     "name": "stdout",
     "output_type": "stream",
     "text": [
      "Fetching data for target CHEMBL1075245 (Urokinase-type plasminogen activator)...\n"
     ]
    },
    {
     "name": "stderr",
     "output_type": "stream",
     "text": [
      "Processing CHEMBL1075245: 2it [00:00,  2.52it/s]\n"
     ]
    },
    {
     "name": "stdout",
     "output_type": "stream",
     "text": [
      "Fetching data for target CHEMBL1075030 (Urokinase-type plasminogen activator)...\n"
     ]
    },
    {
     "name": "stderr",
     "output_type": "stream",
     "text": [
      "Processing CHEMBL1075030: 3it [00:00,  3.87it/s]\n"
     ]
    },
    {
     "name": "stdout",
     "output_type": "stream",
     "text": [
      "Fetching data for target CHEMBL2373 (C5a anaphylatoxin chemotactic receptor)...\n"
     ]
    },
    {
     "name": "stderr",
     "output_type": "stream",
     "text": [
      "Processing CHEMBL2373: 2490it [00:00, 2736.55it/s]\n"
     ]
    },
    {
     "name": "stdout",
     "output_type": "stream",
     "text": [
      "Fetching data for target CHEMBL2861 (C5a anaphylatoxin chemotactic receptor)...\n"
     ]
    },
    {
     "name": "stderr",
     "output_type": "stream",
     "text": [
      "Processing CHEMBL2861: 6it [00:00,  7.41it/s]\n"
     ]
    },
    {
     "name": "stdout",
     "output_type": "stream",
     "text": [
      "Fetching data for target CHEMBL5745 (C5a anaphylatoxin chemotactic receptor)...\n"
     ]
    },
    {
     "name": "stderr",
     "output_type": "stream",
     "text": [
      "Processing CHEMBL5745: 0it [00:00, ?it/s]\n"
     ]
    },
    {
     "name": "stdout",
     "output_type": "stream",
     "text": [
      "Fetching data for target CHEMBL5746 (C5a anaphylatoxin chemotactic receptor)...\n"
     ]
    },
    {
     "name": "stderr",
     "output_type": "stream",
     "text": [
      "Processing CHEMBL5746: 2it [00:00,  2.64it/s]\n"
     ]
    },
    {
     "name": "stdout",
     "output_type": "stream",
     "text": [
      "Fetching data for target CHEMBL5770 (C5a anaphylatoxin chemotactic receptor)...\n"
     ]
    },
    {
     "name": "stderr",
     "output_type": "stream",
     "text": [
      "Processing CHEMBL5770: 3it [00:00,  3.80it/s]\n"
     ]
    },
    {
     "name": "stdout",
     "output_type": "stream",
     "text": [
      "Fetching data for target CHEMBL2085 (Macrophage migration inhibitory factor)...\n"
     ]
    },
    {
     "name": "stderr",
     "output_type": "stream",
     "text": [
      "Processing CHEMBL2085: 973it [00:00, 1111.64it/s]\n"
     ]
    },
    {
     "name": "stdout",
     "output_type": "stream",
     "text": [
      "Fetching data for target CHEMBL1926491 (Macrophage migration inhibitory factor)...\n"
     ]
    },
    {
     "name": "stderr",
     "output_type": "stream",
     "text": [
      "Processing CHEMBL1926491: 18it [00:00, 21.89it/s]\n"
     ]
    },
    {
     "name": "stdout",
     "output_type": "stream",
     "text": [
      "Fetching data for target CHEMBL4524037 (Macrophage migration inhibitory factor)...\n"
     ]
    },
    {
     "name": "stderr",
     "output_type": "stream",
     "text": [
      "Processing CHEMBL4524037: 1it [00:00,  1.28it/s]\n"
     ]
    },
    {
     "name": "stdout",
     "output_type": "stream",
     "text": [
      "Fetching data for target CHEMBL3587 (Dual specificity mitogen-activated protein kinase kinase 1)...\n"
     ]
    },
    {
     "name": "stderr",
     "output_type": "stream",
     "text": [
      "Processing CHEMBL3587: 4096it [00:01, 3379.68it/s]\n"
     ]
    },
    {
     "name": "stdout",
     "output_type": "stream",
     "text": [
      "Fetching data for target CHEMBL5740 (Dual specificity mitogen-activated protein kinase kinase 1)...\n"
     ]
    },
    {
     "name": "stderr",
     "output_type": "stream",
     "text": [
      "Processing CHEMBL5740: 17it [00:00, 21.07it/s]\n"
     ]
    },
    {
     "name": "stdout",
     "output_type": "stream",
     "text": [
      "Fetching data for target CHEMBL5860 (Dual specificity mitogen-activated protein kinase kinase 1)...\n"
     ]
    },
    {
     "name": "stderr",
     "output_type": "stream",
     "text": [
      "Processing CHEMBL5860: 3it [00:00,  3.73it/s]\n"
     ]
    },
    {
     "name": "stdout",
     "output_type": "stream",
     "text": [
      "Fetching data for target CHEMBL1841 (Tyrosine-protein kinase FYN)...\n"
     ]
    },
    {
     "name": "stderr",
     "output_type": "stream",
     "text": [
      "Processing CHEMBL1841: 3526it [00:01, 3161.39it/s]\n"
     ]
    },
    {
     "name": "stdout",
     "output_type": "stream",
     "text": [
      "Fetching data for target CHEMBL4517 (Tyrosine-protein kinase FYN)...\n"
     ]
    },
    {
     "name": "stderr",
     "output_type": "stream",
     "text": [
      "Processing CHEMBL4517: 1it [00:00,  1.27it/s]\n"
     ]
    },
    {
     "name": "stdout",
     "output_type": "stream",
     "text": [
      "Fetching data for target CHEMBL228 (Serotonin transporter)...\n"
     ]
    },
    {
     "name": "stderr",
     "output_type": "stream",
     "text": [
      "Processing CHEMBL228: 10794it [00:01, 8067.87it/s]\n"
     ]
    },
    {
     "name": "stdout",
     "output_type": "stream",
     "text": [
      "Fetching data for target CHEMBL313 (Serotonin transporter)...\n"
     ]
    },
    {
     "name": "stderr",
     "output_type": "stream",
     "text": [
      "Processing CHEMBL313: 5916it [00:01, 5303.64it/s]\n"
     ]
    },
    {
     "name": "stdout",
     "output_type": "stream",
     "text": [
      "Fetching data for target CHEMBL4642 (Serotonin transporter)...\n"
     ]
    },
    {
     "name": "stderr",
     "output_type": "stream",
     "text": [
      "Processing CHEMBL4642: 148it [00:00, 189.54it/s]\n"
     ]
    },
    {
     "name": "stdout",
     "output_type": "stream",
     "text": [
      "Fetching data for target CHEMBL5453 (Serotonin transporter)...\n"
     ]
    },
    {
     "name": "stderr",
     "output_type": "stream",
     "text": [
      "Processing CHEMBL5453: 67it [00:00, 81.44it/s]\n"
     ]
    },
    {
     "name": "stdout",
     "output_type": "stream",
     "text": [
      "Fetching data for target CHEMBL4464 (Acyl coenzyme A:cholesterol acyltransferase 1)...\n"
     ]
    },
    {
     "name": "stderr",
     "output_type": "stream",
     "text": [
      "Processing CHEMBL4464: 269it [00:00, 325.80it/s]\n"
     ]
    },
    {
     "name": "stdout",
     "output_type": "stream",
     "text": [
      "Fetching data for target CHEMBL285 (Acyl coenzyme A:cholesterol acyltransferase 1)...\n"
     ]
    },
    {
     "name": "stderr",
     "output_type": "stream",
     "text": [
      "Processing CHEMBL285: 2284it [00:00, 2423.00it/s]\n"
     ]
    },
    {
     "name": "stdout",
     "output_type": "stream",
     "text": [
      "Fetching data for target CHEMBL2782 (Acyl coenzyme A:cholesterol acyltransferase 1)...\n"
     ]
    },
    {
     "name": "stderr",
     "output_type": "stream",
     "text": [
      "Processing CHEMBL2782: 784it [00:00, 874.53it/s]\n"
     ]
    },
    {
     "name": "stdout",
     "output_type": "stream",
     "text": [
      "Fetching data for target CHEMBL239 (Peroxisome proliferator-activated receptor alpha)...\n"
     ]
    },
    {
     "name": "stderr",
     "output_type": "stream",
     "text": [
      "Processing CHEMBL239: 7930it [00:01, 5944.70it/s]\n"
     ]
    },
    {
     "name": "stdout",
     "output_type": "stream",
     "text": [
      "Fetching data for target CHEMBL2847 (Peroxisome proliferator-activated receptor alpha)...\n"
     ]
    },
    {
     "name": "stderr",
     "output_type": "stream",
     "text": [
      "Processing CHEMBL2847: 24it [00:00, 30.18it/s]\n"
     ]
    },
    {
     "name": "stdout",
     "output_type": "stream",
     "text": [
      "Fetching data for target CHEMBL2128 (Peroxisome proliferator-activated receptor alpha)...\n"
     ]
    },
    {
     "name": "stderr",
     "output_type": "stream",
     "text": [
      "Processing CHEMBL2128: 332it [00:00, 390.60it/s]\n"
     ]
    },
    {
     "name": "stdout",
     "output_type": "stream",
     "text": [
      "Fetching data for target CHEMBL2129 (Peroxisome proliferator-activated receptor alpha)...\n"
     ]
    },
    {
     "name": "stderr",
     "output_type": "stream",
     "text": [
      "Processing CHEMBL2129: 123it [00:00, 156.45it/s]\n"
     ]
    },
    {
     "name": "stdout",
     "output_type": "stream",
     "text": [
      "Fetching data for target CHEMBL2458 (Peroxisome proliferator-activated receptor delta)...\n"
     ]
    },
    {
     "name": "stderr",
     "output_type": "stream",
     "text": [
      "Processing CHEMBL2458: 281it [00:00, 349.47it/s]\n"
     ]
    },
    {
     "name": "stdout",
     "output_type": "stream",
     "text": [
      "Fetching data for target CHEMBL3979 (Peroxisome proliferator-activated receptor delta)...\n"
     ]
    },
    {
     "name": "stderr",
     "output_type": "stream",
     "text": [
      "Processing CHEMBL3979: 5215it [00:00, 5351.36it/s]\n"
     ]
    },
    {
     "name": "stdout",
     "output_type": "stream",
     "text": [
      "Fetching data for target CHEMBL4152 (Peroxisome proliferator-activated receptor delta)...\n"
     ]
    },
    {
     "name": "stderr",
     "output_type": "stream",
     "text": [
      "Processing CHEMBL4152: 0it [00:00, ?it/s]\n"
     ]
    },
    {
     "name": "stdout",
     "output_type": "stream",
     "text": [
      "Fetching data for target CHEMBL1932904 (Peroxisome proliferator-activated receptor delta)...\n"
     ]
    },
    {
     "name": "stderr",
     "output_type": "stream",
     "text": [
      "Processing CHEMBL1932904: 1it [00:00,  1.29it/s]\n"
     ]
    },
    {
     "name": "stdout",
     "output_type": "stream",
     "text": [
      "Fetching data for target CHEMBL3467 (P-glycoprotein 1)...\n"
     ]
    },
    {
     "name": "stderr",
     "output_type": "stream",
     "text": [
      "Processing CHEMBL3467: 160it [00:00, 191.91it/s]\n"
     ]
    },
    {
     "name": "stdout",
     "output_type": "stream",
     "text": [
      "Fetching data for target CHEMBL4302 (P-glycoprotein 1)...\n"
     ]
    },
    {
     "name": "stderr",
     "output_type": "stream",
     "text": [
      "Processing CHEMBL4302: 12795it [00:01, 7840.52it/s]\n"
     ]
    },
    {
     "name": "stdout",
     "output_type": "stream",
     "text": [
      "Fetching data for target CHEMBL1862 (Tyrosine-protein kinase ABL)...\n"
     ]
    },
    {
     "name": "stderr",
     "output_type": "stream",
     "text": [
      "Processing CHEMBL1862: 18237it [00:01, 9822.54it/s] \n"
     ]
    },
    {
     "name": "stdout",
     "output_type": "stream",
     "text": [
      "Fetching data for target CHEMBL3099 (Tyrosine-protein kinase ABL)...\n"
     ]
    },
    {
     "name": "stderr",
     "output_type": "stream",
     "text": [
      "Processing CHEMBL3099: 172it [00:00, 210.17it/s]\n"
     ]
    },
    {
     "name": "stdout",
     "output_type": "stream",
     "text": [
      "Fetching data for target CHEMBL2111414 (Tyrosine-protein kinase ABL)...\n"
     ]
    },
    {
     "name": "stderr",
     "output_type": "stream",
     "text": [
      "Processing CHEMBL2111414: 153it [00:00, 185.97it/s]\n"
     ]
    },
    {
     "name": "stdout",
     "output_type": "stream",
     "text": [
      "Fetching data for target CHEMBL1907593 (Neuronal acetylcholine receptor; alpha3/beta4)...\n"
     ]
    },
    {
     "name": "stderr",
     "output_type": "stream",
     "text": [
      "Processing CHEMBL1907593: 1287it [00:00, 1555.63it/s]\n"
     ]
    },
    {
     "name": "stdout",
     "output_type": "stream",
     "text": [
      "Fetching data for target CHEMBL1907594 (Neuronal acetylcholine receptor; alpha3/beta4)...\n"
     ]
    },
    {
     "name": "stderr",
     "output_type": "stream",
     "text": [
      "Processing CHEMBL1907594: 1961it [00:00, 2214.49it/s]\n"
     ]
    },
    {
     "name": "stdout",
     "output_type": "stream",
     "text": [
      "Fetching data for target CHEMBL262 (Glycogen synthase kinase-3 beta)...\n"
     ]
    },
    {
     "name": "stderr",
     "output_type": "stream",
     "text": [
      "Processing CHEMBL262: 11658it [00:01, 7433.65it/s]\n"
     ]
    },
    {
     "name": "stdout",
     "output_type": "stream",
     "text": [
      "Fetching data for target CHEMBL3669 (Glycogen synthase kinase-3 beta)...\n"
     ]
    },
    {
     "name": "stderr",
     "output_type": "stream",
     "text": [
      "Processing CHEMBL3669: 45it [00:00, 54.16it/s]\n"
     ]
    },
    {
     "name": "stdout",
     "output_type": "stream",
     "text": [
      "Fetching data for target CHEMBL1075321 (Glycogen synthase kinase-3 beta)...\n"
     ]
    },
    {
     "name": "stderr",
     "output_type": "stream",
     "text": [
      "Processing CHEMBL1075321: 37it [00:00, 44.80it/s]\n"
     ]
    },
    {
     "name": "stdout",
     "output_type": "stream",
     "text": [
      "Fetching data for target CHEMBL1940 (Voltage-gated L-type calcium channel alpha-1C subunit)...\n"
     ]
    },
    {
     "name": "stderr",
     "output_type": "stream",
     "text": [
      "Processing CHEMBL1940: 716it [00:00, 868.71it/s]\n"
     ]
    },
    {
     "name": "stdout",
     "output_type": "stream",
     "text": [
      "Fetching data for target CHEMBL2529 (Voltage-gated L-type calcium channel alpha-1C subunit)...\n"
     ]
    },
    {
     "name": "stderr",
     "output_type": "stream",
     "text": [
      "Processing CHEMBL2529: 8it [00:00, 10.01it/s]\n"
     ]
    },
    {
     "name": "stdout",
     "output_type": "stream",
     "text": [
      "Fetching data for target CHEMBL3762 (Voltage-gated L-type calcium channel alpha-1C subunit)...\n"
     ]
    },
    {
     "name": "stderr",
     "output_type": "stream",
     "text": [
      "Processing CHEMBL3762: 1270it [00:00, 1423.98it/s]\n"
     ]
    },
    {
     "name": "stdout",
     "output_type": "stream",
     "text": [
      "Fetching data for target CHEMBL2830 (Voltage-gated L-type calcium channel alpha-1C subunit)...\n"
     ]
    },
    {
     "name": "stderr",
     "output_type": "stream",
     "text": [
      "Processing CHEMBL2830: 333it [00:00, 396.47it/s]\n"
     ]
    },
    {
     "name": "stdout",
     "output_type": "stream",
     "text": [
      "Fetching data for target CHEMBL2850 (Glycogen synthase kinase-3 alpha)...\n"
     ]
    },
    {
     "name": "stderr",
     "output_type": "stream",
     "text": [
      "Processing CHEMBL2850: 3721it [00:00, 3825.72it/s]\n"
     ]
    },
    {
     "name": "stdout",
     "output_type": "stream",
     "text": [
      "Fetching data for target CHEMBL1075224 (Glycogen synthase kinase-3 alpha)...\n"
     ]
    },
    {
     "name": "stderr",
     "output_type": "stream",
     "text": [
      "Processing CHEMBL1075224: 0it [00:00, ?it/s]\n"
     ]
    },
    {
     "name": "stdout",
     "output_type": "stream",
     "text": [
      "Fetching data for target CHEMBL2176843 (Glycogen synthase kinase-3 alpha)...\n"
     ]
    },
    {
     "name": "stderr",
     "output_type": "stream",
     "text": [
      "Processing CHEMBL2176843: 1it [00:00,  1.26it/s]\n"
     ]
    },
    {
     "name": "stdout",
     "output_type": "stream",
     "text": [
      "Fetching data for target CHEMBL2095196 (Monoamine oxidase)...\n"
     ]
    },
    {
     "name": "stderr",
     "output_type": "stream",
     "text": [
      "Processing CHEMBL2095196: 426it [00:00, 498.68it/s]\n"
     ]
    },
    {
     "name": "stdout",
     "output_type": "stream",
     "text": [
      "Fetching data for target CHEMBL2095205 (Monoamine oxidase)...\n"
     ]
    },
    {
     "name": "stderr",
     "output_type": "stream",
     "text": [
      "Processing CHEMBL2095205: 353it [00:00, 442.53it/s]\n"
     ]
    },
    {
     "name": "stdout",
     "output_type": "stream",
     "text": [
      "Fetching data for target CHEMBL2111442 (Monoamine oxidase)...\n"
     ]
    },
    {
     "name": "stderr",
     "output_type": "stream",
     "text": [
      "Processing CHEMBL2111442: 75it [00:00, 89.64it/s]\n"
     ]
    },
    {
     "name": "stdout",
     "output_type": "stream",
     "text": [
      "Fetching data for target CHEMBL2111399 (Monoamine oxidase)...\n"
     ]
    },
    {
     "name": "stderr",
     "output_type": "stream",
     "text": [
      "Processing CHEMBL2111399: 68it [00:00, 86.25it/s]\n"
     ]
    },
    {
     "name": "stdout",
     "output_type": "stream",
     "text": [
      "Fetching data for target CHEMBL2111390 (Beta-secretase (BACE))...\n"
     ]
    },
    {
     "name": "stderr",
     "output_type": "stream",
     "text": [
      "Processing CHEMBL2111390: 58it [00:00, 72.83it/s]\n"
     ]
    },
    {
     "name": "stdout",
     "output_type": "stream",
     "text": [
      "Fetching data for target CHEMBL3475 (Plasminogen activator inhibitor-1)...\n"
     ]
    },
    {
     "name": "stderr",
     "output_type": "stream",
     "text": [
      "Processing CHEMBL3475: 485it [00:00, 582.21it/s]\n"
     ]
    },
    {
     "name": "stdout",
     "output_type": "stream",
     "text": [
      "Fetching data for target CHEMBL2155 (Plasminogen activator inhibitor-1)...\n"
     ]
    },
    {
     "name": "stderr",
     "output_type": "stream",
     "text": [
      "Processing CHEMBL2155: 2it [00:00,  2.59it/s]\n"
     ]
    },
    {
     "name": "stdout",
     "output_type": "stream",
     "text": [
      "Fetching data for target CHEMBL2111321 (Matrix metalloproteinase (2 and 3))...\n"
     ]
    },
    {
     "name": "stderr",
     "output_type": "stream",
     "text": [
      "Processing CHEMBL2111321: 31it [00:00, 39.43it/s]\n"
     ]
    },
    {
     "name": "stdout",
     "output_type": "stream",
     "text": [
      "Fetching data for target CHEMBL2151 (Transthyretin)...\n"
     ]
    },
    {
     "name": "stderr",
     "output_type": "stream",
     "text": [
      "Processing CHEMBL2151: 12it [00:00, 15.50it/s]\n"
     ]
    },
    {
     "name": "stdout",
     "output_type": "stream",
     "text": [
      "Fetching data for target CHEMBL3194 (Transthyretin)...\n"
     ]
    },
    {
     "name": "stderr",
     "output_type": "stream",
     "text": [
      "Processing CHEMBL3194: 2703it [00:00, 2882.29it/s]\n"
     ]
    },
    {
     "name": "stdout",
     "output_type": "stream",
     "text": [
      "Fetching data for target CHEMBL4295539 (Transthyretin)...\n"
     ]
    },
    {
     "name": "stderr",
     "output_type": "stream",
     "text": [
      "Processing CHEMBL4295539: 0it [00:00, ?it/s]\n"
     ]
    },
    {
     "name": "stdout",
     "output_type": "stream",
     "text": [
      "Fetching data for target CHEMBL5169111 (Transthyretin)...\n"
     ]
    },
    {
     "name": "stderr",
     "output_type": "stream",
     "text": [
      "Processing CHEMBL5169111: 0it [00:00, ?it/s]\n"
     ]
    },
    {
     "name": "stdout",
     "output_type": "stream",
     "text": [
      "Fetching data for target CHEMBL2094252 (Monoamine transporters; serotonin & dopamine)...\n"
     ]
    },
    {
     "name": "stderr",
     "output_type": "stream",
     "text": [
      "Processing CHEMBL2094252: 1141it [00:00, 1359.87it/s]\n"
     ]
    },
    {
     "name": "stdout",
     "output_type": "stream",
     "text": [
      "Fetching data for target CHEMBL2095201 (Monoamine transporters; serotonin & dopamine)...\n"
     ]
    },
    {
     "name": "stderr",
     "output_type": "stream",
     "text": [
      "Processing CHEMBL2095201: 386it [00:00, 467.11it/s]\n"
     ]
    },
    {
     "name": "stdout",
     "output_type": "stream",
     "text": [
      "Fetching data for target CHEMBL4393 (Matrix metalloproteinase 12)...\n"
     ]
    },
    {
     "name": "stderr",
     "output_type": "stream",
     "text": [
      "Processing CHEMBL4393: 1060it [00:00, 1172.60it/s]\n"
     ]
    },
    {
     "name": "stdout",
     "output_type": "stream",
     "text": [
      "Fetching data for target CHEMBL2594 (Matrix metalloproteinase 12)...\n"
     ]
    },
    {
     "name": "stderr",
     "output_type": "stream",
     "text": [
      "Processing CHEMBL2594: 46it [00:00, 56.38it/s]\n"
     ]
    },
    {
     "name": "stdout",
     "output_type": "stream",
     "text": [
      "Fetching data for target CHEMBL1907606 (Mitogen-activated protein kinase; ERK1/ERK2)...\n"
     ]
    },
    {
     "name": "stderr",
     "output_type": "stream",
     "text": [
      "Processing CHEMBL1907606: 329it [00:00, 378.43it/s]\n"
     ]
    },
    {
     "name": "stdout",
     "output_type": "stream",
     "text": [
      "Fetching data for target CHEMBL2111330 (Ribosomal protein S6 kinase (P70S6K))...\n"
     ]
    },
    {
     "name": "stderr",
     "output_type": "stream",
     "text": [
      "Processing CHEMBL2111330: 67it [00:00, 82.78it/s]\n"
     ]
    },
    {
     "name": "stdout",
     "output_type": "stream",
     "text": [
      "Fetching data for target CHEMBL4282 (Serine/threonine-protein kinase AKT)...\n"
     ]
    },
    {
     "name": "stderr",
     "output_type": "stream",
     "text": [
      "Processing CHEMBL4282: 8475it [00:01, 6054.28it/s]\n"
     ]
    },
    {
     "name": "stdout",
     "output_type": "stream",
     "text": [
      "Fetching data for target CHEMBL2111353 (Serine/threonine-protein kinase AKT)...\n"
     ]
    },
    {
     "name": "stderr",
     "output_type": "stream",
     "text": [
      "Processing CHEMBL2111353: 183it [00:00, 216.69it/s]\n"
     ]
    },
    {
     "name": "stdout",
     "output_type": "stream",
     "text": [
      "Fetching data for target CHEMBL2292 (Dual-specificity tyrosine-phosphorylation regulated kinase 1A)...\n"
     ]
    },
    {
     "name": "stderr",
     "output_type": "stream",
     "text": [
      "Processing CHEMBL2292: 6650it [00:01, 5285.09it/s]\n"
     ]
    },
    {
     "name": "stdout",
     "output_type": "stream",
     "text": [
      "Fetching data for target CHEMBL4750 (Dual-specificity tyrosine-phosphorylation regulated kinase 1A)...\n"
     ]
    },
    {
     "name": "stderr",
     "output_type": "stream",
     "text": [
      "Processing CHEMBL4750: 27it [00:00, 33.22it/s]\n"
     ]
    },
    {
     "name": "stdout",
     "output_type": "stream",
     "text": [
      "Fetching data for target CHEMBL3385 (MAP kinase ERK1)...\n"
     ]
    },
    {
     "name": "stderr",
     "output_type": "stream",
     "text": [
      "Processing CHEMBL3385: 2940it [00:00, 3061.61it/s]\n"
     ]
    },
    {
     "name": "stdout",
     "output_type": "stream",
     "text": [
      "Fetching data for target CHEMBL2207 (MAP kinase ERK2)...\n"
     ]
    },
    {
     "name": "stderr",
     "output_type": "stream",
     "text": [
      "Processing CHEMBL2207: 640it [00:00, 759.61it/s]\n"
     ]
    },
    {
     "name": "stdout",
     "output_type": "stream",
     "text": [
      "Fetching data for target CHEMBL4040 (MAP kinase ERK2)...\n"
     ]
    },
    {
     "name": "stderr",
     "output_type": "stream",
     "text": [
      "Processing CHEMBL4040: 23202it [00:02, 8887.47it/s] \n"
     ]
    },
    {
     "name": "stdout",
     "output_type": "stream",
     "text": [
      "Fetching data for target CHEMBL2111325 (PPAR alpha/gamma)...\n"
     ]
    },
    {
     "name": "stderr",
     "output_type": "stream",
     "text": [
      "Processing CHEMBL2111325: 98it [00:00, 124.46it/s]\n"
     ]
    },
    {
     "name": "stdout",
     "output_type": "stream",
     "text": [
      "Fetching data for target CHEMBL3997 (Insulin-like growth factor binding protein 3)...\n"
     ]
    },
    {
     "name": "stderr",
     "output_type": "stream",
     "text": [
      "Processing CHEMBL3997: 46it [00:00, 55.89it/s]\n"
     ]
    },
    {
     "name": "stdout",
     "output_type": "stream",
     "text": [
      "Fetching data for target CHEMBL1825 (TNF-alpha)...\n"
     ]
    },
    {
     "name": "stderr",
     "output_type": "stream",
     "text": [
      "Processing CHEMBL1825: 1723it [00:00, 1862.04it/s]\n"
     ]
    },
    {
     "name": "stdout",
     "output_type": "stream",
     "text": [
      "Fetching data for target CHEMBL4984 (TNF-alpha)...\n"
     ]
    },
    {
     "name": "stderr",
     "output_type": "stream",
     "text": [
      "Processing CHEMBL4984: 70it [00:00, 88.67it/s]\n"
     ]
    },
    {
     "name": "stdout",
     "output_type": "stream",
     "text": [
      "Fetching data for target CHEMBL3918 (Receptor-type tyrosine-protein phosphatase alpha)...\n"
     ]
    },
    {
     "name": "stderr",
     "output_type": "stream",
     "text": [
      "Processing CHEMBL3918: 250it [00:00, 308.19it/s]\n"
     ]
    },
    {
     "name": "stdout",
     "output_type": "stream",
     "text": [
      "Fetching data for target CHEMBL2096670 (Glutamate receptor ionotropic AMPA)...\n"
     ]
    },
    {
     "name": "stderr",
     "output_type": "stream",
     "text": [
      "Processing CHEMBL2096670: 281it [00:00, 335.22it/s]\n"
     ]
    },
    {
     "name": "stdout",
     "output_type": "stream",
     "text": [
      "Fetching data for target CHEMBL2460 (Prolyl endopeptidase)...\n"
     ]
    },
    {
     "name": "stderr",
     "output_type": "stream",
     "text": [
      "Processing CHEMBL2460: 14it [00:00, 17.08it/s]\n"
     ]
    },
    {
     "name": "stdout",
     "output_type": "stream",
     "text": [
      "Fetching data for target CHEMBL4935 (Prolyl endopeptidase)...\n"
     ]
    },
    {
     "name": "stderr",
     "output_type": "stream",
     "text": [
      "Processing CHEMBL4935: 48it [00:00, 59.59it/s]\n"
     ]
    },
    {
     "name": "stdout",
     "output_type": "stream",
     "text": [
      "Fetching data for target CHEMBL2461 (Prolyl endopeptidase)...\n"
     ]
    },
    {
     "name": "stderr",
     "output_type": "stream",
     "text": [
      "Processing CHEMBL2461: 246it [00:00, 301.28it/s]\n"
     ]
    },
    {
     "name": "stdout",
     "output_type": "stream",
     "text": [
      "Fetching data for target CHEMBL4035 (Prolyl endopeptidase)...\n"
     ]
    },
    {
     "name": "stderr",
     "output_type": "stream",
     "text": [
      "Processing CHEMBL4035: 112it [00:00, 135.84it/s]\n"
     ]
    },
    {
     "name": "stdout",
     "output_type": "stream",
     "text": [
      "Fetching data for target CHEMBL3202 (Prolyl endopeptidase)...\n"
     ]
    },
    {
     "name": "stderr",
     "output_type": "stream",
     "text": [
      "Processing CHEMBL3202: 1127it [00:00, 1247.86it/s]\n"
     ]
    },
    {
     "name": "stdout",
     "output_type": "stream",
     "text": [
      "Fetching data for target CHEMBL6043 (Prolyl endopeptidase)...\n"
     ]
    },
    {
     "name": "stderr",
     "output_type": "stream",
     "text": [
      "Processing CHEMBL6043: 3it [00:00,  3.86it/s]\n"
     ]
    },
    {
     "name": "stdout",
     "output_type": "stream",
     "text": [
      "Fetching data for target CHEMBL3088 (Insulin-like growth factor binding protein 2)...\n"
     ]
    },
    {
     "name": "stderr",
     "output_type": "stream",
     "text": [
      "Processing CHEMBL3088: 2it [00:00,  2.51it/s]\n"
     ]
    },
    {
     "name": "stdout",
     "output_type": "stream",
     "text": [
      "Fetching data for target CHEMBL2139 (Insulin-like growth factor binding protein 6)...\n"
     ]
    },
    {
     "name": "stderr",
     "output_type": "stream",
     "text": [
      "Processing CHEMBL2139: 2it [00:00,  2.56it/s]\n"
     ]
    },
    {
     "name": "stdout",
     "output_type": "stream",
     "text": [
      "Fetching data for target CHEMBL2063 (Ceramide glucosyltransferase)...\n"
     ]
    },
    {
     "name": "stderr",
     "output_type": "stream",
     "text": [
      "Processing CHEMBL2063: 321it [00:00, 381.79it/s]\n"
     ]
    },
    {
     "name": "stdout",
     "output_type": "stream",
     "text": [
      "Fetching data for target CHEMBL6013 (Ceramide glucosyltransferase)...\n"
     ]
    },
    {
     "name": "stderr",
     "output_type": "stream",
     "text": [
      "Processing CHEMBL6013: 97it [00:00, 119.51it/s]\n"
     ]
    },
    {
     "name": "stdout",
     "output_type": "stream",
     "text": [
      "Fetching data for target CHEMBL1957 (Insulin-like growth factor I receptor)...\n"
     ]
    },
    {
     "name": "stderr",
     "output_type": "stream",
     "text": [
      "Processing CHEMBL1957: 8468it [00:01, 6582.89it/s]\n"
     ]
    },
    {
     "name": "stdout",
     "output_type": "stream",
     "text": [
      "Fetching data for target CHEMBL1981 (Insulin receptor)...\n"
     ]
    },
    {
     "name": "stderr",
     "output_type": "stream",
     "text": [
      "Processing CHEMBL1981: 5411it [00:01, 5156.62it/s]\n"
     ]
    },
    {
     "name": "stdout",
     "output_type": "stream",
     "text": [
      "Fetching data for target CHEMBL3187 (Insulin receptor)...\n"
     ]
    },
    {
     "name": "stderr",
     "output_type": "stream",
     "text": [
      "Processing CHEMBL3187: 62it [00:00, 76.12it/s]\n"
     ]
    },
    {
     "name": "stdout",
     "output_type": "stream",
     "text": [
      "Fetching data for target CHEMBL5486 (Insulin receptor)...\n"
     ]
    },
    {
     "name": "stderr",
     "output_type": "stream",
     "text": [
      "Processing CHEMBL5486: 5it [00:00,  6.35it/s]\n"
     ]
    },
    {
     "name": "stdout",
     "output_type": "stream",
     "text": [
      "Fetching data for target CHEMBL2111289 (Dual specificity mitogen-activated protein kinase kinase; MEK1/2)...\n"
     ]
    },
    {
     "name": "stderr",
     "output_type": "stream",
     "text": [
      "Processing CHEMBL2111289: 226it [00:00, 288.05it/s]\n"
     ]
    },
    {
     "name": "stdout",
     "output_type": "stream",
     "text": [
      "Fetching data for target CHEMBL2284 (Glyceraldehyde-3-phosphate dehydrogenase liver)...\n"
     ]
    },
    {
     "name": "stderr",
     "output_type": "stream",
     "text": [
      "Processing CHEMBL2284: 1310it [00:00, 1438.09it/s]\n"
     ]
    },
    {
     "name": "stdout",
     "output_type": "stream",
     "text": [
      "Fetching data for target CHEMBL2095213 (Adenosine receptors; A2a & A3)...\n"
     ]
    },
    {
     "name": "stderr",
     "output_type": "stream",
     "text": [
      "Processing CHEMBL2095213: 371it [00:00, 459.45it/s]\n"
     ]
    },
    {
     "name": "stdout",
     "output_type": "stream",
     "text": [
      "Fetching data for target CHEMBL2273 (Caspase-9)...\n"
     ]
    },
    {
     "name": "stderr",
     "output_type": "stream",
     "text": [
      "Processing CHEMBL2273: 122it [00:00, 151.49it/s]\n"
     ]
    },
    {
     "name": "stdout",
     "output_type": "stream",
     "text": [
      "Fetching data for target CHEMBL1977 (Vitamin D receptor)...\n"
     ]
    },
    {
     "name": "stderr",
     "output_type": "stream",
     "text": [
      "Processing CHEMBL1977: 25673it [00:02, 9076.90it/s] \n"
     ]
    },
    {
     "name": "stdout",
     "output_type": "stream",
     "text": [
      "Fetching data for target CHEMBL2353 (Vitamin D receptor)...\n"
     ]
    },
    {
     "name": "stderr",
     "output_type": "stream",
     "text": [
      "Processing CHEMBL2353: 172it [00:00, 217.27it/s]\n"
     ]
    },
    {
     "name": "stdout",
     "output_type": "stream",
     "text": [
      "Fetching data for target CHEMBL3150 (Vitamin D receptor)...\n"
     ]
    },
    {
     "name": "stderr",
     "output_type": "stream",
     "text": [
      "Processing CHEMBL3150: 349it [00:00, 414.39it/s]\n"
     ]
    },
    {
     "name": "stdout",
     "output_type": "stream",
     "text": [
      "Fetching data for target CHEMBL3452 (Vitamin D receptor)...\n"
     ]
    },
    {
     "name": "stderr",
     "output_type": "stream",
     "text": [
      "Processing CHEMBL3452: 140it [00:00, 175.49it/s]\n"
     ]
    },
    {
     "name": "stdout",
     "output_type": "stream",
     "text": [
      "Fetching data for target CHEMBL5601 (Vitamin D receptor)...\n"
     ]
    },
    {
     "name": "stderr",
     "output_type": "stream",
     "text": [
      "Processing CHEMBL5601: 239it [00:00, 285.69it/s]\n"
     ]
    },
    {
     "name": "stdout",
     "output_type": "stream",
     "text": [
      "Fetching data for target CHEMBL3313 (Vesicular acetylcholine transporter)...\n"
     ]
    },
    {
     "name": "stderr",
     "output_type": "stream",
     "text": [
      "Processing CHEMBL3313: 104it [00:00, 127.30it/s]\n"
     ]
    },
    {
     "name": "stdout",
     "output_type": "stream",
     "text": [
      "Fetching data for target CHEMBL2125 (Vesicular acetylcholine transporter)...\n"
     ]
    },
    {
     "name": "stderr",
     "output_type": "stream",
     "text": [
      "Processing CHEMBL2125: 99it [00:00, 122.49it/s]\n"
     ]
    },
    {
     "name": "stdout",
     "output_type": "stream",
     "text": [
      "Fetching data for target CHEMBL4767 (Vesicular acetylcholine transporter)...\n"
     ]
    },
    {
     "name": "stderr",
     "output_type": "stream",
     "text": [
      "Processing CHEMBL4767: 269it [00:00, 322.51it/s]\n"
     ]
    },
    {
     "name": "stdout",
     "output_type": "stream",
     "text": [
      "Fetching data for target CHEMBL2815 (Nerve growth factor receptor Trk-A)...\n"
     ]
    },
    {
     "name": "stderr",
     "output_type": "stream",
     "text": [
      "Processing CHEMBL2815: 8122it [00:01, 5871.08it/s]\n"
     ]
    },
    {
     "name": "stdout",
     "output_type": "stream",
     "text": [
      "Fetching data for target CHEMBL4220 (Nerve growth factor receptor Trk-A)...\n"
     ]
    },
    {
     "name": "stderr",
     "output_type": "stream",
     "text": [
      "Processing CHEMBL4220: 10it [00:00, 12.30it/s]\n"
     ]
    },
    {
     "name": "stdout",
     "output_type": "stream",
     "text": [
      "Fetching data for target CHEMBL2964 (Dual specificity mitogen-activated protein kinase kinase 2)...\n"
     ]
    },
    {
     "name": "stderr",
     "output_type": "stream",
     "text": [
      "Processing CHEMBL2964: 1292it [00:00, 1481.58it/s]\n"
     ]
    },
    {
     "name": "stdout",
     "output_type": "stream",
     "text": [
      "Fetching data for target CHEMBL2929 (Subtilisin/kexin type 9)...\n"
     ]
    },
    {
     "name": "stderr",
     "output_type": "stream",
     "text": [
      "Processing CHEMBL2929: 445it [00:00, 505.84it/s]\n"
     ]
    },
    {
     "name": "stdout",
     "output_type": "stream",
     "text": [
      "Fetching data for target CHEMBL3972 (GAR transformylase)...\n"
     ]
    },
    {
     "name": "stderr",
     "output_type": "stream",
     "text": [
      "Processing CHEMBL3972: 452it [00:00, 544.73it/s]\n"
     ]
    },
    {
     "name": "stdout",
     "output_type": "stream",
     "text": [
      "Fetching data for target CHEMBL3690 (GAR transformylase)...\n"
     ]
    },
    {
     "name": "stderr",
     "output_type": "stream",
     "text": [
      "Processing CHEMBL3690: 71it [00:00, 89.53it/s]\n"
     ]
    },
    {
     "name": "stdout",
     "output_type": "stream",
     "text": [
      "Fetching data for target CHEMBL3229 (Anandamide amidohydrolase)...\n"
     ]
    },
    {
     "name": "stderr",
     "output_type": "stream",
     "text": [
      "Processing CHEMBL3229: 3675it [00:01, 3402.30it/s]\n"
     ]
    },
    {
     "name": "stdout",
     "output_type": "stream",
     "text": [
      "Fetching data for target CHEMBL2243 (Anandamide amidohydrolase)...\n"
     ]
    },
    {
     "name": "stderr",
     "output_type": "stream",
     "text": [
      "Processing CHEMBL2243: 3259it [00:00, 3333.97it/s]\n"
     ]
    },
    {
     "name": "stdout",
     "output_type": "stream",
     "text": [
      "Fetching data for target CHEMBL3455 (Anandamide amidohydrolase)...\n"
     ]
    },
    {
     "name": "stderr",
     "output_type": "stream",
     "text": [
      "Processing CHEMBL3455: 412it [00:00, 500.14it/s]\n"
     ]
    },
    {
     "name": "stdout",
     "output_type": "stream",
     "text": [
      "Fetching data for target CHEMBL3623 (Quinone reductase 1)...\n"
     ]
    },
    {
     "name": "stderr",
     "output_type": "stream",
     "text": [
      "Processing CHEMBL3623: 1436it [00:00, 1590.61it/s]\n"
     ]
    },
    {
     "name": "stdout",
     "output_type": "stream",
     "text": [
      "Fetching data for target CHEMBL2111418 (Muscarinic acetylcholine receptor M1 and M3)...\n"
     ]
    },
    {
     "name": "stderr",
     "output_type": "stream",
     "text": [
      "Processing CHEMBL2111418: 256it [00:00, 315.91it/s]\n"
     ]
    },
    {
     "name": "stdout",
     "output_type": "stream",
     "text": [
      "Fetching data for target CHEMBL4547 (Thioredoxin reductase)...\n"
     ]
    },
    {
     "name": "stderr",
     "output_type": "stream",
     "text": [
      "Processing CHEMBL4547: 18it [00:00, 22.11it/s]\n"
     ]
    },
    {
     "name": "stdout",
     "output_type": "stream",
     "text": [
      "Fetching data for target CHEMBL2096978 (Thioredoxin reductase)...\n"
     ]
    },
    {
     "name": "stderr",
     "output_type": "stream",
     "text": [
      "Processing CHEMBL2096978: 161it [00:00, 195.51it/s]\n"
     ]
    },
    {
     "name": "stdout",
     "output_type": "stream",
     "text": [
      "Fetching data for target CHEMBL2364151 (Thioredoxin reductase)...\n"
     ]
    },
    {
     "name": "stderr",
     "output_type": "stream",
     "text": [
      "Processing CHEMBL2364151: 0it [00:00, ?it/s]\n"
     ]
    },
    {
     "name": "stdout",
     "output_type": "stream",
     "text": [
      "Fetching data for target CHEMBL2364152 (Thioredoxin reductase)...\n"
     ]
    },
    {
     "name": "stderr",
     "output_type": "stream",
     "text": [
      "Processing CHEMBL2364152: 0it [00:00, ?it/s]\n"
     ]
    },
    {
     "name": "stdout",
     "output_type": "stream",
     "text": [
      "Fetching data for target CHEMBL2390811 (Thioredoxin reductase)...\n"
     ]
    },
    {
     "name": "stderr",
     "output_type": "stream",
     "text": [
      "Processing CHEMBL2390811: 64it [00:00, 82.21it/s]\n"
     ]
    },
    {
     "name": "stdout",
     "output_type": "stream",
     "text": [
      "Fetching data for target CHEMBL3638339 (Thioredoxin reductase)...\n"
     ]
    },
    {
     "name": "stderr",
     "output_type": "stream",
     "text": [
      "Processing CHEMBL3638339: 44it [00:00, 56.10it/s]\n"
     ]
    },
    {
     "name": "stdout",
     "output_type": "stream",
     "text": [
      "Fetching data for target CHEMBL3879846 (Thioredoxin reductase)...\n"
     ]
    },
    {
     "name": "stderr",
     "output_type": "stream",
     "text": [
      "Processing CHEMBL3879846: 18it [00:00, 22.29it/s]\n"
     ]
    },
    {
     "name": "stdout",
     "output_type": "stream",
     "text": [
      "Fetching data for target CHEMBL3468 (Caspase-7)...\n"
     ]
    },
    {
     "name": "stderr",
     "output_type": "stream",
     "text": [
      "Processing CHEMBL3468: 3064it [00:01, 2982.20it/s]\n"
     ]
    },
    {
     "name": "stdout",
     "output_type": "stream",
     "text": [
      "Fetching data for target CHEMBL4617 (Phenylethanolamine N-methyltransferase)...\n"
     ]
    },
    {
     "name": "stderr",
     "output_type": "stream",
     "text": [
      "Processing CHEMBL4617: 530it [00:00, 618.88it/s]\n"
     ]
    },
    {
     "name": "stdout",
     "output_type": "stream",
     "text": [
      "Fetching data for target CHEMBL4874 (Phenylethanolamine N-methyltransferase)...\n"
     ]
    },
    {
     "name": "stderr",
     "output_type": "stream",
     "text": [
      "Processing CHEMBL4874: 5it [00:00,  6.07it/s]\n"
     ]
    },
    {
     "name": "stdout",
     "output_type": "stream",
     "text": [
      "Fetching data for target CHEMBL2331 (Phenylethanolamine N-methyltransferase)...\n"
     ]
    },
    {
     "name": "stderr",
     "output_type": "stream",
     "text": [
      "Processing CHEMBL2331: 742it [00:00, 860.37it/s]\n"
     ]
    },
    {
     "name": "stdout",
     "output_type": "stream",
     "text": [
      "Fetching data for target CHEMBL4865 (Serotransferrin)...\n"
     ]
    },
    {
     "name": "stderr",
     "output_type": "stream",
     "text": [
      "Processing CHEMBL4865: 81it [00:00, 98.94it/s]\n"
     ]
    },
    {
     "name": "stdout",
     "output_type": "stream",
     "text": [
      "Fetching data for target CHEMBL2097164 (CaM kinase II)...\n"
     ]
    },
    {
     "name": "stderr",
     "output_type": "stream",
     "text": [
      "Processing CHEMBL2097164: 145it [00:00, 177.31it/s]\n"
     ]
    },
    {
     "name": "stdout",
     "output_type": "stream",
     "text": [
      "Fetching data for target CHEMBL1783 (Vascular endothelial growth factor A)...\n"
     ]
    },
    {
     "name": "stderr",
     "output_type": "stream",
     "text": [
      "Processing CHEMBL1783: 230it [00:00, 281.15it/s]\n"
     ]
    },
    {
     "name": "stdout",
     "output_type": "stream",
     "text": [
      "Fetching data for target CHEMBL4612 (Glutamine synthetase)...\n"
     ]
    },
    {
     "name": "stderr",
     "output_type": "stream",
     "text": [
      "Processing CHEMBL4612: 102it [00:00, 131.39it/s]\n"
     ]
    },
    {
     "name": "stdout",
     "output_type": "stream",
     "text": [
      "Fetching data for target CHEMBL3789 (Glutamine synthetase)...\n"
     ]
    },
    {
     "name": "stderr",
     "output_type": "stream",
     "text": [
      "Processing CHEMBL3789: 21it [00:00, 26.56it/s]\n"
     ]
    },
    {
     "name": "stdout",
     "output_type": "stream",
     "text": [
      "Fetching data for target CHEMBL5089 (Glutamine synthetase)...\n"
     ]
    },
    {
     "name": "stderr",
     "output_type": "stream",
     "text": [
      "Processing CHEMBL5089: 1it [00:00,  1.26it/s]\n"
     ]
    },
    {
     "name": "stdout",
     "output_type": "stream",
     "text": [
      "Fetching data for target CHEMBL5218 (Glutamine synthetase)...\n"
     ]
    },
    {
     "name": "stderr",
     "output_type": "stream",
     "text": [
      "Processing CHEMBL5218: 2it [00:00,  2.55it/s]\n"
     ]
    },
    {
     "name": "stdout",
     "output_type": "stream",
     "text": [
      "Fetching data for target CHEMBL2366402 (Glutamine synthetase)...\n"
     ]
    },
    {
     "name": "stderr",
     "output_type": "stream",
     "text": [
      "Processing CHEMBL2366402: 2it [00:00,  2.51it/s]\n"
     ]
    },
    {
     "name": "stdout",
     "output_type": "stream",
     "text": [
      "Fetching data for target CHEMBL2366423 (Glutamine synthetase)...\n"
     ]
    },
    {
     "name": "stderr",
     "output_type": "stream",
     "text": [
      "Processing CHEMBL2366423: 3it [00:00,  3.77it/s]\n"
     ]
    },
    {
     "name": "stdout",
     "output_type": "stream",
     "text": [
      "Fetching data for target CHEMBL2366486 (Glutamine synthetase)...\n"
     ]
    },
    {
     "name": "stderr",
     "output_type": "stream",
     "text": [
      "Processing CHEMBL2366486: 84it [00:00, 108.37it/s]\n"
     ]
    },
    {
     "name": "stdout",
     "output_type": "stream",
     "text": [
      "Fetching data for target CHEMBL2366496 (Glutamine synthetase)...\n"
     ]
    },
    {
     "name": "stderr",
     "output_type": "stream",
     "text": [
      "Processing CHEMBL2366496: 2it [00:00,  2.64it/s]\n"
     ]
    },
    {
     "name": "stdout",
     "output_type": "stream",
     "text": [
      "Fetching data for target CHEMBL2903 (Arachidonate 15-lipoxygenase)...\n"
     ]
    },
    {
     "name": "stderr",
     "output_type": "stream",
     "text": [
      "Processing CHEMBL2903: 6819it [00:01, 5533.65it/s]\n"
     ]
    },
    {
     "name": "stdout",
     "output_type": "stream",
     "text": [
      "Fetching data for target CHEMBL4358 (Arachidonate 15-lipoxygenase)...\n"
     ]
    },
    {
     "name": "stderr",
     "output_type": "stream",
     "text": [
      "Processing CHEMBL4358: 324it [00:00, 389.26it/s]\n"
     ]
    },
    {
     "name": "stdout",
     "output_type": "stream",
     "text": [
      "Fetching data for target CHEMBL3259476 (Arachidonate 15-lipoxygenase)...\n"
     ]
    },
    {
     "name": "stderr",
     "output_type": "stream",
     "text": [
      "Processing CHEMBL3259476: 25it [00:00, 31.87it/s]\n"
     ]
    },
    {
     "name": "stdout",
     "output_type": "stream",
     "text": [
      "Fetching data for target CHEMBL4629 (Complement factor H)...\n"
     ]
    },
    {
     "name": "stderr",
     "output_type": "stream",
     "text": [
      "Processing CHEMBL4629: 1it [00:00,  1.28it/s]\n"
     ]
    },
    {
     "name": "stdout",
     "output_type": "stream",
     "text": [
      "Fetching data for target CHEMBL3378 (Tumor necrosis factor receptor R1)...\n"
     ]
    },
    {
     "name": "stderr",
     "output_type": "stream",
     "text": [
      "Processing CHEMBL3378: 158it [00:00, 197.82it/s]\n"
     ]
    },
    {
     "name": "stdout",
     "output_type": "stream",
     "text": [
      "Fetching data for target CHEMBL4079 (G-protein coupled receptor kinase 2)...\n"
     ]
    },
    {
     "name": "stderr",
     "output_type": "stream",
     "text": [
      "Processing CHEMBL4079: 1036it [00:00, 1146.13it/s]\n"
     ]
    },
    {
     "name": "stdout",
     "output_type": "stream",
     "text": [
      "Fetching data for target CHEMBL3687 (Arachidonate 12-lipoxygenase)...\n"
     ]
    },
    {
     "name": "stderr",
     "output_type": "stream",
     "text": [
      "Processing CHEMBL3687: 3212it [00:00, 3317.03it/s]\n"
     ]
    },
    {
     "name": "stdout",
     "output_type": "stream",
     "text": [
      "Fetching data for target CHEMBL2381 (Arachidonate 12-lipoxygenase)...\n"
     ]
    },
    {
     "name": "stderr",
     "output_type": "stream",
     "text": [
      "Processing CHEMBL2381: 25it [00:00, 31.36it/s]\n"
     ]
    },
    {
     "name": "stdout",
     "output_type": "stream",
     "text": [
      "Fetching data for target CHEMBL3225 (Arachidonate 12-lipoxygenase)...\n"
     ]
    },
    {
     "name": "stderr",
     "output_type": "stream",
     "text": [
      "Processing CHEMBL3225: 29it [00:00, 37.76it/s]\n"
     ]
    },
    {
     "name": "stdout",
     "output_type": "stream",
     "text": [
      "Fetching data for target CHEMBL2741 (Arachidonate 12-lipoxygenase)...\n"
     ]
    },
    {
     "name": "stderr",
     "output_type": "stream",
     "text": [
      "Processing CHEMBL2741: 51it [00:00, 63.11it/s]\n"
     ]
    },
    {
     "name": "stdout",
     "output_type": "stream",
     "text": [
      "Fetching data for target CHEMBL275 (Phosphodiesterase 4B)...\n"
     ]
    },
    {
     "name": "stderr",
     "output_type": "stream",
     "text": [
      "Processing CHEMBL275: 2608it [00:01, 2506.80it/s]\n"
     ]
    },
    {
     "name": "stdout",
     "output_type": "stream",
     "text": [
      "Fetching data for target CHEMBL3382 (Phosphodiesterase 4B)...\n"
     ]
    },
    {
     "name": "stderr",
     "output_type": "stream",
     "text": [
      "Processing CHEMBL3382: 42it [00:00, 53.22it/s]\n"
     ]
    },
    {
     "name": "stdout",
     "output_type": "stream",
     "text": [
      "Fetching data for target CHEMBL2272 (Phosphodiesterase 4B)...\n"
     ]
    },
    {
     "name": "stderr",
     "output_type": "stream",
     "text": [
      "Processing CHEMBL2272: 167it [00:00, 206.58it/s]\n"
     ]
    },
    {
     "name": "stdout",
     "output_type": "stream",
     "text": [
      "Fetching data for target CHEMBL2111388 (Beta-2 adrenergic receptor and beta-3 adrenergic receptor)...\n"
     ]
    },
    {
     "name": "stderr",
     "output_type": "stream",
     "text": [
      "Processing CHEMBL2111388: 173it [00:00, 200.04it/s]\n"
     ]
    },
    {
     "name": "stdout",
     "output_type": "stream",
     "text": [
      "Fetching data for target CHEMBL2111394 (RXR alpha/PPAR gamma)...\n"
     ]
    },
    {
     "name": "stderr",
     "output_type": "stream",
     "text": [
      "Processing CHEMBL2111394: 87it [00:00, 104.89it/s]\n"
     ]
    },
    {
     "name": "stdout",
     "output_type": "stream",
     "text": [
      "Fetching data for target CHEMBL2111351 (Serine/threonine-protein kinase RAF and Dual specificity mitogen-activated protein kinase kinase 1 (Raf/MEK))...\n"
     ]
    },
    {
     "name": "stderr",
     "output_type": "stream",
     "text": [
      "Processing CHEMBL2111351: 158it [00:00, 190.26it/s]\n"
     ]
    },
    {
     "name": "stdout",
     "output_type": "stream",
     "text": [
      "Fetching data for target CHEMBL3902 (Glutathione S-transferase Pi)...\n"
     ]
    },
    {
     "name": "stderr",
     "output_type": "stream",
     "text": [
      "Processing CHEMBL3902: 332it [00:00, 405.72it/s]\n"
     ]
    },
    {
     "name": "stdout",
     "output_type": "stream",
     "text": [
      "Fetching data for target CHEMBL4036 (Cyclin-dependent kinase 5)...\n"
     ]
    },
    {
     "name": "stderr",
     "output_type": "stream",
     "text": [
      "Processing CHEMBL4036: 2997it [00:00, 3212.94it/s]\n"
     ]
    },
    {
     "name": "stdout",
     "output_type": "stream",
     "text": [
      "Fetching data for target CHEMBL5169144 (Cyclin-dependent kinase 5)...\n"
     ]
    },
    {
     "name": "stderr",
     "output_type": "stream",
     "text": [
      "Processing CHEMBL5169144: 1it [00:00,  1.25it/s]\n"
     ]
    },
    {
     "name": "stdout",
     "output_type": "stream",
     "text": [
      "Fetching data for target CHEMBL2096618 (Bcr/Abl fusion protein)...\n"
     ]
    },
    {
     "name": "stderr",
     "output_type": "stream",
     "text": [
      "Processing CHEMBL2096618: 1476it [00:00, 1642.84it/s]\n"
     ]
    },
    {
     "name": "stdout",
     "output_type": "stream",
     "text": [
      "Fetching data for target CHEMBL4884 (Caspase-2)...\n"
     ]
    },
    {
     "name": "stderr",
     "output_type": "stream",
     "text": [
      "Processing CHEMBL4884: 151it [00:00, 182.81it/s]\n"
     ]
    },
    {
     "name": "stdout",
     "output_type": "stream",
     "text": [
      "Fetching data for target CHEMBL2226 (Caspase-4)...\n"
     ]
    },
    {
     "name": "stderr",
     "output_type": "stream",
     "text": [
      "Processing CHEMBL2226: 68it [00:00, 81.67it/s]\n"
     ]
    },
    {
     "name": "stdout",
     "output_type": "stream",
     "text": [
      "Fetching data for target CHEMBL1075276 (Caspase-4)...\n"
     ]
    },
    {
     "name": "stderr",
     "output_type": "stream",
     "text": [
      "Processing CHEMBL1075276: 4it [00:00,  5.21it/s]\n"
     ]
    },
    {
     "name": "stdout",
     "output_type": "stream",
     "text": [
      "Fetching data for target CHEMBL2434 (Interleukin-8 receptor B)...\n"
     ]
    },
    {
     "name": "stderr",
     "output_type": "stream",
     "text": [
      "Processing CHEMBL2434: 1762it [00:00, 1926.59it/s]\n"
     ]
    },
    {
     "name": "stdout",
     "output_type": "stream",
     "text": [
      "Fetching data for target CHEMBL1907590 (Neuronal acetylcholine receptor; alpha2/beta4)...\n"
     ]
    },
    {
     "name": "stderr",
     "output_type": "stream",
     "text": [
      "Processing CHEMBL1907590: 210it [00:00, 264.30it/s]\n"
     ]
    },
    {
     "name": "stdout",
     "output_type": "stream",
     "text": [
      "Fetching data for target CHEMBL2109230 (Neuronal acetylcholine receptor; alpha2/beta4)...\n"
     ]
    },
    {
     "name": "stderr",
     "output_type": "stream",
     "text": [
      "Processing CHEMBL2109230: 47it [00:00, 58.57it/s]\n"
     ]
    },
    {
     "name": "stdout",
     "output_type": "stream",
     "text": [
      "Fetching data for target CHEMBL2354 (Superoxide dismutase)...\n"
     ]
    },
    {
     "name": "stderr",
     "output_type": "stream",
     "text": [
      "Processing CHEMBL2354: 121it [00:00, 153.31it/s]\n"
     ]
    },
    {
     "name": "stdout",
     "output_type": "stream",
     "text": [
      "Fetching data for target CHEMBL4295602 (Superoxide dismutase)...\n"
     ]
    },
    {
     "name": "stderr",
     "output_type": "stream",
     "text": [
      "Processing CHEMBL4295602: 6it [00:00,  7.24it/s]\n"
     ]
    },
    {
     "name": "stdout",
     "output_type": "stream",
     "text": [
      "Fetching data for target CHEMBL4184 (Lysosomal acid lipase/cholesteryl ester hydrolase)...\n"
     ]
    },
    {
     "name": "stderr",
     "output_type": "stream",
     "text": [
      "Processing CHEMBL4184: 20it [00:00, 25.25it/s]\n"
     ]
    },
    {
     "name": "stdout",
     "output_type": "stream",
     "text": [
      "Fetching data for target CHEMBL2352 (Lysosomal acid lipase/cholesteryl ester hydrolase)...\n"
     ]
    },
    {
     "name": "stderr",
     "output_type": "stream",
     "text": [
      "Processing CHEMBL2352: 2it [00:00,  2.60it/s]\n"
     ]
    },
    {
     "name": "stdout",
     "output_type": "stream",
     "text": [
      "Fetching data for target CHEMBL3068 (Neuronal acetylcholine receptor subunit alpha-3)...\n"
     ]
    },
    {
     "name": "stderr",
     "output_type": "stream",
     "text": [
      "Processing CHEMBL3068: 51it [00:00, 60.17it/s]\n"
     ]
    },
    {
     "name": "stdout",
     "output_type": "stream",
     "text": [
      "Fetching data for target CHEMBL5317 (Neuronal acetylcholine receptor subunit alpha-3)...\n"
     ]
    },
    {
     "name": "stderr",
     "output_type": "stream",
     "text": [
      "Processing CHEMBL5317: 5it [00:00,  6.46it/s]\n"
     ]
    },
    {
     "name": "stdout",
     "output_type": "stream",
     "text": [
      "Fetching data for target CHEMBL2202 (Phosphatidylcholine-retinol O-acyltransferase)...\n"
     ]
    },
    {
     "name": "stderr",
     "output_type": "stream",
     "text": [
      "Processing CHEMBL2202: 7it [00:00,  8.91it/s]\n"
     ]
    },
    {
     "name": "stdout",
     "output_type": "stream",
     "text": [
      "Fetching data for target CHEMBL2096981 (Cannabinoid receptor)...\n"
     ]
    },
    {
     "name": "stderr",
     "output_type": "stream",
     "text": [
      "Processing CHEMBL2096981: 230it [00:00, 287.58it/s]\n"
     ]
    },
    {
     "name": "stdout",
     "output_type": "stream",
     "text": [
      "Fetching data for target CHEMBL2111415 (Cannabinoid receptor)...\n"
     ]
    },
    {
     "name": "stderr",
     "output_type": "stream",
     "text": [
      "Processing CHEMBL2111415: 442it [00:00, 479.24it/s]\n"
     ]
    },
    {
     "name": "stdout",
     "output_type": "stream",
     "text": [
      "Fetching data for target CHEMBL2111385 (Cannabinoid receptor)...\n"
     ]
    },
    {
     "name": "stderr",
     "output_type": "stream",
     "text": [
      "Processing CHEMBL2111385: 160it [00:00, 198.38it/s]\n"
     ]
    },
    {
     "name": "stdout",
     "output_type": "stream",
     "text": [
      "Fetching data for target CHEMBL2111405 (Nitric-oxide synthase (endothelial and brain))...\n"
     ]
    },
    {
     "name": "stderr",
     "output_type": "stream",
     "text": [
      "Processing CHEMBL2111405: 166it [00:00, 195.03it/s]\n"
     ]
    },
    {
     "name": "stdout",
     "output_type": "stream",
     "text": [
      "Fetching data for target CHEMBL1907587 (Neuronal acetylcholine receptor; alpha3/beta2)...\n"
     ]
    },
    {
     "name": "stderr",
     "output_type": "stream",
     "text": [
      "Processing CHEMBL1907587: 412it [00:00, 506.69it/s]\n"
     ]
    },
    {
     "name": "stdout",
     "output_type": "stream",
     "text": [
      "Fetching data for target CHEMBL2109234 (Neuronal acetylcholine receptor; alpha3/beta2)...\n"
     ]
    },
    {
     "name": "stderr",
     "output_type": "stream",
     "text": [
      "Processing CHEMBL2109234: 131it [00:00, 160.41it/s]\n"
     ]
    },
    {
     "name": "stdout",
     "output_type": "stream",
     "text": [
      "Fetching data for target CHEMBL2525 (Beta secretase 2)...\n"
     ]
    },
    {
     "name": "stderr",
     "output_type": "stream",
     "text": [
      "Processing CHEMBL2525: 1703it [00:00, 1791.02it/s]\n"
     ]
    },
    {
     "name": "stdout",
     "output_type": "stream",
     "text": [
      "Fetching data for target CHEMBL2015 (Glutamate (NMDA) receptor subunit zeta 1)...\n"
     ]
    },
    {
     "name": "stderr",
     "output_type": "stream",
     "text": [
      "Processing CHEMBL2015: 126it [00:00, 156.64it/s]\n"
     ]
    },
    {
     "name": "stdout",
     "output_type": "stream",
     "text": [
      "Fetching data for target CHEMBL330 (Glutamate (NMDA) receptor subunit zeta 1)...\n"
     ]
    },
    {
     "name": "stderr",
     "output_type": "stream",
     "text": [
      "Processing CHEMBL330: 2148it [00:00, 2286.27it/s]\n"
     ]
    },
    {
     "name": "stdout",
     "output_type": "stream",
     "text": [
      "Fetching data for target CHEMBL3451 (Glutamate (NMDA) receptor subunit zeta 1)...\n"
     ]
    },
    {
     "name": "stderr",
     "output_type": "stream",
     "text": [
      "Processing CHEMBL3451: 9it [00:00, 11.31it/s]\n"
     ]
    },
    {
     "name": "stdout",
     "output_type": "stream",
     "text": [
      "Fetching data for target CHEMBL4051 (Cystic fibrosis transmembrane conductance regulator)...\n"
     ]
    },
    {
     "name": "stderr",
     "output_type": "stream",
     "text": [
      "Processing CHEMBL4051: 1810it [00:00, 1961.68it/s]\n"
     ]
    },
    {
     "name": "stdout",
     "output_type": "stream",
     "text": [
      "Fetching data for target CHEMBL3992 (Cystic fibrosis transmembrane conductance regulator)...\n"
     ]
    },
    {
     "name": "stderr",
     "output_type": "stream",
     "text": [
      "Processing CHEMBL3992: 71it [00:00, 87.37it/s]\n"
     ]
    },
    {
     "name": "stdout",
     "output_type": "stream",
     "text": [
      "Fetching data for target CHEMBL3988611 (Cystic fibrosis transmembrane conductance regulator)...\n"
     ]
    },
    {
     "name": "stderr",
     "output_type": "stream",
     "text": [
      "Processing CHEMBL3988611: 36it [00:00, 44.71it/s]\n"
     ]
    },
    {
     "name": "stdout",
     "output_type": "stream",
     "text": [
      "Fetching data for target CHEMBL4046 (Inositol 1,4,5-trisphosphate receptor type 1)...\n"
     ]
    },
    {
     "name": "stderr",
     "output_type": "stream",
     "text": [
      "Processing CHEMBL4046: 23it [00:00, 29.65it/s]\n"
     ]
    },
    {
     "name": "stdout",
     "output_type": "stream",
     "text": [
      "Fetching data for target CHEMBL2804 (Inositol 1,4,5-trisphosphate receptor type 1)...\n"
     ]
    },
    {
     "name": "stderr",
     "output_type": "stream",
     "text": [
      "Processing CHEMBL2804: 238it [00:00, 286.58it/s]\n"
     ]
    },
    {
     "name": "stdout",
     "output_type": "stream",
     "text": [
      "Fetching data for target CHEMBL1972 (Glutamate [NMDA] receptor subunit epsilon 1)...\n"
     ]
    },
    {
     "name": "stderr",
     "output_type": "stream",
     "text": [
      "Processing CHEMBL1972: 107it [00:00, 136.07it/s]\n"
     ]
    },
    {
     "name": "stdout",
     "output_type": "stream",
     "text": [
      "Fetching data for target CHEMBL310 (Glutamate [NMDA] receptor subunit epsilon 1)...\n"
     ]
    },
    {
     "name": "stderr",
     "output_type": "stream",
     "text": [
      "Processing CHEMBL310: 140it [00:00, 167.15it/s]\n"
     ]
    },
    {
     "name": "stdout",
     "output_type": "stream",
     "text": [
      "Fetching data for target CHEMBL1904 (Glutamate [NMDA] receptor subunit epsilon 2)...\n"
     ]
    },
    {
     "name": "stderr",
     "output_type": "stream",
     "text": [
      "Processing CHEMBL1904: 481it [00:00, 585.86it/s]\n"
     ]
    },
    {
     "name": "stdout",
     "output_type": "stream",
     "text": [
      "Fetching data for target CHEMBL311 (Glutamate [NMDA] receptor subunit epsilon 2)...\n"
     ]
    },
    {
     "name": "stderr",
     "output_type": "stream",
     "text": [
      "Processing CHEMBL311: 861it [00:00, 965.15it/s]\n"
     ]
    },
    {
     "name": "stdout",
     "output_type": "stream",
     "text": [
      "Fetching data for target CHEMBL3442 (Glutamate [NMDA] receptor subunit epsilon 2)...\n"
     ]
    },
    {
     "name": "stderr",
     "output_type": "stream",
     "text": [
      "Processing CHEMBL3442: 88it [00:00, 108.37it/s]\n"
     ]
    },
    {
     "name": "stdout",
     "output_type": "stream",
     "text": [
      "Fetching data for target CHEMBL3105 (Poly [ADP-ribose] polymerase-1)...\n"
     ]
    },
    {
     "name": "stderr",
     "output_type": "stream",
     "text": [
      "Processing CHEMBL3105: 6150it [00:01, 4609.76it/s]\n"
     ]
    },
    {
     "name": "stdout",
     "output_type": "stream",
     "text": [
      "Fetching data for target CHEMBL3740 (Poly [ADP-ribose] polymerase-1)...\n"
     ]
    },
    {
     "name": "stderr",
     "output_type": "stream",
     "text": [
      "Processing CHEMBL3740: 159it [00:00, 197.19it/s]\n"
     ]
    },
    {
     "name": "stdout",
     "output_type": "stream",
     "text": [
      "Fetching data for target CHEMBL2392 (DNA polymerase beta)...\n"
     ]
    },
    {
     "name": "stderr",
     "output_type": "stream",
     "text": [
      "Processing CHEMBL2392: 23577it [00:02, 11562.06it/s]\n"
     ]
    },
    {
     "name": "stdout",
     "output_type": "stream",
     "text": [
      "Fetching data for target CHEMBL4565 (DNA polymerase beta)...\n"
     ]
    },
    {
     "name": "stderr",
     "output_type": "stream",
     "text": [
      "Processing CHEMBL4565: 44it [00:00, 53.82it/s]\n"
     ]
    },
    {
     "name": "stdout",
     "output_type": "stream",
     "text": [
      "Fetching data for target CHEMBL4343 (DNA polymerase beta)...\n"
     ]
    },
    {
     "name": "stderr",
     "output_type": "stream",
     "text": [
      "Processing CHEMBL4343: 173it [00:00, 207.44it/s]\n"
     ]
    },
    {
     "name": "stdout",
     "output_type": "stream",
     "text": [
      "Fetching data for target CHEMBL4039 (Choline acetylase)...\n"
     ]
    },
    {
     "name": "stderr",
     "output_type": "stream",
     "text": [
      "Processing CHEMBL4039: 58it [00:00, 73.98it/s]\n"
     ]
    },
    {
     "name": "stdout",
     "output_type": "stream",
     "text": [
      "Fetching data for target CHEMBL2944 (Choline acetylase)...\n"
     ]
    },
    {
     "name": "stderr",
     "output_type": "stream",
     "text": [
      "Processing CHEMBL2944: 17it [00:00, 20.50it/s]\n"
     ]
    },
    {
     "name": "stdout",
     "output_type": "stream",
     "text": [
      "Fetching data for target CHEMBL3945 (Choline acetylase)...\n"
     ]
    },
    {
     "name": "stderr",
     "output_type": "stream",
     "text": [
      "Processing CHEMBL3945: 173it [00:00, 206.38it/s]\n"
     ]
    },
    {
     "name": "stdout",
     "output_type": "stream",
     "text": [
      "Fetching data for target CHEMBL2023 (Catechol O-methyltransferase)...\n"
     ]
    },
    {
     "name": "stderr",
     "output_type": "stream",
     "text": [
      "Processing CHEMBL2023: 362it [00:00, 397.30it/s]\n"
     ]
    },
    {
     "name": "stdout",
     "output_type": "stream",
     "text": [
      "Fetching data for target CHEMBL2372 (Catechol O-methyltransferase)...\n"
     ]
    },
    {
     "name": "stderr",
     "output_type": "stream",
     "text": [
      "Processing CHEMBL2372: 635it [00:00, 706.05it/s]\n"
     ]
    },
    {
     "name": "stdout",
     "output_type": "stream",
     "text": [
      "Fetching data for target CHEMBL2176837 (Catechol O-methyltransferase)...\n"
     ]
    },
    {
     "name": "stderr",
     "output_type": "stream",
     "text": [
      "Processing CHEMBL2176837: 39it [00:00, 48.08it/s]\n"
     ]
    },
    {
     "name": "stdout",
     "output_type": "stream",
     "text": [
      "Fetching data for target CHEMBL3286068 (Catechol O-methyltransferase)...\n"
     ]
    },
    {
     "name": "stderr",
     "output_type": "stream",
     "text": [
      "Processing CHEMBL3286068: 91it [00:00, 108.09it/s]\n"
     ]
    },
    {
     "name": "stdout",
     "output_type": "stream",
     "text": [
      "Fetching data for target CHEMBL2111396 (Cathepsin (B and K))...\n"
     ]
    },
    {
     "name": "stderr",
     "output_type": "stream",
     "text": [
      "Processing CHEMBL2111396: 71it [00:00, 86.92it/s]\n"
     ]
    },
    {
     "name": "stdout",
     "output_type": "stream",
     "text": [
      "Fetching data for target CHEMBL4441 (C-X-C chemokine receptor type 3)...\n"
     ]
    },
    {
     "name": "stderr",
     "output_type": "stream",
     "text": [
      "Processing CHEMBL4441: 2515it [00:00, 2587.66it/s]\n"
     ]
    },
    {
     "name": "stdout",
     "output_type": "stream",
     "text": [
      "Fetching data for target CHEMBL5200 (C-X-C chemokine receptor type 3)...\n"
     ]
    },
    {
     "name": "stderr",
     "output_type": "stream",
     "text": [
      "Processing CHEMBL5200: 95it [00:00, 122.42it/s]\n"
     ]
    },
    {
     "name": "stdout",
     "output_type": "stream",
     "text": [
      "Fetching data for target CHEMBL1075172 (C-X-C chemokine receptor type 3)...\n"
     ]
    },
    {
     "name": "stderr",
     "output_type": "stream",
     "text": [
      "Processing CHEMBL1075172: 20it [00:00, 24.77it/s]\n"
     ]
    },
    {
     "name": "stdout",
     "output_type": "stream",
     "text": [
      "Fetching data for target CHEMBL1075194 (C-X-C chemokine receptor type 3)...\n"
     ]
    },
    {
     "name": "stderr",
     "output_type": "stream",
     "text": [
      "Processing CHEMBL1075194: 3it [00:00,  3.79it/s]\n"
     ]
    },
    {
     "name": "stdout",
     "output_type": "stream",
     "text": [
      "Fetching data for target CHEMBL1907604 (Glutamate NMDA receptor; GRIN1/GRIN2A)...\n"
     ]
    },
    {
     "name": "stderr",
     "output_type": "stream",
     "text": [
      "Processing CHEMBL1907604: 647it [00:00, 720.54it/s]\n"
     ]
    },
    {
     "name": "stdout",
     "output_type": "stream",
     "text": [
      "Fetching data for target CHEMBL2096680 (Glutamate NMDA receptor; GRIN1/GRIN2A)...\n"
     ]
    },
    {
     "name": "stderr",
     "output_type": "stream",
     "text": [
      "Processing CHEMBL2096680: 612it [00:00, 741.52it/s]\n"
     ]
    },
    {
     "name": "stdout",
     "output_type": "stream",
     "text": [
      "Fetching data for target CHEMBL1907603 (Glutamate NMDA receptor; GRIN1/GRIN2B)...\n"
     ]
    },
    {
     "name": "stderr",
     "output_type": "stream",
     "text": [
      "Processing CHEMBL1907603: 674it [00:00, 817.17it/s]\n"
     ]
    },
    {
     "name": "stdout",
     "output_type": "stream",
     "text": [
      "Fetching data for target CHEMBL2096666 (Glutamate NMDA receptor; GRIN1/GRIN2B)...\n"
     ]
    },
    {
     "name": "stderr",
     "output_type": "stream",
     "text": [
      "Processing CHEMBL2096666: 846it [00:00, 1004.17it/s]\n"
     ]
    },
    {
     "name": "stdout",
     "output_type": "stream",
     "text": [
      "Fetching data for target CHEMBL5491 (Serine/threonine-protein kinase WEE1)...\n"
     ]
    },
    {
     "name": "stderr",
     "output_type": "stream",
     "text": [
      "Processing CHEMBL5491: 1766it [00:00, 1914.41it/s]\n"
     ]
    },
    {
     "name": "stdout",
     "output_type": "stream",
     "text": [
      "Fetching data for target CHEMBL3201 (Aryl hydrocarbon receptor)...\n"
     ]
    },
    {
     "name": "stderr",
     "output_type": "stream",
     "text": [
      "Processing CHEMBL3201: 899it [00:00, 1039.21it/s]\n"
     ]
    },
    {
     "name": "stdout",
     "output_type": "stream",
     "text": [
      "Fetching data for target CHEMBL4725 (Aryl hydrocarbon receptor)...\n"
     ]
    },
    {
     "name": "stderr",
     "output_type": "stream",
     "text": [
      "Processing CHEMBL4725: 25it [00:00, 32.38it/s]\n"
     ]
    },
    {
     "name": "stdout",
     "output_type": "stream",
     "text": [
      "Fetching data for target CHEMBL5400 (Aryl hydrocarbon receptor)...\n"
     ]
    },
    {
     "name": "stderr",
     "output_type": "stream",
     "text": [
      "Processing CHEMBL5400: 4it [00:00,  5.04it/s]\n"
     ]
    },
    {
     "name": "stdout",
     "output_type": "stream",
     "text": [
      "Fetching data for target CHEMBL6099 (Aryl hydrocarbon receptor)...\n"
     ]
    },
    {
     "name": "stderr",
     "output_type": "stream",
     "text": [
      "Processing CHEMBL6099: 93it [00:00, 119.17it/s]\n"
     ]
    },
    {
     "name": "stdout",
     "output_type": "stream",
     "text": [
      "Fetching data for target CHEMBL4523513 (Aryl hydrocarbon receptor)...\n"
     ]
    },
    {
     "name": "stderr",
     "output_type": "stream",
     "text": [
      "Processing CHEMBL4523513: 5it [00:00,  6.23it/s]\n"
     ]
    },
    {
     "name": "stdout",
     "output_type": "stream",
     "text": [
      "Fetching data for target CHEMBL1909489 (Collagenase)...\n"
     ]
    },
    {
     "name": "stderr",
     "output_type": "stream",
     "text": [
      "Processing CHEMBL1909489: 8it [00:00, 10.42it/s]\n"
     ]
    },
    {
     "name": "stdout",
     "output_type": "stream",
     "text": [
      "Fetching data for target CHEMBL2095216 (Collagenase)...\n"
     ]
    },
    {
     "name": "stderr",
     "output_type": "stream",
     "text": [
      "Processing CHEMBL2095216: 148it [00:00, 189.35it/s]\n"
     ]
    },
    {
     "name": "stdout",
     "output_type": "stream",
     "text": [
      "Fetching data for target CHEMBL2268009 (Collagenase)...\n"
     ]
    },
    {
     "name": "stderr",
     "output_type": "stream",
     "text": [
      "Processing CHEMBL2268009: 13it [00:00, 16.92it/s]\n"
     ]
    },
    {
     "name": "stdout",
     "output_type": "stream",
     "text": [
      "Fetching data for target CHEMBL1935 (Aldehyde dehydrogenase)...\n"
     ]
    },
    {
     "name": "stderr",
     "output_type": "stream",
     "text": [
      "Processing CHEMBL1935: 428it [00:00, 514.03it/s]\n"
     ]
    },
    {
     "name": "stdout",
     "output_type": "stream",
     "text": [
      "Fetching data for target CHEMBL2812 (Aldehyde dehydrogenase)...\n"
     ]
    },
    {
     "name": "stderr",
     "output_type": "stream",
     "text": [
      "Processing CHEMBL2812: 15it [00:00, 18.48it/s]\n"
     ]
    },
    {
     "name": "stdout",
     "output_type": "stream",
     "text": [
      "Fetching data for target CHEMBL3542434 (Aldehyde dehydrogenase)...\n"
     ]
    },
    {
     "name": "stderr",
     "output_type": "stream",
     "text": [
      "Processing CHEMBL3542434: 0it [00:00, ?it/s]\n"
     ]
    },
    {
     "name": "stdout",
     "output_type": "stream",
     "text": [
      "Fetching data for target CHEMBL3009 (Receptor protein-tyrosine kinase erbB-4)...\n"
     ]
    },
    {
     "name": "stderr",
     "output_type": "stream",
     "text": [
      "Processing CHEMBL3009: 2747it [00:00, 2869.82it/s]\n"
     ]
    },
    {
     "name": "stdout",
     "output_type": "stream",
     "text": [
      "Fetching data for target CHEMBL2111367 (PI3-kinase p110-alpha/p85-alpha)...\n"
     ]
    },
    {
     "name": "stderr",
     "output_type": "stream",
     "text": [
      "Processing CHEMBL2111367: 2569it [00:01, 2367.97it/s]\n"
     ]
    },
    {
     "name": "stdout",
     "output_type": "stream",
     "text": [
      "Fetching data for target CHEMBL2231 (Cytochrome P450 1A1)...\n"
     ]
    },
    {
     "name": "stderr",
     "output_type": "stream",
     "text": [
      "Processing CHEMBL2231: 1094it [00:00, 1245.64it/s]\n"
     ]
    },
    {
     "name": "stdout",
     "output_type": "stream",
     "text": [
      "Fetching data for target CHEMBL2922 (Cytochrome P450 1A1)...\n"
     ]
    },
    {
     "name": "stderr",
     "output_type": "stream",
     "text": [
      "Processing CHEMBL2922: 88it [00:00, 108.14it/s]\n"
     ]
    },
    {
     "name": "stdout",
     "output_type": "stream",
     "text": [
      "Fetching data for target CHEMBL6171 (Cytochrome P450 1A1)...\n"
     ]
    },
    {
     "name": "stderr",
     "output_type": "stream",
     "text": [
      "Processing CHEMBL6171: 56it [00:00, 69.43it/s]\n"
     ]
    },
    {
     "name": "stdout",
     "output_type": "stream",
     "text": [
      "Fetching data for target CHEMBL2227 (Proenkephalin B)...\n"
     ]
    },
    {
     "name": "stderr",
     "output_type": "stream",
     "text": [
      "Processing CHEMBL2227: 1it [00:00,  1.28it/s]\n"
     ]
    },
    {
     "name": "stdout",
     "output_type": "stream",
     "text": [
      "Fetching data for target CHEMBL2111402 (5-lipoxygenase/FLAP)...\n"
     ]
    },
    {
     "name": "stderr",
     "output_type": "stream",
     "text": [
      "Processing CHEMBL2111402: 82it [00:00, 101.16it/s]\n"
     ]
    },
    {
     "name": "stdout",
     "output_type": "stream",
     "text": [
      "Fetching data for target CHEMBL3311 (LDL receptor)...\n"
     ]
    },
    {
     "name": "stderr",
     "output_type": "stream",
     "text": [
      "Processing CHEMBL3311: 153it [00:00, 191.09it/s]\n"
     ]
    },
    {
     "name": "stdout",
     "output_type": "stream",
     "text": [
      "Fetching data for target CHEMBL2157 (Interleukin-8)...\n"
     ]
    },
    {
     "name": "stderr",
     "output_type": "stream",
     "text": [
      "Processing CHEMBL2157: 629it [00:00, 741.15it/s]\n"
     ]
    },
    {
     "name": "stdout",
     "output_type": "stream",
     "text": [
      "Fetching data for target CHEMBL2439 (Myeloperoxidase)...\n"
     ]
    },
    {
     "name": "stderr",
     "output_type": "stream",
     "text": [
      "Processing CHEMBL2439: 912it [00:00, 1056.83it/s]\n"
     ]
    },
    {
     "name": "stdout",
     "output_type": "stream",
     "text": [
      "Fetching data for target CHEMBL2440 (Myeloperoxidase)...\n"
     ]
    },
    {
     "name": "stderr",
     "output_type": "stream",
     "text": [
      "Processing CHEMBL2440: 10it [00:00, 12.93it/s]\n"
     ]
    },
    {
     "name": "stdout",
     "output_type": "stream",
     "text": [
      "Fetching data for target CHEMBL4101 (cAMP-dependent protein kinase alpha-catalytic subunit)...\n"
     ]
    },
    {
     "name": "stderr",
     "output_type": "stream",
     "text": [
      "Processing CHEMBL4101: 3486it [00:00, 3600.14it/s]\n"
     ]
    },
    {
     "name": "stdout",
     "output_type": "stream",
     "text": [
      "Fetching data for target CHEMBL2654 (cAMP-dependent protein kinase alpha-catalytic subunit)...\n"
     ]
    },
    {
     "name": "stderr",
     "output_type": "stream",
     "text": [
      "Processing CHEMBL2654: 43it [00:00, 56.28it/s]\n"
     ]
    },
    {
     "name": "stdout",
     "output_type": "stream",
     "text": [
      "Fetching data for target CHEMBL3390 (cAMP-dependent protein kinase alpha-catalytic subunit)...\n"
     ]
    },
    {
     "name": "stderr",
     "output_type": "stream",
     "text": [
      "Processing CHEMBL3390: 36it [00:00, 46.59it/s]\n"
     ]
    },
    {
     "name": "stdout",
     "output_type": "stream",
     "text": [
      "Fetching data for target CHEMBL4885 (cAMP-dependent protein kinase alpha-catalytic subunit)...\n"
     ]
    },
    {
     "name": "stderr",
     "output_type": "stream",
     "text": [
      "Processing CHEMBL4885: 26it [00:00, 33.40it/s]\n"
     ]
    },
    {
     "name": "stdout",
     "output_type": "stream",
     "text": [
      "Fetching data for target CHEMBL4869 (Prion protein)...\n"
     ]
    },
    {
     "name": "stderr",
     "output_type": "stream",
     "text": [
      "Processing CHEMBL4869: 391it [00:00, 490.56it/s]\n"
     ]
    },
    {
     "name": "stdout",
     "output_type": "stream",
     "text": [
      "Fetching data for target CHEMBL3698 (Prion protein)...\n"
     ]
    },
    {
     "name": "stderr",
     "output_type": "stream",
     "text": [
      "Processing CHEMBL3698: 244it [00:00, 303.09it/s]\n"
     ]
    },
    {
     "name": "stdout",
     "output_type": "stream",
     "text": [
      "Fetching data for target CHEMBL4762 (Low affinity neurotrophin receptor p75NTR)...\n"
     ]
    },
    {
     "name": "stderr",
     "output_type": "stream",
     "text": [
      "Processing CHEMBL4762: 19it [00:00, 23.62it/s]\n"
     ]
    },
    {
     "name": "stdout",
     "output_type": "stream",
     "text": [
      "Fetching data for target CHEMBL2193 (Cerebroside-sulfatase)...\n"
     ]
    },
    {
     "name": "stderr",
     "output_type": "stream",
     "text": [
      "Processing CHEMBL2193: 650it [00:00, 771.21it/s]\n"
     ]
    },
    {
     "name": "stdout",
     "output_type": "stream",
     "text": [
      "Fetching data for target CHEMBL3959 (Quinone reductase 2)...\n"
     ]
    },
    {
     "name": "stderr",
     "output_type": "stream",
     "text": [
      "Processing CHEMBL3959: 763it [00:00, 922.83it/s]\n"
     ]
    },
    {
     "name": "stdout",
     "output_type": "stream",
     "text": [
      "Fetching data for target CHEMBL3642 (Suv3 helicase)...\n"
     ]
    },
    {
     "name": "stderr",
     "output_type": "stream",
     "text": [
      "Processing CHEMBL3642: 20it [00:00, 25.39it/s]\n"
     ]
    },
    {
     "name": "stdout",
     "output_type": "stream",
     "text": [
      "Fetching data for target CHEMBL4501 (Ribosomal protein S6 kinase 1)...\n"
     ]
    },
    {
     "name": "stderr",
     "output_type": "stream",
     "text": [
      "Processing CHEMBL4501: 4526it [00:01, 4427.20it/s]\n"
     ]
    },
    {
     "name": "stdout",
     "output_type": "stream",
     "text": [
      "Fetching data for target CHEMBL4929 (Serum amyloid P-component)...\n"
     ]
    },
    {
     "name": "stderr",
     "output_type": "stream",
     "text": [
      "Processing CHEMBL4929: 227it [00:00, 292.63it/s]\n"
     ]
    },
    {
     "name": "stdout",
     "output_type": "stream",
     "text": [
      "Fetching data for target CHEMBL2632 (HLA class I histocompatibility antigen A-3)...\n"
     ]
    },
    {
     "name": "stderr",
     "output_type": "stream",
     "text": [
      "Processing CHEMBL2632: 159it [00:00, 202.29it/s]\n"
     ]
    },
    {
     "name": "stdout",
     "output_type": "stream",
     "text": [
      "Fetching data for target CHEMBL2120 (Acidic fibroblast growth factor)...\n"
     ]
    },
    {
     "name": "stderr",
     "output_type": "stream",
     "text": [
      "Processing CHEMBL2120: 130it [00:00, 164.02it/s]\n"
     ]
    },
    {
     "name": "stdout",
     "output_type": "stream",
     "text": [
      "Fetching data for target CHEMBL2288 (Peptidyl-prolyl cis-trans isomerase NIMA-interacting 1)...\n"
     ]
    },
    {
     "name": "stderr",
     "output_type": "stream",
     "text": [
      "Processing CHEMBL2288: 36571it [00:02, 13710.37it/s]\n"
     ]
    },
    {
     "name": "stdout",
     "output_type": "stream",
     "text": [
      "Fetching data for target CHEMBL3240 (Insulin-like growth factor II receptor)...\n"
     ]
    },
    {
     "name": "stderr",
     "output_type": "stream",
     "text": [
      "Processing CHEMBL3240: 19it [00:00, 23.73it/s]\n"
     ]
    },
    {
     "name": "stdout",
     "output_type": "stream",
     "text": [
      "Fetching data for target CHEMBL2111371 (PPAR delta/gamma)...\n"
     ]
    },
    {
     "name": "stderr",
     "output_type": "stream",
     "text": [
      "Processing CHEMBL2111371: 116it [00:00, 146.67it/s]\n"
     ]
    },
    {
     "name": "stdout",
     "output_type": "stream",
     "text": [
      "Fetching data for target CHEMBL1907611 (Tumour suppressor p53/oncoprotein Mdm2)...\n"
     ]
    },
    {
     "name": "stderr",
     "output_type": "stream",
     "text": [
      "Processing CHEMBL1907611: 1918it [00:00, 1971.46it/s]\n"
     ]
    },
    {
     "name": "stdout",
     "output_type": "stream",
     "text": [
      "Fetching data for target CHEMBL4411 (Prostaglandin E synthase 2)...\n"
     ]
    },
    {
     "name": "stderr",
     "output_type": "stream",
     "text": [
      "Processing CHEMBL4411: 323it [00:00, 386.80it/s]\n"
     ]
    },
    {
     "name": "stdout",
     "output_type": "stream",
     "text": [
      "Fetching data for target CHEMBL4879487 (Prostaglandin E synthase 2)...\n"
     ]
    },
    {
     "name": "stderr",
     "output_type": "stream",
     "text": [
      "Processing CHEMBL4879487: 2it [00:00,  2.56it/s]\n"
     ]
    },
    {
     "name": "stdout",
     "output_type": "stream",
     "text": [
      "Fetching data for target CHEMBL2828 (Casein kinase I delta)...\n"
     ]
    },
    {
     "name": "stderr",
     "output_type": "stream",
     "text": [
      "Processing CHEMBL2828: 4585it [00:01, 4221.34it/s]\n"
     ]
    },
    {
     "name": "stdout",
     "output_type": "stream",
     "text": [
      "Fetching data for target CHEMBL4484 (Casein kinase I delta)...\n"
     ]
    },
    {
     "name": "stderr",
     "output_type": "stream",
     "text": [
      "Processing CHEMBL4484: 88it [00:00, 112.39it/s]\n"
     ]
    },
    {
     "name": "stdout",
     "output_type": "stream",
     "text": [
      "Fetching data for target CHEMBL5175 (Casein kinase I delta)...\n"
     ]
    },
    {
     "name": "stderr",
     "output_type": "stream",
     "text": [
      "Processing CHEMBL5175: 4it [00:00,  5.15it/s]\n"
     ]
    },
    {
     "name": "stdout",
     "output_type": "stream",
     "text": [
      "Fetching data for target CHEMBL3344 (Fatty acid binding protein muscle)...\n"
     ]
    },
    {
     "name": "stderr",
     "output_type": "stream",
     "text": [
      "Processing CHEMBL3344: 260it [00:00, 322.61it/s]\n"
     ]
    },
    {
     "name": "stdout",
     "output_type": "stream",
     "text": [
      "Fetching data for target CHEMBL2318 (ADAMTS4)...\n"
     ]
    },
    {
     "name": "stderr",
     "output_type": "stream",
     "text": [
      "Processing CHEMBL2318: 410it [00:00, 490.75it/s]\n"
     ]
    },
    {
     "name": "stdout",
     "output_type": "stream",
     "text": [
      "Fetching data for target CHEMBL3874 (ADAMTS4)...\n"
     ]
    },
    {
     "name": "stderr",
     "output_type": "stream",
     "text": [
      "Processing CHEMBL3874: 8it [00:00, 10.19it/s]\n"
     ]
    },
    {
     "name": "stdout",
     "output_type": "stream",
     "text": [
      "Fetching data for target CHEMBL5030 (ADAM12)...\n"
     ]
    },
    {
     "name": "stderr",
     "output_type": "stream",
     "text": [
      "Processing CHEMBL5030: 5it [00:00,  6.55it/s]\n"
     ]
    },
    {
     "name": "stdout",
     "output_type": "stream",
     "text": [
      "Fetching data for target CHEMBL5028 (ADAM10)...\n"
     ]
    },
    {
     "name": "stderr",
     "output_type": "stream",
     "text": [
      "Processing CHEMBL5028: 359it [00:00, 431.34it/s]\n"
     ]
    },
    {
     "name": "stdout",
     "output_type": "stream",
     "text": [
      "Fetching data for target CHEMBL5146 (Breakpoint cluster region protein)...\n"
     ]
    },
    {
     "name": "stderr",
     "output_type": "stream",
     "text": [
      "Processing CHEMBL5146: 251it [00:00, 307.91it/s]\n"
     ]
    },
    {
     "name": "stdout",
     "output_type": "stream",
     "text": [
      "Fetching data for target CHEMBL4300 (S-100 protein beta chain)...\n"
     ]
    },
    {
     "name": "stderr",
     "output_type": "stream",
     "text": [
      "Processing CHEMBL4300: 29it [00:00, 36.12it/s]\n"
     ]
    },
    {
     "name": "stdout",
     "output_type": "stream",
     "text": [
      "Fetching data for target CHEMBL5026 (Serine/threonine-protein kinase EEF2K)...\n"
     ]
    },
    {
     "name": "stderr",
     "output_type": "stream",
     "text": [
      "Processing CHEMBL5026: 1234it [00:00, 1414.50it/s]\n"
     ]
    },
    {
     "name": "stdout",
     "output_type": "stream",
     "text": [
      "Fetching data for target CHEMBL4093 (LXR-beta)...\n"
     ]
    },
    {
     "name": "stderr",
     "output_type": "stream",
     "text": [
      "Processing CHEMBL4093: 3399it [00:01, 3357.53it/s]\n"
     ]
    },
    {
     "name": "stdout",
     "output_type": "stream",
     "text": [
      "Fetching data for target CHEMBL4530 (Coagulation factor XIII)...\n"
     ]
    },
    {
     "name": "stderr",
     "output_type": "stream",
     "text": [
      "Processing CHEMBL4530: 197it [00:00, 239.63it/s]\n"
     ]
    },
    {
     "name": "stdout",
     "output_type": "stream",
     "text": [
      "Fetching data for target CHEMBL4581 (Kinesin-like protein 1)...\n"
     ]
    },
    {
     "name": "stderr",
     "output_type": "stream",
     "text": [
      "Processing CHEMBL4581: 1568it [00:00, 1771.31it/s]\n"
     ]
    },
    {
     "name": "stdout",
     "output_type": "stream",
     "text": [
      "Fetching data for target CHEMBL4848 (Eukaryotic translation initation factor)...\n"
     ]
    },
    {
     "name": "stderr",
     "output_type": "stream",
     "text": [
      "Processing CHEMBL4848: 459it [00:00, 560.96it/s]\n"
     ]
    },
    {
     "name": "stdout",
     "output_type": "stream",
     "text": [
      "Fetching data for target CHEMBL4742 (Guanine nucleotide-binding protein G(o), alpha subunit 1)...\n"
     ]
    },
    {
     "name": "stderr",
     "output_type": "stream",
     "text": [
      "Processing CHEMBL4742: 69it [00:00, 85.65it/s]\n"
     ]
    },
    {
     "name": "stdout",
     "output_type": "stream",
     "text": [
      "Fetching data for target CHEMBL4147 (CaM kinase II alpha)...\n"
     ]
    },
    {
     "name": "stderr",
     "output_type": "stream",
     "text": [
      "Processing CHEMBL4147: 1921it [00:00, 2140.93it/s]\n"
     ]
    },
    {
     "name": "stdout",
     "output_type": "stream",
     "text": [
      "Fetching data for target CHEMBL2359 (CaM kinase II alpha)...\n"
     ]
    },
    {
     "name": "stderr",
     "output_type": "stream",
     "text": [
      "Processing CHEMBL2359: 106it [00:00, 135.30it/s]\n"
     ]
    },
    {
     "name": "stdout",
     "output_type": "stream",
     "text": [
      "Fetching data for target CHEMBL3987 (Ephrin type-A receptor 5)...\n"
     ]
    },
    {
     "name": "stderr",
     "output_type": "stream",
     "text": [
      "Processing CHEMBL3987: 1068it [00:00, 1273.81it/s]\n"
     ]
    },
    {
     "name": "stdout",
     "output_type": "stream",
     "text": [
      "Fetching data for target CHEMBL4739679 (Ephrin type-A receptor 5)...\n"
     ]
    },
    {
     "name": "stderr",
     "output_type": "stream",
     "text": [
      "Processing CHEMBL4739679: 1it [00:00,  1.22it/s]\n"
     ]
    },
    {
     "name": "stdout",
     "output_type": "stream",
     "text": [
      "Fetching data for target CHEMBL5109 (CaM kinase II gamma)...\n"
     ]
    },
    {
     "name": "stderr",
     "output_type": "stream",
     "text": [
      "Processing CHEMBL5109: 1it [00:00,  1.32it/s]\n"
     ]
    },
    {
     "name": "stdout",
     "output_type": "stream",
     "text": [
      "Fetching data for target CHEMBL3829 (CaM kinase II gamma)...\n"
     ]
    },
    {
     "name": "stderr",
     "output_type": "stream",
     "text": [
      "Processing CHEMBL3829: 1747it [00:00, 2050.27it/s]\n"
     ]
    },
    {
     "name": "stdout",
     "output_type": "stream",
     "text": [
      "Fetching data for target CHEMBL2493 (CaM kinase I alpha)...\n"
     ]
    },
    {
     "name": "stderr",
     "output_type": "stream",
     "text": [
      "Processing CHEMBL2493: 1684it [00:00, 1934.72it/s]\n"
     ]
    },
    {
     "name": "stdout",
     "output_type": "stream",
     "text": [
      "Fetching data for target CHEMBL5560 (CaM kinase I alpha)...\n"
     ]
    },
    {
     "name": "stderr",
     "output_type": "stream",
     "text": [
      "Processing CHEMBL5560: 14it [00:00, 17.80it/s]\n"
     ]
    },
    {
     "name": "stdout",
     "output_type": "stream",
     "text": [
      "Fetching data for target CHEMBL4600 (Serine/threonine-protein kinase PAK 1)...\n"
     ]
    },
    {
     "name": "stderr",
     "output_type": "stream",
     "text": [
      "Processing CHEMBL4600: 2578it [00:00, 2732.36it/s]\n"
     ]
    },
    {
     "name": "stdout",
     "output_type": "stream",
     "text": [
      "Fetching data for target CHEMBL3580528 (Serine/threonine-protein kinase PAK 1)...\n"
     ]
    },
    {
     "name": "stderr",
     "output_type": "stream",
     "text": [
      "Processing CHEMBL3580528: 0it [00:00, ?it/s]\n"
     ]
    },
    {
     "name": "stdout",
     "output_type": "stream",
     "text": [
      "Fetching data for target CHEMBL4295682 (Serine/threonine-protein kinase PAK 1)...\n"
     ]
    },
    {
     "name": "stderr",
     "output_type": "stream",
     "text": [
      "Processing CHEMBL4295682: 3it [00:00,  3.83it/s]\n"
     ]
    },
    {
     "name": "stdout",
     "output_type": "stream",
     "text": [
      "Fetching data for target CHEMBL4506 (NAD-dependent deacetylase sirtuin 1)...\n"
     ]
    },
    {
     "name": "stderr",
     "output_type": "stream",
     "text": [
      "Processing CHEMBL4506: 2724it [00:01, 2626.40it/s]\n"
     ]
    },
    {
     "name": "stdout",
     "output_type": "stream",
     "text": [
      "Fetching data for target CHEMBL5255 (Toll-like receptor 4)...\n"
     ]
    },
    {
     "name": "stderr",
     "output_type": "stream",
     "text": [
      "Processing CHEMBL5255: 556it [00:00, 643.07it/s]\n"
     ]
    },
    {
     "name": "stdout",
     "output_type": "stream",
     "text": [
      "Fetching data for target CHEMBL1795167 (Toll-like receptor 4)...\n"
     ]
    },
    {
     "name": "stderr",
     "output_type": "stream",
     "text": [
      "Processing CHEMBL1795167: 381it [00:00, 478.91it/s]\n"
     ]
    },
    {
     "name": "stdout",
     "output_type": "stream",
     "text": [
      "Fetching data for target CHEMBL4523480 (Toll-like receptor 4)...\n"
     ]
    },
    {
     "name": "stderr",
     "output_type": "stream",
     "text": [
      "Processing CHEMBL4523480: 9it [00:00, 11.70it/s]\n"
     ]
    },
    {
     "name": "stdout",
     "output_type": "stream",
     "text": [
      "Fetching data for target CHEMBL4408 (Phosphodiesterase 8B)...\n"
     ]
    },
    {
     "name": "stderr",
     "output_type": "stream",
     "text": [
      "Processing CHEMBL4408: 191it [00:00, 222.01it/s]\n"
     ]
    },
    {
     "name": "stdout",
     "output_type": "stream",
     "text": [
      "Fetching data for target CHEMBL1893 (Synaptic vesicular amine transporter)...\n"
     ]
    },
    {
     "name": "stderr",
     "output_type": "stream",
     "text": [
      "Processing CHEMBL1893: 117it [00:00, 146.48it/s]\n"
     ]
    },
    {
     "name": "stdout",
     "output_type": "stream",
     "text": [
      "Fetching data for target CHEMBL4828 (Synaptic vesicular amine transporter)...\n"
     ]
    },
    {
     "name": "stderr",
     "output_type": "stream",
     "text": [
      "Processing CHEMBL4828: 626it [00:00, 751.76it/s]\n"
     ]
    },
    {
     "name": "stdout",
     "output_type": "stream",
     "text": [
      "Fetching data for target CHEMBL4271 (Synaptic vesicular amine transporter)...\n"
     ]
    },
    {
     "name": "stderr",
     "output_type": "stream",
     "text": [
      "Processing CHEMBL4271: 109it [00:00, 134.55it/s]\n"
     ]
    },
    {
     "name": "stdout",
     "output_type": "stream",
     "text": [
      "Fetching data for target CHEMBL4295886 (Synaptic vesicular amine transporter)...\n"
     ]
    },
    {
     "name": "stderr",
     "output_type": "stream",
     "text": [
      "Processing CHEMBL4295886: 14it [00:00, 17.56it/s]\n"
     ]
    },
    {
     "name": "stdout",
     "output_type": "stream",
     "text": [
      "Fetching data for target CHEMBL4677 (Apoptosis regulator Bcl-W)...\n"
     ]
    },
    {
     "name": "stderr",
     "output_type": "stream",
     "text": [
      "Processing CHEMBL4677: 112it [00:00, 138.68it/s]\n"
     ]
    },
    {
     "name": "stdout",
     "output_type": "stream",
     "text": [
      "Fetching data for target CHEMBL3618 (Coagulation factor V)...\n"
     ]
    },
    {
     "name": "stderr",
     "output_type": "stream",
     "text": [
      "Processing CHEMBL3618: 42it [00:00, 52.25it/s]\n"
     ]
    },
    {
     "name": "stdout",
     "output_type": "stream",
     "text": [
      "Fetching data for target CHEMBL5133 (ADAMTS1)...\n"
     ]
    },
    {
     "name": "stderr",
     "output_type": "stream",
     "text": [
      "Processing CHEMBL5133: 30it [00:00, 36.37it/s]\n"
     ]
    },
    {
     "name": "stdout",
     "output_type": "stream",
     "text": [
      "Fetching data for target CHEMBL4898 (Neurotrophic tyrosine kinase receptor type 2)...\n"
     ]
    },
    {
     "name": "stderr",
     "output_type": "stream",
     "text": [
      "Processing CHEMBL4898: 3216it [00:01, 3195.84it/s]\n"
     ]
    },
    {
     "name": "stdout",
     "output_type": "stream",
     "text": [
      "Fetching data for target CHEMBL1854 (Luteinizing hormone/Choriogonadotropin receptor)...\n"
     ]
    },
    {
     "name": "stderr",
     "output_type": "stream",
     "text": [
      "Processing CHEMBL1854: 333it [00:00, 376.69it/s]\n"
     ]
    },
    {
     "name": "stdout",
     "output_type": "stream",
     "text": [
      "Fetching data for target CHEMBL2456 (Luteinizing hormone/Choriogonadotropin receptor)...\n"
     ]
    },
    {
     "name": "stderr",
     "output_type": "stream",
     "text": [
      "Processing CHEMBL2456: 159it [00:00, 198.84it/s]\n"
     ]
    },
    {
     "name": "stdout",
     "output_type": "stream",
     "text": [
      "Fetching data for target CHEMBL2823 (Heme oxygenase 1)...\n"
     ]
    },
    {
     "name": "stderr",
     "output_type": "stream",
     "text": [
      "Processing CHEMBL2823: 13it [00:00, 16.55it/s]\n"
     ]
    },
    {
     "name": "stdout",
     "output_type": "stream",
     "text": [
      "Fetching data for target CHEMBL4434 (Heme oxygenase 1)...\n"
     ]
    },
    {
     "name": "stderr",
     "output_type": "stream",
     "text": [
      "Processing CHEMBL4434: 1it [00:00,  1.29it/s]\n"
     ]
    },
    {
     "name": "stdout",
     "output_type": "stream",
     "text": [
      "Fetching data for target CHEMBL5035 (Heme oxygenase 1)...\n"
     ]
    },
    {
     "name": "stderr",
     "output_type": "stream",
     "text": [
      "Processing CHEMBL5035: 289it [00:00, 349.20it/s]\n"
     ]
    },
    {
     "name": "stdout",
     "output_type": "stream",
     "text": [
      "Fetching data for target CHEMBL1255146 (Heme oxygenase 1)...\n"
     ]
    },
    {
     "name": "stderr",
     "output_type": "stream",
     "text": [
      "Processing CHEMBL1255146: 0it [00:00, ?it/s]\n"
     ]
    },
    {
     "name": "stdout",
     "output_type": "stream",
     "text": [
      "Fetching data for target CHEMBL5881 (Insulin)...\n"
     ]
    },
    {
     "name": "stderr",
     "output_type": "stream",
     "text": [
      "Processing CHEMBL5881: 63it [00:00, 75.39it/s]\n"
     ]
    },
    {
     "name": "stdout",
     "output_type": "stream",
     "text": [
      "Fetching data for target CHEMBL2111417 (Muscarinic acetylcholine receptor M1/M5 chimeric protein)...\n"
     ]
    },
    {
     "name": "stderr",
     "output_type": "stream",
     "text": [
      "Processing CHEMBL2111417: 31it [00:00, 39.15it/s]\n"
     ]
    },
    {
     "name": "stdout",
     "output_type": "stream",
     "text": [
      "Fetching data for target CHEMBL5866 (Catenin beta-1)...\n"
     ]
    },
    {
     "name": "stderr",
     "output_type": "stream",
     "text": [
      "Processing CHEMBL5866: 448it [00:00, 523.84it/s]\n"
     ]
    },
    {
     "name": "stdout",
     "output_type": "stream",
     "text": [
      "Fetching data for target CHEMBL4105846 (Catenin beta-1)...\n"
     ]
    },
    {
     "name": "stderr",
     "output_type": "stream",
     "text": [
      "Processing CHEMBL4105846: 2it [00:00,  2.64it/s]\n"
     ]
    },
    {
     "name": "stdout",
     "output_type": "stream",
     "text": [
      "Fetching data for target CHEMBL2911 (Phosphoenolpyruvate carboxykinase cytosolic)...\n"
     ]
    },
    {
     "name": "stderr",
     "output_type": "stream",
     "text": [
      "Processing CHEMBL2911: 25it [00:00, 31.61it/s]\n"
     ]
    },
    {
     "name": "stdout",
     "output_type": "stream",
     "text": [
      "Fetching data for target CHEMBL5785 (Interferon-induced, double-stranded RNA-activated protein kinase)...\n"
     ]
    },
    {
     "name": "stderr",
     "output_type": "stream",
     "text": [
      "Processing CHEMBL5785: 583it [00:00, 676.91it/s]\n"
     ]
    },
    {
     "name": "stdout",
     "output_type": "stream",
     "text": [
      "Fetching data for target CHEMBL1795121 (Interferon-induced, double-stranded RNA-activated protein kinase)...\n"
     ]
    },
    {
     "name": "stderr",
     "output_type": "stream",
     "text": [
      "Processing CHEMBL1795121: 0it [00:00, ?it/s]\n"
     ]
    },
    {
     "name": "stdout",
     "output_type": "stream",
     "text": [
      "Fetching data for target CHEMBL5960 (Alpha-1-antichymotrypsin)...\n"
     ]
    },
    {
     "name": "stderr",
     "output_type": "stream",
     "text": [
      "Processing CHEMBL5960: 1it [00:00,  1.26it/s]\n"
     ]
    },
    {
     "name": "stdout",
     "output_type": "stream",
     "text": [
      "Fetching data for target CHEMBL6159 (Ubiquitin carboxyl-terminal hydrolase isozyme L1)...\n"
     ]
    },
    {
     "name": "stderr",
     "output_type": "stream",
     "text": [
      "Processing CHEMBL6159: 71it [00:00, 89.04it/s]\n"
     ]
    },
    {
     "name": "stdout",
     "output_type": "stream",
     "text": [
      "Fetching data for target CHEMBL5990 (Breast cancer type 1 susceptibility protein)...\n"
     ]
    },
    {
     "name": "stderr",
     "output_type": "stream",
     "text": [
      "Processing CHEMBL5990: 15888it [00:01, 10186.48it/s]\n"
     ]
    },
    {
     "name": "stdout",
     "output_type": "stream",
     "text": [
      "Fetching data for target CHEMBL6152 (Alpha-synuclein)...\n"
     ]
    },
    {
     "name": "stderr",
     "output_type": "stream",
     "text": [
      "Processing CHEMBL6152: 10941it [00:01, 7504.29it/s]\n"
     ]
    },
    {
     "name": "stdout",
     "output_type": "stream",
     "text": [
      "Fetching data for target CHEMBL5169100 (Alpha-synuclein)...\n"
     ]
    },
    {
     "name": "stderr",
     "output_type": "stream",
     "text": [
      "Processing CHEMBL5169100: 0it [00:00, ?it/s]\n"
     ]
    },
    {
     "name": "stdout",
     "output_type": "stream",
     "text": [
      "Fetching data for target CHEMBL6027 (Segment polarity protein dishevelled homolog DVL-1)...\n"
     ]
    },
    {
     "name": "stderr",
     "output_type": "stream",
     "text": [
      "Processing CHEMBL6027: 53it [00:00, 68.06it/s]\n"
     ]
    },
    {
     "name": "stdout",
     "output_type": "stream",
     "text": [
      "Fetching data for target CHEMBL3813590 (Segment polarity protein dishevelled homolog DVL-1)...\n"
     ]
    },
    {
     "name": "stderr",
     "output_type": "stream",
     "text": [
      "Processing CHEMBL3813590: 1it [00:00,  1.29it/s]\n"
     ]
    },
    {
     "name": "stdout",
     "output_type": "stream",
     "text": [
      "Fetching data for target CHEMBL2159 (Nucleoside diphosphate kinase 1)...\n"
     ]
    },
    {
     "name": "stderr",
     "output_type": "stream",
     "text": [
      "Processing CHEMBL2159: 12it [00:00, 15.05it/s]\n"
     ]
    },
    {
     "name": "stdout",
     "output_type": "stream",
     "text": [
      "Fetching data for target CHEMBL2160 (Nucleoside diphosphate kinase 2)...\n"
     ]
    },
    {
     "name": "stderr",
     "output_type": "stream",
     "text": [
      "Processing CHEMBL2160: 124it [00:00, 150.99it/s]\n"
     ]
    },
    {
     "name": "stdout",
     "output_type": "stream",
     "text": [
      "Fetching data for target CHEMBL2783 (Cyclin-dependent kinase 5 regulatory subunit 1)...\n"
     ]
    },
    {
     "name": "stderr",
     "output_type": "stream",
     "text": [
      "Processing CHEMBL2783: 7it [00:00,  8.98it/s]\n"
     ]
    },
    {
     "name": "stdout",
     "output_type": "stream",
     "text": [
      "Fetching data for target CHEMBL2506 (PI3-kinase p85-alpha subunit)...\n"
     ]
    },
    {
     "name": "stderr",
     "output_type": "stream",
     "text": [
      "Processing CHEMBL2506: 273it [00:00, 317.21it/s]\n"
     ]
    },
    {
     "name": "stdout",
     "output_type": "stream",
     "text": [
      "Fetching data for target CHEMBL5954 (Ornithine aminotransferase, mitochondrial)...\n"
     ]
    },
    {
     "name": "stderr",
     "output_type": "stream",
     "text": [
      "Processing CHEMBL5954: 4it [00:00,  5.07it/s]\n"
     ]
    },
    {
     "name": "stdout",
     "output_type": "stream",
     "text": [
      "Fetching data for target CHEMBL1075297 (Ornithine aminotransferase, mitochondrial)...\n"
     ]
    },
    {
     "name": "stderr",
     "output_type": "stream",
     "text": [
      "Processing CHEMBL1075297: 0it [00:00, ?it/s]\n"
     ]
    },
    {
     "name": "stdout",
     "output_type": "stream",
     "text": [
      "Fetching data for target CHEMBL5810 (Ephrin type-A receptor 1)...\n"
     ]
    },
    {
     "name": "stderr",
     "output_type": "stream",
     "text": [
      "Processing CHEMBL5810: 1048it [00:00, 1217.87it/s]\n"
     ]
    },
    {
     "name": "stdout",
     "output_type": "stream",
     "text": [
      "Fetching data for target CHEMBL2558 (Death-associated protein kinase 1)...\n"
     ]
    },
    {
     "name": "stderr",
     "output_type": "stream",
     "text": [
      "Processing CHEMBL2558: 1681it [00:00, 1927.90it/s]\n"
     ]
    },
    {
     "name": "stdout",
     "output_type": "stream",
     "text": [
      "Fetching data for target CHEMBL5606 (Serine/threonine-protein kinase 11)...\n"
     ]
    },
    {
     "name": "stderr",
     "output_type": "stream",
     "text": [
      "Processing CHEMBL5606: 1036it [00:00, 1170.84it/s]\n"
     ]
    },
    {
     "name": "stdout",
     "output_type": "stream",
     "text": [
      "Fetching data for target CHEMBL5940 (Serine/threonine-protein kinase MARK1)...\n"
     ]
    },
    {
     "name": "stderr",
     "output_type": "stream",
     "text": [
      "Processing CHEMBL5940: 1639it [00:00, 1932.66it/s]\n"
     ]
    },
    {
     "name": "stdout",
     "output_type": "stream",
     "text": [
      "Fetching data for target CHEMBL5082 (Serine/threonine-protein kinase 24)...\n"
     ]
    },
    {
     "name": "stderr",
     "output_type": "stream",
     "text": [
      "Processing CHEMBL5082: 1031it [00:00, 1208.70it/s]\n"
     ]
    },
    {
     "name": "stdout",
     "output_type": "stream",
     "text": [
      "Fetching data for target CHEMBL5469 (Protein tyrosine kinase 2 beta)...\n"
     ]
    },
    {
     "name": "stderr",
     "output_type": "stream",
     "text": [
      "Processing CHEMBL5469: 2799it [00:00, 3123.96it/s]\n"
     ]
    },
    {
     "name": "stdout",
     "output_type": "stream",
     "text": [
      "Fetching data for target CHEMBL5984 (Apolipoprotein A-I)...\n"
     ]
    },
    {
     "name": "stderr",
     "output_type": "stream",
     "text": [
      "Processing CHEMBL5984: 0it [00:00, ?it/s]\n"
     ]
    },
    {
     "name": "stdout",
     "output_type": "stream",
     "text": [
      "Fetching data for target CHEMBL2403 (Thioredoxin reductase 2)...\n"
     ]
    },
    {
     "name": "stderr",
     "output_type": "stream",
     "text": [
      "Processing CHEMBL2403: 1it [00:00,  1.30it/s]\n"
     ]
    },
    {
     "name": "stdout",
     "output_type": "stream",
     "text": [
      "Fetching data for target CHEMBL5608 (NT-3 growth factor receptor)...\n"
     ]
    },
    {
     "name": "stderr",
     "output_type": "stream",
     "text": [
      "Processing CHEMBL5608: 2336it [00:00, 2748.49it/s]\n"
     ]
    },
    {
     "name": "stdout",
     "output_type": "stream",
     "text": [
      "Fetching data for target CHEMBL5838 (Receptor tyrosine-protein kinase erbB-3)...\n"
     ]
    },
    {
     "name": "stderr",
     "output_type": "stream",
     "text": [
      "Processing CHEMBL5838: 316it [00:00, 382.98it/s]\n"
     ]
    },
    {
     "name": "stdout",
     "output_type": "stream",
     "text": [
      "Fetching data for target CHEMBL2466 (Interleukin-2)...\n"
     ]
    },
    {
     "name": "stderr",
     "output_type": "stream",
     "text": [
      "Processing CHEMBL2466: 23it [00:00, 28.97it/s]\n"
     ]
    },
    {
     "name": "stdout",
     "output_type": "stream",
     "text": [
      "Fetching data for target CHEMBL5880 (Interleukin-2)...\n"
     ]
    },
    {
     "name": "stderr",
     "output_type": "stream",
     "text": [
      "Processing CHEMBL5880: 129it [00:00, 162.61it/s]\n"
     ]
    },
    {
     "name": "stdout",
     "output_type": "stream",
     "text": [
      "Fetching data for target CHEMBL2473 (Presenilin 1)...\n"
     ]
    },
    {
     "name": "stderr",
     "output_type": "stream",
     "text": [
      "Processing CHEMBL2473: 272it [00:00, 335.77it/s]\n"
     ]
    },
    {
     "name": "stdout",
     "output_type": "stream",
     "text": [
      "Fetching data for target CHEMBL4096 (Cellular tumor antigen p53)...\n"
     ]
    },
    {
     "name": "stderr",
     "output_type": "stream",
     "text": [
      "Processing CHEMBL4096: 47921it [00:02, 18624.43it/s]\n"
     ]
    },
    {
     "name": "stdout",
     "output_type": "stream",
     "text": [
      "Fetching data for target CHEMBL4164 (Cellular tumor antigen p53)...\n"
     ]
    },
    {
     "name": "stderr",
     "output_type": "stream",
     "text": [
      "Processing CHEMBL4164: 3it [00:00,  3.85it/s]\n"
     ]
    },
    {
     "name": "stdout",
     "output_type": "stream",
     "text": [
      "Fetching data for target CHEMBL5619 (DNA-(apurinic or apyrimidinic site) lyase)...\n"
     ]
    },
    {
     "name": "stderr",
     "output_type": "stream",
     "text": [
      "Processing CHEMBL5619: 37871it [00:02, 15798.53it/s]\n"
     ]
    },
    {
     "name": "stdout",
     "output_type": "stream",
     "text": [
      "Fetching data for target CHEMBL1882 (Neuronal acetylcholine receptor protein alpha-4 subunit)...\n"
     ]
    },
    {
     "name": "stderr",
     "output_type": "stream",
     "text": [
      "Processing CHEMBL1882: 1260it [00:00, 1415.98it/s]\n"
     ]
    },
    {
     "name": "stdout",
     "output_type": "stream",
     "text": [
      "Fetching data for target CHEMBL307 (Neuronal acetylcholine receptor protein alpha-4 subunit)...\n"
     ]
    },
    {
     "name": "stderr",
     "output_type": "stream",
     "text": [
      "Processing CHEMBL307: 85it [00:00, 108.00it/s]\n"
     ]
    },
    {
     "name": "stdout",
     "output_type": "stream",
     "text": [
      "Fetching data for target CHEMBL4457 (Neuronal acetylcholine receptor protein alpha-4 subunit)...\n"
     ]
    },
    {
     "name": "stderr",
     "output_type": "stream",
     "text": [
      "Processing CHEMBL4457: 8it [00:00, 10.07it/s]\n"
     ]
    },
    {
     "name": "stdout",
     "output_type": "stream",
     "text": [
      "Fetching data for target CHEMBL3174 (Glutathione transferase omega 1)...\n"
     ]
    },
    {
     "name": "stderr",
     "output_type": "stream",
     "text": [
      "Processing CHEMBL3174: 140it [00:00, 170.60it/s]\n"
     ]
    },
    {
     "name": "stdout",
     "output_type": "stream",
     "text": [
      "Fetching data for target CHEMBL5514 (Huntingtin)...\n"
     ]
    },
    {
     "name": "stderr",
     "output_type": "stream",
     "text": [
      "Processing CHEMBL5514: 19122it [00:01, 12690.58it/s]\n"
     ]
    },
    {
     "name": "stdout",
     "output_type": "stream",
     "text": [
      "Fetching data for target CHEMBL1250362 (Huntingtin)...\n"
     ]
    },
    {
     "name": "stderr",
     "output_type": "stream",
     "text": [
      "Processing CHEMBL1250362: 0it [00:00, ?it/s]\n"
     ]
    },
    {
     "name": "stdout",
     "output_type": "stream",
     "text": [
      "Fetching data for target CHEMBL2439943 (Huntingtin)...\n"
     ]
    },
    {
     "name": "stderr",
     "output_type": "stream",
     "text": [
      "Processing CHEMBL2439943: 0it [00:00, ?it/s]\n"
     ]
    },
    {
     "name": "stdout",
     "output_type": "stream",
     "text": [
      "Fetching data for target CHEMBL5811 (Macrophage scavenger receptor types I and II)...\n"
     ]
    },
    {
     "name": "stderr",
     "output_type": "stream",
     "text": [
      "Processing CHEMBL5811: 2it [00:00,  2.48it/s]\n"
     ]
    },
    {
     "name": "stdout",
     "output_type": "stream",
     "text": [
      "Fetching data for target CHEMBL5587 (Cyclic AMP-responsive element-binding protein 1)...\n"
     ]
    },
    {
     "name": "stderr",
     "output_type": "stream",
     "text": [
      "Processing CHEMBL5587: 20it [00:00, 24.99it/s]\n"
     ]
    },
    {
     "name": "stdout",
     "output_type": "stream",
     "text": [
      "Fetching data for target CHEMBL5666 (Disks large homolog 4)...\n"
     ]
    },
    {
     "name": "stderr",
     "output_type": "stream",
     "text": [
      "Processing CHEMBL5666: 176it [00:00, 207.33it/s]\n"
     ]
    },
    {
     "name": "stdout",
     "output_type": "stream",
     "text": [
      "Fetching data for target CHEMBL1795134 (Disks large homolog 4)...\n"
     ]
    },
    {
     "name": "stderr",
     "output_type": "stream",
     "text": [
      "Processing CHEMBL1795134: 0it [00:00, ?it/s]\n"
     ]
    },
    {
     "name": "stdout",
     "output_type": "stream",
     "text": [
      "Fetching data for target CHEMBL3797015 (Disks large homolog 4)...\n"
     ]
    },
    {
     "name": "stderr",
     "output_type": "stream",
     "text": [
      "Processing CHEMBL3797015: 1it [00:00,  1.29it/s]\n"
     ]
    },
    {
     "name": "stdout",
     "output_type": "stream",
     "text": [
      "Fetching data for target CHEMBL5813 (Tumor necrosis factor ligand superfamily member 10)...\n"
     ]
    },
    {
     "name": "stderr",
     "output_type": "stream",
     "text": [
      "Processing CHEMBL5813: 20it [00:00, 25.24it/s]\n"
     ]
    },
    {
     "name": "stdout",
     "output_type": "stream",
     "text": [
      "Fetching data for target CHEMBL5714 (Tumor necrosis factor ligand superfamily member 6)...\n"
     ]
    },
    {
     "name": "stderr",
     "output_type": "stream",
     "text": [
      "Processing CHEMBL5714: 1it [00:00,  1.28it/s]\n"
     ]
    },
    {
     "name": "stdout",
     "output_type": "stream",
     "text": [
      "Fetching data for target CHEMBL5101 (Arylamine N-acetyltransferase 1)...\n"
     ]
    },
    {
     "name": "stderr",
     "output_type": "stream",
     "text": [
      "Processing CHEMBL5101: 57it [00:00, 68.00it/s]\n"
     ]
    },
    {
     "name": "stdout",
     "output_type": "stream",
     "text": [
      "Fetching data for target CHEMBL5723 (Arylamine N-acetyltransferase 1)...\n"
     ]
    },
    {
     "name": "stderr",
     "output_type": "stream",
     "text": [
      "Processing CHEMBL5723: 0it [00:00, ?it/s]\n"
     ]
    },
    {
     "name": "stdout",
     "output_type": "stream",
     "text": [
      "Fetching data for target CHEMBL2194 (Arylamine N-acetyltransferase 2)...\n"
     ]
    },
    {
     "name": "stderr",
     "output_type": "stream",
     "text": [
      "Processing CHEMBL2194: 3it [00:00,  3.83it/s]\n"
     ]
    },
    {
     "name": "stdout",
     "output_type": "stream",
     "text": [
      "Fetching data for target CHEMBL5724 (Arylamine N-acetyltransferase 2)...\n"
     ]
    },
    {
     "name": "stderr",
     "output_type": "stream",
     "text": [
      "Processing CHEMBL5724: 70it [00:00, 90.34it/s]\n"
     ]
    },
    {
     "name": "stdout",
     "output_type": "stream",
     "text": [
      "Fetching data for target CHEMBL3259464 (Arylamine N-acetyltransferase 2)...\n"
     ]
    },
    {
     "name": "stderr",
     "output_type": "stream",
     "text": [
      "Processing CHEMBL3259464: 1it [00:00,  1.26it/s]\n"
     ]
    },
    {
     "name": "stdout",
     "output_type": "stream",
     "text": [
      "Fetching data for target CHEMBL6128 (Toll-like receptor 9)...\n"
     ]
    },
    {
     "name": "stderr",
     "output_type": "stream",
     "text": [
      "Processing CHEMBL6128: 25it [00:00, 31.29it/s]\n"
     ]
    },
    {
     "name": "stdout",
     "output_type": "stream",
     "text": [
      "Fetching data for target CHEMBL5804 (Toll-like receptor 9)...\n"
     ]
    },
    {
     "name": "stderr",
     "output_type": "stream",
     "text": [
      "Processing CHEMBL5804: 708it [00:00, 825.86it/s]\n"
     ]
    },
    {
     "name": "stdout",
     "output_type": "stream",
     "text": [
      "Fetching data for target CHEMBL2064 (GABA-B receptor 1)...\n"
     ]
    },
    {
     "name": "stderr",
     "output_type": "stream",
     "text": [
      "Processing CHEMBL2064: 191it [00:00, 222.14it/s]\n"
     ]
    },
    {
     "name": "stdout",
     "output_type": "stream",
     "text": [
      "Fetching data for target CHEMBL2753 (GABA-B receptor 1)...\n"
     ]
    },
    {
     "name": "stderr",
     "output_type": "stream",
     "text": [
      "Processing CHEMBL2753: 79it [00:00, 97.93it/s]\n"
     ]
    },
    {
     "name": "stdout",
     "output_type": "stream",
     "text": [
      "Fetching data for target CHEMBL5689 (Tryptophan 5-hydroxylase 1)...\n"
     ]
    },
    {
     "name": "stderr",
     "output_type": "stream",
     "text": [
      "Processing CHEMBL5689: 391it [00:00, 458.90it/s]\n"
     ]
    },
    {
     "name": "stdout",
     "output_type": "stream",
     "text": [
      "Fetching data for target CHEMBL5465551 (Tryptophan 5-hydroxylase 1)...\n"
     ]
    },
    {
     "name": "stderr",
     "output_type": "stream",
     "text": [
      "Processing CHEMBL5465551: 0it [00:00, ?it/s]\n"
     ]
    },
    {
     "name": "stdout",
     "output_type": "stream",
     "text": [
      "Fetching data for target CHEMBL5736 (Glucagon)...\n"
     ]
    },
    {
     "name": "stderr",
     "output_type": "stream",
     "text": [
      "Processing CHEMBL5736: 128it [00:00, 161.39it/s]\n"
     ]
    },
    {
     "name": "stdout",
     "output_type": "stream",
     "text": [
      "Fetching data for target CHEMBL5334 (Non-receptor tyrosine-protein kinase TNK1)...\n"
     ]
    },
    {
     "name": "stderr",
     "output_type": "stream",
     "text": [
      "Processing CHEMBL5334: 1338it [00:00, 1543.88it/s]\n"
     ]
    },
    {
     "name": "stdout",
     "output_type": "stream",
     "text": [
      "Fetching data for target CHEMBL5750 (Histone acetyltransferase KAT5)...\n"
     ]
    },
    {
     "name": "stderr",
     "output_type": "stream",
     "text": [
      "Processing CHEMBL5750: 74it [00:00, 91.38it/s]\n"
     ]
    },
    {
     "name": "stdout",
     "output_type": "stream",
     "text": [
      "Fetching data for target CHEMBL1932911 (Histone acetyltransferase KAT5)...\n"
     ]
    },
    {
     "name": "stderr",
     "output_type": "stream",
     "text": [
      "Processing CHEMBL1932911: 0it [00:00, ?it/s]\n"
     ]
    },
    {
     "name": "stdout",
     "output_type": "stream",
     "text": [
      "Fetching data for target CHEMBL5939 (Endoplasmic reticulum aminopeptidase 1)...\n"
     ]
    },
    {
     "name": "stderr",
     "output_type": "stream",
     "text": [
      "Processing CHEMBL5939: 510it [00:00, 604.42it/s]\n"
     ]
    },
    {
     "name": "stdout",
     "output_type": "stream",
     "text": [
      "Fetching data for target CHEMBL3414412 (Endoplasmic reticulum aminopeptidase 1)...\n"
     ]
    },
    {
     "name": "stderr",
     "output_type": "stream",
     "text": [
      "Processing CHEMBL3414412: 8it [00:00,  9.81it/s]\n"
     ]
    },
    {
     "name": "stdout",
     "output_type": "stream",
     "text": [
      "Fetching data for target CHEMBL2958 (Adenylate cyclase type II)...\n"
     ]
    },
    {
     "name": "stderr",
     "output_type": "stream",
     "text": [
      "Processing CHEMBL2958: 26it [00:00, 32.83it/s]\n"
     ]
    },
    {
     "name": "stdout",
     "output_type": "stream",
     "text": [
      "Fetching data for target CHEMBL3760 (Adenylate cyclase type II)...\n"
     ]
    },
    {
     "name": "stderr",
     "output_type": "stream",
     "text": [
      "Processing CHEMBL3760: 157it [00:00, 193.82it/s]\n"
     ]
    },
    {
     "name": "stdout",
     "output_type": "stream",
     "text": [
      "Fetching data for target CHEMBL5964 (Aquaporin-4)...\n"
     ]
    },
    {
     "name": "stderr",
     "output_type": "stream",
     "text": [
      "Processing CHEMBL5964: 9it [00:00, 11.17it/s]\n"
     ]
    },
    {
     "name": "stdout",
     "output_type": "stream",
     "text": [
      "Fetching data for target CHEMBL5965 (Aquaporin-4)...\n"
     ]
    },
    {
     "name": "stderr",
     "output_type": "stream",
     "text": [
      "Processing CHEMBL5965: 0it [00:00, ?it/s]\n"
     ]
    },
    {
     "name": "stdout",
     "output_type": "stream",
     "text": [
      "Fetching data for target CHEMBL5291512 (Aquaporin-4)...\n"
     ]
    },
    {
     "name": "stderr",
     "output_type": "stream",
     "text": [
      "Processing CHEMBL5291512: 3it [00:00,  3.84it/s]\n"
     ]
    },
    {
     "name": "stdout",
     "output_type": "stream",
     "text": [
      "Fetching data for target CHEMBL5315 (Peroxiredoxin-1)...\n"
     ]
    },
    {
     "name": "stderr",
     "output_type": "stream",
     "text": [
      "Processing CHEMBL5315: 6it [00:00,  7.32it/s]\n"
     ]
    },
    {
     "name": "stdout",
     "output_type": "stream",
     "text": [
      "Fetching data for target CHEMBL5463 (Acid ceramidase)...\n"
     ]
    },
    {
     "name": "stderr",
     "output_type": "stream",
     "text": [
      "Processing CHEMBL5463: 245it [00:00, 301.57it/s]\n"
     ]
    },
    {
     "name": "stdout",
     "output_type": "stream",
     "text": [
      "Fetching data for target CHEMBL2331070 (Acid ceramidase)...\n"
     ]
    },
    {
     "name": "stderr",
     "output_type": "stream",
     "text": [
      "Processing CHEMBL2331070: 63it [00:00, 80.43it/s]\n"
     ]
    },
    {
     "name": "stdout",
     "output_type": "stream",
     "text": [
      "Fetching data for target CHEMBL5460 (Heat shock 70 kDa protein 1)...\n"
     ]
    },
    {
     "name": "stderr",
     "output_type": "stream",
     "text": [
      "Processing CHEMBL5460: 192it [00:00, 240.36it/s]\n"
     ]
    },
    {
     "name": "stdout",
     "output_type": "stream",
     "text": [
      "Fetching data for target CHEMBL5812 (Dynamin-2)...\n"
     ]
    },
    {
     "name": "stderr",
     "output_type": "stream",
     "text": [
      "Processing CHEMBL5812: 38it [00:00, 48.60it/s]\n"
     ]
    },
    {
     "name": "stdout",
     "output_type": "stream",
     "text": [
      "Fetching data for target CHEMBL2311233 (Dynamin-2)...\n"
     ]
    },
    {
     "name": "stderr",
     "output_type": "stream",
     "text": [
      "Processing CHEMBL2311233: 6it [00:00,  7.50it/s]\n"
     ]
    },
    {
     "name": "stdout",
     "output_type": "stream",
     "text": [
      "Fetching data for target CHEMBL6103 (Transcription factor Sp1)...\n"
     ]
    },
    {
     "name": "stderr",
     "output_type": "stream",
     "text": [
      "Processing CHEMBL6103: 3it [00:00,  3.69it/s]\n"
     ]
    },
    {
     "name": "stdout",
     "output_type": "stream",
     "text": [
      "Fetching data for target CHEMBL6049 (Creatine kinase B-type)...\n"
     ]
    },
    {
     "name": "stderr",
     "output_type": "stream",
     "text": [
      "Processing CHEMBL6049: 1it [00:00,  1.27it/s]\n"
     ]
    },
    {
     "name": "stdout",
     "output_type": "stream",
     "text": [
      "Fetching data for target CHEMBL2176812 (Creatine kinase B-type)...\n"
     ]
    },
    {
     "name": "stderr",
     "output_type": "stream",
     "text": [
      "Processing CHEMBL2176812: 0it [00:00, ?it/s]\n"
     ]
    },
    {
     "name": "stdout",
     "output_type": "stream",
     "text": [
      "Fetching data for target CHEMBL6024 (Dickkopf-related protein 1)...\n"
     ]
    },
    {
     "name": "stderr",
     "output_type": "stream",
     "text": [
      "Processing CHEMBL6024: 68it [00:00, 80.85it/s]\n"
     ]
    },
    {
     "name": "stdout",
     "output_type": "stream",
     "text": [
      "Fetching data for target CHEMBL3745589 (Dickkopf-related protein 1)...\n"
     ]
    },
    {
     "name": "stderr",
     "output_type": "stream",
     "text": [
      "Processing CHEMBL3745589: 1it [00:00,  1.28it/s]\n"
     ]
    },
    {
     "name": "stdout",
     "output_type": "stream",
     "text": [
      "Fetching data for target CHEMBL4812 (Kallikrein 8)...\n"
     ]
    },
    {
     "name": "stderr",
     "output_type": "stream",
     "text": [
      "Processing CHEMBL4812: 40it [00:00, 47.76it/s]\n"
     ]
    },
    {
     "name": "stdout",
     "output_type": "stream",
     "text": [
      "Fetching data for target CHEMBL1075104 (Leucine-rich repeat serine/threonine-protein kinase 2)...\n"
     ]
    },
    {
     "name": "stderr",
     "output_type": "stream",
     "text": [
      "Processing CHEMBL1075104: 6534it [00:01, 5170.11it/s]\n"
     ]
    },
    {
     "name": "stdout",
     "output_type": "stream",
     "text": [
      "Fetching data for target CHEMBL2010622 (Leucine-rich repeat serine/threonine-protein kinase 2)...\n"
     ]
    },
    {
     "name": "stderr",
     "output_type": "stream",
     "text": [
      "Processing CHEMBL2010622: 53it [00:00, 63.83it/s]\n"
     ]
    },
    {
     "name": "stdout",
     "output_type": "stream",
     "text": [
      "Fetching data for target CHEMBL3603 (Integrin alpha M)...\n"
     ]
    },
    {
     "name": "stderr",
     "output_type": "stream",
     "text": [
      "Processing CHEMBL3603: 16it [00:00, 19.42it/s]\n"
     ]
    },
    {
     "name": "stdout",
     "output_type": "stream",
     "text": [
      "Fetching data for target CHEMBL3826 (Integrin alpha M)...\n"
     ]
    },
    {
     "name": "stderr",
     "output_type": "stream",
     "text": [
      "Processing CHEMBL3826: 1it [00:00,  1.27it/s]\n"
     ]
    },
    {
     "name": "stdout",
     "output_type": "stream",
     "text": [
      "Fetching data for target CHEMBL1795108 (Elongation factor 2)...\n"
     ]
    },
    {
     "name": "stderr",
     "output_type": "stream",
     "text": [
      "Processing CHEMBL1795108: 3it [00:00,  3.69it/s]\n"
     ]
    },
    {
     "name": "stdout",
     "output_type": "stream",
     "text": [
      "Fetching data for target CHEMBL1250358 (Tumor necrosis factor receptor superfamily member 5)...\n"
     ]
    },
    {
     "name": "stderr",
     "output_type": "stream",
     "text": [
      "Processing CHEMBL1250358: 4it [00:00,  5.16it/s]\n"
     ]
    },
    {
     "name": "stdout",
     "output_type": "stream",
     "text": [
      "Fetching data for target CHEMBL1250356 (Tumor necrosis factor receptor superfamily member 1B)...\n"
     ]
    },
    {
     "name": "stderr",
     "output_type": "stream",
     "text": [
      "Processing CHEMBL1250356: 2it [00:00,  2.60it/s]\n"
     ]
    },
    {
     "name": "stdout",
     "output_type": "stream",
     "text": [
      "Fetching data for target CHEMBL2111471 (Toll-like receptor (TLR7/TLR9))...\n"
     ]
    },
    {
     "name": "stderr",
     "output_type": "stream",
     "text": [
      "Processing CHEMBL2111471: 5it [00:00,  6.46it/s]\n"
     ]
    },
    {
     "name": "stdout",
     "output_type": "stream",
     "text": [
      "Fetching data for target CHEMBL2111430 (MIF/CD74 (Macrophage migration inhibitory factor and HLA-DR antigens-associated invariant chain))...\n"
     ]
    },
    {
     "name": "stderr",
     "output_type": "stream",
     "text": [
      "Processing CHEMBL2111430: 78it [00:00, 92.04it/s]\n"
     ]
    },
    {
     "name": "stdout",
     "output_type": "stream",
     "text": [
      "Fetching data for target CHEMBL1255131 (Eukaryotic translation initiation factor 2 subunit 1)...\n"
     ]
    },
    {
     "name": "stderr",
     "output_type": "stream",
     "text": [
      "Processing CHEMBL1255131: 84it [00:00, 99.95it/s]\n"
     ]
    },
    {
     "name": "stdout",
     "output_type": "stream",
     "text": [
      "Fetching data for target CHEMBL1770036 (Eukaryotic translation initiation factor 2 subunit 1)...\n"
     ]
    },
    {
     "name": "stderr",
     "output_type": "stream",
     "text": [
      "Processing CHEMBL1770036: 0it [00:00, ?it/s]\n"
     ]
    },
    {
     "name": "stdout",
     "output_type": "stream",
     "text": [
      "Fetching data for target CHEMBL2111432 (PI3-kinase p110-delta/p85-alpha)...\n"
     ]
    },
    {
     "name": "stderr",
     "output_type": "stream",
     "text": [
      "Processing CHEMBL2111432: 1499it [00:00, 1612.40it/s]\n"
     ]
    },
    {
     "name": "stdout",
     "output_type": "stream",
     "text": [
      "Fetching data for target CHEMBL1275217 (C-C motif chemokine 5)...\n"
     ]
    },
    {
     "name": "stderr",
     "output_type": "stream",
     "text": [
      "Processing CHEMBL1275217: 52it [00:00, 66.93it/s]\n"
     ]
    },
    {
     "name": "stdout",
     "output_type": "stream",
     "text": [
      "Fetching data for target CHEMBL1293191 (Transcriptional regulator ERG)...\n"
     ]
    },
    {
     "name": "stderr",
     "output_type": "stream",
     "text": [
      "Processing CHEMBL1293191: 5581it [00:01, 5245.28it/s]\n"
     ]
    },
    {
     "name": "stdout",
     "output_type": "stream",
     "text": [
      "Fetching data for target CHEMBL1293235 (Prelamin-A/C)...\n"
     ]
    },
    {
     "name": "stderr",
     "output_type": "stream",
     "text": [
      "Processing CHEMBL1293235: 36711it [00:02, 17773.06it/s]\n"
     ]
    },
    {
     "name": "stdout",
     "output_type": "stream",
     "text": [
      "Fetching data for target CHEMBL1075117 (Microtubule-associated protein tau)...\n"
     ]
    },
    {
     "name": "stderr",
     "output_type": "stream",
     "text": [
      "Processing CHEMBL1075117: 6it [00:00,  7.61it/s]\n"
     ]
    },
    {
     "name": "stdout",
     "output_type": "stream",
     "text": [
      "Fetching data for target CHEMBL1293224 (Microtubule-associated protein tau)...\n"
     ]
    },
    {
     "name": "stderr",
     "output_type": "stream",
     "text": [
      "Processing CHEMBL1293224: 95301it [00:04, 23118.12it/s]\n"
     ]
    },
    {
     "name": "stdout",
     "output_type": "stream",
     "text": [
      "Fetching data for target CHEMBL3638363 (Microtubule-associated protein tau)...\n"
     ]
    },
    {
     "name": "stderr",
     "output_type": "stream",
     "text": [
      "Processing CHEMBL3638363: 11it [00:00, 14.24it/s]\n"
     ]
    },
    {
     "name": "stdout",
     "output_type": "stream",
     "text": [
      "Fetching data for target CHEMBL4296281 (Microtubule-associated protein tau)...\n"
     ]
    },
    {
     "name": "stderr",
     "output_type": "stream",
     "text": [
      "Processing CHEMBL4296281: 3it [00:00,  3.76it/s]\n"
     ]
    },
    {
     "name": "stdout",
     "output_type": "stream",
     "text": [
      "Fetching data for target CHEMBL4159 (Endoplasmic reticulum-associated amyloid beta-peptide-binding protein)...\n"
     ]
    },
    {
     "name": "stderr",
     "output_type": "stream",
     "text": [
      "Processing CHEMBL4159: 20618it [00:01, 13616.19it/s]\n"
     ]
    },
    {
     "name": "stdout",
     "output_type": "stream",
     "text": [
      "Fetching data for target CHEMBL2095162 (Peroxisome proliferator-activated receptor gamma/Nuclear receptor coactivator 1)...\n"
     ]
    },
    {
     "name": "stderr",
     "output_type": "stream",
     "text": [
      "Processing CHEMBL2095162: 749it [00:00, 917.51it/s]\n"
     ]
    },
    {
     "name": "stdout",
     "output_type": "stream",
     "text": [
      "Fetching data for target CHEMBL2096976 (Peroxisome proliferator-activated receptor gamma/Nuclear receptor corepressor 2)...\n"
     ]
    },
    {
     "name": "stderr",
     "output_type": "stream",
     "text": [
      "Processing CHEMBL2096976: 239it [00:00, 290.25it/s]\n"
     ]
    },
    {
     "name": "stdout",
     "output_type": "stream",
     "text": [
      "Fetching data for target CHEMBL1293314 (Ubiquitin carboxyl-terminal hydrolase BAP1)...\n"
     ]
    },
    {
     "name": "stderr",
     "output_type": "stream",
     "text": [
      "Processing CHEMBL1293314: 45it [00:00, 57.71it/s]\n"
     ]
    },
    {
     "name": "stdout",
     "output_type": "stream",
     "text": [
      "Fetching data for target CHEMBL2095163 (Peroxisome proliferator-activated receptor gamma/Nuclear receptor coactivator 2)...\n"
     ]
    },
    {
     "name": "stderr",
     "output_type": "stream",
     "text": [
      "Processing CHEMBL2095163: 749it [00:00, 927.85it/s]\n"
     ]
    },
    {
     "name": "stdout",
     "output_type": "stream",
     "text": [
      "Fetching data for target CHEMBL1293287 (Insulin-degrading enzyme)...\n"
     ]
    },
    {
     "name": "stderr",
     "output_type": "stream",
     "text": [
      "Processing CHEMBL1293287: 769it [00:00, 930.28it/s]\n"
     ]
    },
    {
     "name": "stdout",
     "output_type": "stream",
     "text": [
      "Fetching data for target CHEMBL3232680 (Insulin-degrading enzyme)...\n"
     ]
    },
    {
     "name": "stderr",
     "output_type": "stream",
     "text": [
      "Processing CHEMBL3232680: 19it [00:00, 24.34it/s]\n"
     ]
    },
    {
     "name": "stdout",
     "output_type": "stream",
     "text": [
      "Fetching data for target CHEMBL2095161 (Peroxisome proliferator-activated receptor gamma/Nuclear receptor coactivator 3)...\n"
     ]
    },
    {
     "name": "stderr",
     "output_type": "stream",
     "text": [
      "Processing CHEMBL2095161: 749it [00:00, 919.46it/s]\n"
     ]
    },
    {
     "name": "stdout",
     "output_type": "stream",
     "text": [
      "Fetching data for target CHEMBL1628472 (Relaxin-3 receptor 1)...\n"
     ]
    },
    {
     "name": "stderr",
     "output_type": "stream",
     "text": [
      "Processing CHEMBL1628472: 201it [00:00, 249.36it/s]\n"
     ]
    },
    {
     "name": "stdout",
     "output_type": "stream",
     "text": [
      "Fetching data for target CHEMBL1649052 (C-C motif chemokine 2)...\n"
     ]
    },
    {
     "name": "stderr",
     "output_type": "stream",
     "text": [
      "Processing CHEMBL1649052: 95it [00:00, 111.88it/s]\n"
     ]
    },
    {
     "name": "stdout",
     "output_type": "stream",
     "text": [
      "Fetching data for target CHEMBL1883 (Neuronal acetylcholine receptor protein beta-2 subunit)...\n"
     ]
    },
    {
     "name": "stderr",
     "output_type": "stream",
     "text": [
      "Processing CHEMBL1883: 2it [00:00,  2.58it/s]\n"
     ]
    },
    {
     "name": "stdout",
     "output_type": "stream",
     "text": [
      "Fetching data for target CHEMBL3001 (Neuronal acetylcholine receptor protein beta-2 subunit)...\n"
     ]
    },
    {
     "name": "stderr",
     "output_type": "stream",
     "text": [
      "Processing CHEMBL3001: 1it [00:00,  1.27it/s]\n"
     ]
    },
    {
     "name": "stdout",
     "output_type": "stream",
     "text": [
      "Fetching data for target CHEMBL1697657 (Peptidyl-prolyl cis-trans isomerase D)...\n"
     ]
    },
    {
     "name": "stderr",
     "output_type": "stream",
     "text": [
      "Processing CHEMBL1697657: 80it [00:00, 97.29it/s]\n"
     ]
    },
    {
     "name": "stdout",
     "output_type": "stream",
     "text": [
      "Fetching data for target CHEMBL4933 (Glutathione S-transferase A4)...\n"
     ]
    },
    {
     "name": "stderr",
     "output_type": "stream",
     "text": [
      "Processing CHEMBL4933: 0it [00:00, ?it/s]\n"
     ]
    },
    {
     "name": "stdout",
     "output_type": "stream",
     "text": [
      "Fetching data for target CHEMBL2161 (Glutathione transferase omega 2)...\n"
     ]
    },
    {
     "name": "stderr",
     "output_type": "stream",
     "text": [
      "Processing CHEMBL2161: 0it [00:00, ?it/s]\n"
     ]
    },
    {
     "name": "stdout",
     "output_type": "stream",
     "text": [
      "Fetching data for target CHEMBL1744526 (Platelet glycoprotein 4)...\n"
     ]
    },
    {
     "name": "stderr",
     "output_type": "stream",
     "text": [
      "Processing CHEMBL1744526: 33it [00:00, 40.35it/s]\n"
     ]
    },
    {
     "name": "stdout",
     "output_type": "stream",
     "text": [
      "Fetching data for target CHEMBL2163174 (Platelet glycoprotein 4)...\n"
     ]
    },
    {
     "name": "stderr",
     "output_type": "stream",
     "text": [
      "Processing CHEMBL2163174: 159it [00:00, 200.08it/s]\n"
     ]
    },
    {
     "name": "stdout",
     "output_type": "stream",
     "text": [
      "Fetching data for target CHEMBL2176845 (Platelet glycoprotein 4)...\n"
     ]
    },
    {
     "name": "stderr",
     "output_type": "stream",
     "text": [
      "Processing CHEMBL2176845: 132it [00:00, 161.27it/s]\n"
     ]
    },
    {
     "name": "stdout",
     "output_type": "stream",
     "text": [
      "Fetching data for target CHEMBL3610 (G1/S-specific cyclin D1)...\n"
     ]
    },
    {
     "name": "stderr",
     "output_type": "stream",
     "text": [
      "Processing CHEMBL3610: 0it [00:00, ?it/s]\n"
     ]
    },
    {
     "name": "stdout",
     "output_type": "stream",
     "text": [
      "Fetching data for target CHEMBL1781865 (78 kDa glucose-regulated protein)...\n"
     ]
    },
    {
     "name": "stderr",
     "output_type": "stream",
     "text": [
      "Processing CHEMBL1781865: 3334it [00:00, 3472.95it/s]\n"
     ]
    },
    {
     "name": "stdout",
     "output_type": "stream",
     "text": [
      "Fetching data for target CHEMBL1795129 (Interleukin-6)...\n"
     ]
    },
    {
     "name": "stderr",
     "output_type": "stream",
     "text": [
      "Processing CHEMBL1795129: 43it [00:00, 54.04it/s]\n"
     ]
    },
    {
     "name": "stdout",
     "output_type": "stream",
     "text": [
      "Fetching data for target CHEMBL1795151 (Bis(5'-adenosyl)-triphosphatase)...\n"
     ]
    },
    {
     "name": "stderr",
     "output_type": "stream",
     "text": [
      "Processing CHEMBL1795151: 81it [00:00, 98.35it/s]\n"
     ]
    },
    {
     "name": "stdout",
     "output_type": "stream",
     "text": [
      "Fetching data for target CHEMBL1795184 (Protein polybromo-1)...\n"
     ]
    },
    {
     "name": "stderr",
     "output_type": "stream",
     "text": [
      "Processing CHEMBL1795184: 734it [00:00, 892.45it/s]\n"
     ]
    },
    {
     "name": "stdout",
     "output_type": "stream",
     "text": [
      "Fetching data for target CHEMBL1795178 (Transforming growth factor beta-1)...\n"
     ]
    },
    {
     "name": "stderr",
     "output_type": "stream",
     "text": [
      "Processing CHEMBL1795178: 30it [00:00, 37.80it/s]\n"
     ]
    },
    {
     "name": "stdout",
     "output_type": "stream",
     "text": [
      "Fetching data for target CHEMBL2443 (Kallikrein 7)...\n"
     ]
    },
    {
     "name": "stderr",
     "output_type": "stream",
     "text": [
      "Processing CHEMBL2443: 579it [00:00, 684.80it/s]\n"
     ]
    },
    {
     "name": "stdout",
     "output_type": "stream",
     "text": [
      "Fetching data for target CHEMBL1795091 (Regulator of G-protein signaling 4)...\n"
     ]
    },
    {
     "name": "stderr",
     "output_type": "stream",
     "text": [
      "Processing CHEMBL1795091: 13829it [00:01, 10166.60it/s]\n"
     ]
    },
    {
     "name": "stdout",
     "output_type": "stream",
     "text": [
      "Fetching data for target CHEMBL1909487 (Protein-arginine deiminase type-2)...\n"
     ]
    },
    {
     "name": "stderr",
     "output_type": "stream",
     "text": [
      "Processing CHEMBL1909487: 116it [00:00, 142.69it/s]\n"
     ]
    },
    {
     "name": "stdout",
     "output_type": "stream",
     "text": [
      "Fetching data for target CHEMBL2321611 (Protein-arginine deiminase type-2)...\n"
     ]
    },
    {
     "name": "stderr",
     "output_type": "stream",
     "text": [
      "Processing CHEMBL2321611: 17it [00:00, 21.66it/s]\n"
     ]
    },
    {
     "name": "stdout",
     "output_type": "stream",
     "text": [
      "Fetching data for target CHEMBL1909490 (Interleukin-1 beta)...\n"
     ]
    },
    {
     "name": "stderr",
     "output_type": "stream",
     "text": [
      "Processing CHEMBL1909490: 9it [00:00, 11.36it/s]\n"
     ]
    },
    {
     "name": "stdout",
     "output_type": "stream",
     "text": [
      "Fetching data for target CHEMBL5069361 (Interleukin-1 beta)...\n"
     ]
    },
    {
     "name": "stderr",
     "output_type": "stream",
     "text": [
      "Processing CHEMBL5069361: 2it [00:00,  2.46it/s]\n"
     ]
    },
    {
     "name": "stdout",
     "output_type": "stream",
     "text": [
      "Fetching data for target CHEMBL1741203 (Scavenger receptor class B member 1)...\n"
     ]
    },
    {
     "name": "stderr",
     "output_type": "stream",
     "text": [
      "Processing CHEMBL1741203: 342it [00:00, 407.32it/s]\n"
     ]
    },
    {
     "name": "stdout",
     "output_type": "stream",
     "text": [
      "Fetching data for target CHEMBL1914272 (Scavenger receptor class B member 1)...\n"
     ]
    },
    {
     "name": "stderr",
     "output_type": "stream",
     "text": [
      "Processing CHEMBL1914272: 57it [00:00, 69.34it/s]\n"
     ]
    },
    {
     "name": "stdout",
     "output_type": "stream",
     "text": [
      "Fetching data for target CHEMBL1914266 (Islet amyloid polypeptide)...\n"
     ]
    },
    {
     "name": "stderr",
     "output_type": "stream",
     "text": [
      "Processing CHEMBL1914266: 30it [00:00, 36.09it/s]\n"
     ]
    },
    {
     "name": "stdout",
     "output_type": "stream",
     "text": [
      "Fetching data for target CHEMBL1921664 (Appetite-regulating hormone)...\n"
     ]
    },
    {
     "name": "stderr",
     "output_type": "stream",
     "text": [
      "Processing CHEMBL1921664: 67it [00:00, 81.98it/s]\n"
     ]
    },
    {
     "name": "stdout",
     "output_type": "stream",
     "text": [
      "Fetching data for target CHEMBL5169189 (Appetite-regulating hormone)...\n"
     ]
    },
    {
     "name": "stderr",
     "output_type": "stream",
     "text": [
      "Processing CHEMBL5169189: 6it [00:00,  7.67it/s]\n"
     ]
    },
    {
     "name": "stdout",
     "output_type": "stream",
     "text": [
      "Fetching data for target CHEMBL1075048 (Protoporphyrinogen oxidase)...\n"
     ]
    },
    {
     "name": "stderr",
     "output_type": "stream",
     "text": [
      "Processing CHEMBL1075048: 25it [00:00, 31.47it/s]\n"
     ]
    },
    {
     "name": "stdout",
     "output_type": "stream",
     "text": [
      "Fetching data for target CHEMBL1926488 (Protoporphyrinogen oxidase)...\n"
     ]
    },
    {
     "name": "stderr",
     "output_type": "stream",
     "text": [
      "Processing CHEMBL1926488: 208it [00:00, 253.96it/s]\n"
     ]
    },
    {
     "name": "stdout",
     "output_type": "stream",
     "text": [
      "Fetching data for target CHEMBL2366436 (Protoporphyrinogen oxidase)...\n"
     ]
    },
    {
     "name": "stderr",
     "output_type": "stream",
     "text": [
      "Processing CHEMBL2366436: 3it [00:00,  3.68it/s]\n"
     ]
    },
    {
     "name": "stdout",
     "output_type": "stream",
     "text": [
      "Fetching data for target CHEMBL1932895 (Natural resistance-associated macrophage protein 2)...\n"
     ]
    },
    {
     "name": "stderr",
     "output_type": "stream",
     "text": [
      "Processing CHEMBL1932895: 66it [00:00, 83.04it/s]\n"
     ]
    },
    {
     "name": "stdout",
     "output_type": "stream",
     "text": [
      "Fetching data for target CHEMBL1944491 (Proteasome subunit beta type-9)...\n"
     ]
    },
    {
     "name": "stderr",
     "output_type": "stream",
     "text": [
      "Processing CHEMBL1944491: 6it [00:00,  7.40it/s]\n"
     ]
    },
    {
     "name": "stdout",
     "output_type": "stream",
     "text": [
      "Fetching data for target CHEMBL1944495 (Proteasome subunit beta type-9)...\n"
     ]
    },
    {
     "name": "stderr",
     "output_type": "stream",
     "text": [
      "Processing CHEMBL1944495: 255it [00:00, 309.83it/s]\n"
     ]
    },
    {
     "name": "stdout",
     "output_type": "stream",
     "text": [
      "Fetching data for target CHEMBL2010628 (DNA polymerase nu)...\n"
     ]
    },
    {
     "name": "stderr",
     "output_type": "stream",
     "text": [
      "Processing CHEMBL2010628: 4it [00:00,  5.19it/s]\n"
     ]
    },
    {
     "name": "stdout",
     "output_type": "stream",
     "text": [
      "Fetching data for target CHEMBL2016431 (NEDD8-activating enzyme E1 regulatory subunit)...\n"
     ]
    },
    {
     "name": "stderr",
     "output_type": "stream",
     "text": [
      "Processing CHEMBL2016431: 59it [00:00, 71.59it/s]\n"
     ]
    },
    {
     "name": "stdout",
     "output_type": "stream",
     "text": [
      "Fetching data for target CHEMBL2221346 (Neuronal acetylcholine receptors; alpha-3/beta-4, alpha-5, beta-2)...\n"
     ]
    },
    {
     "name": "stderr",
     "output_type": "stream",
     "text": [
      "Processing CHEMBL2221346: 19it [00:00, 24.61it/s]\n"
     ]
    },
    {
     "name": "stdout",
     "output_type": "stream",
     "text": [
      "Fetching data for target CHEMBL4448 (Kallikrein 6)...\n"
     ]
    },
    {
     "name": "stderr",
     "output_type": "stream",
     "text": [
      "Processing CHEMBL4448: 88it [00:00, 109.03it/s]\n"
     ]
    },
    {
     "name": "stdout",
     "output_type": "stream",
     "text": [
      "Fetching data for target CHEMBL2052032 (Phosphatidylinositol 3,4,5-trisphosphate 3-phosphatase and dual-specificity protein phosphatase PTEN)...\n"
     ]
    },
    {
     "name": "stderr",
     "output_type": "stream",
     "text": [
      "Processing CHEMBL2052032: 1it [00:00,  1.20it/s]\n"
     ]
    },
    {
     "name": "stdout",
     "output_type": "stream",
     "text": [
      "Fetching data for target CHEMBL2052040 (Natural resistance-associated macrophage protein 1)...\n"
     ]
    },
    {
     "name": "stderr",
     "output_type": "stream",
     "text": [
      "Processing CHEMBL2052040: 48it [00:00, 58.49it/s]\n"
     ]
    },
    {
     "name": "stdout",
     "output_type": "stream",
     "text": [
      "Fetching data for target CHEMBL2062348 (Heat shock-related 70 kDa protein 2)...\n"
     ]
    },
    {
     "name": "stderr",
     "output_type": "stream",
     "text": [
      "Processing CHEMBL2062348: 77it [00:00, 98.12it/s]\n"
     ]
    },
    {
     "name": "stdout",
     "output_type": "stream",
     "text": [
      "Fetching data for target CHEMBL2062351 (ATP synthase subunit alpha, mitochondrial)...\n"
     ]
    },
    {
     "name": "stderr",
     "output_type": "stream",
     "text": [
      "Processing CHEMBL2062351: 0it [00:00, ?it/s]\n"
     ]
    },
    {
     "name": "stdout",
     "output_type": "stream",
     "text": [
      "Fetching data for target CHEMBL2176795 (ATP synthase subunit alpha, mitochondrial)...\n"
     ]
    },
    {
     "name": "stderr",
     "output_type": "stream",
     "text": [
      "Processing CHEMBL2176795: 0it [00:00, ?it/s]\n"
     ]
    },
    {
     "name": "stdout",
     "output_type": "stream",
     "text": [
      "Fetching data for target CHEMBL4377 (Guanine nucleotide-binding protein G(s), subunit alpha)...\n"
     ]
    },
    {
     "name": "stderr",
     "output_type": "stream",
     "text": [
      "Processing CHEMBL4377: 103389it [00:04, 22823.67it/s]\n"
     ]
    },
    {
     "name": "stdout",
     "output_type": "stream",
     "text": [
      "Fetching data for target CHEMBL2146346 (Neurogenic locus notch homolog protein 1)...\n"
     ]
    },
    {
     "name": "stderr",
     "output_type": "stream",
     "text": [
      "Processing CHEMBL2146346: 129it [00:00, 155.30it/s]\n"
     ]
    },
    {
     "name": "stdout",
     "output_type": "stream",
     "text": [
      "Fetching data for target CHEMBL4295799 (Neurogenic locus notch homolog protein 1)...\n"
     ]
    },
    {
     "name": "stderr",
     "output_type": "stream",
     "text": [
      "Processing CHEMBL4295799: 6it [00:00,  7.73it/s]\n"
     ]
    },
    {
     "name": "stdout",
     "output_type": "stream",
     "text": [
      "Fetching data for target CHEMBL3188 (Methionine synthase)...\n"
     ]
    },
    {
     "name": "stderr",
     "output_type": "stream",
     "text": [
      "Processing CHEMBL3188: 2it [00:00,  2.59it/s]\n"
     ]
    },
    {
     "name": "stdout",
     "output_type": "stream",
     "text": [
      "Fetching data for target CHEMBL2150844 (Methionine synthase)...\n"
     ]
    },
    {
     "name": "stderr",
     "output_type": "stream",
     "text": [
      "Processing CHEMBL2150844: 46it [00:00, 56.58it/s]\n"
     ]
    },
    {
     "name": "stdout",
     "output_type": "stream",
     "text": [
      "Fetching data for target CHEMBL2157852 (Ubiquitin carboxyl-terminal hydrolase 21)...\n"
     ]
    },
    {
     "name": "stderr",
     "output_type": "stream",
     "text": [
      "Processing CHEMBL2157852: 92it [00:00, 114.58it/s]\n"
     ]
    },
    {
     "name": "stdout",
     "output_type": "stream",
     "text": [
      "Fetching data for target CHEMBL3708 (Presenilin 2)...\n"
     ]
    },
    {
     "name": "stderr",
     "output_type": "stream",
     "text": [
      "Processing CHEMBL3708: 8it [00:00, 10.29it/s]\n"
     ]
    },
    {
     "name": "stdout",
     "output_type": "stream",
     "text": [
      "Fetching data for target CHEMBL2176846 (Advanced glycosylation end product-specific receptor)...\n"
     ]
    },
    {
     "name": "stderr",
     "output_type": "stream",
     "text": [
      "Processing CHEMBL2176846: 236it [00:00, 287.23it/s]\n"
     ]
    },
    {
     "name": "stdout",
     "output_type": "stream",
     "text": [
      "Fetching data for target CHEMBL2176847 (Advanced glycosylation end product-specific receptor)...\n"
     ]
    },
    {
     "name": "stderr",
     "output_type": "stream",
     "text": [
      "Processing CHEMBL2176847: 1it [00:00,  1.30it/s]\n"
     ]
    },
    {
     "name": "stdout",
     "output_type": "stream",
     "text": [
      "Fetching data for target CHEMBL2189161 (Advanced glycosylation end product-specific receptor)...\n"
     ]
    },
    {
     "name": "stderr",
     "output_type": "stream",
     "text": [
      "Processing CHEMBL2189161: 12it [00:00, 14.27it/s]\n"
     ]
    },
    {
     "name": "stdout",
     "output_type": "stream",
     "text": [
      "Fetching data for target CHEMBL2221344 (Tumour suppressor protein p53/Mdm4)...\n"
     ]
    },
    {
     "name": "stderr",
     "output_type": "stream",
     "text": [
      "Processing CHEMBL2221344: 80it [00:00, 99.23it/s]\n"
     ]
    },
    {
     "name": "stdout",
     "output_type": "stream",
     "text": [
      "Fetching data for target CHEMBL2311236 (High mobility group protein B1)...\n"
     ]
    },
    {
     "name": "stderr",
     "output_type": "stream",
     "text": [
      "Processing CHEMBL2311236: 69it [00:00, 85.92it/s]\n"
     ]
    },
    {
     "name": "stdout",
     "output_type": "stream",
     "text": [
      "Fetching data for target CHEMBL2311237 (High mobility group protein B1)...\n"
     ]
    },
    {
     "name": "stderr",
     "output_type": "stream",
     "text": [
      "Processing CHEMBL2311237: 41it [00:00, 51.18it/s]\n"
     ]
    },
    {
     "name": "stdout",
     "output_type": "stream",
     "text": [
      "Fetching data for target CHEMBL2331065 (Alpha-ketoglutarate-dependent dioxygenase FTO)...\n"
     ]
    },
    {
     "name": "stderr",
     "output_type": "stream",
     "text": [
      "Processing CHEMBL2331065: 506it [00:00, 556.34it/s]\n"
     ]
    },
    {
     "name": "stdout",
     "output_type": "stream",
     "text": [
      "Fetching data for target CHEMBL3611964 (Alpha-ketoglutarate-dependent dioxygenase FTO)...\n"
     ]
    },
    {
     "name": "stderr",
     "output_type": "stream",
     "text": [
      "Processing CHEMBL3611964: 0it [00:00, ?it/s]\n"
     ]
    },
    {
     "name": "stdout",
     "output_type": "stream",
     "text": [
      "Fetching data for target CHEMBL2362981 (TAR DNA-binding protein 43)...\n"
     ]
    },
    {
     "name": "stderr",
     "output_type": "stream",
     "text": [
      "Processing CHEMBL2362981: 40100it [00:02, 17068.93it/s]\n"
     ]
    },
    {
     "name": "stdout",
     "output_type": "stream",
     "text": [
      "Fetching data for target CHEMBL5465339 (TAR DNA-binding protein 43)...\n"
     ]
    },
    {
     "name": "stderr",
     "output_type": "stream",
     "text": [
      "Processing CHEMBL5465339: 1it [00:00,  1.25it/s]\n"
     ]
    },
    {
     "name": "stdout",
     "output_type": "stream",
     "text": [
      "Fetching data for target CHEMBL2095219 (Muscarinic acetylcholine receptors; M1 & M2)...\n"
     ]
    },
    {
     "name": "stderr",
     "output_type": "stream",
     "text": [
      "Processing CHEMBL2095219: 495it [00:00, 584.42it/s]\n"
     ]
    },
    {
     "name": "stdout",
     "output_type": "stream",
     "text": [
      "Fetching data for target CHEMBL1907591 (Neuronal acetylcholine receptor; alpha4/beta4)...\n"
     ]
    },
    {
     "name": "stderr",
     "output_type": "stream",
     "text": [
      "Processing CHEMBL1907591: 202it [00:00, 242.96it/s]\n"
     ]
    },
    {
     "name": "stdout",
     "output_type": "stream",
     "text": [
      "Fetching data for target CHEMBL1907595 (Neuronal acetylcholine receptor; alpha4/beta4)...\n"
     ]
    },
    {
     "name": "stderr",
     "output_type": "stream",
     "text": [
      "Processing CHEMBL1907595: 575it [00:00, 701.95it/s]\n"
     ]
    },
    {
     "name": "stdout",
     "output_type": "stream",
     "text": [
      "Fetching data for target CHEMBL2094131 (Adenosine receptors; A1 & A2)...\n"
     ]
    },
    {
     "name": "stderr",
     "output_type": "stream",
     "text": [
      "Processing CHEMBL2094131: 881it [00:00, 963.08it/s]\n"
     ]
    },
    {
     "name": "stdout",
     "output_type": "stream",
     "text": [
      "Fetching data for target CHEMBL2096679 (Adenosine receptors; A1 & A2)...\n"
     ]
    },
    {
     "name": "stderr",
     "output_type": "stream",
     "text": [
      "Processing CHEMBL2096679: 186it [00:00, 231.07it/s]\n"
     ]
    },
    {
     "name": "stdout",
     "output_type": "stream",
     "text": [
      "Fetching data for target CHEMBL2111460 (Dopamine D2 receptor and serotonin 1a receptor)...\n"
     ]
    },
    {
     "name": "stderr",
     "output_type": "stream",
     "text": [
      "Processing CHEMBL2111460: 9it [00:00, 10.64it/s]\n"
     ]
    },
    {
     "name": "stdout",
     "output_type": "stream",
     "text": [
      "Fetching data for target CHEMBL2095233 (Cholinesterases; ACHE & BCHE)...\n"
     ]
    },
    {
     "name": "stderr",
     "output_type": "stream",
     "text": [
      "Processing CHEMBL2095233: 1182it [00:01, 1180.39it/s]\n"
     ]
    },
    {
     "name": "stdout",
     "output_type": "stream",
     "text": [
      "Fetching data for target CHEMBL2096662 (Serotonin 2 receptors; 5-HT2a & 5-HT2c)...\n"
     ]
    },
    {
     "name": "stderr",
     "output_type": "stream",
     "text": [
      "Processing CHEMBL2096662: 784it [00:00, 892.81it/s]\n"
     ]
    },
    {
     "name": "stdout",
     "output_type": "stream",
     "text": [
      "Fetching data for target CHEMBL2111466 (Serotonin receptor (2b and 2c))...\n"
     ]
    },
    {
     "name": "stderr",
     "output_type": "stream",
     "text": [
      "Processing CHEMBL2111466: 114it [00:00, 142.68it/s]\n"
     ]
    },
    {
     "name": "stdout",
     "output_type": "stream",
     "text": [
      "Fetching data for target CHEMBL2109233 (Neuronal acetylcholine receptor; alpha3/alpha6/beta2/beta3)...\n"
     ]
    },
    {
     "name": "stderr",
     "output_type": "stream",
     "text": [
      "Processing CHEMBL2109233: 91it [00:00, 112.77it/s]\n"
     ]
    },
    {
     "data": {
      "text/html": [
       "<div>\n",
       "<style scoped>\n",
       "    .dataframe tbody tr th:only-of-type {\n",
       "        vertical-align: middle;\n",
       "    }\n",
       "\n",
       "    .dataframe tbody tr th {\n",
       "        vertical-align: top;\n",
       "    }\n",
       "\n",
       "    .dataframe thead th {\n",
       "        text-align: right;\n",
       "    }\n",
       "</style>\n",
       "<table border=\"1\" class=\"dataframe\">\n",
       "  <thead>\n",
       "    <tr style=\"text-align: right;\">\n",
       "      <th></th>\n",
       "      <th>Target Name</th>\n",
       "      <th>Target ChEMBL ID</th>\n",
       "      <th>Target Type</th>\n",
       "      <th>Organism</th>\n",
       "      <th>Molecule ChEMBL ID</th>\n",
       "      <th>Activity Type</th>\n",
       "      <th>Activity Value</th>\n",
       "      <th>Canonical SMILES</th>\n",
       "      <th>Standard InChI</th>\n",
       "      <th>Standard InChI Key</th>\n",
       "      <th>Max Phase</th>\n",
       "      <th>Molecular Formula</th>\n",
       "      <th>Molecular Weight</th>\n",
       "      <th>AlogP</th>\n",
       "      <th>Aromatic Rings</th>\n",
       "      <th>HBA</th>\n",
       "      <th>HBD</th>\n",
       "      <th>Rotatable Bonds</th>\n",
       "      <th>Polar Surface Area (PSA)</th>\n",
       "      <th>QED Weighted</th>\n",
       "    </tr>\n",
       "  </thead>\n",
       "  <tbody>\n",
       "    <tr>\n",
       "      <th>0</th>\n",
       "      <td>Cytochrome P450 19A1</td>\n",
       "      <td>CHEMBL1978</td>\n",
       "      <td>SINGLE PROTEIN</td>\n",
       "      <td>Homo sapiens</td>\n",
       "      <td>CHEMBL63297</td>\n",
       "      <td>IC50</td>\n",
       "      <td>190.0</td>\n",
       "      <td>Fc1ccc(C(C2Cc3ccccc3O2)n2cncn2)cc1</td>\n",
       "      <td>InChI=1S/C17H14FN3O/c18-14-7-5-12(6-8-14)17(21...</td>\n",
       "      <td>RVFPOHIDBASNMF-UHFFFAOYSA-N</td>\n",
       "      <td>None</td>\n",
       "      <td>C17H14FN3O</td>\n",
       "      <td>295.32</td>\n",
       "      <td>3.01</td>\n",
       "      <td>3.0</td>\n",
       "      <td>4.0</td>\n",
       "      <td>0.0</td>\n",
       "      <td>3.0</td>\n",
       "      <td>39.94</td>\n",
       "      <td>0.75</td>\n",
       "    </tr>\n",
       "    <tr>\n",
       "      <th>1</th>\n",
       "      <td>Cytochrome P450 19A1</td>\n",
       "      <td>CHEMBL1978</td>\n",
       "      <td>SINGLE PROTEIN</td>\n",
       "      <td>Homo sapiens</td>\n",
       "      <td>CHEMBL65328</td>\n",
       "      <td>IC50</td>\n",
       "      <td>590.0</td>\n",
       "      <td>Cc1ccc(C(C2Cc3ccccc3O2)n2cncn2)cc1</td>\n",
       "      <td>InChI=1S/C18H17N3O/c1-13-6-8-14(9-7-13)18(21-1...</td>\n",
       "      <td>OZEGINYEQGNONL-UHFFFAOYSA-N</td>\n",
       "      <td>None</td>\n",
       "      <td>C18H17N3O</td>\n",
       "      <td>291.35</td>\n",
       "      <td>3.18</td>\n",
       "      <td>3.0</td>\n",
       "      <td>4.0</td>\n",
       "      <td>0.0</td>\n",
       "      <td>3.0</td>\n",
       "      <td>39.94</td>\n",
       "      <td>0.74</td>\n",
       "    </tr>\n",
       "    <tr>\n",
       "      <th>2</th>\n",
       "      <td>Cytochrome P450 19A1</td>\n",
       "      <td>CHEMBL1978</td>\n",
       "      <td>SINGLE PROTEIN</td>\n",
       "      <td>Homo sapiens</td>\n",
       "      <td>CHEMBL488</td>\n",
       "      <td>IC50</td>\n",
       "      <td>18500.0</td>\n",
       "      <td>CCC1(c2ccc(N)cc2)CCC(=O)NC1=O</td>\n",
       "      <td>InChI=1S/C13H16N2O2/c1-2-13(8-7-11(16)15-12(13...</td>\n",
       "      <td>ROBVIMPUHSLWNV-UHFFFAOYSA-N</td>\n",
       "      <td>4.0</td>\n",
       "      <td>C13H16N2O2</td>\n",
       "      <td>232.28</td>\n",
       "      <td>1.35</td>\n",
       "      <td>1.0</td>\n",
       "      <td>3.0</td>\n",
       "      <td>2.0</td>\n",
       "      <td>2.0</td>\n",
       "      <td>72.19</td>\n",
       "      <td>0.60</td>\n",
       "    </tr>\n",
       "    <tr>\n",
       "      <th>3</th>\n",
       "      <td>Cytochrome P450 19A1</td>\n",
       "      <td>CHEMBL1978</td>\n",
       "      <td>SINGLE PROTEIN</td>\n",
       "      <td>Homo sapiens</td>\n",
       "      <td>CHEMBL291646</td>\n",
       "      <td>IC50</td>\n",
       "      <td>200.0</td>\n",
       "      <td>Clc1ccc(C(C2Cc3ccccc3O2)n2cncn2)cc1</td>\n",
       "      <td>InChI=1S/C17H14ClN3O/c18-14-7-5-12(6-8-14)17(2...</td>\n",
       "      <td>UVOSSULRORMWHE-UHFFFAOYSA-N</td>\n",
       "      <td>None</td>\n",
       "      <td>C17H14ClN3O</td>\n",
       "      <td>311.77</td>\n",
       "      <td>3.52</td>\n",
       "      <td>3.0</td>\n",
       "      <td>4.0</td>\n",
       "      <td>0.0</td>\n",
       "      <td>3.0</td>\n",
       "      <td>39.94</td>\n",
       "      <td>0.74</td>\n",
       "    </tr>\n",
       "    <tr>\n",
       "      <th>4</th>\n",
       "      <td>Cytochrome P450 19A1</td>\n",
       "      <td>CHEMBL1978</td>\n",
       "      <td>SINGLE PROTEIN</td>\n",
       "      <td>Homo sapiens</td>\n",
       "      <td>CHEMBL304788</td>\n",
       "      <td>IC50</td>\n",
       "      <td>880.0</td>\n",
       "      <td>Clc1ccc(C(C2Cc3ccccc3O2)n2cncn2)c(Cl)c1</td>\n",
       "      <td>InChI=1S/C17H13Cl2N3O/c18-12-5-6-13(14(19)8-12...</td>\n",
       "      <td>ZSINOYZZEZDTLK-UHFFFAOYSA-N</td>\n",
       "      <td>None</td>\n",
       "      <td>C17H13Cl2N3O</td>\n",
       "      <td>346.22</td>\n",
       "      <td>4.18</td>\n",
       "      <td>3.0</td>\n",
       "      <td>4.0</td>\n",
       "      <td>0.0</td>\n",
       "      <td>3.0</td>\n",
       "      <td>39.94</td>\n",
       "      <td>0.71</td>\n",
       "    </tr>\n",
       "    <tr>\n",
       "      <th>...</th>\n",
       "      <td>...</td>\n",
       "      <td>...</td>\n",
       "      <td>...</td>\n",
       "      <td>...</td>\n",
       "      <td>...</td>\n",
       "      <td>...</td>\n",
       "      <td>...</td>\n",
       "      <td>...</td>\n",
       "      <td>...</td>\n",
       "      <td>...</td>\n",
       "      <td>...</td>\n",
       "      <td>...</td>\n",
       "      <td>...</td>\n",
       "      <td>...</td>\n",
       "      <td>...</td>\n",
       "      <td>...</td>\n",
       "      <td>...</td>\n",
       "      <td>...</td>\n",
       "      <td>...</td>\n",
       "      <td>...</td>\n",
       "    </tr>\n",
       "    <tr>\n",
       "      <th>1448774</th>\n",
       "      <td>Neuronal acetylcholine receptor; alpha3/alpha6...</td>\n",
       "      <td>CHEMBL2109233</td>\n",
       "      <td>PROTEIN COMPLEX</td>\n",
       "      <td>Homo sapiens</td>\n",
       "      <td>CHEMBL3329544</td>\n",
       "      <td>Emax</td>\n",
       "      <td>64.0</td>\n",
       "      <td>C[C@H]1C[C@@H]1C(=O)N1CC2CC(C1)N2</td>\n",
       "      <td>InChI=1S/C10H16N2O/c1-6-2-9(6)10(13)12-4-7-3-8...</td>\n",
       "      <td>INYNWEUTASDACG-KRTGUUSXSA-N</td>\n",
       "      <td>None</td>\n",
       "      <td>C10H16N2O</td>\n",
       "      <td>180.25</td>\n",
       "      <td>0.22</td>\n",
       "      <td>0.0</td>\n",
       "      <td>2.0</td>\n",
       "      <td>1.0</td>\n",
       "      <td>1.0</td>\n",
       "      <td>32.34</td>\n",
       "      <td>0.63</td>\n",
       "    </tr>\n",
       "    <tr>\n",
       "      <th>1448775</th>\n",
       "      <td>Neuronal acetylcholine receptor; alpha3/alpha6...</td>\n",
       "      <td>CHEMBL2109233</td>\n",
       "      <td>PROTEIN COMPLEX</td>\n",
       "      <td>Homo sapiens</td>\n",
       "      <td>CHEMBL3329545</td>\n",
       "      <td>Emax</td>\n",
       "      <td>73.0</td>\n",
       "      <td>CC1(C)CC1C(=O)N1CC2CC(C1)N2</td>\n",
       "      <td>InChI=1S/C11H18N2O/c1-11(2)4-9(11)10(14)13-5-7...</td>\n",
       "      <td>LJEPPQATHWQMBV-UHFFFAOYSA-N</td>\n",
       "      <td>None</td>\n",
       "      <td>C11H18N2O</td>\n",
       "      <td>194.28</td>\n",
       "      <td>0.61</td>\n",
       "      <td>0.0</td>\n",
       "      <td>2.0</td>\n",
       "      <td>1.0</td>\n",
       "      <td>1.0</td>\n",
       "      <td>32.34</td>\n",
       "      <td>0.66</td>\n",
       "    </tr>\n",
       "    <tr>\n",
       "      <th>1448776</th>\n",
       "      <td>Neuronal acetylcholine receptor; alpha3/alpha6...</td>\n",
       "      <td>CHEMBL2109233</td>\n",
       "      <td>PROTEIN COMPLEX</td>\n",
       "      <td>Homo sapiens</td>\n",
       "      <td>CHEMBL3329546</td>\n",
       "      <td>Emax</td>\n",
       "      <td>110.0</td>\n",
       "      <td>O=C(C1CC1(F)F)N1CC2CC(C1)N2</td>\n",
       "      <td>InChI=1S/C9H12F2N2O/c10-9(11)2-7(9)8(14)13-3-5...</td>\n",
       "      <td>VXQLPXYMYHKASH-UHFFFAOYSA-N</td>\n",
       "      <td>None</td>\n",
       "      <td>C9H12F2N2O</td>\n",
       "      <td>202.20</td>\n",
       "      <td>0.21</td>\n",
       "      <td>0.0</td>\n",
       "      <td>2.0</td>\n",
       "      <td>1.0</td>\n",
       "      <td>1.0</td>\n",
       "      <td>32.34</td>\n",
       "      <td>0.66</td>\n",
       "    </tr>\n",
       "    <tr>\n",
       "      <th>1448777</th>\n",
       "      <td>Neuronal acetylcholine receptor; alpha3/alpha6...</td>\n",
       "      <td>CHEMBL2109233</td>\n",
       "      <td>PROTEIN COMPLEX</td>\n",
       "      <td>Homo sapiens</td>\n",
       "      <td>CHEMBL4869892</td>\n",
       "      <td>IC50</td>\n",
       "      <td>135.0</td>\n",
       "      <td>CC[C@H](C)[C@@H]1NC(=O)[C@H](CCC(=O)O)NC(=O)[C...</td>\n",
       "      <td>InChI=1S/C68H103N23O21S4/c1-7-32(6)53-66(110)8...</td>\n",
       "      <td>ATDHPNPDBDEQAK-BCTYQQKGSA-N</td>\n",
       "      <td>None</td>\n",
       "      <td>C68H103N23O21S4</td>\n",
       "      <td>1706.98</td>\n",
       "      <td>None</td>\n",
       "      <td>NaN</td>\n",
       "      <td>NaN</td>\n",
       "      <td>NaN</td>\n",
       "      <td>NaN</td>\n",
       "      <td>None</td>\n",
       "      <td>None</td>\n",
       "    </tr>\n",
       "    <tr>\n",
       "      <th>1448778</th>\n",
       "      <td>Neuronal acetylcholine receptor; alpha3/alpha6...</td>\n",
       "      <td>CHEMBL2109233</td>\n",
       "      <td>PROTEIN COMPLEX</td>\n",
       "      <td>Homo sapiens</td>\n",
       "      <td>CHEMBL4872191</td>\n",
       "      <td>IC50</td>\n",
       "      <td>5.55</td>\n",
       "      <td>CC(C)C[C@@H]1NC(=O)[C@H](C)NC(=O)[C@H](CCCNC(=...</td>\n",
       "      <td>InChI=1S/C69H114N30O17S4/c1-32(2)19-41-58(108)...</td>\n",
       "      <td>XFBDKMSGGGCNAI-WVHVKVEVSA-N</td>\n",
       "      <td>None</td>\n",
       "      <td>C69H114N30O17S4</td>\n",
       "      <td>1764.13</td>\n",
       "      <td>None</td>\n",
       "      <td>NaN</td>\n",
       "      <td>NaN</td>\n",
       "      <td>NaN</td>\n",
       "      <td>NaN</td>\n",
       "      <td>None</td>\n",
       "      <td>None</td>\n",
       "    </tr>\n",
       "  </tbody>\n",
       "</table>\n",
       "<p>1448779 rows × 20 columns</p>\n",
       "</div>"
      ],
      "text/plain": [
       "                                               Target Name Target ChEMBL ID  \\\n",
       "0                                     Cytochrome P450 19A1       CHEMBL1978   \n",
       "1                                     Cytochrome P450 19A1       CHEMBL1978   \n",
       "2                                     Cytochrome P450 19A1       CHEMBL1978   \n",
       "3                                     Cytochrome P450 19A1       CHEMBL1978   \n",
       "4                                     Cytochrome P450 19A1       CHEMBL1978   \n",
       "...                                                    ...              ...   \n",
       "1448774  Neuronal acetylcholine receptor; alpha3/alpha6...    CHEMBL2109233   \n",
       "1448775  Neuronal acetylcholine receptor; alpha3/alpha6...    CHEMBL2109233   \n",
       "1448776  Neuronal acetylcholine receptor; alpha3/alpha6...    CHEMBL2109233   \n",
       "1448777  Neuronal acetylcholine receptor; alpha3/alpha6...    CHEMBL2109233   \n",
       "1448778  Neuronal acetylcholine receptor; alpha3/alpha6...    CHEMBL2109233   \n",
       "\n",
       "             Target Type      Organism Molecule ChEMBL ID Activity Type  \\\n",
       "0         SINGLE PROTEIN  Homo sapiens        CHEMBL63297          IC50   \n",
       "1         SINGLE PROTEIN  Homo sapiens        CHEMBL65328          IC50   \n",
       "2         SINGLE PROTEIN  Homo sapiens          CHEMBL488          IC50   \n",
       "3         SINGLE PROTEIN  Homo sapiens       CHEMBL291646          IC50   \n",
       "4         SINGLE PROTEIN  Homo sapiens       CHEMBL304788          IC50   \n",
       "...                  ...           ...                ...           ...   \n",
       "1448774  PROTEIN COMPLEX  Homo sapiens      CHEMBL3329544          Emax   \n",
       "1448775  PROTEIN COMPLEX  Homo sapiens      CHEMBL3329545          Emax   \n",
       "1448776  PROTEIN COMPLEX  Homo sapiens      CHEMBL3329546          Emax   \n",
       "1448777  PROTEIN COMPLEX  Homo sapiens      CHEMBL4869892          IC50   \n",
       "1448778  PROTEIN COMPLEX  Homo sapiens      CHEMBL4872191          IC50   \n",
       "\n",
       "        Activity Value                                   Canonical SMILES  \\\n",
       "0                190.0                 Fc1ccc(C(C2Cc3ccccc3O2)n2cncn2)cc1   \n",
       "1                590.0                 Cc1ccc(C(C2Cc3ccccc3O2)n2cncn2)cc1   \n",
       "2              18500.0                      CCC1(c2ccc(N)cc2)CCC(=O)NC1=O   \n",
       "3                200.0                Clc1ccc(C(C2Cc3ccccc3O2)n2cncn2)cc1   \n",
       "4                880.0            Clc1ccc(C(C2Cc3ccccc3O2)n2cncn2)c(Cl)c1   \n",
       "...                ...                                                ...   \n",
       "1448774           64.0                  C[C@H]1C[C@@H]1C(=O)N1CC2CC(C1)N2   \n",
       "1448775           73.0                        CC1(C)CC1C(=O)N1CC2CC(C1)N2   \n",
       "1448776          110.0                        O=C(C1CC1(F)F)N1CC2CC(C1)N2   \n",
       "1448777          135.0  CC[C@H](C)[C@@H]1NC(=O)[C@H](CCC(=O)O)NC(=O)[C...   \n",
       "1448778           5.55  CC(C)C[C@@H]1NC(=O)[C@H](C)NC(=O)[C@H](CCCNC(=...   \n",
       "\n",
       "                                            Standard InChI  \\\n",
       "0        InChI=1S/C17H14FN3O/c18-14-7-5-12(6-8-14)17(21...   \n",
       "1        InChI=1S/C18H17N3O/c1-13-6-8-14(9-7-13)18(21-1...   \n",
       "2        InChI=1S/C13H16N2O2/c1-2-13(8-7-11(16)15-12(13...   \n",
       "3        InChI=1S/C17H14ClN3O/c18-14-7-5-12(6-8-14)17(2...   \n",
       "4        InChI=1S/C17H13Cl2N3O/c18-12-5-6-13(14(19)8-12...   \n",
       "...                                                    ...   \n",
       "1448774  InChI=1S/C10H16N2O/c1-6-2-9(6)10(13)12-4-7-3-8...   \n",
       "1448775  InChI=1S/C11H18N2O/c1-11(2)4-9(11)10(14)13-5-7...   \n",
       "1448776  InChI=1S/C9H12F2N2O/c10-9(11)2-7(9)8(14)13-3-5...   \n",
       "1448777  InChI=1S/C68H103N23O21S4/c1-7-32(6)53-66(110)8...   \n",
       "1448778  InChI=1S/C69H114N30O17S4/c1-32(2)19-41-58(108)...   \n",
       "\n",
       "                  Standard InChI Key Max Phase Molecular Formula  \\\n",
       "0        RVFPOHIDBASNMF-UHFFFAOYSA-N      None        C17H14FN3O   \n",
       "1        OZEGINYEQGNONL-UHFFFAOYSA-N      None         C18H17N3O   \n",
       "2        ROBVIMPUHSLWNV-UHFFFAOYSA-N       4.0        C13H16N2O2   \n",
       "3        UVOSSULRORMWHE-UHFFFAOYSA-N      None       C17H14ClN3O   \n",
       "4        ZSINOYZZEZDTLK-UHFFFAOYSA-N      None      C17H13Cl2N3O   \n",
       "...                              ...       ...               ...   \n",
       "1448774  INYNWEUTASDACG-KRTGUUSXSA-N      None         C10H16N2O   \n",
       "1448775  LJEPPQATHWQMBV-UHFFFAOYSA-N      None         C11H18N2O   \n",
       "1448776  VXQLPXYMYHKASH-UHFFFAOYSA-N      None        C9H12F2N2O   \n",
       "1448777  ATDHPNPDBDEQAK-BCTYQQKGSA-N      None   C68H103N23O21S4   \n",
       "1448778  XFBDKMSGGGCNAI-WVHVKVEVSA-N      None   C69H114N30O17S4   \n",
       "\n",
       "        Molecular Weight AlogP  Aromatic Rings  HBA  HBD  Rotatable Bonds  \\\n",
       "0                 295.32  3.01             3.0  4.0  0.0              3.0   \n",
       "1                 291.35  3.18             3.0  4.0  0.0              3.0   \n",
       "2                 232.28  1.35             1.0  3.0  2.0              2.0   \n",
       "3                 311.77  3.52             3.0  4.0  0.0              3.0   \n",
       "4                 346.22  4.18             3.0  4.0  0.0              3.0   \n",
       "...                  ...   ...             ...  ...  ...              ...   \n",
       "1448774           180.25  0.22             0.0  2.0  1.0              1.0   \n",
       "1448775           194.28  0.61             0.0  2.0  1.0              1.0   \n",
       "1448776           202.20  0.21             0.0  2.0  1.0              1.0   \n",
       "1448777          1706.98  None             NaN  NaN  NaN              NaN   \n",
       "1448778          1764.13  None             NaN  NaN  NaN              NaN   \n",
       "\n",
       "        Polar Surface Area (PSA) QED Weighted  \n",
       "0                          39.94         0.75  \n",
       "1                          39.94         0.74  \n",
       "2                          72.19         0.60  \n",
       "3                          39.94         0.74  \n",
       "4                          39.94         0.71  \n",
       "...                          ...          ...  \n",
       "1448774                    32.34         0.63  \n",
       "1448775                    32.34         0.66  \n",
       "1448776                    32.34         0.66  \n",
       "1448777                     None         None  \n",
       "1448778                     None         None  \n",
       "\n",
       "[1448779 rows x 20 columns]"
      ]
     },
     "execution_count": 2,
     "metadata": {},
     "output_type": "execute_result"
    }
   ],
   "source": [
    "import psycopg2\n",
    "import pandas as pd\n",
    "from tqdm import tqdm \n",
    "\n",
    "def get_chembl_ids_and_fetch_data(target_names):\n",
    "    # Connect to PostgreSQL\n",
    "    conn = psycopg2.connect(\n",
    "        dbname=\"chembl_35\",\n",
    "        user=\"chembl_maghaeef\",  \n",
    "        password=\"nasir\",  \n",
    "        host=\"localhost\",\n",
    "        port=5432\n",
    "    )\n",
    "\n",
    "    chembl_ids = {}\n",
    "\n",
    "    # Step 1: Get ChEMBL IDs for target names (using SQL)\n",
    "    with conn.cursor() as cursor:\n",
    "        for target_name in target_names:\n",
    "            cursor.execute(\"\"\"\n",
    "                SELECT chembl_id, target_type, organism\n",
    "                FROM target_dictionary\n",
    "                WHERE pref_name ILIKE %s\n",
    "            \"\"\", (target_name,))\n",
    "            \n",
    "            results = cursor.fetchall()\n",
    "            if results:\n",
    "                chembl_ids[target_name] = [{\n",
    "                    \"target_chembl_id\": row[0],\n",
    "                    \"target_type\": row[1],\n",
    "                    \"organism\": row[2]\n",
    "                } for row in results]\n",
    "            else:\n",
    "                print(f\"No exact match found for target: {target_name}\")\n",
    "\n",
    "    # Step 2: Fetch data using optimized SQL joins\n",
    "    all_data = []\n",
    "    for target_name, target_info_list in chembl_ids.items():\n",
    "        for target_info in target_info_list:\n",
    "            target_id = target_info[\"target_chembl_id\"]\n",
    "            print(f\"Fetching data for target {target_id} ({target_name})...\")\n",
    "            \n",
    "            try:\n",
    "                # Single query to get all related data using joins\n",
    "                query = \"\"\"\n",
    "                    SELECT \n",
    "                        a.standard_value,\n",
    "                        a.standard_type AS activity_type,\n",
    "                        m.chembl_id AS molecule_chembl_id,\n",
    "                        m.max_phase,\n",
    "                        m.molecule_type,\n",
    "                        cs.canonical_smiles,\n",
    "                        cs.standard_inchi,\n",
    "                        cs.standard_inchi_key,\n",
    "                        cp.full_molformula,\n",
    "                        cp.full_mwt,\n",
    "                        cp.alogp,\n",
    "                        cp.aromatic_rings,\n",
    "                        cp.hba,\n",
    "                        cp.hbd,\n",
    "                        cp.rtb,\n",
    "                        cp.psa,\n",
    "                        cp.qed_weighted\n",
    "                    FROM activities a\n",
    "                    JOIN assays ass ON a.assay_id = ass.assay_id\n",
    "                    JOIN target_dictionary td ON ass.tid = td.tid\n",
    "                    JOIN molecule_dictionary m ON a.molregno = m.molregno\n",
    "                    JOIN compound_structures cs ON m.molregno = cs.molregno\n",
    "                    JOIN compound_properties cp ON m.molregno = cp.molregno\n",
    "                    WHERE td.chembl_id = %s\n",
    "                    AND a.standard_value IS NOT NULL\n",
    "                \"\"\"\n",
    "                \n",
    "                with conn.cursor(name=\"fetch_activities\") as cursor:\n",
    "                    cursor.itersize = 1000  # Batch size for server-side cursor\n",
    "                    cursor.execute(query, (target_id,))\n",
    "                    \n",
    "                    for row in tqdm(cursor, desc=f\"Processing {target_id}\"):\n",
    "                        info = {\n",
    "                            \"Target Name\": target_name,\n",
    "                            \"Target ChEMBL ID\": target_id,\n",
    "                            \"Target Type\": target_info[\"target_type\"],\n",
    "                            \"Organism\": target_info[\"organism\"],\n",
    "                            \"Molecule ChEMBL ID\": row[2],\n",
    "                            \"Activity Type\": row[1],\n",
    "                            \"Activity Value\": row[0],\n",
    "                            \"Canonical SMILES\": row[5],\n",
    "                            \"Standard InChI\": row[6],\n",
    "                            \"Standard InChI Key\": row[7],\n",
    "                            \"Max Phase\": row[3],\n",
    "                            \"Molecular Formula\": row[8],\n",
    "                            \"Molecular Weight\": row[9],\n",
    "                            \"AlogP\": row[10],\n",
    "                            \"Aromatic Rings\": row[11],\n",
    "                            \"HBA\": row[12],\n",
    "                            \"HBD\": row[13],\n",
    "                            \"Rotatable Bonds\": row[14],\n",
    "                            \"Polar Surface Area (PSA)\": row[15],\n",
    "                            \"QED Weighted\": row[16]\n",
    "                        }\n",
    "                        all_data.append(info)\n",
    "\n",
    "            except Exception as e:\n",
    "                print(f\"Error retrieving data for target {target_id}: {e}\")\n",
    "                conn.rollback()\n",
    "            else:\n",
    "                conn.commit()\n",
    "\n",
    "    conn.close()\n",
    "    return pd.DataFrame(all_data)\n",
    "\n",
    "# Example usage\n",
    "if __name__ == \"__main__\":\n",
    "    target_names = targets\n",
    "    df = get_chembl_ids_and_fetch_data(target_names)\n",
    "df"
   ]
  },
  {
   "cell_type": "code",
   "execution_count": 3,
   "metadata": {},
   "outputs": [
    {
     "data": {
      "text/html": [
       "<div>\n",
       "<style scoped>\n",
       "    .dataframe tbody tr th:only-of-type {\n",
       "        vertical-align: middle;\n",
       "    }\n",
       "\n",
       "    .dataframe tbody tr th {\n",
       "        vertical-align: top;\n",
       "    }\n",
       "\n",
       "    .dataframe thead th {\n",
       "        text-align: right;\n",
       "    }\n",
       "</style>\n",
       "<table border=\"1\" class=\"dataframe\">\n",
       "  <thead>\n",
       "    <tr style=\"text-align: right;\">\n",
       "      <th></th>\n",
       "      <th>Target Name</th>\n",
       "      <th>Target ChEMBL ID</th>\n",
       "      <th>Target Type</th>\n",
       "      <th>Organism</th>\n",
       "      <th>Molecule ChEMBL ID</th>\n",
       "      <th>Activity Type</th>\n",
       "      <th>Activity Value</th>\n",
       "      <th>Canonical SMILES</th>\n",
       "      <th>Standard InChI</th>\n",
       "      <th>Standard InChI Key</th>\n",
       "      <th>Max Phase</th>\n",
       "      <th>Molecular Formula</th>\n",
       "      <th>Molecular Weight</th>\n",
       "      <th>AlogP</th>\n",
       "      <th>Aromatic Rings</th>\n",
       "      <th>HBA</th>\n",
       "      <th>HBD</th>\n",
       "      <th>Rotatable Bonds</th>\n",
       "      <th>Polar Surface Area (PSA)</th>\n",
       "      <th>QED Weighted</th>\n",
       "    </tr>\n",
       "  </thead>\n",
       "  <tbody>\n",
       "    <tr>\n",
       "      <th>0</th>\n",
       "      <td>Cytochrome P450 19A1</td>\n",
       "      <td>CHEMBL1978</td>\n",
       "      <td>SINGLE PROTEIN</td>\n",
       "      <td>Homo sapiens</td>\n",
       "      <td>CHEMBL63297</td>\n",
       "      <td>IC50</td>\n",
       "      <td>190.0</td>\n",
       "      <td>Fc1ccc(C(C2Cc3ccccc3O2)n2cncn2)cc1</td>\n",
       "      <td>InChI=1S/C17H14FN3O/c18-14-7-5-12(6-8-14)17(21...</td>\n",
       "      <td>RVFPOHIDBASNMF-UHFFFAOYSA-N</td>\n",
       "      <td>None</td>\n",
       "      <td>C17H14FN3O</td>\n",
       "      <td>295.32</td>\n",
       "      <td>3.01</td>\n",
       "      <td>3.0</td>\n",
       "      <td>4.0</td>\n",
       "      <td>0.0</td>\n",
       "      <td>3.0</td>\n",
       "      <td>39.94</td>\n",
       "      <td>0.75</td>\n",
       "    </tr>\n",
       "    <tr>\n",
       "      <th>1</th>\n",
       "      <td>Cytochrome P450 19A1</td>\n",
       "      <td>CHEMBL1978</td>\n",
       "      <td>SINGLE PROTEIN</td>\n",
       "      <td>Homo sapiens</td>\n",
       "      <td>CHEMBL65328</td>\n",
       "      <td>IC50</td>\n",
       "      <td>590.0</td>\n",
       "      <td>Cc1ccc(C(C2Cc3ccccc3O2)n2cncn2)cc1</td>\n",
       "      <td>InChI=1S/C18H17N3O/c1-13-6-8-14(9-7-13)18(21-1...</td>\n",
       "      <td>OZEGINYEQGNONL-UHFFFAOYSA-N</td>\n",
       "      <td>None</td>\n",
       "      <td>C18H17N3O</td>\n",
       "      <td>291.35</td>\n",
       "      <td>3.18</td>\n",
       "      <td>3.0</td>\n",
       "      <td>4.0</td>\n",
       "      <td>0.0</td>\n",
       "      <td>3.0</td>\n",
       "      <td>39.94</td>\n",
       "      <td>0.74</td>\n",
       "    </tr>\n",
       "    <tr>\n",
       "      <th>2</th>\n",
       "      <td>Cytochrome P450 19A1</td>\n",
       "      <td>CHEMBL1978</td>\n",
       "      <td>SINGLE PROTEIN</td>\n",
       "      <td>Homo sapiens</td>\n",
       "      <td>CHEMBL488</td>\n",
       "      <td>IC50</td>\n",
       "      <td>18500.0</td>\n",
       "      <td>CCC1(c2ccc(N)cc2)CCC(=O)NC1=O</td>\n",
       "      <td>InChI=1S/C13H16N2O2/c1-2-13(8-7-11(16)15-12(13...</td>\n",
       "      <td>ROBVIMPUHSLWNV-UHFFFAOYSA-N</td>\n",
       "      <td>4.0</td>\n",
       "      <td>C13H16N2O2</td>\n",
       "      <td>232.28</td>\n",
       "      <td>1.35</td>\n",
       "      <td>1.0</td>\n",
       "      <td>3.0</td>\n",
       "      <td>2.0</td>\n",
       "      <td>2.0</td>\n",
       "      <td>72.19</td>\n",
       "      <td>0.60</td>\n",
       "    </tr>\n",
       "    <tr>\n",
       "      <th>3</th>\n",
       "      <td>Cytochrome P450 19A1</td>\n",
       "      <td>CHEMBL1978</td>\n",
       "      <td>SINGLE PROTEIN</td>\n",
       "      <td>Homo sapiens</td>\n",
       "      <td>CHEMBL291646</td>\n",
       "      <td>IC50</td>\n",
       "      <td>200.0</td>\n",
       "      <td>Clc1ccc(C(C2Cc3ccccc3O2)n2cncn2)cc1</td>\n",
       "      <td>InChI=1S/C17H14ClN3O/c18-14-7-5-12(6-8-14)17(2...</td>\n",
       "      <td>UVOSSULRORMWHE-UHFFFAOYSA-N</td>\n",
       "      <td>None</td>\n",
       "      <td>C17H14ClN3O</td>\n",
       "      <td>311.77</td>\n",
       "      <td>3.52</td>\n",
       "      <td>3.0</td>\n",
       "      <td>4.0</td>\n",
       "      <td>0.0</td>\n",
       "      <td>3.0</td>\n",
       "      <td>39.94</td>\n",
       "      <td>0.74</td>\n",
       "    </tr>\n",
       "    <tr>\n",
       "      <th>4</th>\n",
       "      <td>Cytochrome P450 19A1</td>\n",
       "      <td>CHEMBL1978</td>\n",
       "      <td>SINGLE PROTEIN</td>\n",
       "      <td>Homo sapiens</td>\n",
       "      <td>CHEMBL304788</td>\n",
       "      <td>IC50</td>\n",
       "      <td>880.0</td>\n",
       "      <td>Clc1ccc(C(C2Cc3ccccc3O2)n2cncn2)c(Cl)c1</td>\n",
       "      <td>InChI=1S/C17H13Cl2N3O/c18-12-5-6-13(14(19)8-12...</td>\n",
       "      <td>ZSINOYZZEZDTLK-UHFFFAOYSA-N</td>\n",
       "      <td>None</td>\n",
       "      <td>C17H13Cl2N3O</td>\n",
       "      <td>346.22</td>\n",
       "      <td>4.18</td>\n",
       "      <td>3.0</td>\n",
       "      <td>4.0</td>\n",
       "      <td>0.0</td>\n",
       "      <td>3.0</td>\n",
       "      <td>39.94</td>\n",
       "      <td>0.71</td>\n",
       "    </tr>\n",
       "    <tr>\n",
       "      <th>...</th>\n",
       "      <td>...</td>\n",
       "      <td>...</td>\n",
       "      <td>...</td>\n",
       "      <td>...</td>\n",
       "      <td>...</td>\n",
       "      <td>...</td>\n",
       "      <td>...</td>\n",
       "      <td>...</td>\n",
       "      <td>...</td>\n",
       "      <td>...</td>\n",
       "      <td>...</td>\n",
       "      <td>...</td>\n",
       "      <td>...</td>\n",
       "      <td>...</td>\n",
       "      <td>...</td>\n",
       "      <td>...</td>\n",
       "      <td>...</td>\n",
       "      <td>...</td>\n",
       "      <td>...</td>\n",
       "      <td>...</td>\n",
       "    </tr>\n",
       "    <tr>\n",
       "      <th>1448774</th>\n",
       "      <td>Neuronal acetylcholine receptor; alpha3/alpha6...</td>\n",
       "      <td>CHEMBL2109233</td>\n",
       "      <td>PROTEIN COMPLEX</td>\n",
       "      <td>Homo sapiens</td>\n",
       "      <td>CHEMBL3329544</td>\n",
       "      <td>Emax</td>\n",
       "      <td>64.0</td>\n",
       "      <td>C[C@H]1C[C@@H]1C(=O)N1CC2CC(C1)N2</td>\n",
       "      <td>InChI=1S/C10H16N2O/c1-6-2-9(6)10(13)12-4-7-3-8...</td>\n",
       "      <td>INYNWEUTASDACG-KRTGUUSXSA-N</td>\n",
       "      <td>None</td>\n",
       "      <td>C10H16N2O</td>\n",
       "      <td>180.25</td>\n",
       "      <td>0.22</td>\n",
       "      <td>0.0</td>\n",
       "      <td>2.0</td>\n",
       "      <td>1.0</td>\n",
       "      <td>1.0</td>\n",
       "      <td>32.34</td>\n",
       "      <td>0.63</td>\n",
       "    </tr>\n",
       "    <tr>\n",
       "      <th>1448775</th>\n",
       "      <td>Neuronal acetylcholine receptor; alpha3/alpha6...</td>\n",
       "      <td>CHEMBL2109233</td>\n",
       "      <td>PROTEIN COMPLEX</td>\n",
       "      <td>Homo sapiens</td>\n",
       "      <td>CHEMBL3329545</td>\n",
       "      <td>Emax</td>\n",
       "      <td>73.0</td>\n",
       "      <td>CC1(C)CC1C(=O)N1CC2CC(C1)N2</td>\n",
       "      <td>InChI=1S/C11H18N2O/c1-11(2)4-9(11)10(14)13-5-7...</td>\n",
       "      <td>LJEPPQATHWQMBV-UHFFFAOYSA-N</td>\n",
       "      <td>None</td>\n",
       "      <td>C11H18N2O</td>\n",
       "      <td>194.28</td>\n",
       "      <td>0.61</td>\n",
       "      <td>0.0</td>\n",
       "      <td>2.0</td>\n",
       "      <td>1.0</td>\n",
       "      <td>1.0</td>\n",
       "      <td>32.34</td>\n",
       "      <td>0.66</td>\n",
       "    </tr>\n",
       "    <tr>\n",
       "      <th>1448776</th>\n",
       "      <td>Neuronal acetylcholine receptor; alpha3/alpha6...</td>\n",
       "      <td>CHEMBL2109233</td>\n",
       "      <td>PROTEIN COMPLEX</td>\n",
       "      <td>Homo sapiens</td>\n",
       "      <td>CHEMBL3329546</td>\n",
       "      <td>Emax</td>\n",
       "      <td>110.0</td>\n",
       "      <td>O=C(C1CC1(F)F)N1CC2CC(C1)N2</td>\n",
       "      <td>InChI=1S/C9H12F2N2O/c10-9(11)2-7(9)8(14)13-3-5...</td>\n",
       "      <td>VXQLPXYMYHKASH-UHFFFAOYSA-N</td>\n",
       "      <td>None</td>\n",
       "      <td>C9H12F2N2O</td>\n",
       "      <td>202.20</td>\n",
       "      <td>0.21</td>\n",
       "      <td>0.0</td>\n",
       "      <td>2.0</td>\n",
       "      <td>1.0</td>\n",
       "      <td>1.0</td>\n",
       "      <td>32.34</td>\n",
       "      <td>0.66</td>\n",
       "    </tr>\n",
       "    <tr>\n",
       "      <th>1448777</th>\n",
       "      <td>Neuronal acetylcholine receptor; alpha3/alpha6...</td>\n",
       "      <td>CHEMBL2109233</td>\n",
       "      <td>PROTEIN COMPLEX</td>\n",
       "      <td>Homo sapiens</td>\n",
       "      <td>CHEMBL4869892</td>\n",
       "      <td>IC50</td>\n",
       "      <td>135.0</td>\n",
       "      <td>CC[C@H](C)[C@@H]1NC(=O)[C@H](CCC(=O)O)NC(=O)[C...</td>\n",
       "      <td>InChI=1S/C68H103N23O21S4/c1-7-32(6)53-66(110)8...</td>\n",
       "      <td>ATDHPNPDBDEQAK-BCTYQQKGSA-N</td>\n",
       "      <td>None</td>\n",
       "      <td>C68H103N23O21S4</td>\n",
       "      <td>1706.98</td>\n",
       "      <td>None</td>\n",
       "      <td>NaN</td>\n",
       "      <td>NaN</td>\n",
       "      <td>NaN</td>\n",
       "      <td>NaN</td>\n",
       "      <td>None</td>\n",
       "      <td>None</td>\n",
       "    </tr>\n",
       "    <tr>\n",
       "      <th>1448778</th>\n",
       "      <td>Neuronal acetylcholine receptor; alpha3/alpha6...</td>\n",
       "      <td>CHEMBL2109233</td>\n",
       "      <td>PROTEIN COMPLEX</td>\n",
       "      <td>Homo sapiens</td>\n",
       "      <td>CHEMBL4872191</td>\n",
       "      <td>IC50</td>\n",
       "      <td>5.55</td>\n",
       "      <td>CC(C)C[C@@H]1NC(=O)[C@H](C)NC(=O)[C@H](CCCNC(=...</td>\n",
       "      <td>InChI=1S/C69H114N30O17S4/c1-32(2)19-41-58(108)...</td>\n",
       "      <td>XFBDKMSGGGCNAI-WVHVKVEVSA-N</td>\n",
       "      <td>None</td>\n",
       "      <td>C69H114N30O17S4</td>\n",
       "      <td>1764.13</td>\n",
       "      <td>None</td>\n",
       "      <td>NaN</td>\n",
       "      <td>NaN</td>\n",
       "      <td>NaN</td>\n",
       "      <td>NaN</td>\n",
       "      <td>None</td>\n",
       "      <td>None</td>\n",
       "    </tr>\n",
       "  </tbody>\n",
       "</table>\n",
       "<p>1448779 rows × 20 columns</p>\n",
       "</div>"
      ],
      "text/plain": [
       "                                               Target Name Target ChEMBL ID  \\\n",
       "0                                     Cytochrome P450 19A1       CHEMBL1978   \n",
       "1                                     Cytochrome P450 19A1       CHEMBL1978   \n",
       "2                                     Cytochrome P450 19A1       CHEMBL1978   \n",
       "3                                     Cytochrome P450 19A1       CHEMBL1978   \n",
       "4                                     Cytochrome P450 19A1       CHEMBL1978   \n",
       "...                                                    ...              ...   \n",
       "1448774  Neuronal acetylcholine receptor; alpha3/alpha6...    CHEMBL2109233   \n",
       "1448775  Neuronal acetylcholine receptor; alpha3/alpha6...    CHEMBL2109233   \n",
       "1448776  Neuronal acetylcholine receptor; alpha3/alpha6...    CHEMBL2109233   \n",
       "1448777  Neuronal acetylcholine receptor; alpha3/alpha6...    CHEMBL2109233   \n",
       "1448778  Neuronal acetylcholine receptor; alpha3/alpha6...    CHEMBL2109233   \n",
       "\n",
       "             Target Type      Organism Molecule ChEMBL ID Activity Type  \\\n",
       "0         SINGLE PROTEIN  Homo sapiens        CHEMBL63297          IC50   \n",
       "1         SINGLE PROTEIN  Homo sapiens        CHEMBL65328          IC50   \n",
       "2         SINGLE PROTEIN  Homo sapiens          CHEMBL488          IC50   \n",
       "3         SINGLE PROTEIN  Homo sapiens       CHEMBL291646          IC50   \n",
       "4         SINGLE PROTEIN  Homo sapiens       CHEMBL304788          IC50   \n",
       "...                  ...           ...                ...           ...   \n",
       "1448774  PROTEIN COMPLEX  Homo sapiens      CHEMBL3329544          Emax   \n",
       "1448775  PROTEIN COMPLEX  Homo sapiens      CHEMBL3329545          Emax   \n",
       "1448776  PROTEIN COMPLEX  Homo sapiens      CHEMBL3329546          Emax   \n",
       "1448777  PROTEIN COMPLEX  Homo sapiens      CHEMBL4869892          IC50   \n",
       "1448778  PROTEIN COMPLEX  Homo sapiens      CHEMBL4872191          IC50   \n",
       "\n",
       "        Activity Value                                   Canonical SMILES  \\\n",
       "0                190.0                 Fc1ccc(C(C2Cc3ccccc3O2)n2cncn2)cc1   \n",
       "1                590.0                 Cc1ccc(C(C2Cc3ccccc3O2)n2cncn2)cc1   \n",
       "2              18500.0                      CCC1(c2ccc(N)cc2)CCC(=O)NC1=O   \n",
       "3                200.0                Clc1ccc(C(C2Cc3ccccc3O2)n2cncn2)cc1   \n",
       "4                880.0            Clc1ccc(C(C2Cc3ccccc3O2)n2cncn2)c(Cl)c1   \n",
       "...                ...                                                ...   \n",
       "1448774           64.0                  C[C@H]1C[C@@H]1C(=O)N1CC2CC(C1)N2   \n",
       "1448775           73.0                        CC1(C)CC1C(=O)N1CC2CC(C1)N2   \n",
       "1448776          110.0                        O=C(C1CC1(F)F)N1CC2CC(C1)N2   \n",
       "1448777          135.0  CC[C@H](C)[C@@H]1NC(=O)[C@H](CCC(=O)O)NC(=O)[C...   \n",
       "1448778           5.55  CC(C)C[C@@H]1NC(=O)[C@H](C)NC(=O)[C@H](CCCNC(=...   \n",
       "\n",
       "                                            Standard InChI  \\\n",
       "0        InChI=1S/C17H14FN3O/c18-14-7-5-12(6-8-14)17(21...   \n",
       "1        InChI=1S/C18H17N3O/c1-13-6-8-14(9-7-13)18(21-1...   \n",
       "2        InChI=1S/C13H16N2O2/c1-2-13(8-7-11(16)15-12(13...   \n",
       "3        InChI=1S/C17H14ClN3O/c18-14-7-5-12(6-8-14)17(2...   \n",
       "4        InChI=1S/C17H13Cl2N3O/c18-12-5-6-13(14(19)8-12...   \n",
       "...                                                    ...   \n",
       "1448774  InChI=1S/C10H16N2O/c1-6-2-9(6)10(13)12-4-7-3-8...   \n",
       "1448775  InChI=1S/C11H18N2O/c1-11(2)4-9(11)10(14)13-5-7...   \n",
       "1448776  InChI=1S/C9H12F2N2O/c10-9(11)2-7(9)8(14)13-3-5...   \n",
       "1448777  InChI=1S/C68H103N23O21S4/c1-7-32(6)53-66(110)8...   \n",
       "1448778  InChI=1S/C69H114N30O17S4/c1-32(2)19-41-58(108)...   \n",
       "\n",
       "                  Standard InChI Key Max Phase Molecular Formula  \\\n",
       "0        RVFPOHIDBASNMF-UHFFFAOYSA-N      None        C17H14FN3O   \n",
       "1        OZEGINYEQGNONL-UHFFFAOYSA-N      None         C18H17N3O   \n",
       "2        ROBVIMPUHSLWNV-UHFFFAOYSA-N       4.0        C13H16N2O2   \n",
       "3        UVOSSULRORMWHE-UHFFFAOYSA-N      None       C17H14ClN3O   \n",
       "4        ZSINOYZZEZDTLK-UHFFFAOYSA-N      None      C17H13Cl2N3O   \n",
       "...                              ...       ...               ...   \n",
       "1448774  INYNWEUTASDACG-KRTGUUSXSA-N      None         C10H16N2O   \n",
       "1448775  LJEPPQATHWQMBV-UHFFFAOYSA-N      None         C11H18N2O   \n",
       "1448776  VXQLPXYMYHKASH-UHFFFAOYSA-N      None        C9H12F2N2O   \n",
       "1448777  ATDHPNPDBDEQAK-BCTYQQKGSA-N      None   C68H103N23O21S4   \n",
       "1448778  XFBDKMSGGGCNAI-WVHVKVEVSA-N      None   C69H114N30O17S4   \n",
       "\n",
       "        Molecular Weight AlogP  Aromatic Rings  HBA  HBD  Rotatable Bonds  \\\n",
       "0                 295.32  3.01             3.0  4.0  0.0              3.0   \n",
       "1                 291.35  3.18             3.0  4.0  0.0              3.0   \n",
       "2                 232.28  1.35             1.0  3.0  2.0              2.0   \n",
       "3                 311.77  3.52             3.0  4.0  0.0              3.0   \n",
       "4                 346.22  4.18             3.0  4.0  0.0              3.0   \n",
       "...                  ...   ...             ...  ...  ...              ...   \n",
       "1448774           180.25  0.22             0.0  2.0  1.0              1.0   \n",
       "1448775           194.28  0.61             0.0  2.0  1.0              1.0   \n",
       "1448776           202.20  0.21             0.0  2.0  1.0              1.0   \n",
       "1448777          1706.98  None             NaN  NaN  NaN              NaN   \n",
       "1448778          1764.13  None             NaN  NaN  NaN              NaN   \n",
       "\n",
       "        Polar Surface Area (PSA) QED Weighted  \n",
       "0                          39.94         0.75  \n",
       "1                          39.94         0.74  \n",
       "2                          72.19         0.60  \n",
       "3                          39.94         0.74  \n",
       "4                          39.94         0.71  \n",
       "...                          ...          ...  \n",
       "1448774                    32.34         0.63  \n",
       "1448775                    32.34         0.66  \n",
       "1448776                    32.34         0.66  \n",
       "1448777                     None         None  \n",
       "1448778                     None         None  \n",
       "\n",
       "[1448779 rows x 20 columns]"
      ]
     },
     "execution_count": 3,
     "metadata": {},
     "output_type": "execute_result"
    }
   ],
   "source": [
    "df"
   ]
  },
  {
   "cell_type": "code",
   "execution_count": 4,
   "metadata": {},
   "outputs": [
    {
     "data": {
      "text/plain": [
       "782"
      ]
     },
     "execution_count": 4,
     "metadata": {},
     "output_type": "execute_result"
    }
   ],
   "source": [
    "len(list(set(list(df[\"Target ChEMBL ID\"]))))"
   ]
  },
  {
   "cell_type": "code",
   "execution_count": 5,
   "metadata": {},
   "outputs": [
    {
     "data": {
      "text/plain": [
       "{'% Activity remaining',\n",
       " '% Control',\n",
       " '% Ctrl',\n",
       " '% Enzyme Activity (relative to DMSO controls, average n=2)',\n",
       " '% Inhibition of Control Agonist Response (Mean n=2)',\n",
       " '% Inhibition of Control Specific Binding',\n",
       " '% Inhibition of Control Specific Binding (Mean n=2)',\n",
       " '% Inhibition of Control Values',\n",
       " '% Inhibition of Control Values (Mean n=2)',\n",
       " '% Residual activity with Skepinone-L',\n",
       " '% binding',\n",
       " '% inhibition',\n",
       " '% maximum response',\n",
       " '% of Control Agonist Response (Mean n=2)',\n",
       " '% of activity',\n",
       " '% of control',\n",
       " '% of effect',\n",
       " '% of engagement',\n",
       " '% of inhibition',\n",
       " '% of inhibition or stimulation',\n",
       " '% of residual activity',\n",
       " '% residual kinase activity',\n",
       " '%Bound_Albumin',\n",
       " '%Inhib (Mean)',\n",
       " '%Max (Mean)',\n",
       " '%max',\n",
       " '-Delta G',\n",
       " '-Log ED50',\n",
       " '-Log K0.5',\n",
       " '-Log KB',\n",
       " '-Log KD',\n",
       " '-TdeltaS',\n",
       " '-log(RatioIC50)',\n",
       " '-logKa',\n",
       " '1/kmax',\n",
       " '1/kobsd-ka',\n",
       " 'A/Ad',\n",
       " 'A1 selectivity',\n",
       " 'A2',\n",
       " 'A2 selectivity',\n",
       " 'A50',\n",
       " 'AC50',\n",
       " 'ACAT activity',\n",
       " 'ACT',\n",
       " 'AE activity',\n",
       " 'AIDH activity',\n",
       " 'AQ',\n",
       " 'AT1 affinity',\n",
       " 'AUC',\n",
       " 'AbsAC40_uM',\n",
       " 'Absolute ratio',\n",
       " 'Accumulation',\n",
       " 'Acetylation',\n",
       " 'Activation',\n",
       " 'Activation (% of control)',\n",
       " 'Activity',\n",
       " 'Activity remaning',\n",
       " 'Activity_index',\n",
       " 'Affinity',\n",
       " 'Affinity constant',\n",
       " 'Affinity ratio',\n",
       " 'Aggregate',\n",
       " 'Agonism inflection point',\n",
       " 'Agonist',\n",
       " 'Agonist activity',\n",
       " 'Agonist effect',\n",
       " 'Agonist index',\n",
       " 'Agonistic activity',\n",
       " 'AlDH activity',\n",
       " 'Alloste ic enhan er (AE)',\n",
       " 'Alpha',\n",
       " 'Alpha max',\n",
       " 'Amount bound',\n",
       " 'Analgesic efficacy',\n",
       " 'Anogenital distance',\n",
       " 'Antagonism',\n",
       " 'Antagonist efficacy',\n",
       " 'Anti-uterotrophic effect',\n",
       " 'Antiovulatory activity',\n",
       " 'Antiuterotropic effect',\n",
       " 'Avoidance response',\n",
       " 'B-A/A-B',\n",
       " 'BEI',\n",
       " 'BMD',\n",
       " 'BP',\n",
       " 'BSI',\n",
       " 'Basal',\n",
       " 'Basal control',\n",
       " 'Behavioral effect',\n",
       " 'Beta2 duration',\n",
       " 'Binding',\n",
       " 'Binding activity',\n",
       " 'Binding affinity',\n",
       " 'Binding constant',\n",
       " 'Binding potency',\n",
       " 'Binding site fraction',\n",
       " 'Binding stoichiometry',\n",
       " 'Biological activity',\n",
       " 'Blockade',\n",
       " 'Blockage',\n",
       " 'Blood pressure',\n",
       " 'Bmax',\n",
       " 'Bmax1',\n",
       " 'Bmax2',\n",
       " 'Bone mineral density',\n",
       " 'C50',\n",
       " 'CC50',\n",
       " 'CCh',\n",
       " 'CD',\n",
       " 'CI',\n",
       " 'CI50',\n",
       " 'CL',\n",
       " 'COF',\n",
       " 'COI',\n",
       " 'CTF',\n",
       " 'Calculated Ratio',\n",
       " 'Carbonyl group',\n",
       " 'Cell number',\n",
       " 'Change',\n",
       " 'Change in body temperature',\n",
       " 'Competition factor',\n",
       " 'Compound recovery',\n",
       " 'Concentration',\n",
       " 'Control',\n",
       " 'Control compound IC50',\n",
       " 'Control of P-450 marker',\n",
       " 'Cooperativity',\n",
       " 'Covalent binding',\n",
       " 'DA release',\n",
       " 'DC50',\n",
       " 'DOSE',\n",
       " 'DR10',\n",
       " 'Decrease',\n",
       " 'Degradation',\n",
       " 'Delta G',\n",
       " 'Delta HDL',\n",
       " 'Delta MABP',\n",
       " 'Delta TC',\n",
       " 'Delta TM',\n",
       " 'Delta Tm',\n",
       " 'Delta blood pressure',\n",
       " 'Delta pKi',\n",
       " 'DeltaCp',\n",
       " 'Discrimination ratio',\n",
       " 'Displacement',\n",
       " 'Dissociation rate constant',\n",
       " 'Dopamine level',\n",
       " 'Dose',\n",
       " 'Drug degradation',\n",
       " 'Drug metabolism',\n",
       " 'Drug uptake',\n",
       " 'Duration',\n",
       " 'E',\n",
       " 'E2',\n",
       " 'E2 response',\n",
       " 'EC',\n",
       " 'EC0.25',\n",
       " 'EC1.5',\n",
       " 'EC12',\n",
       " 'EC15',\n",
       " 'EC150',\n",
       " 'EC200',\n",
       " 'EC24',\n",
       " 'EC25',\n",
       " 'EC2x',\n",
       " 'EC30',\n",
       " 'EC5',\n",
       " 'EC50',\n",
       " 'EC5x',\n",
       " 'EC70',\n",
       " 'EC80',\n",
       " 'EC90',\n",
       " 'ECmax',\n",
       " 'ED',\n",
       " 'ED delta',\n",
       " 'ED2',\n",
       " 'ED20',\n",
       " 'ED30',\n",
       " 'ED50',\n",
       " 'ED50 mg/animal/day',\n",
       " 'ED80',\n",
       " 'ED90',\n",
       " 'EDmin',\n",
       " 'EI',\n",
       " 'EPMR',\n",
       " 'ER',\n",
       " 'Effect',\n",
       " 'Efficacy',\n",
       " 'Efficacy ratio',\n",
       " 'Efficiency',\n",
       " 'Emax',\n",
       " 'Emax,diss',\n",
       " 'Emin',\n",
       " 'Enhancement',\n",
       " 'Enzyme activity',\n",
       " 'Enzyme inhibition',\n",
       " 'Epinephrine level',\n",
       " 'Estrogenic effect',\n",
       " 'Estrogenic potency',\n",
       " 'FC',\n",
       " 'FI',\n",
       " 'FI5',\n",
       " 'FICI',\n",
       " 'FSC recovery',\n",
       " 'Fe removed',\n",
       " 'Fibril formation',\n",
       " 'Flu intensity',\n",
       " 'Fluorescence intensity',\n",
       " 'Fm',\n",
       " 'Fold IC50',\n",
       " 'Fold activation',\n",
       " 'Fold change',\n",
       " 'Fold induction',\n",
       " 'Fold selectivity',\n",
       " 'Fold stimulation',\n",
       " 'Formation',\n",
       " 'Fu',\n",
       " 'Full inhibition',\n",
       " 'G-protein activation',\n",
       " 'GI',\n",
       " 'GI50',\n",
       " 'GTP-gammaS index',\n",
       " 'Gain',\n",
       " 'HSAI',\n",
       " 'HTS data',\n",
       " 'Hill coefficient',\n",
       " 'Hydrolysis',\n",
       " 'Hypotensive activity',\n",
       " 'I',\n",
       " 'I0.5',\n",
       " 'I10',\n",
       " 'IA',\n",
       " 'IA50',\n",
       " 'IAR',\n",
       " 'IAr',\n",
       " 'IC',\n",
       " 'IC100',\n",
       " 'IC20',\n",
       " 'IC25',\n",
       " 'IC33',\n",
       " 'IC5',\n",
       " 'IC50',\n",
       " 'IC50 ratio',\n",
       " 'IC60',\n",
       " 'IC80',\n",
       " 'IC90',\n",
       " 'IC95',\n",
       " 'ICmax',\n",
       " 'ID50',\n",
       " 'INH',\n",
       " 'IP',\n",
       " 'IS',\n",
       " 'ISA',\n",
       " 'IZ',\n",
       " 'Imax',\n",
       " 'Inactivation',\n",
       " 'Increase',\n",
       " 'Index',\n",
       " 'Induction',\n",
       " 'Infertility activity',\n",
       " 'Inhibition',\n",
       " 'Inhibition (% of control)',\n",
       " 'Inhibition (alpha = 0.01)',\n",
       " 'Inhibition (at concentration M)',\n",
       " 'Inhibition potency',\n",
       " 'Inhibition ratio',\n",
       " 'Inhibitory activity',\n",
       " 'Inhibitory activity ratio',\n",
       " 'Inhibitory ratio',\n",
       " 'Inihibition',\n",
       " 'Initial rates',\n",
       " 'Intrinsic activity',\n",
       " 'Intrinsic efficacy',\n",
       " 'Inverse agonism',\n",
       " 'K',\n",
       " 'K 0.5',\n",
       " 'K Bind',\n",
       " 'K H',\n",
       " 'K L',\n",
       " 'K SH',\n",
       " 'K aff',\n",
       " 'K app',\n",
       " 'K app ratio',\n",
       " 'K ass',\n",
       " 'K bind',\n",
       " 'K cat/Kinact',\n",
       " 'K diss',\n",
       " 'K inact',\n",
       " 'K inact/Ki',\n",
       " 'K obs',\n",
       " 'K obs / 1',\n",
       " 'K-1',\n",
       " 'K-2',\n",
       " 'K0.5',\n",
       " 'K1',\n",
       " 'K2',\n",
       " 'K6',\n",
       " 'KA',\n",
       " 'KB',\n",
       " 'KB app',\n",
       " 'KD app',\n",
       " \"KD'\",\n",
       " 'KD1',\n",
       " 'KD2',\n",
       " 'KH',\n",
       " 'KHOX',\n",
       " \"KI'\",\n",
       " 'KI50',\n",
       " 'KII',\n",
       " 'KIs',\n",
       " 'KL',\n",
       " 'KOX',\n",
       " 'KPCB',\n",
       " 'KR',\n",
       " 'KSV',\n",
       " 'KT4',\n",
       " 'Ka',\n",
       " 'Ka app',\n",
       " 'Ka(T4)',\n",
       " 'Kapp',\n",
       " 'Kb',\n",
       " 'Kbapp',\n",
       " 'Kc',\n",
       " 'Kcat',\n",
       " 'Kcat/Km',\n",
       " 'Kd',\n",
       " 'Kd,app',\n",
       " 'Kd1',\n",
       " 'Kd2',\n",
       " 'Kdapp',\n",
       " 'Kdiss',\n",
       " 'Ke',\n",
       " 'Ke(app)',\n",
       " 'Ki',\n",
       " 'Ki 0.5',\n",
       " 'Ki app',\n",
       " 'Ki ratio',\n",
       " \"Ki'\",\n",
       " \"Ki''\",\n",
       " 'Ki1',\n",
       " 'Ki2',\n",
       " 'KiA',\n",
       " 'KiAH',\n",
       " 'KiH',\n",
       " 'KiL',\n",
       " 'Kic',\n",
       " 'Kieq',\n",
       " 'Kii',\n",
       " 'Kina',\n",
       " 'Kinact',\n",
       " 'Kinact/Ki',\n",
       " 'Kis',\n",
       " 'Kiuc',\n",
       " 'Km',\n",
       " 'Km/Ki',\n",
       " 'Kobs',\n",
       " 'Koff',\n",
       " 'Kq',\n",
       " 'Kr',\n",
       " 'Kr/kmax',\n",
       " 'Ks',\n",
       " 'Ks app',\n",
       " 'Ks/i',\n",
       " 'LC50',\n",
       " 'LED',\n",
       " 'LS',\n",
       " 'Log 1/C',\n",
       " 'Log 1/KL',\n",
       " 'Log 1/Kd',\n",
       " 'Log 1/M',\n",
       " 'Log B/F',\n",
       " 'Log CDQR',\n",
       " 'Log I50',\n",
       " 'Log IC50',\n",
       " \"Log K'\",\n",
       " 'Log KH',\n",
       " 'Log KL',\n",
       " 'Log Kd',\n",
       " 'Log Ki',\n",
       " 'Log potency ratio',\n",
       " 'Loss',\n",
       " 'M2/M1 Index',\n",
       " 'M2/M1 index',\n",
       " 'MA',\n",
       " 'MAO deamination',\n",
       " 'MEC',\n",
       " 'MEC1.5',\n",
       " 'MEC2.0',\n",
       " 'MED',\n",
       " 'MET',\n",
       " 'MFI',\n",
       " 'MIC',\n",
       " 'MIC50',\n",
       " 'MIC90',\n",
       " 'MPO release',\n",
       " 'MRT',\n",
       " 'Max',\n",
       " 'Max PI',\n",
       " 'Max binding',\n",
       " 'Max cAMP',\n",
       " 'Max contraction',\n",
       " 'Max effect',\n",
       " 'Max inhibition',\n",
       " 'Max intensity',\n",
       " 'Max response',\n",
       " 'Max stimulation',\n",
       " 'Max uterine weight',\n",
       " 'Max. activation',\n",
       " 'Max. potentiation',\n",
       " 'Maximal activation',\n",
       " 'Maximal effect',\n",
       " 'Maximum response',\n",
       " 'Mean',\n",
       " 'Mean decrease',\n",
       " 'Mean duration',\n",
       " 'Mean fold stimulation',\n",
       " 'Mean weight',\n",
       " 'Mem Rec',\n",
       " 'Metabolism',\n",
       " 'Molar equivalence bound',\n",
       " 'Mole fraction',\n",
       " 'Monomer',\n",
       " 'Muscarinic agonist index',\n",
       " 'Muscarinic receptor affinity',\n",
       " 'NO formation',\n",
       " 'NOHA',\n",
       " 'NSB',\n",
       " 'No. of rats',\n",
       " 'No. of survivors',\n",
       " 'No. of uptake sites',\n",
       " 'NonRGS-EC50 (uM)',\n",
       " 'OD',\n",
       " 'Occ',\n",
       " 'Occupancy',\n",
       " 'Oligo shifted',\n",
       " 'Organ weight',\n",
       " 'Others',\n",
       " 'PB',\n",
       " 'PC50',\n",
       " 'PCMA antagonism',\n",
       " 'PD2',\n",
       " 'PF50',\n",
       " 'PI',\n",
       " 'PI metabolism',\n",
       " 'PPB',\n",
       " 'PR',\n",
       " 'Palpha',\n",
       " 'Papp',\n",
       " 'Partition ratio',\n",
       " 'Peak current',\n",
       " 'Pgp AbA/analogue ratio',\n",
       " 'Plasma selectivity',\n",
       " 'Potency',\n",
       " 'Potency ratio',\n",
       " 'Potency_Dyrk1a_uM',\n",
       " 'Potentiation inflection point',\n",
       " 'RA',\n",
       " 'RAC',\n",
       " 'RAC app',\n",
       " 'RBA',\n",
       " 'RBA data',\n",
       " 'RBA1',\n",
       " 'RBA2',\n",
       " 'RBI',\n",
       " 'RCI',\n",
       " 'RE',\n",
       " 'REP',\n",
       " 'RFU',\n",
       " 'RLU',\n",
       " 'RM',\n",
       " 'RP',\n",
       " 'RRT',\n",
       " 'RSA',\n",
       " 'RSA tR',\n",
       " 'RTP',\n",
       " 'RU',\n",
       " 'RUmax',\n",
       " 'Rate',\n",
       " 'Rate of hydrolysis',\n",
       " 'Rate of inhibition',\n",
       " 'Rate of oxidation',\n",
       " 'Rate of reduction',\n",
       " 'Ratio',\n",
       " 'Ratio EC50',\n",
       " 'Ratio ED50',\n",
       " 'Ratio IC50',\n",
       " 'Ratio Ki',\n",
       " 'Ratio Ki(app)',\n",
       " 'Ratio LC50/IC50',\n",
       " 'Ratio pIC50',\n",
       " 'Ratio pKi',\n",
       " 'RatioGI50',\n",
       " 'Ratio_ATPase activity',\n",
       " 'Ratio_Papp',\n",
       " 'Reactivation',\n",
       " 'Reactivity',\n",
       " 'Receptor occupied',\n",
       " 'Recovery',\n",
       " 'Reduction',\n",
       " 'Relative JC-1 accumulation',\n",
       " 'Relative Potency',\n",
       " 'Relative Selectivity',\n",
       " 'Relative activation',\n",
       " 'Relative activity',\n",
       " 'Relative activity of AChE',\n",
       " 'Relative affinity',\n",
       " 'Relative antiandrogenic activity',\n",
       " 'Relative binding affinity',\n",
       " 'Relative binding potency',\n",
       " 'Relative efficacy',\n",
       " 'Relative florescence',\n",
       " 'Relative intrinsic activity',\n",
       " 'Relative potency',\n",
       " 'Relative rate of hydrolysis',\n",
       " 'Relative response',\n",
       " 'Relative seminal vesicle weight',\n",
       " 'Relative uterine weight',\n",
       " 'Relative uterotrophic activity',\n",
       " 'Relative uterus weight',\n",
       " 'Release',\n",
       " 'Residual Activity',\n",
       " 'Residual activity',\n",
       " 'Residual peptide',\n",
       " 'Residual_activity',\n",
       " 'Response',\n",
       " 'Response unit',\n",
       " 'Retention_time',\n",
       " 'Reversal activity',\n",
       " 'Reversibility',\n",
       " 'Reversible',\n",
       " 'Ri',\n",
       " 'Rmax',\n",
       " 'S/N',\n",
       " 'S20,w',\n",
       " 'SB',\n",
       " 'SC50',\n",
       " 'SI',\n",
       " 'SS',\n",
       " 'Selectivity',\n",
       " 'Selectivity Index',\n",
       " 'Selectivity coefficient',\n",
       " 'Selectivity index',\n",
       " 'Selectivity ratio',\n",
       " 'Selectivity ratio S3/2',\n",
       " 'Serum lipoprotein cholesterol',\n",
       " 'Smax',\n",
       " 'Solubility',\n",
       " 'Specific activity',\n",
       " 'Specific binding',\n",
       " 'Specificity',\n",
       " 'Stability',\n",
       " 'Stimulation',\n",
       " 'Stimulations',\n",
       " 'Substrate specificity',\n",
       " 'Superoxide anion',\n",
       " 'Suppression',\n",
       " 'Survival',\n",
       " 'T',\n",
       " 'T/C',\n",
       " 'T1/2',\n",
       " 'T50',\n",
       " 'TDI',\n",
       " 'TIME',\n",
       " 'TN',\n",
       " 'TdeltaS',\n",
       " 'Tetramer',\n",
       " 'Thermal melting change',\n",
       " 'Time',\n",
       " 'Time to max. inhibition',\n",
       " 'Tlag',\n",
       " 'Tm',\n",
       " 'Tm shift',\n",
       " 'Total binding',\n",
       " 'Total binding inhibited',\n",
       " 'Total turnings',\n",
       " 'Tp control',\n",
       " 'Transactivation',\n",
       " 'Transcriptional activity',\n",
       " 'Transport',\n",
       " 'Turnover',\n",
       " 'Uptake ratio',\n",
       " 'Uptake/Binding ratio',\n",
       " 'Uterine activity',\n",
       " 'Uterine weight',\n",
       " 'Uterine wet weight',\n",
       " 'Uterotrophic effect',\n",
       " 'Uterotropic activity',\n",
       " 'Uterotropic effect',\n",
       " 'Uterus effect',\n",
       " 'V1/2',\n",
       " 'VDR affinity',\n",
       " 'Vaginal activity',\n",
       " 'Vasodilation',\n",
       " 'Vmax',\n",
       " 'Vmax / Km',\n",
       " 'Vmax(app)',\n",
       " 'Vmax/Km',\n",
       " 'Weight',\n",
       " 'Weight (mg/g)',\n",
       " 'Wet weight',\n",
       " 'XC50',\n",
       " 'Xi50',\n",
       " \"[EOP']infinity/[EOH]infinity\",\n",
       " 'alphaKi',\n",
       " 'cAMP',\n",
       " 'cAMP activity index',\n",
       " 'cAMP increase',\n",
       " 'cAMP production',\n",
       " 'cKi',\n",
       " 'cholesterol level',\n",
       " 'dTM',\n",
       " 'dTm',\n",
       " 'delta Tm',\n",
       " 'delta Tm Staurosporine positive control',\n",
       " 'deltaG',\n",
       " 'deltaH',\n",
       " 'deltaS',\n",
       " 'deltaT',\n",
       " 'deltaTm',\n",
       " 'effect',\n",
       " 'fEC50',\n",
       " 'fIC50',\n",
       " 'fIC90',\n",
       " 'fold selectivity',\n",
       " 'fpKi',\n",
       " 'inhibition (at 100uM)',\n",
       " 'k',\n",
       " 'k cat',\n",
       " 'k cat/Km',\n",
       " 'k eff',\n",
       " 'k eff (rel)',\n",
       " 'k obs / 1',\n",
       " \"k'/k'+1\",\n",
       " 'k-2',\n",
       " 'k/K',\n",
       " 'k2',\n",
       " \"k2'\",\n",
       " 'k2/Ki',\n",
       " 'k2c',\n",
       " 'k3',\n",
       " 'k3/Ki',\n",
       " 'k3/ki',\n",
       " 'kH',\n",
       " 'kHOX',\n",
       " 'kOX',\n",
       " 'kR',\n",
       " 'k_obs',\n",
       " 'k_off',\n",
       " 'k_on',\n",
       " 'ka',\n",
       " 'ka/Ki',\n",
       " 'ka/kr',\n",
       " 'kaKr/kr',\n",
       " 'kb',\n",
       " 'ki/Ki',\n",
       " 'kinact',\n",
       " 'kirr',\n",
       " 'kn',\n",
       " 'koff',\n",
       " 'kon',\n",
       " 'kr',\n",
       " 'log K',\n",
       " 'log Ks',\n",
       " 'log(%)',\n",
       " 'log(1/C)',\n",
       " 'log(10^6/IC50)',\n",
       " 'log(IA)',\n",
       " 'log(PB)',\n",
       " 'log(RBA)',\n",
       " 'log(Tau/KA)',\n",
       " 'log(activity)',\n",
       " 'log(ratio)',\n",
       " 'log2FC',\n",
       " 'logEC50',\n",
       " 'logEmax',\n",
       " 'logFu',\n",
       " 'logIC50',\n",
       " 'logKA',\n",
       " 'logKb',\n",
       " 'logKd',\n",
       " 'logKi',\n",
       " 'logRA',\n",
       " 'max activation',\n",
       " 'mortality',\n",
       " 'n',\n",
       " 'nH',\n",
       " 'nNOS activity',\n",
       " 'p alpha',\n",
       " 'p alphaKa',\n",
       " 'pA10',\n",
       " 'pA2',\n",
       " 'pA2 - pA10',\n",
       " 'pA2(app)',\n",
       " 'pA50',\n",
       " 'pAh',\n",
       " 'pAlpha',\n",
       " 'pC1',\n",
       " 'pC2A',\n",
       " 'pC30',\n",
       " 'pD2',\n",
       " 'pEC0.5',\n",
       " 'pEC0.5,diss',\n",
       " 'pEC5',\n",
       " 'pEC50',\n",
       " 'pEC50 diss',\n",
       " 'pI50',\n",
       " 'pIC25',\n",
       " 'pIC50',\n",
       " 'pK',\n",
       " 'pK1',\n",
       " 'pKA',\n",
       " 'pKB',\n",
       " 'pKD',\n",
       " 'pKa',\n",
       " 'pKact',\n",
       " 'pKb',\n",
       " 'pKi',\n",
       " 'pKi(uM)',\n",
       " 'pKi1-pKi2',\n",
       " 'pKic',\n",
       " 'pKinact',\n",
       " 'pKinc',\n",
       " 'pKm',\n",
       " 'pKp',\n",
       " 'pKx',\n",
       " 'pRA',\n",
       " 'pRA1',\n",
       " 'pRatio',\n",
       " 'pXC50',\n",
       " 'p[A50]',\n",
       " 'p[A]50',\n",
       " 'permeability',\n",
       " 'sigmaH',\n",
       " 'sigmaL',\n",
       " 'sigmaSH'}"
      ]
     },
     "execution_count": 5,
     "metadata": {},
     "output_type": "execute_result"
    }
   ],
   "source": [
    "set(list(df[\"Activity Type\"]))"
   ]
  },
  {
   "cell_type": "code",
   "execution_count": 1,
   "metadata": {},
   "outputs": [
    {
     "data": {
      "application/vnd.jupyter.widget-view+json": {
       "model_id": "ce7cece8b74f42f7836e5e9b1330e461",
       "version_major": 2,
       "version_minor": 0
      },
      "text/plain": [
       "tokenizer_config.json:   0%|          | 0.00/315 [00:00<?, ?B/s]"
      ]
     },
     "metadata": {},
     "output_type": "display_data"
    },
    {
     "data": {
      "application/vnd.jupyter.widget-view+json": {
       "model_id": "842ac43880194ee8afcdfabb43fbe6e6",
       "version_major": 2,
       "version_minor": 0
      },
      "text/plain": [
       "vocab.txt:   0%|          | 0.00/306k [00:00<?, ?B/s]"
      ]
     },
     "metadata": {},
     "output_type": "display_data"
    },
    {
     "data": {
      "application/vnd.jupyter.widget-view+json": {
       "model_id": "0c484ee7c2a24644bd6887e88bab8dfa",
       "version_major": 2,
       "version_minor": 0
      },
      "text/plain": [
       "tokenizer.json:   0%|          | 0.00/777k [00:00<?, ?B/s]"
      ]
     },
     "metadata": {},
     "output_type": "display_data"
    },
    {
     "data": {
      "application/vnd.jupyter.widget-view+json": {
       "model_id": "b82ef293d0df4a90926f117f36a92357",
       "version_major": 2,
       "version_minor": 0
      },
      "text/plain": [
       "special_tokens_map.json:   0%|          | 0.00/125 [00:00<?, ?B/s]"
      ]
     },
     "metadata": {},
     "output_type": "display_data"
    },
    {
     "data": {
      "application/vnd.jupyter.widget-view+json": {
       "model_id": "cb818d72b56c46ff97435a302af9c775",
       "version_major": 2,
       "version_minor": 0
      },
      "text/plain": [
       "config.json:   0%|          | 0.00/638 [00:00<?, ?B/s]"
      ]
     },
     "metadata": {},
     "output_type": "display_data"
    },
    {
     "data": {
      "application/vnd.jupyter.widget-view+json": {
       "model_id": "12a9f551839546679ead17cc93535fa3",
       "version_major": 2,
       "version_minor": 0
      },
      "text/plain": [
       "model.safetensors:   0%|          | 0.00/439M [00:00<?, ?B/s]"
      ]
     },
     "metadata": {},
     "output_type": "display_data"
    }
   ],
   "source": [
    "from transformers import BertTokenizerFast, BertModel\n",
    "checkpoint = 'unikei/bert-base-smiles'\n",
    "tokenizer = BertTokenizerFast.from_pretrained(checkpoint)\n",
    "model = BertModel.from_pretrained(checkpoint)\n",
    "\n",
    "example = 'O=C([C@@H](c1ccc(cc1)O)N)N[C@@H]1C(=O)N2[C@@H]1SC([C@@H]2C(=O)O)(C)C'\n",
    "tokens = tokenizer(example, return_tensors='pt')\n",
    "predictions = model(**tokens)"
   ]
  },
  {
   "cell_type": "code",
   "execution_count": 2,
   "metadata": {},
   "outputs": [
    {
     "data": {
      "text/plain": [
       "BaseModelOutputWithPoolingAndCrossAttentions(last_hidden_state=tensor([[[-1.3821,  0.0593, -0.1914,  ..., -2.0613, -0.4603, -1.1894],\n",
       "         [-0.9418, -0.1656,  0.2671,  ..., -0.9770, -0.0633, -1.9062],\n",
       "         [ 1.1226, -0.4002,  0.3521,  ...,  0.1618, -0.1386,  1.8086],\n",
       "         ...,\n",
       "         [ 0.6186,  0.3017,  0.1241,  ..., -0.1342,  0.0974, -0.0602],\n",
       "         [ 0.4130, -1.1119,  0.2806,  ...,  0.0944, -0.5532, -0.3501],\n",
       "         [ 0.5375,  0.7749,  1.0559,  ..., -1.0184, -0.0626, -0.3657]]],\n",
       "       grad_fn=<NativeLayerNormBackward0>), pooler_output=tensor([[-0.7910,  0.9982,  0.5162,  0.5645,  0.9931, -1.0000, -0.9679,  0.9552,\n",
       "         -0.9853,  0.9589, -0.9807,  0.9999,  0.5608, -0.9023,  0.3254,  0.9963,\n",
       "         -0.9993, -0.9995, -0.9986,  0.9893, -0.9805, -0.9412,  1.0000,  0.9999,\n",
       "         -0.9650,  0.9021, -0.9906,  0.9998,  0.9825, -0.9002, -0.0313,  0.9987,\n",
       "         -0.9999,  0.9993, -0.9979, -0.6498, -0.9986,  0.9922, -1.0000,  0.6821,\n",
       "          0.1280, -0.9983, -0.9985,  0.4523,  0.9548,  0.8372, -0.9949,  0.9992,\n",
       "         -0.8152, -0.9504,  0.9233,  0.9772,  0.9706, -0.9996,  0.9951,  0.9335,\n",
       "          0.9998,  0.4958, -0.9636, -0.9993, -0.4236,  0.9906, -0.8122,  0.8259,\n",
       "         -0.6304,  0.9495, -0.9998,  0.8438,  0.8735,  0.9972,  0.9967, -0.5223,\n",
       "          0.9734, -0.9767,  0.8727,  0.9219, -0.8907, -0.9994,  0.9975,  0.9954,\n",
       "          0.8217,  0.9813,  0.8811,  0.9990, -0.9982, -0.9557, -0.9945, -0.1240,\n",
       "          0.5805,  0.9986,  0.9990, -0.9980,  0.8054, -0.9962,  0.9970,  0.9105,\n",
       "          0.9781,  0.9947, -0.9689,  0.9968,  1.0000, -0.9918, -0.9983, -0.9989,\n",
       "          0.8950, -0.9991,  0.9992, -0.8593, -0.9647, -0.6932, -0.9995, -0.8731,\n",
       "          0.6549, -0.9997, -0.9844, -0.9018, -0.9893, -0.9721, -0.6195,  0.6840,\n",
       "          0.9653, -0.9998, -0.9830,  0.8567, -0.9991, -0.9945, -0.9942, -0.9987,\n",
       "         -0.8455,  0.9993,  0.9969, -0.9773,  0.9999,  0.9446, -0.9901,  0.9846,\n",
       "         -0.9995, -0.1405,  0.9344, -0.4566,  0.9992, -0.9883,  0.8935,  0.9972,\n",
       "          0.9795, -0.9471,  0.9444, -0.9386, -0.9981, -0.9994, -1.0000,  0.9651,\n",
       "          0.9739, -0.9875,  0.8699,  0.9993,  0.9994,  0.9557, -0.6019,  0.9648,\n",
       "          0.6508,  0.9806, -0.9633,  0.9558, -0.9883, -0.9997, -0.9367, -0.9662,\n",
       "         -0.9879, -0.9997,  0.9948, -0.9992, -0.9739, -0.9458, -0.9451,  0.9144,\n",
       "          0.9966,  0.9817,  0.9833,  0.9295,  1.0000, -0.6115,  0.9802,  0.4455,\n",
       "          0.7668, -0.9995,  0.7733, -0.8827, -0.9991, -0.8302, -0.8424,  0.9473,\n",
       "         -0.9886,  0.6797,  0.6204,  0.8177,  0.9167,  0.8128,  0.8469, -0.9969,\n",
       "          0.9989,  0.8881, -0.9991, -0.9994, -0.8558, -0.8194,  0.9279, -0.9474,\n",
       "         -0.9854,  0.9689, -0.9997, -0.9983, -0.9843,  0.2633, -0.8399, -0.8064,\n",
       "          0.9987,  0.9846,  0.9430, -0.9880,  1.0000, -0.9841, -0.9990, -0.8640,\n",
       "         -0.9979,  0.9163,  0.9979, -0.9998, -0.8630, -0.7422,  0.9035, -0.7474,\n",
       "          0.7429, -0.9756,  0.7962,  0.9832,  0.9982,  0.9991,  0.9469, -0.9969,\n",
       "          0.5806,  0.9687,  0.9999,  0.5612,  0.9999, -0.9670,  0.9994,  0.8751,\n",
       "         -0.6081, -0.9949,  0.9995, -0.9993, -0.8012,  0.9933,  0.9992, -0.9991,\n",
       "          0.9990,  0.9996,  0.9505, -0.9963,  0.9767, -0.5401,  0.7324,  0.7818,\n",
       "         -0.9856, -0.9573,  0.9754,  0.9958,  0.9892, -0.9942,  0.9960,  0.8151,\n",
       "         -0.9998, -0.9981, -0.9850,  0.9667, -0.9875,  0.8640, -0.9677,  0.9924,\n",
       "         -0.9588, -0.8726, -0.9618, -0.9460,  0.7362, -0.9723, -0.7751, -0.9454,\n",
       "          0.9993,  0.8828, -0.6301, -0.7683, -0.9798, -0.7620, -0.9996,  0.9755,\n",
       "          0.9709, -0.9947,  0.9898,  0.9919,  0.9973,  0.8937, -0.6852, -0.9992,\n",
       "          0.9452,  0.7104, -0.9023,  0.9998,  0.9022,  0.9968, -0.8535, -0.9982,\n",
       "         -0.9999,  0.9597,  0.9501, -0.9621, -0.9375,  0.3667,  0.7262, -0.9937,\n",
       "          0.9970, -0.9740, -0.7825,  0.9996, -0.6465, -0.9996, -0.9995, -0.6820,\n",
       "          0.9133,  0.6767, -0.3611,  0.9982,  0.9624,  0.9986,  0.7573,  0.9994,\n",
       "          0.9243,  0.9453,  0.9999, -0.9967, -0.8720, -0.9976,  0.9996,  0.9978,\n",
       "          0.9997,  0.9516,  0.9969, -0.9961,  0.7918,  0.9759, -0.7177,  0.7562,\n",
       "          0.8961,  0.9697,  0.9570,  0.9984, -0.9915,  0.9997,  0.9965,  0.8791,\n",
       "          0.8960, -0.9858,  0.6869,  0.8670, -0.8326, -0.9990,  0.8949, -0.8591,\n",
       "          0.9997, -0.9369, -0.9615, -0.8644, -0.6783,  0.9999, -0.9998,  0.9861,\n",
       "          0.9718,  0.9981, -0.9896,  0.9978,  0.9990,  0.9997,  0.9625, -0.9998,\n",
       "         -0.9644, -0.9995, -0.8790, -0.9993,  0.9963, -0.9971, -0.9992,  0.9450,\n",
       "         -0.7213, -0.9519, -0.9998,  0.9996,  0.8082,  0.8471,  0.9998, -0.9872,\n",
       "          0.8212, -0.9292, -0.9853,  0.9874, -0.9987, -0.3942, -0.9979, -0.8770,\n",
       "          0.6302, -0.9904,  0.9992,  0.9057,  0.9734,  0.9991,  0.9093, -0.9993,\n",
       "         -0.9853, -0.9851, -0.9800, -0.7828, -0.9993,  0.8048, -0.9489, -0.9989,\n",
       "         -0.9445,  0.9073, -0.9997,  0.9997, -0.6046, -0.8580, -0.7790,  0.8526,\n",
       "          0.9972,  0.9995, -0.8220,  0.9986,  0.9288,  0.9982, -0.0214, -0.7099,\n",
       "          0.8786, -0.2322, -0.9999, -0.9982,  0.9683,  0.9857, -0.8410, -0.6531,\n",
       "         -0.7315,  0.9989,  0.9975, -0.9677, -0.9369, -0.9962, -0.9969,  0.9706,\n",
       "          0.9830, -0.9098, -0.9932,  0.9575,  0.6775,  0.9566,  0.9996,  0.9994,\n",
       "         -0.9921,  0.9928, -0.9989,  0.9810, -0.7955,  0.9657,  0.8684, -0.9910,\n",
       "         -0.5694,  0.9335, -0.9993, -0.9999,  0.8650,  0.8981, -0.9674, -0.8482,\n",
       "          0.7646, -0.9866,  0.9979, -0.7495,  0.9998,  0.9998,  0.9979, -0.9663,\n",
       "         -0.5114, -0.9886, -0.9847, -0.9999, -0.9956, -0.9998, -0.7000, -0.9995,\n",
       "         -0.9943, -0.9985, -0.9986,  0.9678, -0.3102, -0.9984,  0.9991,  0.6377,\n",
       "          0.9963,  0.9989,  0.7082,  0.9867, -0.9419,  0.9893, -0.9636,  0.7840,\n",
       "          0.8296,  0.9993, -0.5786, -0.9415,  0.9752,  0.8513, -0.9986,  0.9998,\n",
       "          0.9984,  0.9988,  0.9999, -0.9900, -0.9948, -0.8826, -0.9707,  0.9999,\n",
       "         -0.7492,  0.7339,  0.9631, -0.8352, -0.9998,  0.8823, -0.9875,  0.9181,\n",
       "         -0.9998, -0.9941,  0.9472,  0.8855,  0.9996,  0.9998,  0.7425,  0.9115,\n",
       "         -0.9513,  0.9667, -0.9997,  0.9995,  0.9740,  0.9573,  1.0000, -0.9250,\n",
       "         -0.4410, -0.9981, -0.9494, -0.8091, -0.9938, -0.9972,  0.9996,  0.9999,\n",
       "          0.9195, -0.9988, -0.9992,  0.9996, -0.9958,  1.0000, -0.8097,  0.8539,\n",
       "         -0.8119,  0.8456, -0.7931, -0.9971,  0.9971, -0.8711, -0.9865, -0.9997,\n",
       "          0.9984, -0.9942, -0.9494,  0.8841, -0.9485, -0.9297,  0.9993, -0.7478,\n",
       "          0.5879,  0.9414,  0.9485, -0.9951, -0.6257,  0.7331,  1.0000, -0.9995,\n",
       "         -0.8834, -0.8563,  0.9556, -0.9997, -0.9948, -0.9774, -0.9501,  0.9999,\n",
       "         -0.7751,  0.9999, -0.6694,  0.9991,  0.9214,  0.9835,  0.9996,  0.9996,\n",
       "         -0.8783,  0.7090, -0.8799, -0.9941, -0.9947, -0.9938, -0.9999,  0.8887,\n",
       "         -0.9989, -0.8837, -0.9792, -0.9836,  0.9892,  0.8600,  0.9726,  0.9986,\n",
       "         -0.9999,  0.7985,  0.9987, -0.9842,  0.9705,  0.9052, -0.9991, -0.7734,\n",
       "          0.9999, -0.7774,  0.9421, -0.7789, -0.9988, -0.5484,  0.9676, -0.9986,\n",
       "          0.9973,  0.9967, -0.9239, -0.9874, -0.9927,  0.8134,  0.9793,  0.9284,\n",
       "          0.9995, -0.9450,  0.7950,  0.8434, -0.9838, -0.9545,  0.9991, -1.0000,\n",
       "         -0.7336,  0.9996,  0.9973, -0.9497,  0.7646, -0.9991, -0.9992,  0.9995,\n",
       "         -0.9999,  0.9888,  0.6886,  0.7962,  0.8895, -0.9995, -0.9735,  0.6907,\n",
       "         -0.8662, -0.9997,  1.0000,  0.9996, -0.9154,  0.9963,  0.9979, -0.9991,\n",
       "          0.9984,  0.9865,  0.9706,  0.9973,  0.9997, -0.9996, -0.9985, -0.9452,\n",
       "         -0.9990, -0.7147, -0.8982,  0.8155, -1.0000, -0.7998,  0.9930, -0.9853,\n",
       "          0.9990,  0.9970, -0.9977, -0.5622, -0.8914,  0.8672,  0.8218,  0.8915,\n",
       "         -0.9988,  0.8668,  0.9732,  0.9918, -0.9999,  0.5447,  0.6008, -0.8841,\n",
       "          0.9991, -0.9960,  0.4838, -0.9971,  0.9998, -0.9350, -0.8084, -0.9163,\n",
       "          0.9987,  0.9959, -0.9998,  0.9148,  0.9989,  0.9056,  0.9999,  0.7851,\n",
       "         -0.9261, -0.9973, -0.9552,  0.9115,  0.9999,  0.9973, -0.9973, -0.9999,\n",
       "          0.9990,  0.9996, -0.9996,  0.9991,  0.9814,  0.7837,  0.9992,  0.8452,\n",
       "          0.9989,  0.9061, -0.9903,  0.2583,  0.9987,  0.9764, -0.9919, -0.9506,\n",
       "         -0.7560, -0.9545, -0.8275,  0.9999, -0.9962, -0.9822,  0.9300,  0.9957,\n",
       "          0.9983, -0.9415,  0.9991,  0.8349, -0.9478,  0.9912,  0.9979, -0.9989]],\n",
       "       grad_fn=<TanhBackward0>), hidden_states=None, past_key_values=None, attentions=None, cross_attentions=None)"
      ]
     },
     "execution_count": 2,
     "metadata": {},
     "output_type": "execute_result"
    }
   ],
   "source": [
    "predictions"
   ]
  },
  {
   "cell_type": "code",
   "execution_count": null,
   "metadata": {},
   "outputs": [],
   "source": []
  }
 ],
 "metadata": {
  "kernelspec": {
   "display_name": "Python 3",
   "language": "python",
   "name": "python3"
  },
  "language_info": {
   "codemirror_mode": {
    "name": "ipython",
    "version": 3
   },
   "file_extension": ".py",
   "mimetype": "text/x-python",
   "name": "python",
   "nbconvert_exporter": "python",
   "pygments_lexer": "ipython3",
   "version": "3.8.10"
  },
  "orig_nbformat": 4
 },
 "nbformat": 4,
 "nbformat_minor": 2
}
